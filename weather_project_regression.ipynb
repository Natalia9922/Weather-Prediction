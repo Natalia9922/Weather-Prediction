{
 "cells": [
  {
   "cell_type": "markdown",
   "metadata": {
    "id": "d1dmuRSonNr-",
    "jp-MarkdownHeadingCollapsed": true,
    "tags": []
   },
   "source": [
    "# This project goals to predict the weather variables using regression algorithms.\n",
    "The dataset used for this project is sourced from Kaggle, specifically from the \"Szeged Weather\" dataset by budincsevity. The dataset contains historical weather information for the city of Szeged, Hungary.\n",
    "\n",
    "The project utilizes machine learning algorithms to build a regression model that can accurately predict weather variables such as Visibility (km). The dataset consists of various features like temperature, humidity, wind speed, wind bearing, visibility, summary, and precipitation. These features will be used to train and test the regression models."
   ]
  },
  {
   "cell_type": "markdown",
   "metadata": {
    "id": "6PYZoSD3y_SA"
   },
   "source": [
    "# Importing Libraries"
   ]
  },
  {
   "cell_type": "code",
   "execution_count": 160,
   "metadata": {
    "colab": {
     "base_uri": "https://localhost:8080/"
    },
    "id": "k3HVFUuSNW8-",
    "outputId": "3a5f1afd-56fa-4a5e-a808-b370b747d34f"
   },
   "outputs": [
    {
     "name": "stdout",
     "output_type": "stream",
     "text": [
      "Requirement already satisfied: lazypredict in c:\\users\\npawl\\anaconda3\\lib\\site-packages (0.2.12)\n",
      "Requirement already satisfied: pandas in c:\\users\\npawl\\anaconda3\\lib\\site-packages (from lazypredict) (1.5.3)\n",
      "Requirement already satisfied: joblib in c:\\users\\npawl\\anaconda3\\lib\\site-packages (from lazypredict) (1.1.1)\n",
      "Requirement already satisfied: lightgbm in c:\\users\\npawl\\anaconda3\\lib\\site-packages (from lazypredict) (4.0.0)\n",
      "Requirement already satisfied: click in c:\\users\\npawl\\anaconda3\\lib\\site-packages (from lazypredict) (8.0.4)\n",
      "Requirement already satisfied: scikit-learn in c:\\users\\npawl\\anaconda3\\lib\\site-packages (from lazypredict) (1.3.0)\n",
      "Requirement already satisfied: tqdm in c:\\users\\npawl\\anaconda3\\lib\\site-packages (from lazypredict) (4.64.1)\n",
      "Requirement already satisfied: xgboost in c:\\users\\npawl\\anaconda3\\lib\\site-packages (from lazypredict) (1.7.6)\n",
      "Requirement already satisfied: colorama in c:\\users\\npawl\\anaconda3\\lib\\site-packages (from click->lazypredict) (0.4.6)\n",
      "Requirement already satisfied: numpy in c:\\users\\npawl\\anaconda3\\lib\\site-packages (from lightgbm->lazypredict) (1.23.5)\n",
      "Requirement already satisfied: scipy in c:\\users\\npawl\\anaconda3\\lib\\site-packages (from lightgbm->lazypredict) (1.10.0)\n",
      "Requirement already satisfied: python-dateutil>=2.8.1 in c:\\users\\npawl\\anaconda3\\lib\\site-packages (from pandas->lazypredict) (2.8.2)\n",
      "Requirement already satisfied: pytz>=2020.1 in c:\\users\\npawl\\anaconda3\\lib\\site-packages (from pandas->lazypredict) (2022.7)\n",
      "Requirement already satisfied: threadpoolctl>=2.0.0 in c:\\users\\npawl\\anaconda3\\lib\\site-packages (from scikit-learn->lazypredict) (2.2.0)\n",
      "Requirement already satisfied: six>=1.5 in c:\\users\\npawl\\anaconda3\\lib\\site-packages (from python-dateutil>=2.8.1->pandas->lazypredict) (1.16.0)\n",
      "Collecting optuna\n",
      "  Downloading optuna-3.2.0-py3-none-any.whl (390 kB)\n",
      "     -------------------------------------- 390.6/390.6 kB 3.5 MB/s eta 0:00:00\n",
      "Requirement already satisfied: sqlalchemy>=1.3.0 in c:\\users\\npawl\\anaconda3\\lib\\site-packages (from optuna) (1.4.39)\n",
      "Collecting alembic>=1.5.0\n",
      "  Downloading alembic-1.11.1-py3-none-any.whl (224 kB)\n",
      "     ------------------------------------- 224.5/224.5 kB 13.4 MB/s eta 0:00:00\n",
      "Requirement already satisfied: tqdm in c:\\users\\npawl\\anaconda3\\lib\\site-packages (from optuna) (4.64.1)\n",
      "Requirement already satisfied: packaging>=20.0 in c:\\users\\npawl\\anaconda3\\lib\\site-packages (from optuna) (22.0)\n",
      "Requirement already satisfied: PyYAML in c:\\users\\npawl\\anaconda3\\lib\\site-packages (from optuna) (6.0)\n",
      "Collecting cmaes>=0.9.1\n",
      "  Downloading cmaes-0.10.0-py3-none-any.whl (29 kB)\n",
      "Requirement already satisfied: numpy in c:\\users\\npawl\\anaconda3\\lib\\site-packages (from optuna) (1.23.5)\n",
      "Collecting colorlog\n",
      "  Downloading colorlog-6.7.0-py2.py3-none-any.whl (11 kB)\n",
      "Collecting Mako\n",
      "  Downloading Mako-1.2.4-py3-none-any.whl (78 kB)\n",
      "     ---------------------------------------- 78.7/78.7 kB 4.3 MB/s eta 0:00:00\n",
      "Requirement already satisfied: typing-extensions>=4 in c:\\users\\npawl\\anaconda3\\lib\\site-packages (from alembic>=1.5.0->optuna) (4.4.0)\n",
      "Requirement already satisfied: greenlet!=0.4.17 in c:\\users\\npawl\\anaconda3\\lib\\site-packages (from sqlalchemy>=1.3.0->optuna) (2.0.1)\n",
      "Requirement already satisfied: colorama in c:\\users\\npawl\\anaconda3\\lib\\site-packages (from colorlog->optuna) (0.4.6)\n",
      "Requirement already satisfied: MarkupSafe>=0.9.2 in c:\\users\\npawl\\anaconda3\\lib\\site-packages (from Mako->alembic>=1.5.0->optuna) (2.1.1)\n",
      "Installing collected packages: Mako, colorlog, cmaes, alembic, optuna\n",
      "Successfully installed Mako-1.2.4 alembic-1.11.1 cmaes-0.10.0 colorlog-6.7.0 optuna-3.2.0\n",
      "Requirement already satisfied: xgboost in c:\\users\\npawl\\anaconda3\\lib\\site-packages (1.7.6)\n",
      "Requirement already satisfied: scipy in c:\\users\\npawl\\anaconda3\\lib\\site-packages (from xgboost) (1.10.0)\n",
      "Requirement already satisfied: numpy in c:\\users\\npawl\\anaconda3\\lib\\site-packages (from xgboost) (1.23.5)\n"
     ]
    }
   ],
   "source": [
    "!pip install lazypredict\n",
    "!pip3 install optuna\n",
    "!pip3 install xgboost"
   ]
  },
  {
   "cell_type": "code",
   "execution_count": 161,
   "metadata": {
    "id": "xDYVH4OWEtOT"
   },
   "outputs": [],
   "source": [
    "import pandas as pd\n",
    "import numpy as np\n",
    "import matplotlib.pyplot as plt\n",
    "\n",
    "import io\n",
    "#from google.colab import files\n",
    "import seaborn as sns\n",
    "\n",
    "from sklearn.model_selection import train_test_split\n",
    "from sklearn.preprocessing import StandardScaler\n",
    "from sklearn.preprocessing import OneHotEncoder\n",
    "from sklearn.linear_model import LinearRegression\n",
    "from sklearn.preprocessing import PolynomialFeatures\n",
    "from sklearn.linear_model import LinearRegression\n",
    "from sklearn.metrics import mean_squared_error as mse\n",
    "from sklearn.metrics import mean_absolute_error as mae\n",
    "from sklearn.metrics import r2_score\n",
    "\n",
    "from sklearn.svm import SVR\n",
    "from xgboost import XGBRegressor\n",
    "from sklearn.linear_model import Ridge\n",
    "from sklearn.linear_model import ElasticNet\n",
    "from sklearn.linear_model import SGDRegressor\n",
    "from sklearn.linear_model import BayesianRidge\n",
    "from sklearn.linear_model import LinearRegression\n",
    "from sklearn.ensemble import RandomForestRegressor\n",
    "from sklearn.model_selection import GridSearchCV\n",
    "from sklearn.tree import DecisionTreeRegressor\n",
    "from sklearn import tree\n",
    "from lazypredict.Supervised import LazyRegressor\n",
    "from sklearn import datasets\n",
    "from sklearn.utils import shuffle\n",
    "from sklearn.model_selection import RandomizedSearchCV\n",
    "import xgboost\n",
    "import optuna\n"
   ]
  },
  {
   "cell_type": "markdown",
   "metadata": {
    "id": "JayNS9-2zOL-"
   },
   "source": [
    "# Loading Dataset"
   ]
  },
  {
   "cell_type": "code",
   "execution_count": 3,
   "metadata": {
    "id": "OeK1D9R3FUJ4"
   },
   "outputs": [],
   "source": [
    "# defining a data frame\n",
    "df = pd.read_csv(\"C:/Users/npawl/Downloads/weatherHistory/weatherHistory.csv\",index_col=False) \n",
    "# Read a comma-separated values (csv) file into DataFrame."
   ]
  },
  {
   "cell_type": "markdown",
   "metadata": {
    "id": "073yh15fXNbJ"
   },
   "source": [
    "# Exploratory Data Analysis (EDA)\n",
    "\n",
    "\n",
    "\n"
   ]
  },
  {
   "cell_type": "code",
   "execution_count": 4,
   "metadata": {
    "colab": {
     "base_uri": "https://localhost:8080/",
     "height": 206
    },
    "id": "yJ4kfbnSGEfm",
    "outputId": "e88cbf4a-6faa-4dc7-8e68-9bc6a793c97f"
   },
   "outputs": [
    {
     "data": {
      "text/html": [
       "<div>\n",
       "<style scoped>\n",
       "    .dataframe tbody tr th:only-of-type {\n",
       "        vertical-align: middle;\n",
       "    }\n",
       "\n",
       "    .dataframe tbody tr th {\n",
       "        vertical-align: top;\n",
       "    }\n",
       "\n",
       "    .dataframe thead th {\n",
       "        text-align: right;\n",
       "    }\n",
       "</style>\n",
       "<table border=\"1\" class=\"dataframe\">\n",
       "  <thead>\n",
       "    <tr style=\"text-align: right;\">\n",
       "      <th></th>\n",
       "      <th>Formatted Date</th>\n",
       "      <th>Summary</th>\n",
       "      <th>Precip Type</th>\n",
       "      <th>Temperature (C)</th>\n",
       "      <th>Apparent Temperature (C)</th>\n",
       "      <th>Humidity</th>\n",
       "      <th>Wind Speed (km/h)</th>\n",
       "      <th>Wind Bearing (degrees)</th>\n",
       "      <th>Visibility (km)</th>\n",
       "      <th>Loud Cover</th>\n",
       "      <th>Pressure (millibars)</th>\n",
       "      <th>Daily Summary</th>\n",
       "    </tr>\n",
       "  </thead>\n",
       "  <tbody>\n",
       "    <tr>\n",
       "      <th>0</th>\n",
       "      <td>2006-04-01 00:00:00.000 +0200</td>\n",
       "      <td>Partly Cloudy</td>\n",
       "      <td>rain</td>\n",
       "      <td>9.47</td>\n",
       "      <td>7.39</td>\n",
       "      <td>0.89</td>\n",
       "      <td>14.12</td>\n",
       "      <td>251.00</td>\n",
       "      <td>15.83</td>\n",
       "      <td>0.00</td>\n",
       "      <td>1015.13</td>\n",
       "      <td>Partly cloudy throughout the day.</td>\n",
       "    </tr>\n",
       "    <tr>\n",
       "      <th>1</th>\n",
       "      <td>2006-04-01 01:00:00.000 +0200</td>\n",
       "      <td>Partly Cloudy</td>\n",
       "      <td>rain</td>\n",
       "      <td>9.36</td>\n",
       "      <td>7.23</td>\n",
       "      <td>0.86</td>\n",
       "      <td>14.26</td>\n",
       "      <td>259.00</td>\n",
       "      <td>15.83</td>\n",
       "      <td>0.00</td>\n",
       "      <td>1015.63</td>\n",
       "      <td>Partly cloudy throughout the day.</td>\n",
       "    </tr>\n",
       "    <tr>\n",
       "      <th>2</th>\n",
       "      <td>2006-04-01 02:00:00.000 +0200</td>\n",
       "      <td>Mostly Cloudy</td>\n",
       "      <td>rain</td>\n",
       "      <td>9.38</td>\n",
       "      <td>9.38</td>\n",
       "      <td>0.89</td>\n",
       "      <td>3.93</td>\n",
       "      <td>204.00</td>\n",
       "      <td>14.96</td>\n",
       "      <td>0.00</td>\n",
       "      <td>1015.94</td>\n",
       "      <td>Partly cloudy throughout the day.</td>\n",
       "    </tr>\n",
       "    <tr>\n",
       "      <th>3</th>\n",
       "      <td>2006-04-01 03:00:00.000 +0200</td>\n",
       "      <td>Partly Cloudy</td>\n",
       "      <td>rain</td>\n",
       "      <td>8.29</td>\n",
       "      <td>5.94</td>\n",
       "      <td>0.83</td>\n",
       "      <td>14.10</td>\n",
       "      <td>269.00</td>\n",
       "      <td>15.83</td>\n",
       "      <td>0.00</td>\n",
       "      <td>1016.41</td>\n",
       "      <td>Partly cloudy throughout the day.</td>\n",
       "    </tr>\n",
       "    <tr>\n",
       "      <th>4</th>\n",
       "      <td>2006-04-01 04:00:00.000 +0200</td>\n",
       "      <td>Mostly Cloudy</td>\n",
       "      <td>rain</td>\n",
       "      <td>8.76</td>\n",
       "      <td>6.98</td>\n",
       "      <td>0.83</td>\n",
       "      <td>11.04</td>\n",
       "      <td>259.00</td>\n",
       "      <td>15.83</td>\n",
       "      <td>0.00</td>\n",
       "      <td>1016.51</td>\n",
       "      <td>Partly cloudy throughout the day.</td>\n",
       "    </tr>\n",
       "  </tbody>\n",
       "</table>\n",
       "</div>"
      ],
      "text/plain": [
       "                  Formatted Date        Summary Precip Type  Temperature (C)  \\\n",
       "0  2006-04-01 00:00:00.000 +0200  Partly Cloudy        rain             9.47   \n",
       "1  2006-04-01 01:00:00.000 +0200  Partly Cloudy        rain             9.36   \n",
       "2  2006-04-01 02:00:00.000 +0200  Mostly Cloudy        rain             9.38   \n",
       "3  2006-04-01 03:00:00.000 +0200  Partly Cloudy        rain             8.29   \n",
       "4  2006-04-01 04:00:00.000 +0200  Mostly Cloudy        rain             8.76   \n",
       "\n",
       "   Apparent Temperature (C)  Humidity  Wind Speed (km/h)  \\\n",
       "0                      7.39      0.89              14.12   \n",
       "1                      7.23      0.86              14.26   \n",
       "2                      9.38      0.89               3.93   \n",
       "3                      5.94      0.83              14.10   \n",
       "4                      6.98      0.83              11.04   \n",
       "\n",
       "   Wind Bearing (degrees)  Visibility (km)  Loud Cover  Pressure (millibars)  \\\n",
       "0                  251.00            15.83        0.00               1015.13   \n",
       "1                  259.00            15.83        0.00               1015.63   \n",
       "2                  204.00            14.96        0.00               1015.94   \n",
       "3                  269.00            15.83        0.00               1016.41   \n",
       "4                  259.00            15.83        0.00               1016.51   \n",
       "\n",
       "                       Daily Summary  \n",
       "0  Partly cloudy throughout the day.  \n",
       "1  Partly cloudy throughout the day.  \n",
       "2  Partly cloudy throughout the day.  \n",
       "3  Partly cloudy throughout the day.  \n",
       "4  Partly cloudy throughout the day.  "
      ]
     },
     "execution_count": 4,
     "metadata": {},
     "output_type": "execute_result"
    }
   ],
   "source": [
    "# return the first 5 rows\n",
    "df.head() # check the column name and the look of the data"
   ]
  },
  {
   "cell_type": "code",
   "execution_count": 5,
   "metadata": {
    "colab": {
     "base_uri": "https://localhost:8080/",
     "height": 206
    },
    "id": "oSw6NafknnHe",
    "outputId": "d794e36c-9d2a-4821-8547-f490cf891fcf"
   },
   "outputs": [
    {
     "data": {
      "text/html": [
       "<div>\n",
       "<style scoped>\n",
       "    .dataframe tbody tr th:only-of-type {\n",
       "        vertical-align: middle;\n",
       "    }\n",
       "\n",
       "    .dataframe tbody tr th {\n",
       "        vertical-align: top;\n",
       "    }\n",
       "\n",
       "    .dataframe thead th {\n",
       "        text-align: right;\n",
       "    }\n",
       "</style>\n",
       "<table border=\"1\" class=\"dataframe\">\n",
       "  <thead>\n",
       "    <tr style=\"text-align: right;\">\n",
       "      <th></th>\n",
       "      <th>Formatted Date</th>\n",
       "      <th>Summary</th>\n",
       "      <th>Precip Type</th>\n",
       "      <th>Temperature (C)</th>\n",
       "      <th>Apparent Temperature (C)</th>\n",
       "      <th>Humidity</th>\n",
       "      <th>Wind Speed (km/h)</th>\n",
       "      <th>Wind Bearing (degrees)</th>\n",
       "      <th>Visibility (km)</th>\n",
       "      <th>Loud Cover</th>\n",
       "      <th>Pressure (millibars)</th>\n",
       "      <th>Daily Summary</th>\n",
       "    </tr>\n",
       "  </thead>\n",
       "  <tbody>\n",
       "    <tr>\n",
       "      <th>96448</th>\n",
       "      <td>2016-09-09 19:00:00.000 +0200</td>\n",
       "      <td>Partly Cloudy</td>\n",
       "      <td>rain</td>\n",
       "      <td>26.02</td>\n",
       "      <td>26.02</td>\n",
       "      <td>0.43</td>\n",
       "      <td>11.00</td>\n",
       "      <td>31.00</td>\n",
       "      <td>16.10</td>\n",
       "      <td>0.00</td>\n",
       "      <td>1014.36</td>\n",
       "      <td>Partly cloudy starting in the morning.</td>\n",
       "    </tr>\n",
       "    <tr>\n",
       "      <th>96449</th>\n",
       "      <td>2016-09-09 20:00:00.000 +0200</td>\n",
       "      <td>Partly Cloudy</td>\n",
       "      <td>rain</td>\n",
       "      <td>24.58</td>\n",
       "      <td>24.58</td>\n",
       "      <td>0.48</td>\n",
       "      <td>10.09</td>\n",
       "      <td>20.00</td>\n",
       "      <td>15.55</td>\n",
       "      <td>0.00</td>\n",
       "      <td>1015.16</td>\n",
       "      <td>Partly cloudy starting in the morning.</td>\n",
       "    </tr>\n",
       "    <tr>\n",
       "      <th>96450</th>\n",
       "      <td>2016-09-09 21:00:00.000 +0200</td>\n",
       "      <td>Partly Cloudy</td>\n",
       "      <td>rain</td>\n",
       "      <td>22.04</td>\n",
       "      <td>22.04</td>\n",
       "      <td>0.56</td>\n",
       "      <td>8.98</td>\n",
       "      <td>30.00</td>\n",
       "      <td>16.10</td>\n",
       "      <td>0.00</td>\n",
       "      <td>1015.66</td>\n",
       "      <td>Partly cloudy starting in the morning.</td>\n",
       "    </tr>\n",
       "    <tr>\n",
       "      <th>96451</th>\n",
       "      <td>2016-09-09 22:00:00.000 +0200</td>\n",
       "      <td>Partly Cloudy</td>\n",
       "      <td>rain</td>\n",
       "      <td>21.52</td>\n",
       "      <td>21.52</td>\n",
       "      <td>0.60</td>\n",
       "      <td>10.53</td>\n",
       "      <td>20.00</td>\n",
       "      <td>16.10</td>\n",
       "      <td>0.00</td>\n",
       "      <td>1015.95</td>\n",
       "      <td>Partly cloudy starting in the morning.</td>\n",
       "    </tr>\n",
       "    <tr>\n",
       "      <th>96452</th>\n",
       "      <td>2016-09-09 23:00:00.000 +0200</td>\n",
       "      <td>Partly Cloudy</td>\n",
       "      <td>rain</td>\n",
       "      <td>20.44</td>\n",
       "      <td>20.44</td>\n",
       "      <td>0.61</td>\n",
       "      <td>5.88</td>\n",
       "      <td>39.00</td>\n",
       "      <td>15.52</td>\n",
       "      <td>0.00</td>\n",
       "      <td>1016.16</td>\n",
       "      <td>Partly cloudy starting in the morning.</td>\n",
       "    </tr>\n",
       "  </tbody>\n",
       "</table>\n",
       "</div>"
      ],
      "text/plain": [
       "                      Formatted Date        Summary Precip Type  \\\n",
       "96448  2016-09-09 19:00:00.000 +0200  Partly Cloudy        rain   \n",
       "96449  2016-09-09 20:00:00.000 +0200  Partly Cloudy        rain   \n",
       "96450  2016-09-09 21:00:00.000 +0200  Partly Cloudy        rain   \n",
       "96451  2016-09-09 22:00:00.000 +0200  Partly Cloudy        rain   \n",
       "96452  2016-09-09 23:00:00.000 +0200  Partly Cloudy        rain   \n",
       "\n",
       "       Temperature (C)  Apparent Temperature (C)  Humidity  Wind Speed (km/h)  \\\n",
       "96448            26.02                     26.02      0.43              11.00   \n",
       "96449            24.58                     24.58      0.48              10.09   \n",
       "96450            22.04                     22.04      0.56               8.98   \n",
       "96451            21.52                     21.52      0.60              10.53   \n",
       "96452            20.44                     20.44      0.61               5.88   \n",
       "\n",
       "       Wind Bearing (degrees)  Visibility (km)  Loud Cover  \\\n",
       "96448                   31.00            16.10        0.00   \n",
       "96449                   20.00            15.55        0.00   \n",
       "96450                   30.00            16.10        0.00   \n",
       "96451                   20.00            16.10        0.00   \n",
       "96452                   39.00            15.52        0.00   \n",
       "\n",
       "       Pressure (millibars)                           Daily Summary  \n",
       "96448               1014.36  Partly cloudy starting in the morning.  \n",
       "96449               1015.16  Partly cloudy starting in the morning.  \n",
       "96450               1015.66  Partly cloudy starting in the morning.  \n",
       "96451               1015.95  Partly cloudy starting in the morning.  \n",
       "96452               1016.16  Partly cloudy starting in the morning.  "
      ]
     },
     "execution_count": 5,
     "metadata": {},
     "output_type": "execute_result"
    }
   ],
   "source": [
    "# return the last 5 rows\n",
    "df.tail() # we check the number of rows and the look of the data"
   ]
  },
  {
   "cell_type": "markdown",
   "metadata": {
    "id": "fjDNAOLKYdLc"
   },
   "source": [
    "Observation: The Daily Summary is the same for the whole day, so we will use the Summary to figure out the weather for a given hour. Daily Summary will remove later."
   ]
  },
  {
   "cell_type": "code",
   "execution_count": 6,
   "metadata": {
    "colab": {
     "base_uri": "https://localhost:8080/",
     "height": 206
    },
    "id": "RnA3C4lCmtw3",
    "outputId": "d7621394-4c51-497e-9c67-ba9c3c803a58"
   },
   "outputs": [
    {
     "data": {
      "text/html": [
       "<div>\n",
       "<style scoped>\n",
       "    .dataframe tbody tr th:only-of-type {\n",
       "        vertical-align: middle;\n",
       "    }\n",
       "\n",
       "    .dataframe tbody tr th {\n",
       "        vertical-align: top;\n",
       "    }\n",
       "\n",
       "    .dataframe thead th {\n",
       "        text-align: right;\n",
       "    }\n",
       "</style>\n",
       "<table border=\"1\" class=\"dataframe\">\n",
       "  <thead>\n",
       "    <tr style=\"text-align: right;\">\n",
       "      <th></th>\n",
       "      <th>Formatted Date</th>\n",
       "      <th>Summary</th>\n",
       "      <th>Precip Type</th>\n",
       "      <th>Temperature (C)</th>\n",
       "      <th>Apparent Temperature (C)</th>\n",
       "      <th>Humidity</th>\n",
       "      <th>Wind Speed (km/h)</th>\n",
       "      <th>Wind Bearing (degrees)</th>\n",
       "      <th>Visibility (km)</th>\n",
       "      <th>Loud Cover</th>\n",
       "      <th>Pressure (millibars)</th>\n",
       "      <th>Daily Summary</th>\n",
       "    </tr>\n",
       "  </thead>\n",
       "  <tbody>\n",
       "    <tr>\n",
       "      <th>0</th>\n",
       "      <td>2006-04-01 00:00:00.000 +0200</td>\n",
       "      <td>Partly Cloudy</td>\n",
       "      <td>rain</td>\n",
       "      <td>9.47</td>\n",
       "      <td>7.39</td>\n",
       "      <td>0.89</td>\n",
       "      <td>14.12</td>\n",
       "      <td>251.00</td>\n",
       "      <td>15.83</td>\n",
       "      <td>0.00</td>\n",
       "      <td>1015.13</td>\n",
       "      <td>Partly cloudy throughout the day.</td>\n",
       "    </tr>\n",
       "    <tr>\n",
       "      <th>1</th>\n",
       "      <td>2006-04-01 01:00:00.000 +0200</td>\n",
       "      <td>Partly Cloudy</td>\n",
       "      <td>rain</td>\n",
       "      <td>9.36</td>\n",
       "      <td>7.23</td>\n",
       "      <td>0.86</td>\n",
       "      <td>14.26</td>\n",
       "      <td>259.00</td>\n",
       "      <td>15.83</td>\n",
       "      <td>0.00</td>\n",
       "      <td>1015.63</td>\n",
       "      <td>Partly cloudy throughout the day.</td>\n",
       "    </tr>\n",
       "    <tr>\n",
       "      <th>2</th>\n",
       "      <td>2006-04-01 02:00:00.000 +0200</td>\n",
       "      <td>Mostly Cloudy</td>\n",
       "      <td>rain</td>\n",
       "      <td>9.38</td>\n",
       "      <td>9.38</td>\n",
       "      <td>0.89</td>\n",
       "      <td>3.93</td>\n",
       "      <td>204.00</td>\n",
       "      <td>14.96</td>\n",
       "      <td>0.00</td>\n",
       "      <td>1015.94</td>\n",
       "      <td>Partly cloudy throughout the day.</td>\n",
       "    </tr>\n",
       "    <tr>\n",
       "      <th>3</th>\n",
       "      <td>2006-04-01 03:00:00.000 +0200</td>\n",
       "      <td>Partly Cloudy</td>\n",
       "      <td>rain</td>\n",
       "      <td>8.29</td>\n",
       "      <td>5.94</td>\n",
       "      <td>0.83</td>\n",
       "      <td>14.10</td>\n",
       "      <td>269.00</td>\n",
       "      <td>15.83</td>\n",
       "      <td>0.00</td>\n",
       "      <td>1016.41</td>\n",
       "      <td>Partly cloudy throughout the day.</td>\n",
       "    </tr>\n",
       "    <tr>\n",
       "      <th>4</th>\n",
       "      <td>2006-04-01 04:00:00.000 +0200</td>\n",
       "      <td>Mostly Cloudy</td>\n",
       "      <td>rain</td>\n",
       "      <td>8.76</td>\n",
       "      <td>6.98</td>\n",
       "      <td>0.83</td>\n",
       "      <td>11.04</td>\n",
       "      <td>259.00</td>\n",
       "      <td>15.83</td>\n",
       "      <td>0.00</td>\n",
       "      <td>1016.51</td>\n",
       "      <td>Partly cloudy throughout the day.</td>\n",
       "    </tr>\n",
       "  </tbody>\n",
       "</table>\n",
       "</div>"
      ],
      "text/plain": [
       "                  Formatted Date        Summary Precip Type  Temperature (C)  \\\n",
       "0  2006-04-01 00:00:00.000 +0200  Partly Cloudy        rain             9.47   \n",
       "1  2006-04-01 01:00:00.000 +0200  Partly Cloudy        rain             9.36   \n",
       "2  2006-04-01 02:00:00.000 +0200  Mostly Cloudy        rain             9.38   \n",
       "3  2006-04-01 03:00:00.000 +0200  Partly Cloudy        rain             8.29   \n",
       "4  2006-04-01 04:00:00.000 +0200  Mostly Cloudy        rain             8.76   \n",
       "\n",
       "   Apparent Temperature (C)  Humidity  Wind Speed (km/h)  \\\n",
       "0                      7.39      0.89              14.12   \n",
       "1                      7.23      0.86              14.26   \n",
       "2                      9.38      0.89               3.93   \n",
       "3                      5.94      0.83              14.10   \n",
       "4                      6.98      0.83              11.04   \n",
       "\n",
       "   Wind Bearing (degrees)  Visibility (km)  Loud Cover  Pressure (millibars)  \\\n",
       "0                  251.00            15.83        0.00               1015.13   \n",
       "1                  259.00            15.83        0.00               1015.63   \n",
       "2                  204.00            14.96        0.00               1015.94   \n",
       "3                  269.00            15.83        0.00               1016.41   \n",
       "4                  259.00            15.83        0.00               1016.51   \n",
       "\n",
       "                       Daily Summary  \n",
       "0  Partly cloudy throughout the day.  \n",
       "1  Partly cloudy throughout the day.  \n",
       "2  Partly cloudy throughout the day.  \n",
       "3  Partly cloudy throughout the day.  \n",
       "4  Partly cloudy throughout the day.  "
      ]
     },
     "execution_count": 6,
     "metadata": {},
     "output_type": "execute_result"
    }
   ],
   "source": [
    "df.head()"
   ]
  },
  {
   "cell_type": "code",
   "execution_count": 7,
   "metadata": {
    "colab": {
     "base_uri": "https://localhost:8080/"
    },
    "id": "YEJjMjz-6Bh9",
    "outputId": "8b755c0a-3c2e-4b8a-cb14-59691a7276a8"
   },
   "outputs": [
    {
     "data": {
      "text/plain": [
       "(96453, 12)"
      ]
     },
     "execution_count": 7,
     "metadata": {},
     "output_type": "execute_result"
    }
   ],
   "source": [
    "df.shape # get the number of rows (96453) and the number of columns (12)"
   ]
  },
  {
   "cell_type": "code",
   "execution_count": 8,
   "metadata": {
    "colab": {
     "base_uri": "https://localhost:8080/"
    },
    "id": "tFh7yiPA6Eva",
    "outputId": "1dd552fb-00f0-4fe6-e1bc-f3df74a8b1c5"
   },
   "outputs": [
    {
     "data": {
      "text/plain": [
       "1157436"
      ]
     },
     "execution_count": 8,
     "metadata": {},
     "output_type": "execute_result"
    }
   ],
   "source": [
    "df.size #  returns the number of elements in the DataFrame."
   ]
  },
  {
   "cell_type": "code",
   "execution_count": 9,
   "metadata": {
    "colab": {
     "base_uri": "https://localhost:8080/"
    },
    "id": "w_wNrObD6Q4_",
    "outputId": "a8055fe3-eca3-402a-d9c9-bf4725d37b3a"
   },
   "outputs": [
    {
     "data": {
      "text/plain": [
       "Index(['Formatted Date', 'Summary', 'Precip Type', 'Temperature (C)',\n",
       "       'Apparent Temperature (C)', 'Humidity', 'Wind Speed (km/h)',\n",
       "       'Wind Bearing (degrees)', 'Visibility (km)', 'Loud Cover',\n",
       "       'Pressure (millibars)', 'Daily Summary'],\n",
       "      dtype='object')"
      ]
     },
     "execution_count": 9,
     "metadata": {},
     "output_type": "execute_result"
    }
   ],
   "source": [
    "df.columns # gives the name of the column"
   ]
  },
  {
   "cell_type": "code",
   "execution_count": 10,
   "metadata": {
    "colab": {
     "base_uri": "https://localhost:8080/"
    },
    "id": "d_y3NVjj6WO5",
    "outputId": "afc17860-cbf4-45e9-dfb8-a4a28fd69cd1"
   },
   "outputs": [
    {
     "name": "stdout",
     "output_type": "stream",
     "text": [
      "<class 'pandas.core.frame.DataFrame'>\n",
      "RangeIndex: 96453 entries, 0 to 96452\n",
      "Data columns (total 12 columns):\n",
      " #   Column                    Non-Null Count  Dtype  \n",
      "---  ------                    --------------  -----  \n",
      " 0   Formatted Date            96453 non-null  object \n",
      " 1   Summary                   96453 non-null  object \n",
      " 2   Precip Type               95936 non-null  object \n",
      " 3   Temperature (C)           96453 non-null  float64\n",
      " 4   Apparent Temperature (C)  96453 non-null  float64\n",
      " 5   Humidity                  96453 non-null  float64\n",
      " 6   Wind Speed (km/h)         96453 non-null  float64\n",
      " 7   Wind Bearing (degrees)    96453 non-null  float64\n",
      " 8   Visibility (km)           96453 non-null  float64\n",
      " 9   Loud Cover                96453 non-null  float64\n",
      " 10  Pressure (millibars)      96453 non-null  float64\n",
      " 11  Daily Summary             96453 non-null  object \n",
      "dtypes: float64(8), object(4)\n",
      "memory usage: 8.8+ MB\n"
     ]
    }
   ],
   "source": [
    "df.info() # prints information about the DataFrame\n"
   ]
  },
  {
   "cell_type": "markdown",
   "metadata": {
    "id": "-GnWprs4YsdK"
   },
   "source": [
    "Observation: DataFrame contains 12 columns, 4 categorical, 8 numerical and Precip Type has a different Non-Null value than the number of rows as the entry that it contains missing values"
   ]
  },
  {
   "cell_type": "markdown",
   "metadata": {
    "id": "vbSG2SJMTkZS"
   },
   "source": [
    "* Let's perform modeling without data transformation in order to check the effectiveness of data mining"
   ]
  },
  {
   "cell_type": "code",
   "execution_count": 11,
   "metadata": {
    "id": "ZyTMN8e6N4w-"
   },
   "outputs": [],
   "source": [
    "# prepare variable\n",
    "y_basic = df['Visibility (km)'] # the target\n",
    "\n",
    "# the features excluding the target variable, only numerical, with intuition, we will remove the Apparent Temperature that is too close to the Temperature\n",
    "X_basic = df.drop(['Visibility (km)','Formatted Date','Summary', 'Precip Type', 'Daily Summary'], axis=1)\n",
    "\n",
    "# split data into train and test with an 8:2 ratio\n",
    "X_train_basic, X_test_basic, y_train_basic, y_test_basic = train_test_split(X_basic,y_basic,test_size=0.3,random_state=111)\n",
    "\n",
    "regr = RandomForestRegressor(random_state=111)\n",
    "regr.fit(X_train_basic, y_train_basic)\n",
    "y_pred_basic = regr.predict(X_test_basic)"
   ]
  },
  {
   "cell_type": "code",
   "execution_count": 12,
   "metadata": {
    "colab": {
     "base_uri": "https://localhost:8080/"
    },
    "id": "okBMFxMcWhn9",
    "outputId": "60a25891-60be-4dd5-c19d-31e7e02d8074"
   },
   "outputs": [
    {
     "name": "stdout",
     "output_type": "stream",
     "text": [
      "Random Forest Regressor R2 score: 0.54\n",
      "\n",
      "Random Forest Regressor MAE score: 2.22\n"
     ]
    }
   ],
   "source": [
    "# check results\n",
    "\n",
    "# What %y explains our model, the best value 1. The higher the R2 value, the better the fit of the regression to the dataset.\n",
    "print('Random Forest Regressor R2 score: '+ str(round(r2_score(y_test_basic, y_pred_basic),2)))\n",
    "\n",
    "print('')\n",
    "\n",
    "# MAE (Mean Absolute Error) measures the average difference between predicted and actual values. The best value is 0.0\n",
    "print('Random Forest Regressor MAE score: '+ str(round(mae(y_test_basic, y_pred_basic),2)))\n"
   ]
  },
  {
   "cell_type": "markdown",
   "metadata": {
    "id": "_64oyQAPY0Yr"
   },
   "source": [
    "Observation: The result is not satisfactory, the model evaluates half of the predictions well"
   ]
  },
  {
   "cell_type": "code",
   "execution_count": 13,
   "metadata": {
    "colab": {
     "base_uri": "https://localhost:8080/",
     "height": 300
    },
    "id": "msSzpm226c6V",
    "outputId": "388c4d30-a856-4025-f407-d6c62ae61242"
   },
   "outputs": [
    {
     "data": {
      "text/html": [
       "<div>\n",
       "<style scoped>\n",
       "    .dataframe tbody tr th:only-of-type {\n",
       "        vertical-align: middle;\n",
       "    }\n",
       "\n",
       "    .dataframe tbody tr th {\n",
       "        vertical-align: top;\n",
       "    }\n",
       "\n",
       "    .dataframe thead th {\n",
       "        text-align: right;\n",
       "    }\n",
       "</style>\n",
       "<table border=\"1\" class=\"dataframe\">\n",
       "  <thead>\n",
       "    <tr style=\"text-align: right;\">\n",
       "      <th></th>\n",
       "      <th>Temperature (C)</th>\n",
       "      <th>Apparent Temperature (C)</th>\n",
       "      <th>Humidity</th>\n",
       "      <th>Wind Speed (km/h)</th>\n",
       "      <th>Wind Bearing (degrees)</th>\n",
       "      <th>Visibility (km)</th>\n",
       "      <th>Loud Cover</th>\n",
       "      <th>Pressure (millibars)</th>\n",
       "    </tr>\n",
       "  </thead>\n",
       "  <tbody>\n",
       "    <tr>\n",
       "      <th>count</th>\n",
       "      <td>96453.00</td>\n",
       "      <td>96453.00</td>\n",
       "      <td>96453.00</td>\n",
       "      <td>96453.00</td>\n",
       "      <td>96453.00</td>\n",
       "      <td>96453.00</td>\n",
       "      <td>96453.00</td>\n",
       "      <td>96453.00</td>\n",
       "    </tr>\n",
       "    <tr>\n",
       "      <th>mean</th>\n",
       "      <td>11.93</td>\n",
       "      <td>10.86</td>\n",
       "      <td>0.73</td>\n",
       "      <td>10.81</td>\n",
       "      <td>187.51</td>\n",
       "      <td>10.35</td>\n",
       "      <td>0.00</td>\n",
       "      <td>1003.24</td>\n",
       "    </tr>\n",
       "    <tr>\n",
       "      <th>std</th>\n",
       "      <td>9.55</td>\n",
       "      <td>10.70</td>\n",
       "      <td>0.20</td>\n",
       "      <td>6.91</td>\n",
       "      <td>107.38</td>\n",
       "      <td>4.19</td>\n",
       "      <td>0.00</td>\n",
       "      <td>116.97</td>\n",
       "    </tr>\n",
       "    <tr>\n",
       "      <th>min</th>\n",
       "      <td>-21.82</td>\n",
       "      <td>-27.72</td>\n",
       "      <td>0.00</td>\n",
       "      <td>0.00</td>\n",
       "      <td>0.00</td>\n",
       "      <td>0.00</td>\n",
       "      <td>0.00</td>\n",
       "      <td>0.00</td>\n",
       "    </tr>\n",
       "    <tr>\n",
       "      <th>25%</th>\n",
       "      <td>4.69</td>\n",
       "      <td>2.31</td>\n",
       "      <td>0.60</td>\n",
       "      <td>5.83</td>\n",
       "      <td>116.00</td>\n",
       "      <td>8.34</td>\n",
       "      <td>0.00</td>\n",
       "      <td>1011.90</td>\n",
       "    </tr>\n",
       "    <tr>\n",
       "      <th>50%</th>\n",
       "      <td>12.00</td>\n",
       "      <td>12.00</td>\n",
       "      <td>0.78</td>\n",
       "      <td>9.97</td>\n",
       "      <td>180.00</td>\n",
       "      <td>10.05</td>\n",
       "      <td>0.00</td>\n",
       "      <td>1016.45</td>\n",
       "    </tr>\n",
       "    <tr>\n",
       "      <th>75%</th>\n",
       "      <td>18.84</td>\n",
       "      <td>18.84</td>\n",
       "      <td>0.89</td>\n",
       "      <td>14.14</td>\n",
       "      <td>290.00</td>\n",
       "      <td>14.81</td>\n",
       "      <td>0.00</td>\n",
       "      <td>1021.09</td>\n",
       "    </tr>\n",
       "    <tr>\n",
       "      <th>max</th>\n",
       "      <td>39.91</td>\n",
       "      <td>39.34</td>\n",
       "      <td>1.00</td>\n",
       "      <td>63.85</td>\n",
       "      <td>359.00</td>\n",
       "      <td>16.10</td>\n",
       "      <td>0.00</td>\n",
       "      <td>1046.38</td>\n",
       "    </tr>\n",
       "  </tbody>\n",
       "</table>\n",
       "</div>"
      ],
      "text/plain": [
       "       Temperature (C)  Apparent Temperature (C)  Humidity  Wind Speed (km/h)  \\\n",
       "count         96453.00                  96453.00  96453.00           96453.00   \n",
       "mean             11.93                     10.86      0.73              10.81   \n",
       "std               9.55                     10.70      0.20               6.91   \n",
       "min             -21.82                    -27.72      0.00               0.00   \n",
       "25%               4.69                      2.31      0.60               5.83   \n",
       "50%              12.00                     12.00      0.78               9.97   \n",
       "75%              18.84                     18.84      0.89              14.14   \n",
       "max              39.91                     39.34      1.00              63.85   \n",
       "\n",
       "       Wind Bearing (degrees)  Visibility (km)  Loud Cover  \\\n",
       "count                96453.00         96453.00    96453.00   \n",
       "mean                   187.51            10.35        0.00   \n",
       "std                    107.38             4.19        0.00   \n",
       "min                      0.00             0.00        0.00   \n",
       "25%                    116.00             8.34        0.00   \n",
       "50%                    180.00            10.05        0.00   \n",
       "75%                    290.00            14.81        0.00   \n",
       "max                    359.00            16.10        0.00   \n",
       "\n",
       "       Pressure (millibars)  \n",
       "count              96453.00  \n",
       "mean                1003.24  \n",
       "std                  116.97  \n",
       "min                    0.00  \n",
       "25%                 1011.90  \n",
       "50%                 1016.45  \n",
       "75%                 1021.09  \n",
       "max                 1046.38  "
      ]
     },
     "execution_count": 13,
     "metadata": {},
     "output_type": "execute_result"
    }
   ],
   "source": [
    "# generate descriptive statistics\n",
    "df.describe()"
   ]
  },
  {
   "cell_type": "markdown",
   "metadata": {
    "id": "p2X37VwDcrjO"
   },
   "source": [
    "Observation: The Apparent Temperature (C) value is too similar to Apparent Temperature (C), Loud Cover has one value, not relevant to the analysis, so it will be removed, Pressure contains the impossible value 0, we will check this later"
   ]
  },
  {
   "cell_type": "code",
   "execution_count": 14,
   "metadata": {
    "id": "ZddSkQqCepeS"
   },
   "outputs": [],
   "source": [
    "# drop unnecessary column; Loud Cover all contains 0, one column\n",
    "df.drop(['Loud Cover'],axis = 1,inplace = True)"
   ]
  },
  {
   "cell_type": "code",
   "execution_count": 15,
   "metadata": {
    "colab": {
     "base_uri": "https://localhost:8080/",
     "height": 811
    },
    "id": "Mue_so0teP2f",
    "outputId": "d1783133-7351-4e2c-b17c-41d3468be29e"
   },
   "outputs": [
    {
     "data": {
      "text/plain": [
       "<Axes: >"
      ]
     },
     "execution_count": 15,
     "metadata": {},
     "output_type": "execute_result"
    },
    {
     "data": {
      "image/png": "[encoded data removed]",
      "text/plain": [
       "<Figure size 1200x700 with 2 Axes>"
      ]
     },
     "metadata": {},
     "output_type": "display_data"
    }
   ],
   "source": [
    "# method finds the correlation of each column in a DataFrame\n",
    "corr_df=df.corr()\n",
    "plt.figure(figsize=(12,7))\n",
    "sns.heatmap(corr_df,annot=True,fmt='.2g',cmap='inferno')"
   ]
  },
  {
   "cell_type": "markdown",
   "metadata": {
    "id": "NY6__0Ngetmq"
   },
   "source": [
    "* positive correlation - it can be said when the values of two variables change in the same direction. So if one grows, the other behaves the same way.\n",
    "* negative correlation - in this case, the situation is quite different. A negative correlation means that the values of interdependent variables change in opposite directions. So if one value goes up, the other goes down, and vice versa.\n",
    "* lack of correlation is a situation in which phenomena, features, and properties have no connection with themselves. \n",
    "\n",
    "Obseravtion: A high result between the temperature and the apparent temperature  means that the correlation is too hight, it should be removed."
   ]
  },
  {
   "cell_type": "code",
   "execution_count": 16,
   "metadata": {
    "id": "z23ONjEteBr5"
   },
   "outputs": [],
   "source": [
    "# drop unnecessary column; Apparent Temperature (C)\n",
    "df.drop(['Apparent Temperature (C)'],axis = 1,inplace = True)"
   ]
  },
  {
   "cell_type": "code",
   "execution_count": 17,
   "metadata": {
    "colab": {
     "base_uri": "https://localhost:8080/"
    },
    "id": "du6U2zJ46hMx",
    "outputId": "eddcb622-7885-4490-95f0-a1107e6f2692"
   },
   "outputs": [
    {
     "data": {
      "text/plain": [
       "Formatted Date              0\n",
       "Summary                     0\n",
       "Precip Type               517\n",
       "Temperature (C)             0\n",
       "Humidity                    0\n",
       "Wind Speed (km/h)           0\n",
       "Wind Bearing (degrees)      0\n",
       "Visibility (km)             0\n",
       "Pressure (millibars)        0\n",
       "Daily Summary               0\n",
       "dtype: int64"
      ]
     },
     "execution_count": 17,
     "metadata": {},
     "output_type": "execute_result"
    }
   ],
   "source": [
    "# checking missing values\n",
    "df.isnull().sum()"
   ]
  },
  {
   "cell_type": "markdown",
   "metadata": {
    "id": "MqpDoRRqabQS"
   },
   "source": [
    "Observation: probably missing a value means that the precip type is not visible,fill it with none"
   ]
  },
  {
   "cell_type": "code",
   "execution_count": 18,
   "metadata": {
    "id": "CzC26QbXEcA3"
   },
   "outputs": [],
   "source": [
    "# fill missing values Precip type to none as no precipitation\n",
    "df.fillna('none', inplace = True)"
   ]
  },
  {
   "cell_type": "code",
   "execution_count": 19,
   "metadata": {
    "colab": {
     "base_uri": "https://localhost:8080/"
    },
    "id": "1ADgglQWEmH9",
    "outputId": "2f323468-6658-42e9-f1ed-06305bc63374"
   },
   "outputs": [
    {
     "data": {
      "text/plain": [
       "rain    85224\n",
       "snow    10712\n",
       "none      517\n",
       "Name: Precip Type, dtype: int64"
      ]
     },
     "execution_count": 19,
     "metadata": {},
     "output_type": "execute_result"
    }
   ],
   "source": [
    "df['Precip Type'].value_counts() # checking whether to correctly fill in the missing values for none"
   ]
  },
  {
   "cell_type": "markdown",
   "metadata": {
    "id": "7q6aFzlwh-L_"
   },
   "source": [
    "Observation: missing values have been filled in correctly"
   ]
  },
  {
   "cell_type": "code",
   "execution_count": 20,
   "metadata": {
    "colab": {
     "base_uri": "https://localhost:8080/"
    },
    "id": "cGiZEx906qwz",
    "outputId": "00689418-37a4-411a-e6cc-c6ee70102b9f"
   },
   "outputs": [
    {
     "data": {
      "text/plain": [
       "24"
      ]
     },
     "execution_count": 20,
     "metadata": {},
     "output_type": "execute_result"
    }
   ],
   "source": [
    "# duplicate checking\n",
    "df.duplicated().sum()"
   ]
  },
  {
   "cell_type": "markdown",
   "metadata": {
    "id": "gdN1PVXCiBDi"
   },
   "source": [
    "Observation: there are 24 duplicates that should be removed"
   ]
  },
  {
   "cell_type": "code",
   "execution_count": 21,
   "metadata": {
    "id": "k9A1lr-vEXVl"
   },
   "outputs": [],
   "source": [
    "# drop duplicates\n",
    "df.drop_duplicates(keep=\"first\", inplace=True)"
   ]
  },
  {
   "cell_type": "markdown",
   "metadata": {
    "id": "v6Myr2PRCotT"
   },
   "source": [
    "# Data Visualization"
   ]
  },
  {
   "cell_type": "code",
   "execution_count": 22,
   "metadata": {
    "id": "YgweLnYQ7jp1"
   },
   "outputs": [],
   "source": [
    "# drop unnecessary column; Daily Summary, reproducible and not relevant for to the analysis\n",
    "df.drop(['Daily Summary'],axis = 1,inplace = True)"
   ]
  },
  {
   "cell_type": "markdown",
   "metadata": {
    "id": "BcRu4o2KFNTq"
   },
   "source": [
    "Categorical columns:"
   ]
  },
  {
   "cell_type": "code",
   "execution_count": 23,
   "metadata": {
    "colab": {
     "base_uri": "https://localhost:8080/"
    },
    "id": "05D8Nf-LE9c0",
    "outputId": "204771b3-05c4-4072-b53b-0926076ca01e"
   },
   "outputs": [
    {
     "name": "stdout",
     "output_type": "stream",
     "text": [
      "No. of categorical columns are: 2\n"
     ]
    }
   ],
   "source": [
    "cat = ['Summary','Precip Type']\n",
    "\n",
    "print('No. of categorical columns are:',len(cat))"
   ]
  },
  {
   "cell_type": "markdown",
   "metadata": {
    "id": "vxe14tRTFg_-"
   },
   "source": [
    "Numerical columns:"
   ]
  },
  {
   "cell_type": "code",
   "execution_count": 24,
   "metadata": {
    "colab": {
     "base_uri": "https://localhost:8080/"
    },
    "id": "G6VkzI2bFxBV",
    "outputId": "e5979d01-d913-43af-9136-720040482bcf"
   },
   "outputs": [
    {
     "name": "stdout",
     "output_type": "stream",
     "text": [
      "No. of numerical/float columns are: 7\n"
     ]
    }
   ],
   "source": [
    "num = []\n",
    "for i in df.columns:\n",
    "    if i not in cat:\n",
    "        num.append(i)\n",
    "print('No. of numerical/float columns are:',len(num))"
   ]
  },
  {
   "cell_type": "markdown",
   "metadata": {
    "id": "_59l5pINF4YP"
   },
   "source": [
    "Exploring Categorical Columns/Features"
   ]
  },
  {
   "cell_type": "code",
   "execution_count": 25,
   "metadata": {
    "colab": {
     "base_uri": "https://localhost:8080/"
    },
    "id": "L3lpTa2nGGvG",
    "outputId": "99e49115-6b33-4f37-9428-8c7459c5abba"
   },
   "outputs": [
    {
     "data": {
      "text/plain": [
       "Partly Cloudy                          31726\n",
       "Mostly Cloudy                          28094\n",
       "Overcast                               16597\n",
       "Clear                                  10873\n",
       "Foggy                                   7148\n",
       "Breezy and Overcast                      528\n",
       "Breezy and Mostly Cloudy                 516\n",
       "Breezy and Partly Cloudy                 386\n",
       "Dry and Partly Cloudy                     86\n",
       "Windy and Partly Cloudy                   67\n",
       "Light Rain                                63\n",
       "Breezy                                    54\n",
       "Windy and Overcast                        45\n",
       "Humid and Mostly Cloudy                   40\n",
       "Drizzle                                   39\n",
       "Breezy and Foggy                          35\n",
       "Windy and Mostly Cloudy                   35\n",
       "Dry                                       34\n",
       "Humid and Partly Cloudy                   17\n",
       "Dry and Mostly Cloudy                     14\n",
       "Rain                                      10\n",
       "Windy                                      8\n",
       "Humid and Overcast                         7\n",
       "Windy and Foggy                            4\n",
       "Windy and Dry                              1\n",
       "Dangerously Windy and Partly Cloudy        1\n",
       "Breezy and Dry                             1\n",
       "Name: Summary, dtype: int64"
      ]
     },
     "execution_count": 25,
     "metadata": {},
     "output_type": "execute_result"
    }
   ],
   "source": [
    "# Checking the number of unique values for each text column\n",
    "df['Summary'].value_counts()"
   ]
  },
  {
   "cell_type": "markdown",
   "metadata": {
    "id": "cCxN4g_dm6g1"
   },
   "source": [
    "Observation: there is a large discrepancy in the number, less frequent ones will be marked as Other"
   ]
  },
  {
   "cell_type": "code",
   "execution_count": 26,
   "metadata": {
    "colab": {
     "base_uri": "https://localhost:8080/"
    },
    "id": "wIhO5OjHGRWA",
    "outputId": "b39fef89-1453-49d5-b0e2-931cc1888945"
   },
   "outputs": [
    {
     "data": {
      "text/plain": [
       "Partly Cloudy               31726\n",
       "Mostly Cloudy               28094\n",
       "Overcast                    16597\n",
       "Clear                       10873\n",
       "Foggy                        7148\n",
       "Other                         561\n",
       "Breezy and Overcast           528\n",
       "Breezy and Mostly Cloudy      516\n",
       "Breezy and Partly Cloudy      386\n",
       "Name: Summary, dtype: int64"
      ]
     },
     "execution_count": 26,
     "metadata": {},
     "output_type": "execute_result"
    }
   ],
   "source": [
    "# describing less significant variables as other\n",
    "allowed_vals = ['Partly Cloudy',\n",
    "                'Mostly Cloudy',\n",
    "                'Overcast',\n",
    "                'Clear',\n",
    "                'Foggy',\n",
    "                'Breezy and Overcast',\n",
    "                'Breezy and Mostly Cloudy',\n",
    "                'Breezy and Partly Cloudy'\n",
    "                ]\n",
    "\n",
    "df.loc[~df[\"Summary\"].isin(allowed_vals), \"Summary\"] = \"Other\"\n",
    "df.Summary.value_counts()"
   ]
  },
  {
   "cell_type": "code",
   "execution_count": 27,
   "metadata": {
    "colab": {
     "base_uri": "https://localhost:8080/",
     "height": 968
    },
    "id": "JlkFQipGR1Fo",
    "outputId": "35d4e282-76c7-4167-b347-2352738cd85d"
   },
   "outputs": [
    {
     "data": {
      "image/png": "[encoded data removed]",
      "text/plain": [
       "<Figure size 1500x800 with 2 Axes>"
      ]
     },
     "metadata": {},
     "output_type": "display_data"
    }
   ],
   "source": [
    "# Let's see how the Summary looks on the chart and how much of it is represented as a percentage.\n",
    "fig, ax = plt.subplots(1, 2, figsize=(15,8))\n",
    "x=df['Summary'].value_counts().index\n",
    "y=df['Summary'].value_counts().values.tolist()\n",
    "data = df.groupby(\"Summary\").size()\n",
    "\n",
    "sns.set(style=\"dark\", color_codes=True)\n",
    "pal = sns.color_palette(\"Blues\", len(data))\n",
    "rank = data.argsort().argsort()\n",
    "\n",
    "#Create a barplot\n",
    "sns.barplot(x=x,y=y,palette=np.array(pal[::-1])[rank],ax = ax[0])\n",
    "#Assign values to bars\n",
    "for p in ax[0].patches:\n",
    "        ax[0].annotate('{:.0f}'.format(p.get_height()), (p.get_x()+0.4, p.get_height()),\n",
    "                    ha='center', va='bottom',\n",
    "                    color= 'black')\n",
    "\n",
    "ax[0].set_xlabel('weather type',weight='semibold', fontname = 'monospace')\n",
    "ax[0].set_ylabel('count',weight='semibold', fontname = 'monospace')\n",
    "ax[0].xaxis.set_tick_params(rotation=90)\n",
    "ax[0].grid()\n",
    "\n",
    "#Create a pie chart, _, _,\n",
    "_, _, autotexts= ax[1].pie(y, labels = x, colors = np.array(pal[::-1])[rank], autopct='%1.1f%%',\n",
    "explode=[0,.01, 0.01,0,0 ,0.8,0.8,0.8,0.8])\n",
    "\n",
    "plt.legend(bbox_to_anchor=(1, 1))\n",
    "plt.suptitle ('Types of Weather',weight = 'bold')\n",
    "plt.show()\n"
   ]
  },
  {
   "cell_type": "markdown",
   "metadata": {
    "id": "_AjRZHumoEpn"
   },
   "source": [
    "Observation: The most common types of weather are Partly Cloudy, Mostly Cloudy and Overcast."
   ]
  },
  {
   "cell_type": "code",
   "execution_count": 28,
   "metadata": {
    "colab": {
     "base_uri": "https://localhost:8080/",
     "height": 1000
    },
    "id": "d6YT5ge9X7JQ",
    "outputId": "25121cbd-66f2-4d10-ab6a-2965c9b2ce43"
   },
   "outputs": [
    {
     "data": {
      "text/plain": [
       "Text(0.5, 1.0, 'Dependence of visibility on weather conditions')"
      ]
     },
     "execution_count": 28,
     "metadata": {},
     "output_type": "execute_result"
    },
    {
     "data": {
      "image/png": "[encoded data removed]",
      "text/plain": [
       "<Figure size 1500x1000 with 1 Axes>"
      ]
     },
     "metadata": {},
     "output_type": "display_data"
    }
   ],
   "source": [
    "# Let's check the distribution of data in a boxplot\n",
    "\n",
    "fig,ax=plt.subplots(figsize=(15,10))\n",
    "\n",
    "sns.set_style('darkgrid')\n",
    "sns.boxplot(x='Summary',y='Visibility (km)',data=df, palette =\"Blues\")\n",
    "ax.xaxis.set_tick_params(rotation=45)\n",
    "plt.title('Dependence of visibility on weather conditions', fontsize = \"18\")"
   ]
  },
  {
   "cell_type": "markdown",
   "metadata": {
    "id": "wb7iqnK-g0Sp"
   },
   "source": [
    "* The median (middle quartile) marks the mid-point of the data and is shown by the line that divides the box into two parts. Half the scores are greater than or equal to this value and half are less.\n",
    "* The middle “box” represents the middle 50% of scores for the group. The range of scores from lower to upper quartile is referred to as the inter-quartile range. The middle 50% of scores fall within the inter-quartile range. (just a whole box)\n",
    "* Seventy-five percent of the scores fall below the upper quartile. (from the bottom end of the box)\n",
    "* The upper and lower whiskers represent scores outside the middle 50%. Whiskers often (but not always) stretch over a wider range of scores than the middle quartile groups.\n",
    "* An outlier is an observation that is numerically distant from the rest of the data.\n",
    "\n",
    "Observation: variable clear, mostly cloudly, partly cloudly contains outliers, incorrect values Visibility 0. cloudiness itself does not significantly affect visibility, check it out more closely."
   ]
  },
  {
   "cell_type": "code",
   "execution_count": 29,
   "metadata": {
    "colab": {
     "base_uri": "https://localhost:8080/",
     "height": 423
    },
    "id": "X9i4cKHdfaCC",
    "outputId": "f5e2d0fa-0c82-48c5-8b2c-e27aed17efd2"
   },
   "outputs": [
    {
     "data": {
      "text/html": [
       "<div>\n",
       "<style scoped>\n",
       "    .dataframe tbody tr th:only-of-type {\n",
       "        vertical-align: middle;\n",
       "    }\n",
       "\n",
       "    .dataframe tbody tr th {\n",
       "        vertical-align: top;\n",
       "    }\n",
       "\n",
       "    .dataframe thead th {\n",
       "        text-align: right;\n",
       "    }\n",
       "</style>\n",
       "<table border=\"1\" class=\"dataframe\">\n",
       "  <thead>\n",
       "    <tr style=\"text-align: right;\">\n",
       "      <th></th>\n",
       "      <th>Formatted Date</th>\n",
       "      <th>Summary</th>\n",
       "      <th>Precip Type</th>\n",
       "      <th>Temperature (C)</th>\n",
       "      <th>Humidity</th>\n",
       "      <th>Wind Speed (km/h)</th>\n",
       "      <th>Wind Bearing (degrees)</th>\n",
       "      <th>Visibility (km)</th>\n",
       "      <th>Pressure (millibars)</th>\n",
       "    </tr>\n",
       "  </thead>\n",
       "  <tbody>\n",
       "    <tr>\n",
       "      <th>14120</th>\n",
       "      <td>2007-03-19 08:00:00.000 +0100</td>\n",
       "      <td>Clear</td>\n",
       "      <td>rain</td>\n",
       "      <td>10.56</td>\n",
       "      <td>0.63</td>\n",
       "      <td>3.22</td>\n",
       "      <td>110.00</td>\n",
       "      <td>0.00</td>\n",
       "      <td>996.60</td>\n",
       "    </tr>\n",
       "    <tr>\n",
       "      <th>14123</th>\n",
       "      <td>2007-03-19 11:00:00.000 +0100</td>\n",
       "      <td>Clear</td>\n",
       "      <td>rain</td>\n",
       "      <td>15.00</td>\n",
       "      <td>0.46</td>\n",
       "      <td>11.27</td>\n",
       "      <td>150.00</td>\n",
       "      <td>0.00</td>\n",
       "      <td>994.70</td>\n",
       "    </tr>\n",
       "    <tr>\n",
       "      <th>26352</th>\n",
       "      <td>2009-04-10 00:00:00.000 +0200</td>\n",
       "      <td>Clear</td>\n",
       "      <td>rain</td>\n",
       "      <td>10.56</td>\n",
       "      <td>0.66</td>\n",
       "      <td>3.22</td>\n",
       "      <td>320.00</td>\n",
       "      <td>0.00</td>\n",
       "      <td>1017.20</td>\n",
       "    </tr>\n",
       "    <tr>\n",
       "      <th>26664</th>\n",
       "      <td>2009-04-22 00:00:00.000 +0200</td>\n",
       "      <td>Clear</td>\n",
       "      <td>rain</td>\n",
       "      <td>13.33</td>\n",
       "      <td>0.47</td>\n",
       "      <td>14.49</td>\n",
       "      <td>30.00</td>\n",
       "      <td>0.00</td>\n",
       "      <td>1015.00</td>\n",
       "    </tr>\n",
       "    <tr>\n",
       "      <th>26665</th>\n",
       "      <td>2009-04-22 01:00:00.000 +0200</td>\n",
       "      <td>Clear</td>\n",
       "      <td>rain</td>\n",
       "      <td>12.22</td>\n",
       "      <td>0.50</td>\n",
       "      <td>11.27</td>\n",
       "      <td>40.00</td>\n",
       "      <td>0.00</td>\n",
       "      <td>1015.70</td>\n",
       "    </tr>\n",
       "    <tr>\n",
       "      <th>...</th>\n",
       "      <td>...</td>\n",
       "      <td>...</td>\n",
       "      <td>...</td>\n",
       "      <td>...</td>\n",
       "      <td>...</td>\n",
       "      <td>...</td>\n",
       "      <td>...</td>\n",
       "      <td>...</td>\n",
       "      <td>...</td>\n",
       "    </tr>\n",
       "    <tr>\n",
       "      <th>95575</th>\n",
       "      <td>2016-10-31 10:00:00.000 +0100</td>\n",
       "      <td>Clear</td>\n",
       "      <td>none</td>\n",
       "      <td>7.69</td>\n",
       "      <td>0.75</td>\n",
       "      <td>8.58</td>\n",
       "      <td>264.00</td>\n",
       "      <td>0.00</td>\n",
       "      <td>1024.20</td>\n",
       "    </tr>\n",
       "    <tr>\n",
       "      <th>95576</th>\n",
       "      <td>2016-10-31 11:00:00.000 +0100</td>\n",
       "      <td>Clear</td>\n",
       "      <td>none</td>\n",
       "      <td>9.59</td>\n",
       "      <td>0.71</td>\n",
       "      <td>11.13</td>\n",
       "      <td>276.00</td>\n",
       "      <td>0.00</td>\n",
       "      <td>1023.70</td>\n",
       "    </tr>\n",
       "    <tr>\n",
       "      <th>95577</th>\n",
       "      <td>2016-10-31 12:00:00.000 +0100</td>\n",
       "      <td>Clear</td>\n",
       "      <td>none</td>\n",
       "      <td>11.49</td>\n",
       "      <td>0.69</td>\n",
       "      <td>14.06</td>\n",
       "      <td>284.00</td>\n",
       "      <td>0.00</td>\n",
       "      <td>1023.06</td>\n",
       "    </tr>\n",
       "    <tr>\n",
       "      <th>95578</th>\n",
       "      <td>2016-10-31 13:00:00.000 +0100</td>\n",
       "      <td>Clear</td>\n",
       "      <td>none</td>\n",
       "      <td>12.77</td>\n",
       "      <td>0.67</td>\n",
       "      <td>22.54</td>\n",
       "      <td>286.00</td>\n",
       "      <td>0.00</td>\n",
       "      <td>1022.49</td>\n",
       "    </tr>\n",
       "    <tr>\n",
       "      <th>96247</th>\n",
       "      <td>2016-09-29 10:00:00.000 +0200</td>\n",
       "      <td>Clear</td>\n",
       "      <td>rain</td>\n",
       "      <td>19.86</td>\n",
       "      <td>0.54</td>\n",
       "      <td>10.80</td>\n",
       "      <td>240.00</td>\n",
       "      <td>0.00</td>\n",
       "      <td>1026.20</td>\n",
       "    </tr>\n",
       "  </tbody>\n",
       "</table>\n",
       "<p>271 rows × 9 columns</p>\n",
       "</div>"
      ],
      "text/plain": [
       "                      Formatted Date Summary Precip Type  Temperature (C)  \\\n",
       "14120  2007-03-19 08:00:00.000 +0100   Clear        rain            10.56   \n",
       "14123  2007-03-19 11:00:00.000 +0100   Clear        rain            15.00   \n",
       "26352  2009-04-10 00:00:00.000 +0200   Clear        rain            10.56   \n",
       "26664  2009-04-22 00:00:00.000 +0200   Clear        rain            13.33   \n",
       "26665  2009-04-22 01:00:00.000 +0200   Clear        rain            12.22   \n",
       "...                              ...     ...         ...              ...   \n",
       "95575  2016-10-31 10:00:00.000 +0100   Clear        none             7.69   \n",
       "95576  2016-10-31 11:00:00.000 +0100   Clear        none             9.59   \n",
       "95577  2016-10-31 12:00:00.000 +0100   Clear        none            11.49   \n",
       "95578  2016-10-31 13:00:00.000 +0100   Clear        none            12.77   \n",
       "96247  2016-09-29 10:00:00.000 +0200   Clear        rain            19.86   \n",
       "\n",
       "       Humidity  Wind Speed (km/h)  Wind Bearing (degrees)  Visibility (km)  \\\n",
       "14120      0.63               3.22                  110.00             0.00   \n",
       "14123      0.46              11.27                  150.00             0.00   \n",
       "26352      0.66               3.22                  320.00             0.00   \n",
       "26664      0.47              14.49                   30.00             0.00   \n",
       "26665      0.50              11.27                   40.00             0.00   \n",
       "...         ...                ...                     ...              ...   \n",
       "95575      0.75               8.58                  264.00             0.00   \n",
       "95576      0.71              11.13                  276.00             0.00   \n",
       "95577      0.69              14.06                  284.00             0.00   \n",
       "95578      0.67              22.54                  286.00             0.00   \n",
       "96247      0.54              10.80                  240.00             0.00   \n",
       "\n",
       "       Pressure (millibars)  \n",
       "14120                996.60  \n",
       "14123                994.70  \n",
       "26352               1017.20  \n",
       "26664               1015.00  \n",
       "26665               1015.70  \n",
       "...                     ...  \n",
       "95575               1024.20  \n",
       "95576               1023.70  \n",
       "95577               1023.06  \n",
       "95578               1022.49  \n",
       "96247               1026.20  \n",
       "\n",
       "[271 rows x 9 columns]"
      ]
     },
     "execution_count": 29,
     "metadata": {},
     "output_type": "execute_result"
    }
   ],
   "source": [
    "# providing variable clear outliers\n",
    "Clear_outliers = df.loc[(df.Summary == 'Clear') & (df[\"Visibility (km)\"] == 0)]\n",
    "Clear_outliers"
   ]
  },
  {
   "cell_type": "markdown",
   "metadata": {
    "id": "kvC9tyDxh2oI"
   },
   "source": [
    "Change the visibility with the median below, there are 271 outliers"
   ]
  },
  {
   "cell_type": "code",
   "execution_count": 30,
   "metadata": {
    "tags": []
   },
   "outputs": [
    {
     "data": {
      "text/plain": [
       "10.2557"
      ]
     },
     "execution_count": 30,
     "metadata": {},
     "output_type": "execute_result"
    }
   ],
   "source": [
    "# check median values for summary == clear\n",
    "clear_median = df.loc[(df.Summary == 'Clear'),'Visibility (km)'].median()\n",
    "clear_median"
   ]
  },
  {
   "cell_type": "code",
   "execution_count": 31,
   "metadata": {
    "id": "GSA04zv2vjDx"
   },
   "outputs": [],
   "source": [
    "# select the appropriate column and replace the Visibility values 0 -> 10.26 \n",
    "df.loc[df.Summary == 'Clear',\"Visibility (km)\"] = df.loc[df.Summary == 'Clear',\"Visibility (km)\"].replace((0,10.26))"
   ]
  },
  {
   "cell_type": "code",
   "execution_count": 39,
   "metadata": {
    "tags": []
   },
   "outputs": [
    {
     "data": {
      "text/plain": [
       "0"
      ]
     },
     "execution_count": 39,
     "metadata": {},
     "output_type": "execute_result"
    }
   ],
   "source": [
    "# check if it replaced properly, if so it return 0\n",
    "len(df.loc[(df.Summary == 'Clear') & (df[\"Visibility (km)\"] == 0)])"
   ]
  },
  {
   "cell_type": "code",
   "execution_count": 33,
   "metadata": {
    "colab": {
     "base_uri": "https://localhost:8080/",
     "height": 1000
    },
    "id": "8HbDUDN3W-6Q",
    "outputId": "ccc32c59-0503-4fcf-82c8-19c17fc1636d"
   },
   "outputs": [
    {
     "data": {
      "text/plain": [
       "36"
      ]
     },
     "execution_count": 33,
     "metadata": {},
     "output_type": "execute_result"
    }
   ],
   "source": [
    "# check the values of invalid visibility in mostly cloudy\n",
    "mostly_outliers = df.loc[((df.Summary == 'Mostly Cloudy') & (df[\"Visibility (km)\"] == 0))]\n",
    "len(mostly_outliers) "
   ]
  },
  {
   "cell_type": "markdown",
   "metadata": {},
   "source": [
    "There are 36 incorrect values, change the visibility with the median below"
   ]
  },
  {
   "cell_type": "code",
   "execution_count": 35,
   "metadata": {
    "tags": []
   },
   "outputs": [
    {
     "data": {
      "text/plain": [
       "10.3523"
      ]
     },
     "execution_count": 35,
     "metadata": {},
     "output_type": "execute_result"
    }
   ],
   "source": [
    "# check median for Mostlu Cloudly\n",
    "mostly_median = df.loc[(df.Summary == 'Mostly Cloudy'),'Visibility (km)'].median()\n",
    "mostly_median"
   ]
  },
  {
   "cell_type": "code",
   "execution_count": 36,
   "metadata": {},
   "outputs": [],
   "source": [
    "# replace 0 with mostly_median, Visibility 0 -> 10,35\n",
    "df.loc[df.Summary == 'Mostly Cloudy',\"Visibility (km)\"] = df.loc[df.Summary == 'Mostly Cloudy',\"Visibility (km)\"].replace((0,10.35))"
   ]
  },
  {
   "cell_type": "code",
   "execution_count": 38,
   "metadata": {
    "tags": []
   },
   "outputs": [
    {
     "data": {
      "text/plain": [
       "0"
      ]
     },
     "execution_count": 38,
     "metadata": {},
     "output_type": "execute_result"
    }
   ],
   "source": [
    "# check if it replaced properly, if so it return 0\n",
    "len(df.loc[((df.Summary == 'Mostly Cloudy') & (df[\"Visibility (km)\"] == 0))])"
   ]
  },
  {
   "cell_type": "code",
   "execution_count": 41,
   "metadata": {
    "tags": []
   },
   "outputs": [
    {
     "data": {
      "text/plain": [
       "27"
      ]
     },
     "execution_count": 41,
     "metadata": {},
     "output_type": "execute_result"
    }
   ],
   "source": [
    "# similarly as above, we make the same changes for Partly Cloudy\n",
    "partly_outliers = df.loc[((df.Summary == 'Partly Cloudy') & (df[\"Visibility (km)\"] == 0))]\n",
    "len(partly_outliers) "
   ]
  },
  {
   "cell_type": "code",
   "execution_count": 44,
   "metadata": {
    "tags": []
   },
   "outputs": [],
   "source": [
    "partly_median = df.loc[(df.Summary == 'Partly Cloudy'),'Visibility (km)'].median()\n",
    "df.loc[df.Summary == 'Partly Cloudy',\"Visibility (km)\"] = df.loc[df.Summary == 'Partly Cloudy',\"Visibility (km)\"].replace((0,partly_median))"
   ]
  },
  {
   "cell_type": "code",
   "execution_count": 45,
   "metadata": {},
   "outputs": [
    {
     "data": {
      "text/plain": [
       "Text(0.5, 1.0, 'Dependence of visibility on weather conditions')"
      ]
     },
     "execution_count": 45,
     "metadata": {},
     "output_type": "execute_result"
    },
    {
     "data": {
      "image/png": "[encoded data removed]",
      "text/plain": [
       "<Figure size 1500x1000 with 1 Axes>"
      ]
     },
     "metadata": {},
     "output_type": "display_data"
    }
   ],
   "source": [
    "# checking value after cleaning \n",
    "fig,ax=plt.subplots(figsize=(15,10))\n",
    "\n",
    "sns.set_style('darkgrid')\n",
    "sns.boxplot(x='Summary',y='Visibility (km)',data=df, palette =\"Blues\")\n",
    "ax.xaxis.set_tick_params(rotation=45)\n",
    "plt.title('Dependence of visibility on weather conditions', fontsize = \"18\")"
   ]
  },
  {
   "cell_type": "markdown",
   "metadata": {},
   "source": [
    "The boxplot shows the lack of the above outliers"
   ]
  },
  {
   "cell_type": "code",
   "execution_count": 46,
   "metadata": {
    "colab": {
     "base_uri": "https://localhost:8080/"
    },
    "id": "K03-RerMq2ZF",
    "outputId": "9498c7dd-45e6-48e6-acae-c9a149c76f7a"
   },
   "outputs": [
    {
     "data": {
      "text/plain": [
       "rain    85200\n",
       "snow    10712\n",
       "none      517\n",
       "Name: Precip Type, dtype: int64"
      ]
     },
     "execution_count": 46,
     "metadata": {},
     "output_type": "execute_result"
    }
   ],
   "source": [
    "# Let's see how the Precip Type looks on the chart and how much of it is represented as a percentage.\n",
    "df['Precip Type'].value_counts()"
   ]
  },
  {
   "cell_type": "code",
   "execution_count": 47,
   "metadata": {
    "colab": {
     "base_uri": "https://localhost:8080/",
     "height": 810
    },
    "id": "wBzaFyBaq239",
    "outputId": "88bad7d5-054f-4c50-8443-b2b584b1d4b4"
   },
   "outputs": [
    {
     "data": {
      "image/png": "[encoded data removed]",
      "text/plain": [
       "<Figure size 1500x800 with 2 Axes>"
      ]
     },
     "metadata": {},
     "output_type": "display_data"
    }
   ],
   "source": [
    "# check the data count and percentage ratio for Precip type on the chart\n",
    "fig, ax = plt.subplots(1, 2, figsize=(15,8))\n",
    "x=df['Precip Type'].value_counts().index\n",
    "y=df['Precip Type'].value_counts().values.tolist()\n",
    "data = df.groupby(\"Precip Type\").size()\n",
    "\n",
    "sns.set(style=\"dark\", color_codes=True)\n",
    "pal = sns.color_palette(\"Blues\", len(data))\n",
    "rank = data.argsort().argsort()\n",
    "\n",
    "# Create a barplot\n",
    "sns.barplot(x=x,y=y,palette=np.array(pal[::-1])[rank],ax = ax[0])\n",
    "# Assign values to bars\n",
    "for p in ax[0].patches:\n",
    "        ax[0].annotate('{:.0f}'.format(p.get_height()), (p.get_x()+0.4, p.get_height()),\n",
    "                    ha='center', va='bottom',\n",
    "                    color= 'black')\n",
    "\n",
    "ax[0].set_xlabel('Precip Type',weight='semibold', fontname = 'monospace')\n",
    "ax[0].set_ylabel('count',weight='semibold', fontname = 'monospace')\n",
    "ax[0].xaxis.set_tick_params(rotation=90)\n",
    "ax[0].grid()\n",
    "\n",
    "# Create a pie chart,\n",
    "_, _, autotexts= ax[1].pie(y, labels = x, colors = np.array(pal[::-1])[rank], autopct='%1.1f%%',\n",
    "        explode=[0,.01, 0.01])\n",
    "\n",
    "\n",
    "plt.legend(bbox_to_anchor=(1, 1))\n",
    "plt.suptitle ('Types of precipitation ',weight = 'bold')\n",
    "plt.show()"
   ]
  },
  {
   "cell_type": "markdown",
   "metadata": {
    "id": "0QWvCmBUq7Rd"
   },
   "source": [
    "Observation: The most common type of precipitation is rain."
   ]
  },
  {
   "cell_type": "code",
   "execution_count": 49,
   "metadata": {
    "colab": {
     "base_uri": "https://localhost:8080/",
     "height": 538
    },
    "id": "5n-WE7gvC-gs",
    "outputId": "8a154388-509f-43c5-92c8-3c0ef211f950"
   },
   "outputs": [
    {
     "data": {
      "text/plain": [
       "Text(0.5, 1.0, 'Dependence of visibility on weather conditions')"
      ]
     },
     "execution_count": 49,
     "metadata": {},
     "output_type": "execute_result"
    },
    {
     "data": {
      "image/png": "[encoded data removed]",
      "text/plain": [
       "<Figure size 700x500 with 1 Axes>"
      ]
     },
     "metadata": {},
     "output_type": "display_data"
    }
   ],
   "source": [
    "fig,ax=plt.subplots(figsize=(7,5))\n",
    "\n",
    "sns.set_style('darkgrid')\n",
    "sns.boxplot(x='Precip Type',y='Visibility (km)',data=df, palette =\"Blues\")\n",
    "ax.xaxis.set_tick_params(rotation=45)\n",
    "plt.title('Dependence of visibility on weather conditions', fontsize = \"15\")"
   ]
  },
  {
   "cell_type": "markdown",
   "metadata": {
    "id": "Zviv1lG6IzO5"
   },
   "source": [
    "Observation: Snow reduces visibility more than rain, outliers for rain and no precipitation are visible, but they may be related to other atomospheric phenomena, e.g. fog"
   ]
  },
  {
   "cell_type": "markdown",
   "metadata": {
    "id": "uxKhtKw44ODM"
   },
   "source": [
    "## Exploring Numerical/Float variables"
   ]
  },
  {
   "cell_type": "code",
   "execution_count": 52,
   "metadata": {
    "colab": {
     "base_uri": "https://localhost:8080/",
     "height": 1000
    },
    "id": "CH4icEDcg6Gf",
    "outputId": "f74f183b-8fa9-4585-d257-c4f86fc29bc9"
   },
   "outputs": [
    {
     "data": {
      "text/plain": [
       "array([[<Axes: title={'center': 'Temperature (C)'}>,\n",
       "        <Axes: title={'center': 'Humidity'}>],\n",
       "       [<Axes: title={'center': 'Wind Speed (km/h)'}>,\n",
       "        <Axes: title={'center': 'Wind Bearing (degrees)'}>],\n",
       "       [<Axes: title={'center': 'Visibility (km)'}>,\n",
       "        <Axes: title={'center': 'Pressure (millibars)'}>]], dtype=object)"
      ]
     },
     "execution_count": 52,
     "metadata": {},
     "output_type": "execute_result"
    },
    {
     "data": {
      "image/png": "[encoded data removed]",
      "text/plain": [
       "<Figure size 1600x2000 with 6 Axes>"
      ]
     },
     "metadata": {},
     "output_type": "display_data"
    }
   ],
   "source": [
    "df.hist(figsize=(16, 20), bins=50, xlabelsize=8, ylabelsize=8)"
   ]
  },
  {
   "cell_type": "markdown",
   "metadata": {},
   "source": [
    "Out of pressure observations look reasonable, let's check the pressure more closely"
   ]
  },
  {
   "cell_type": "code",
   "execution_count": 53,
   "metadata": {
    "colab": {
     "base_uri": "https://localhost:8080/",
     "height": 475
    },
    "id": "Q8cgqrZShFZk",
    "outputId": "48c702f6-db97-4719-e38d-9f6e2049f89d"
   },
   "outputs": [
    {
     "data": {
      "text/plain": [
       "<Axes: xlabel='Pressure (millibars)', ylabel='Density'>"
      ]
     },
     "execution_count": 53,
     "metadata": {},
     "output_type": "execute_result"
    },
    {
     "data": {
      "image/png": "[encoded data removed]",
      "text/plain": [
       "<Figure size 640x480 with 1 Axes>"
      ]
     },
     "metadata": {},
     "output_type": "display_data"
    }
   ],
   "source": [
    "sns.distplot(df['Pressure (millibars)'])"
   ]
  },
  {
   "cell_type": "markdown",
   "metadata": {},
   "source": [
    "Pressure contains incorrect 0 values, they will be supplemented with an average pressure value"
   ]
  },
  {
   "cell_type": "code",
   "execution_count": 55,
   "metadata": {},
   "outputs": [],
   "source": [
    "# calculation of the average value for the pressure\n",
    "pressure_median = df['Pressure (millibars)'].median()"
   ]
  },
  {
   "cell_type": "code",
   "execution_count": 56,
   "metadata": {},
   "outputs": [],
   "source": [
    "# replacing 0 with the median value calculated above\n",
    "df['Pressure (millibars)'].replace((0,pressure_median), inplace = True)"
   ]
  },
  {
   "cell_type": "code",
   "execution_count": 57,
   "metadata": {
    "id": "F3Ktdj_NFH9F"
   },
   "outputs": [
    {
     "data": {
      "text/plain": [
       "<Axes: xlabel='Pressure (millibars)', ylabel='Density'>"
      ]
     },
     "execution_count": 57,
     "metadata": {},
     "output_type": "execute_result"
    },
    {
     "data": {
      "image/png": "[encoded data removed]",
      "text/plain": [
       "<Figure size 640x480 with 1 Axes>"
      ]
     },
     "metadata": {},
     "output_type": "display_data"
    }
   ],
   "source": [
    "# checking the distribution on the chart after supplementing outliers\n",
    "sns.distplot(df['Pressure (millibars)'])"
   ]
  },
  {
   "cell_type": "markdown",
   "metadata": {
    "id": "2ru8TI2R-QeU"
   },
   "source": [
    "# Feature Scaling"
   ]
  },
  {
   "cell_type": "code",
   "execution_count": 58,
   "metadata": {
    "colab": {
     "base_uri": "https://localhost:8080/"
    },
    "id": "wJrpPzkz6nBG",
    "outputId": "922c274c-f04c-46e8-81d8-a25d0c7a3ec9"
   },
   "outputs": [
    {
     "data": {
      "text/plain": [
       "Index(['Formatted Date', 'Summary', 'Precip Type', 'Temperature (C)',\n",
       "       'Humidity', 'Wind Speed (km/h)', 'Wind Bearing (degrees)',\n",
       "       'Visibility (km)', 'Pressure (millibars)'],\n",
       "      dtype='object')"
      ]
     },
     "execution_count": 58,
     "metadata": {},
     "output_type": "execute_result"
    }
   ],
   "source": [
    "# checking column names after data cleaning\n",
    "df.columns"
   ]
  },
  {
   "cell_type": "code",
   "execution_count": 59,
   "metadata": {
    "id": "SG-AXvo0O8AW"
   },
   "outputs": [],
   "source": [
    "# prepare variable\n",
    "y = df['Visibility (km)'] # the target variable\n",
    "\n",
    "# the features excluding the target variable\n",
    "X = df[['Summary', 'Precip Type', 'Temperature (C)',\n",
    "       'Humidity', 'Wind Speed (km/h)', 'Wind Bearing (degrees)','Pressure (millibars)']] "
   ]
  },
  {
   "cell_type": "code",
   "execution_count": 60,
   "metadata": {
    "id": "fJboaN4uP5d0"
   },
   "outputs": [],
   "source": [
    "# split data into train and test with an 8:2 ratio\n",
    "X_train, X_test, y_train, y_test = train_test_split(X,y,test_size=0.2,random_state=111)"
   ]
  },
  {
   "cell_type": "code",
   "execution_count": 61,
   "metadata": {
    "id": "RxhPKcSxnajN"
   },
   "outputs": [],
   "source": [
    "# reset the indexes to be sequential\n",
    "X_train.reset_index(drop=True, inplace=True)\n",
    "y_train.reset_index(drop=True, inplace=True)"
   ]
  },
  {
   "cell_type": "code",
   "execution_count": 62,
   "metadata": {
    "colab": {
     "base_uri": "https://localhost:8080/",
     "height": 423
    },
    "id": "USCCZrQ1uiJw",
    "outputId": "dcd2b67d-9a36-484d-a78f-a56e38853d45"
   },
   "outputs": [
    {
     "data": {
      "text/html": [
       "<div>\n",
       "<style scoped>\n",
       "    .dataframe tbody tr th:only-of-type {\n",
       "        vertical-align: middle;\n",
       "    }\n",
       "\n",
       "    .dataframe tbody tr th {\n",
       "        vertical-align: top;\n",
       "    }\n",
       "\n",
       "    .dataframe thead th {\n",
       "        text-align: right;\n",
       "    }\n",
       "</style>\n",
       "<table border=\"1\" class=\"dataframe\">\n",
       "  <thead>\n",
       "    <tr style=\"text-align: right;\">\n",
       "      <th></th>\n",
       "      <th>Summary</th>\n",
       "      <th>Precip Type</th>\n",
       "      <th>Temperature (C)</th>\n",
       "      <th>Humidity</th>\n",
       "      <th>Wind Speed (km/h)</th>\n",
       "      <th>Wind Bearing (degrees)</th>\n",
       "      <th>Pressure (millibars)</th>\n",
       "    </tr>\n",
       "  </thead>\n",
       "  <tbody>\n",
       "    <tr>\n",
       "      <th>0</th>\n",
       "      <td>Overcast</td>\n",
       "      <td>rain</td>\n",
       "      <td>17.98</td>\n",
       "      <td>0.88</td>\n",
       "      <td>16.20</td>\n",
       "      <td>220.00</td>\n",
       "      <td>1003.70</td>\n",
       "    </tr>\n",
       "    <tr>\n",
       "      <th>1</th>\n",
       "      <td>Partly Cloudy</td>\n",
       "      <td>rain</td>\n",
       "      <td>22.80</td>\n",
       "      <td>0.70</td>\n",
       "      <td>9.66</td>\n",
       "      <td>328.00</td>\n",
       "      <td>1011.94</td>\n",
       "    </tr>\n",
       "    <tr>\n",
       "      <th>2</th>\n",
       "      <td>Overcast</td>\n",
       "      <td>rain</td>\n",
       "      <td>19.84</td>\n",
       "      <td>0.69</td>\n",
       "      <td>13.96</td>\n",
       "      <td>19.00</td>\n",
       "      <td>1014.57</td>\n",
       "    </tr>\n",
       "    <tr>\n",
       "      <th>3</th>\n",
       "      <td>Mostly Cloudy</td>\n",
       "      <td>snow</td>\n",
       "      <td>-8.75</td>\n",
       "      <td>0.92</td>\n",
       "      <td>14.02</td>\n",
       "      <td>80.00</td>\n",
       "      <td>1003.49</td>\n",
       "    </tr>\n",
       "    <tr>\n",
       "      <th>4</th>\n",
       "      <td>Clear</td>\n",
       "      <td>rain</td>\n",
       "      <td>9.06</td>\n",
       "      <td>0.71</td>\n",
       "      <td>3.38</td>\n",
       "      <td>187.00</td>\n",
       "      <td>1023.32</td>\n",
       "    </tr>\n",
       "    <tr>\n",
       "      <th>...</th>\n",
       "      <td>...</td>\n",
       "      <td>...</td>\n",
       "      <td>...</td>\n",
       "      <td>...</td>\n",
       "      <td>...</td>\n",
       "      <td>...</td>\n",
       "      <td>...</td>\n",
       "    </tr>\n",
       "    <tr>\n",
       "      <th>77138</th>\n",
       "      <td>Mostly Cloudy</td>\n",
       "      <td>rain</td>\n",
       "      <td>4.84</td>\n",
       "      <td>0.77</td>\n",
       "      <td>10.85</td>\n",
       "      <td>139.00</td>\n",
       "      <td>1022.10</td>\n",
       "    </tr>\n",
       "    <tr>\n",
       "      <th>77139</th>\n",
       "      <td>Partly Cloudy</td>\n",
       "      <td>rain</td>\n",
       "      <td>8.94</td>\n",
       "      <td>0.72</td>\n",
       "      <td>12.83</td>\n",
       "      <td>30.00</td>\n",
       "      <td>1029.10</td>\n",
       "    </tr>\n",
       "    <tr>\n",
       "      <th>77140</th>\n",
       "      <td>Partly Cloudy</td>\n",
       "      <td>rain</td>\n",
       "      <td>28.13</td>\n",
       "      <td>0.65</td>\n",
       "      <td>7.76</td>\n",
       "      <td>160.00</td>\n",
       "      <td>1015.53</td>\n",
       "    </tr>\n",
       "    <tr>\n",
       "      <th>77141</th>\n",
       "      <td>Mostly Cloudy</td>\n",
       "      <td>rain</td>\n",
       "      <td>23.97</td>\n",
       "      <td>0.50</td>\n",
       "      <td>14.91</td>\n",
       "      <td>343.00</td>\n",
       "      <td>1009.49</td>\n",
       "    </tr>\n",
       "    <tr>\n",
       "      <th>77142</th>\n",
       "      <td>Partly Cloudy</td>\n",
       "      <td>rain</td>\n",
       "      <td>17.87</td>\n",
       "      <td>0.64</td>\n",
       "      <td>7.47</td>\n",
       "      <td>28.00</td>\n",
       "      <td>1024.72</td>\n",
       "    </tr>\n",
       "  </tbody>\n",
       "</table>\n",
       "<p>77143 rows × 7 columns</p>\n",
       "</div>"
      ],
      "text/plain": [
       "             Summary Precip Type  Temperature (C)  Humidity  \\\n",
       "0           Overcast        rain            17.98      0.88   \n",
       "1      Partly Cloudy        rain            22.80      0.70   \n",
       "2           Overcast        rain            19.84      0.69   \n",
       "3      Mostly Cloudy        snow            -8.75      0.92   \n",
       "4              Clear        rain             9.06      0.71   \n",
       "...              ...         ...              ...       ...   \n",
       "77138  Mostly Cloudy        rain             4.84      0.77   \n",
       "77139  Partly Cloudy        rain             8.94      0.72   \n",
       "77140  Partly Cloudy        rain            28.13      0.65   \n",
       "77141  Mostly Cloudy        rain            23.97      0.50   \n",
       "77142  Partly Cloudy        rain            17.87      0.64   \n",
       "\n",
       "       Wind Speed (km/h)  Wind Bearing (degrees)  Pressure (millibars)  \n",
       "0                  16.20                  220.00               1003.70  \n",
       "1                   9.66                  328.00               1011.94  \n",
       "2                  13.96                   19.00               1014.57  \n",
       "3                  14.02                   80.00               1003.49  \n",
       "4                   3.38                  187.00               1023.32  \n",
       "...                  ...                     ...                   ...  \n",
       "77138              10.85                  139.00               1022.10  \n",
       "77139              12.83                   30.00               1029.10  \n",
       "77140               7.76                  160.00               1015.53  \n",
       "77141              14.91                  343.00               1009.49  \n",
       "77142               7.47                   28.00               1024.72  \n",
       "\n",
       "[77143 rows x 7 columns]"
      ]
     },
     "execution_count": 62,
     "metadata": {},
     "output_type": "execute_result"
    }
   ],
   "source": [
    "# checking X_train data\n",
    "X_train"
   ]
  },
  {
   "cell_type": "code",
   "execution_count": 63,
   "metadata": {
    "colab": {
     "base_uri": "https://localhost:8080/"
    },
    "id": "PIyW1B00wcoM",
    "outputId": "561739c3-74dd-48ad-b27f-044a4a375e9d"
   },
   "outputs": [
    {
     "data": {
      "text/plain": [
       "array(['Overcast', 'Partly Cloudy', 'Mostly Cloudy', 'Clear', 'Foggy',\n",
       "       'Other', 'Breezy and Overcast', 'Breezy and Mostly Cloudy',\n",
       "       'Breezy and Partly Cloudy'], dtype=object)"
      ]
     },
     "execution_count": 63,
     "metadata": {},
     "output_type": "execute_result"
    }
   ],
   "source": [
    "X_train['Summary'].unique()"
   ]
  },
  {
   "cell_type": "markdown",
   "metadata": {},
   "source": [
    "the names of the categories in the summary"
   ]
  },
  {
   "cell_type": "code",
   "execution_count": 64,
   "metadata": {
    "colab": {
     "base_uri": "https://localhost:8080/"
    },
    "id": "sNCdMjYTwcsH",
    "outputId": "903c036d-fbda-44b3-caa5-0c06bc37705a"
   },
   "outputs": [
    {
     "data": {
      "text/plain": [
       "array(['rain', 'snow', 'none'], dtype=object)"
      ]
     },
     "execution_count": 64,
     "metadata": {},
     "output_type": "execute_result"
    }
   ],
   "source": [
    "X_train['Precip Type'].unique()"
   ]
  },
  {
   "cell_type": "markdown",
   "metadata": {},
   "source": [
    "the names of the categories in the Precip Type"
   ]
  },
  {
   "cell_type": "code",
   "execution_count": 65,
   "metadata": {
    "id": "wjvUSdAzwcu6"
   },
   "outputs": [],
   "source": [
    "# encode categorical features as a one-hot numeric array\n",
    "ohe = OneHotEncoder()"
   ]
  },
  {
   "cell_type": "code",
   "execution_count": 66,
   "metadata": {
    "colab": {
     "base_uri": "https://localhost:8080/"
    },
    "id": "MAEF-M0zZ26z",
    "outputId": "0b0ba8e1-5547-4247-cd9a-3357e5398d68"
   },
   "outputs": [
    {
     "data": {
      "text/plain": [
       "array([[0., 0., 0., ..., 0., 1., 0.],\n",
       "       [0., 0., 0., ..., 0., 1., 0.],\n",
       "       [0., 0., 0., ..., 0., 1., 0.],\n",
       "       ...,\n",
       "       [0., 0., 0., ..., 0., 1., 0.],\n",
       "       [0., 0., 0., ..., 0., 1., 0.],\n",
       "       [0., 0., 0., ..., 0., 1., 0.]])"
      ]
     },
     "execution_count": 66,
     "metadata": {},
     "output_type": "execute_result"
    }
   ],
   "source": [
    "# This creates a binary column for each category and returns a sparse matrix or dense array (depending on the sparse_output parameter)\n",
    "ohe.fit_transform(X_train[['Summary', 'Precip Type']]).toarray()"
   ]
  },
  {
   "cell_type": "markdown",
   "metadata": {},
   "source": [
    "will create columns according to the category names appearing in the Summary, if it is present in the given rows, it will return 1, if not 0. The same for precip type"
   ]
  },
  {
   "cell_type": "code",
   "execution_count": 67,
   "metadata": {
    "id": "xAAPo61lZ298"
   },
   "outputs": [],
   "source": [
    "# Fit to data, then transform it \n",
    "feature_array = ohe.fit_transform(X_train[['Summary', 'Precip Type']]).toarray()"
   ]
  },
  {
   "cell_type": "code",
   "execution_count": 68,
   "metadata": {
    "colab": {
     "base_uri": "https://localhost:8080/"
    },
    "id": "AilQYRLrZ3B-",
    "outputId": "70029e82-f61a-4eae-ba83-0e06fe4c9443"
   },
   "outputs": [
    {
     "data": {
      "text/plain": [
       "[array(['Breezy and Mostly Cloudy', 'Breezy and Overcast',\n",
       "        'Breezy and Partly Cloudy', 'Clear', 'Foggy', 'Mostly Cloudy',\n",
       "        'Other', 'Overcast', 'Partly Cloudy'], dtype=object),\n",
       " array(['none', 'rain', 'snow'], dtype=object)]"
      ]
     },
     "execution_count": 68,
     "metadata": {},
     "output_type": "execute_result"
    }
   ],
   "source": [
    "# checking the category by fit model\n",
    "ohe.categories_"
   ]
  },
  {
   "cell_type": "markdown",
   "metadata": {},
   "source": [
    "two data array have been obtained, which should be merged into one"
   ]
  },
  {
   "cell_type": "code",
   "execution_count": 69,
   "metadata": {
    "id": "QoA-51XaZ3Dl"
   },
   "outputs": [],
   "source": [
    "feature_labels = ohe.categories_"
   ]
  },
  {
   "cell_type": "code",
   "execution_count": 71,
   "metadata": {
    "colab": {
     "base_uri": "https://localhost:8080/"
    },
    "id": "m1MF0u_zasZt",
    "outputId": "9b35148d-dcc3-468a-af12-beb31f642086"
   },
   "outputs": [
    {
     "name": "stdout",
     "output_type": "stream",
     "text": [
      "['Breezy and Mostly Cloudy' 'Breezy and Overcast'\n",
      " 'Breezy and Partly Cloudy' 'Clear' 'Foggy' 'Mostly Cloudy' 'Other'\n",
      " 'Overcast' 'Partly Cloudy' 'none' 'rain' 'snow']\n"
     ]
    }
   ],
   "source": [
    "# Stack arrays in sequence horizontally (column wise).\n",
    "feature_labels = np.hstack(feature_labels)\n",
    "print(feature_labels)"
   ]
  },
  {
   "cell_type": "markdown",
   "metadata": {},
   "source": [
    "one array was created from the previous two"
   ]
  },
  {
   "cell_type": "code",
   "execution_count": 72,
   "metadata": {
    "colab": {
     "base_uri": "https://localhost:8080/",
     "height": 206
    },
    "id": "JnCi5JJMjLFG",
    "outputId": "c03b6aeb-bc55-405b-f5dd-a2a66496f8c4"
   },
   "outputs": [
    {
     "data": {
      "text/html": [
       "<div>\n",
       "<style scoped>\n",
       "    .dataframe tbody tr th:only-of-type {\n",
       "        vertical-align: middle;\n",
       "    }\n",
       "\n",
       "    .dataframe tbody tr th {\n",
       "        vertical-align: top;\n",
       "    }\n",
       "\n",
       "    .dataframe thead th {\n",
       "        text-align: right;\n",
       "    }\n",
       "</style>\n",
       "<table border=\"1\" class=\"dataframe\">\n",
       "  <thead>\n",
       "    <tr style=\"text-align: right;\">\n",
       "      <th></th>\n",
       "      <th>Breezy and Mostly Cloudy</th>\n",
       "      <th>Breezy and Overcast</th>\n",
       "      <th>Breezy and Partly Cloudy</th>\n",
       "      <th>Clear</th>\n",
       "      <th>Foggy</th>\n",
       "      <th>Mostly Cloudy</th>\n",
       "      <th>Other</th>\n",
       "      <th>Overcast</th>\n",
       "      <th>Partly Cloudy</th>\n",
       "      <th>none</th>\n",
       "      <th>rain</th>\n",
       "      <th>snow</th>\n",
       "    </tr>\n",
       "  </thead>\n",
       "  <tbody>\n",
       "    <tr>\n",
       "      <th>0</th>\n",
       "      <td>0.00</td>\n",
       "      <td>0.00</td>\n",
       "      <td>0.00</td>\n",
       "      <td>0.00</td>\n",
       "      <td>0.00</td>\n",
       "      <td>0.00</td>\n",
       "      <td>0.00</td>\n",
       "      <td>1.00</td>\n",
       "      <td>0.00</td>\n",
       "      <td>0.00</td>\n",
       "      <td>1.00</td>\n",
       "      <td>0.00</td>\n",
       "    </tr>\n",
       "    <tr>\n",
       "      <th>1</th>\n",
       "      <td>0.00</td>\n",
       "      <td>0.00</td>\n",
       "      <td>0.00</td>\n",
       "      <td>0.00</td>\n",
       "      <td>0.00</td>\n",
       "      <td>0.00</td>\n",
       "      <td>0.00</td>\n",
       "      <td>0.00</td>\n",
       "      <td>1.00</td>\n",
       "      <td>0.00</td>\n",
       "      <td>1.00</td>\n",
       "      <td>0.00</td>\n",
       "    </tr>\n",
       "    <tr>\n",
       "      <th>2</th>\n",
       "      <td>0.00</td>\n",
       "      <td>0.00</td>\n",
       "      <td>0.00</td>\n",
       "      <td>0.00</td>\n",
       "      <td>0.00</td>\n",
       "      <td>0.00</td>\n",
       "      <td>0.00</td>\n",
       "      <td>1.00</td>\n",
       "      <td>0.00</td>\n",
       "      <td>0.00</td>\n",
       "      <td>1.00</td>\n",
       "      <td>0.00</td>\n",
       "    </tr>\n",
       "    <tr>\n",
       "      <th>3</th>\n",
       "      <td>0.00</td>\n",
       "      <td>0.00</td>\n",
       "      <td>0.00</td>\n",
       "      <td>0.00</td>\n",
       "      <td>0.00</td>\n",
       "      <td>1.00</td>\n",
       "      <td>0.00</td>\n",
       "      <td>0.00</td>\n",
       "      <td>0.00</td>\n",
       "      <td>0.00</td>\n",
       "      <td>0.00</td>\n",
       "      <td>1.00</td>\n",
       "    </tr>\n",
       "    <tr>\n",
       "      <th>4</th>\n",
       "      <td>0.00</td>\n",
       "      <td>0.00</td>\n",
       "      <td>0.00</td>\n",
       "      <td>1.00</td>\n",
       "      <td>0.00</td>\n",
       "      <td>0.00</td>\n",
       "      <td>0.00</td>\n",
       "      <td>0.00</td>\n",
       "      <td>0.00</td>\n",
       "      <td>0.00</td>\n",
       "      <td>1.00</td>\n",
       "      <td>0.00</td>\n",
       "    </tr>\n",
       "  </tbody>\n",
       "</table>\n",
       "</div>"
      ],
      "text/plain": [
       "   Breezy and Mostly Cloudy  Breezy and Overcast  Breezy and Partly Cloudy  \\\n",
       "0                      0.00                 0.00                      0.00   \n",
       "1                      0.00                 0.00                      0.00   \n",
       "2                      0.00                 0.00                      0.00   \n",
       "3                      0.00                 0.00                      0.00   \n",
       "4                      0.00                 0.00                      0.00   \n",
       "\n",
       "   Clear  Foggy  Mostly Cloudy  Other  Overcast  Partly Cloudy  none  rain  \\\n",
       "0   0.00   0.00           0.00   0.00      1.00           0.00  0.00  1.00   \n",
       "1   0.00   0.00           0.00   0.00      0.00           1.00  0.00  1.00   \n",
       "2   0.00   0.00           0.00   0.00      1.00           0.00  0.00  1.00   \n",
       "3   0.00   0.00           1.00   0.00      0.00           0.00  0.00  0.00   \n",
       "4   1.00   0.00           0.00   0.00      0.00           0.00  0.00  1.00   \n",
       "\n",
       "   snow  \n",
       "0  0.00  \n",
       "1  0.00  \n",
       "2  0.00  \n",
       "3  1.00  \n",
       "4  0.00  "
      ]
     },
     "execution_count": 72,
     "metadata": {},
     "output_type": "execute_result"
    }
   ],
   "source": [
    "# Constructing DataFrame\n",
    "features = pd.DataFrame(feature_array, columns = feature_labels)\n",
    "features.head()"
   ]
  },
  {
   "cell_type": "code",
   "execution_count": 73,
   "metadata": {
    "id": "aFPiwrLzsNVB"
   },
   "outputs": [],
   "source": [
    "# removing columns before onehotEncoding\n",
    "X_train.drop(X_train[['Summary','Precip Type']],axis = 1,inplace = True)"
   ]
  },
  {
   "cell_type": "code",
   "execution_count": 74,
   "metadata": {
    "colab": {
     "base_uri": "https://localhost:8080/",
     "height": 467
    },
    "id": "H2Vnptk8juTF",
    "outputId": "037439bc-87eb-4080-cc40-95fa95cac5d4"
   },
   "outputs": [
    {
     "data": {
      "text/html": [
       "<div>\n",
       "<style scoped>\n",
       "    .dataframe tbody tr th:only-of-type {\n",
       "        vertical-align: middle;\n",
       "    }\n",
       "\n",
       "    .dataframe tbody tr th {\n",
       "        vertical-align: top;\n",
       "    }\n",
       "\n",
       "    .dataframe thead th {\n",
       "        text-align: right;\n",
       "    }\n",
       "</style>\n",
       "<table border=\"1\" class=\"dataframe\">\n",
       "  <thead>\n",
       "    <tr style=\"text-align: right;\">\n",
       "      <th></th>\n",
       "      <th>Temperature (C)</th>\n",
       "      <th>Humidity</th>\n",
       "      <th>Wind Speed (km/h)</th>\n",
       "      <th>Wind Bearing (degrees)</th>\n",
       "      <th>Pressure (millibars)</th>\n",
       "      <th>Breezy and Mostly Cloudy</th>\n",
       "      <th>Breezy and Overcast</th>\n",
       "      <th>Breezy and Partly Cloudy</th>\n",
       "      <th>Clear</th>\n",
       "      <th>Foggy</th>\n",
       "      <th>Mostly Cloudy</th>\n",
       "      <th>Other</th>\n",
       "      <th>Overcast</th>\n",
       "      <th>Partly Cloudy</th>\n",
       "      <th>none</th>\n",
       "      <th>rain</th>\n",
       "      <th>snow</th>\n",
       "    </tr>\n",
       "  </thead>\n",
       "  <tbody>\n",
       "    <tr>\n",
       "      <th>0</th>\n",
       "      <td>17.98</td>\n",
       "      <td>0.88</td>\n",
       "      <td>16.20</td>\n",
       "      <td>220.00</td>\n",
       "      <td>1003.70</td>\n",
       "      <td>0.00</td>\n",
       "      <td>0.00</td>\n",
       "      <td>0.00</td>\n",
       "      <td>0.00</td>\n",
       "      <td>0.00</td>\n",
       "      <td>0.00</td>\n",
       "      <td>0.00</td>\n",
       "      <td>1.00</td>\n",
       "      <td>0.00</td>\n",
       "      <td>0.00</td>\n",
       "      <td>1.00</td>\n",
       "      <td>0.00</td>\n",
       "    </tr>\n",
       "    <tr>\n",
       "      <th>1</th>\n",
       "      <td>22.80</td>\n",
       "      <td>0.70</td>\n",
       "      <td>9.66</td>\n",
       "      <td>328.00</td>\n",
       "      <td>1011.94</td>\n",
       "      <td>0.00</td>\n",
       "      <td>0.00</td>\n",
       "      <td>0.00</td>\n",
       "      <td>0.00</td>\n",
       "      <td>0.00</td>\n",
       "      <td>0.00</td>\n",
       "      <td>0.00</td>\n",
       "      <td>0.00</td>\n",
       "      <td>1.00</td>\n",
       "      <td>0.00</td>\n",
       "      <td>1.00</td>\n",
       "      <td>0.00</td>\n",
       "    </tr>\n",
       "    <tr>\n",
       "      <th>2</th>\n",
       "      <td>19.84</td>\n",
       "      <td>0.69</td>\n",
       "      <td>13.96</td>\n",
       "      <td>19.00</td>\n",
       "      <td>1014.57</td>\n",
       "      <td>0.00</td>\n",
       "      <td>0.00</td>\n",
       "      <td>0.00</td>\n",
       "      <td>0.00</td>\n",
       "      <td>0.00</td>\n",
       "      <td>0.00</td>\n",
       "      <td>0.00</td>\n",
       "      <td>1.00</td>\n",
       "      <td>0.00</td>\n",
       "      <td>0.00</td>\n",
       "      <td>1.00</td>\n",
       "      <td>0.00</td>\n",
       "    </tr>\n",
       "    <tr>\n",
       "      <th>3</th>\n",
       "      <td>-8.75</td>\n",
       "      <td>0.92</td>\n",
       "      <td>14.02</td>\n",
       "      <td>80.00</td>\n",
       "      <td>1003.49</td>\n",
       "      <td>0.00</td>\n",
       "      <td>0.00</td>\n",
       "      <td>0.00</td>\n",
       "      <td>0.00</td>\n",
       "      <td>0.00</td>\n",
       "      <td>1.00</td>\n",
       "      <td>0.00</td>\n",
       "      <td>0.00</td>\n",
       "      <td>0.00</td>\n",
       "      <td>0.00</td>\n",
       "      <td>0.00</td>\n",
       "      <td>1.00</td>\n",
       "    </tr>\n",
       "    <tr>\n",
       "      <th>4</th>\n",
       "      <td>9.06</td>\n",
       "      <td>0.71</td>\n",
       "      <td>3.38</td>\n",
       "      <td>187.00</td>\n",
       "      <td>1023.32</td>\n",
       "      <td>0.00</td>\n",
       "      <td>0.00</td>\n",
       "      <td>0.00</td>\n",
       "      <td>1.00</td>\n",
       "      <td>0.00</td>\n",
       "      <td>0.00</td>\n",
       "      <td>0.00</td>\n",
       "      <td>0.00</td>\n",
       "      <td>0.00</td>\n",
       "      <td>0.00</td>\n",
       "      <td>1.00</td>\n",
       "      <td>0.00</td>\n",
       "    </tr>\n",
       "    <tr>\n",
       "      <th>...</th>\n",
       "      <td>...</td>\n",
       "      <td>...</td>\n",
       "      <td>...</td>\n",
       "      <td>...</td>\n",
       "      <td>...</td>\n",
       "      <td>...</td>\n",
       "      <td>...</td>\n",
       "      <td>...</td>\n",
       "      <td>...</td>\n",
       "      <td>...</td>\n",
       "      <td>...</td>\n",
       "      <td>...</td>\n",
       "      <td>...</td>\n",
       "      <td>...</td>\n",
       "      <td>...</td>\n",
       "      <td>...</td>\n",
       "      <td>...</td>\n",
       "    </tr>\n",
       "    <tr>\n",
       "      <th>77138</th>\n",
       "      <td>4.84</td>\n",
       "      <td>0.77</td>\n",
       "      <td>10.85</td>\n",
       "      <td>139.00</td>\n",
       "      <td>1022.10</td>\n",
       "      <td>0.00</td>\n",
       "      <td>0.00</td>\n",
       "      <td>0.00</td>\n",
       "      <td>0.00</td>\n",
       "      <td>0.00</td>\n",
       "      <td>1.00</td>\n",
       "      <td>0.00</td>\n",
       "      <td>0.00</td>\n",
       "      <td>0.00</td>\n",
       "      <td>0.00</td>\n",
       "      <td>1.00</td>\n",
       "      <td>0.00</td>\n",
       "    </tr>\n",
       "    <tr>\n",
       "      <th>77139</th>\n",
       "      <td>8.94</td>\n",
       "      <td>0.72</td>\n",
       "      <td>12.83</td>\n",
       "      <td>30.00</td>\n",
       "      <td>1029.10</td>\n",
       "      <td>0.00</td>\n",
       "      <td>0.00</td>\n",
       "      <td>0.00</td>\n",
       "      <td>0.00</td>\n",
       "      <td>0.00</td>\n",
       "      <td>0.00</td>\n",
       "      <td>0.00</td>\n",
       "      <td>0.00</td>\n",
       "      <td>1.00</td>\n",
       "      <td>0.00</td>\n",
       "      <td>1.00</td>\n",
       "      <td>0.00</td>\n",
       "    </tr>\n",
       "    <tr>\n",
       "      <th>77140</th>\n",
       "      <td>28.13</td>\n",
       "      <td>0.65</td>\n",
       "      <td>7.76</td>\n",
       "      <td>160.00</td>\n",
       "      <td>1015.53</td>\n",
       "      <td>0.00</td>\n",
       "      <td>0.00</td>\n",
       "      <td>0.00</td>\n",
       "      <td>0.00</td>\n",
       "      <td>0.00</td>\n",
       "      <td>0.00</td>\n",
       "      <td>0.00</td>\n",
       "      <td>0.00</td>\n",
       "      <td>1.00</td>\n",
       "      <td>0.00</td>\n",
       "      <td>1.00</td>\n",
       "      <td>0.00</td>\n",
       "    </tr>\n",
       "    <tr>\n",
       "      <th>77141</th>\n",
       "      <td>23.97</td>\n",
       "      <td>0.50</td>\n",
       "      <td>14.91</td>\n",
       "      <td>343.00</td>\n",
       "      <td>1009.49</td>\n",
       "      <td>0.00</td>\n",
       "      <td>0.00</td>\n",
       "      <td>0.00</td>\n",
       "      <td>0.00</td>\n",
       "      <td>0.00</td>\n",
       "      <td>1.00</td>\n",
       "      <td>0.00</td>\n",
       "      <td>0.00</td>\n",
       "      <td>0.00</td>\n",
       "      <td>0.00</td>\n",
       "      <td>1.00</td>\n",
       "      <td>0.00</td>\n",
       "    </tr>\n",
       "    <tr>\n",
       "      <th>77142</th>\n",
       "      <td>17.87</td>\n",
       "      <td>0.64</td>\n",
       "      <td>7.47</td>\n",
       "      <td>28.00</td>\n",
       "      <td>1024.72</td>\n",
       "      <td>0.00</td>\n",
       "      <td>0.00</td>\n",
       "      <td>0.00</td>\n",
       "      <td>0.00</td>\n",
       "      <td>0.00</td>\n",
       "      <td>0.00</td>\n",
       "      <td>0.00</td>\n",
       "      <td>0.00</td>\n",
       "      <td>1.00</td>\n",
       "      <td>0.00</td>\n",
       "      <td>1.00</td>\n",
       "      <td>0.00</td>\n",
       "    </tr>\n",
       "  </tbody>\n",
       "</table>\n",
       "<p>77143 rows × 17 columns</p>\n",
       "</div>"
      ],
      "text/plain": [
       "       Temperature (C)  Humidity  Wind Speed (km/h)  Wind Bearing (degrees)  \\\n",
       "0                17.98      0.88              16.20                  220.00   \n",
       "1                22.80      0.70               9.66                  328.00   \n",
       "2                19.84      0.69              13.96                   19.00   \n",
       "3                -8.75      0.92              14.02                   80.00   \n",
       "4                 9.06      0.71               3.38                  187.00   \n",
       "...                ...       ...                ...                     ...   \n",
       "77138             4.84      0.77              10.85                  139.00   \n",
       "77139             8.94      0.72              12.83                   30.00   \n",
       "77140            28.13      0.65               7.76                  160.00   \n",
       "77141            23.97      0.50              14.91                  343.00   \n",
       "77142            17.87      0.64               7.47                   28.00   \n",
       "\n",
       "       Pressure (millibars)  Breezy and Mostly Cloudy  Breezy and Overcast  \\\n",
       "0                   1003.70                      0.00                 0.00   \n",
       "1                   1011.94                      0.00                 0.00   \n",
       "2                   1014.57                      0.00                 0.00   \n",
       "3                   1003.49                      0.00                 0.00   \n",
       "4                   1023.32                      0.00                 0.00   \n",
       "...                     ...                       ...                  ...   \n",
       "77138               1022.10                      0.00                 0.00   \n",
       "77139               1029.10                      0.00                 0.00   \n",
       "77140               1015.53                      0.00                 0.00   \n",
       "77141               1009.49                      0.00                 0.00   \n",
       "77142               1024.72                      0.00                 0.00   \n",
       "\n",
       "       Breezy and Partly Cloudy  Clear  Foggy  Mostly Cloudy  Other  Overcast  \\\n",
       "0                          0.00   0.00   0.00           0.00   0.00      1.00   \n",
       "1                          0.00   0.00   0.00           0.00   0.00      0.00   \n",
       "2                          0.00   0.00   0.00           0.00   0.00      1.00   \n",
       "3                          0.00   0.00   0.00           1.00   0.00      0.00   \n",
       "4                          0.00   1.00   0.00           0.00   0.00      0.00   \n",
       "...                         ...    ...    ...            ...    ...       ...   \n",
       "77138                      0.00   0.00   0.00           1.00   0.00      0.00   \n",
       "77139                      0.00   0.00   0.00           0.00   0.00      0.00   \n",
       "77140                      0.00   0.00   0.00           0.00   0.00      0.00   \n",
       "77141                      0.00   0.00   0.00           1.00   0.00      0.00   \n",
       "77142                      0.00   0.00   0.00           0.00   0.00      0.00   \n",
       "\n",
       "       Partly Cloudy  none  rain  snow  \n",
       "0               0.00  0.00  1.00  0.00  \n",
       "1               1.00  0.00  1.00  0.00  \n",
       "2               0.00  0.00  1.00  0.00  \n",
       "3               0.00  0.00  0.00  1.00  \n",
       "4               0.00  0.00  1.00  0.00  \n",
       "...              ...   ...   ...   ...  \n",
       "77138           0.00  0.00  1.00  0.00  \n",
       "77139           1.00  0.00  1.00  0.00  \n",
       "77140           1.00  0.00  1.00  0.00  \n",
       "77141           0.00  0.00  1.00  0.00  \n",
       "77142           1.00  0.00  1.00  0.00  \n",
       "\n",
       "[77143 rows x 17 columns]"
      ]
     },
     "execution_count": 74,
     "metadata": {},
     "output_type": "execute_result"
    }
   ],
   "source": [
    "# concatenate of the transformed data Summary and Precip Type, to the numeric category\n",
    "X_train_enc = pd.concat([X_train, features], axis=1)\n",
    "X_train_enc"
   ]
  },
  {
   "cell_type": "code",
   "execution_count": 75,
   "metadata": {
    "id": "FxQymO9PVtut",
    "tags": []
   },
   "outputs": [],
   "source": [
    "# standardize features by removing the mean and scaling to unit variance\n",
    "scaler = StandardScaler()\n",
    "scaler.fit(X_train_enc)\n",
    "X_train_scaled=scaler.transform(X_train_enc)"
   ]
  },
  {
   "cell_type": "markdown",
   "metadata": {
    "id": "PlCeEzPZvoQd"
   },
   "source": [
    "## prepare test data"
   ]
  },
  {
   "cell_type": "code",
   "execution_count": 76,
   "metadata": {
    "id": "s_8MNK_Ts3Og"
   },
   "outputs": [],
   "source": [
    "X_test.reset_index(drop=True, inplace=True)\n",
    "y_test.reset_index(drop=True, inplace=True)"
   ]
  },
  {
   "cell_type": "code",
   "execution_count": 77,
   "metadata": {
    "id": "FGGksdQXsgof"
   },
   "outputs": [],
   "source": [
    "# encode categorical features as a one-hot numeric array\n",
    "feature_array_test = ohe.transform(X_test[['Summary', 'Precip Type']]).toarray()\n",
    "\n",
    "features_test = pd.DataFrame(feature_array_test, columns = feature_labels)\n"
   ]
  },
  {
   "cell_type": "code",
   "execution_count": 78,
   "metadata": {
    "id": "jRAvKmz-sgr3"
   },
   "outputs": [],
   "source": [
    "X_test.drop(X_test[['Summary','Precip Type']],axis = 1,inplace = True)"
   ]
  },
  {
   "cell_type": "code",
   "execution_count": 79,
   "metadata": {
    "colab": {
     "base_uri": "https://localhost:8080/",
     "height": 467
    },
    "id": "2VpWBhmvsgvm",
    "outputId": "1c18ac90-4b73-402d-b23b-69646156085a"
   },
   "outputs": [
    {
     "data": {
      "text/html": [
       "<div>\n",
       "<style scoped>\n",
       "    .dataframe tbody tr th:only-of-type {\n",
       "        vertical-align: middle;\n",
       "    }\n",
       "\n",
       "    .dataframe tbody tr th {\n",
       "        vertical-align: top;\n",
       "    }\n",
       "\n",
       "    .dataframe thead th {\n",
       "        text-align: right;\n",
       "    }\n",
       "</style>\n",
       "<table border=\"1\" class=\"dataframe\">\n",
       "  <thead>\n",
       "    <tr style=\"text-align: right;\">\n",
       "      <th></th>\n",
       "      <th>Temperature (C)</th>\n",
       "      <th>Humidity</th>\n",
       "      <th>Wind Speed (km/h)</th>\n",
       "      <th>Wind Bearing (degrees)</th>\n",
       "      <th>Pressure (millibars)</th>\n",
       "      <th>Breezy and Mostly Cloudy</th>\n",
       "      <th>Breezy and Overcast</th>\n",
       "      <th>Breezy and Partly Cloudy</th>\n",
       "      <th>Clear</th>\n",
       "      <th>Foggy</th>\n",
       "      <th>Mostly Cloudy</th>\n",
       "      <th>Other</th>\n",
       "      <th>Overcast</th>\n",
       "      <th>Partly Cloudy</th>\n",
       "      <th>none</th>\n",
       "      <th>rain</th>\n",
       "      <th>snow</th>\n",
       "    </tr>\n",
       "  </thead>\n",
       "  <tbody>\n",
       "    <tr>\n",
       "      <th>0</th>\n",
       "      <td>16.02</td>\n",
       "      <td>0.31</td>\n",
       "      <td>21.96</td>\n",
       "      <td>282.00</td>\n",
       "      <td>1019.87</td>\n",
       "      <td>0.00</td>\n",
       "      <td>0.00</td>\n",
       "      <td>0.00</td>\n",
       "      <td>0.00</td>\n",
       "      <td>0.00</td>\n",
       "      <td>1.00</td>\n",
       "      <td>0.00</td>\n",
       "      <td>0.00</td>\n",
       "      <td>0.00</td>\n",
       "      <td>0.00</td>\n",
       "      <td>1.00</td>\n",
       "      <td>0.00</td>\n",
       "    </tr>\n",
       "    <tr>\n",
       "      <th>1</th>\n",
       "      <td>17.29</td>\n",
       "      <td>0.87</td>\n",
       "      <td>0.00</td>\n",
       "      <td>0.00</td>\n",
       "      <td>1020.79</td>\n",
       "      <td>0.00</td>\n",
       "      <td>0.00</td>\n",
       "      <td>0.00</td>\n",
       "      <td>1.00</td>\n",
       "      <td>0.00</td>\n",
       "      <td>0.00</td>\n",
       "      <td>0.00</td>\n",
       "      <td>0.00</td>\n",
       "      <td>0.00</td>\n",
       "      <td>0.00</td>\n",
       "      <td>1.00</td>\n",
       "      <td>0.00</td>\n",
       "    </tr>\n",
       "    <tr>\n",
       "      <th>2</th>\n",
       "      <td>7.17</td>\n",
       "      <td>0.92</td>\n",
       "      <td>20.64</td>\n",
       "      <td>331.00</td>\n",
       "      <td>1004.18</td>\n",
       "      <td>0.00</td>\n",
       "      <td>0.00</td>\n",
       "      <td>0.00</td>\n",
       "      <td>0.00</td>\n",
       "      <td>0.00</td>\n",
       "      <td>0.00</td>\n",
       "      <td>0.00</td>\n",
       "      <td>1.00</td>\n",
       "      <td>0.00</td>\n",
       "      <td>0.00</td>\n",
       "      <td>1.00</td>\n",
       "      <td>0.00</td>\n",
       "    </tr>\n",
       "    <tr>\n",
       "      <th>3</th>\n",
       "      <td>21.11</td>\n",
       "      <td>0.45</td>\n",
       "      <td>14.55</td>\n",
       "      <td>253.00</td>\n",
       "      <td>1008.07</td>\n",
       "      <td>0.00</td>\n",
       "      <td>0.00</td>\n",
       "      <td>0.00</td>\n",
       "      <td>0.00</td>\n",
       "      <td>0.00</td>\n",
       "      <td>0.00</td>\n",
       "      <td>0.00</td>\n",
       "      <td>0.00</td>\n",
       "      <td>1.00</td>\n",
       "      <td>0.00</td>\n",
       "      <td>1.00</td>\n",
       "      <td>0.00</td>\n",
       "    </tr>\n",
       "    <tr>\n",
       "      <th>4</th>\n",
       "      <td>19.87</td>\n",
       "      <td>0.78</td>\n",
       "      <td>2.88</td>\n",
       "      <td>144.00</td>\n",
       "      <td>1015.19</td>\n",
       "      <td>0.00</td>\n",
       "      <td>0.00</td>\n",
       "      <td>0.00</td>\n",
       "      <td>1.00</td>\n",
       "      <td>0.00</td>\n",
       "      <td>0.00</td>\n",
       "      <td>0.00</td>\n",
       "      <td>0.00</td>\n",
       "      <td>0.00</td>\n",
       "      <td>0.00</td>\n",
       "      <td>1.00</td>\n",
       "      <td>0.00</td>\n",
       "    </tr>\n",
       "    <tr>\n",
       "      <th>...</th>\n",
       "      <td>...</td>\n",
       "      <td>...</td>\n",
       "      <td>...</td>\n",
       "      <td>...</td>\n",
       "      <td>...</td>\n",
       "      <td>...</td>\n",
       "      <td>...</td>\n",
       "      <td>...</td>\n",
       "      <td>...</td>\n",
       "      <td>...</td>\n",
       "      <td>...</td>\n",
       "      <td>...</td>\n",
       "      <td>...</td>\n",
       "      <td>...</td>\n",
       "      <td>...</td>\n",
       "      <td>...</td>\n",
       "      <td>...</td>\n",
       "    </tr>\n",
       "    <tr>\n",
       "      <th>19281</th>\n",
       "      <td>14.09</td>\n",
       "      <td>0.90</td>\n",
       "      <td>6.86</td>\n",
       "      <td>310.00</td>\n",
       "      <td>1019.81</td>\n",
       "      <td>0.00</td>\n",
       "      <td>0.00</td>\n",
       "      <td>0.00</td>\n",
       "      <td>0.00</td>\n",
       "      <td>0.00</td>\n",
       "      <td>0.00</td>\n",
       "      <td>0.00</td>\n",
       "      <td>0.00</td>\n",
       "      <td>1.00</td>\n",
       "      <td>0.00</td>\n",
       "      <td>1.00</td>\n",
       "      <td>0.00</td>\n",
       "    </tr>\n",
       "    <tr>\n",
       "      <th>19282</th>\n",
       "      <td>1.17</td>\n",
       "      <td>0.93</td>\n",
       "      <td>0.69</td>\n",
       "      <td>280.00</td>\n",
       "      <td>1035.52</td>\n",
       "      <td>0.00</td>\n",
       "      <td>0.00</td>\n",
       "      <td>0.00</td>\n",
       "      <td>0.00</td>\n",
       "      <td>0.00</td>\n",
       "      <td>0.00</td>\n",
       "      <td>0.00</td>\n",
       "      <td>1.00</td>\n",
       "      <td>0.00</td>\n",
       "      <td>0.00</td>\n",
       "      <td>1.00</td>\n",
       "      <td>0.00</td>\n",
       "    </tr>\n",
       "    <tr>\n",
       "      <th>19283</th>\n",
       "      <td>22.69</td>\n",
       "      <td>0.29</td>\n",
       "      <td>12.64</td>\n",
       "      <td>308.00</td>\n",
       "      <td>1017.72</td>\n",
       "      <td>0.00</td>\n",
       "      <td>0.00</td>\n",
       "      <td>0.00</td>\n",
       "      <td>0.00</td>\n",
       "      <td>0.00</td>\n",
       "      <td>1.00</td>\n",
       "      <td>0.00</td>\n",
       "      <td>0.00</td>\n",
       "      <td>0.00</td>\n",
       "      <td>0.00</td>\n",
       "      <td>1.00</td>\n",
       "      <td>0.00</td>\n",
       "    </tr>\n",
       "    <tr>\n",
       "      <th>19284</th>\n",
       "      <td>5.00</td>\n",
       "      <td>0.81</td>\n",
       "      <td>15.49</td>\n",
       "      <td>170.00</td>\n",
       "      <td>1019.39</td>\n",
       "      <td>0.00</td>\n",
       "      <td>0.00</td>\n",
       "      <td>0.00</td>\n",
       "      <td>0.00</td>\n",
       "      <td>0.00</td>\n",
       "      <td>1.00</td>\n",
       "      <td>0.00</td>\n",
       "      <td>0.00</td>\n",
       "      <td>0.00</td>\n",
       "      <td>0.00</td>\n",
       "      <td>1.00</td>\n",
       "      <td>0.00</td>\n",
       "    </tr>\n",
       "    <tr>\n",
       "      <th>19285</th>\n",
       "      <td>18.84</td>\n",
       "      <td>0.64</td>\n",
       "      <td>17.37</td>\n",
       "      <td>328.00</td>\n",
       "      <td>1020.92</td>\n",
       "      <td>0.00</td>\n",
       "      <td>0.00</td>\n",
       "      <td>0.00</td>\n",
       "      <td>0.00</td>\n",
       "      <td>0.00</td>\n",
       "      <td>1.00</td>\n",
       "      <td>0.00</td>\n",
       "      <td>0.00</td>\n",
       "      <td>0.00</td>\n",
       "      <td>0.00</td>\n",
       "      <td>1.00</td>\n",
       "      <td>0.00</td>\n",
       "    </tr>\n",
       "  </tbody>\n",
       "</table>\n",
       "<p>19286 rows × 17 columns</p>\n",
       "</div>"
      ],
      "text/plain": [
       "       Temperature (C)  Humidity  Wind Speed (km/h)  Wind Bearing (degrees)  \\\n",
       "0                16.02      0.31              21.96                  282.00   \n",
       "1                17.29      0.87               0.00                    0.00   \n",
       "2                 7.17      0.92              20.64                  331.00   \n",
       "3                21.11      0.45              14.55                  253.00   \n",
       "4                19.87      0.78               2.88                  144.00   \n",
       "...                ...       ...                ...                     ...   \n",
       "19281            14.09      0.90               6.86                  310.00   \n",
       "19282             1.17      0.93               0.69                  280.00   \n",
       "19283            22.69      0.29              12.64                  308.00   \n",
       "19284             5.00      0.81              15.49                  170.00   \n",
       "19285            18.84      0.64              17.37                  328.00   \n",
       "\n",
       "       Pressure (millibars)  Breezy and Mostly Cloudy  Breezy and Overcast  \\\n",
       "0                   1019.87                      0.00                 0.00   \n",
       "1                   1020.79                      0.00                 0.00   \n",
       "2                   1004.18                      0.00                 0.00   \n",
       "3                   1008.07                      0.00                 0.00   \n",
       "4                   1015.19                      0.00                 0.00   \n",
       "...                     ...                       ...                  ...   \n",
       "19281               1019.81                      0.00                 0.00   \n",
       "19282               1035.52                      0.00                 0.00   \n",
       "19283               1017.72                      0.00                 0.00   \n",
       "19284               1019.39                      0.00                 0.00   \n",
       "19285               1020.92                      0.00                 0.00   \n",
       "\n",
       "       Breezy and Partly Cloudy  Clear  Foggy  Mostly Cloudy  Other  Overcast  \\\n",
       "0                          0.00   0.00   0.00           1.00   0.00      0.00   \n",
       "1                          0.00   1.00   0.00           0.00   0.00      0.00   \n",
       "2                          0.00   0.00   0.00           0.00   0.00      1.00   \n",
       "3                          0.00   0.00   0.00           0.00   0.00      0.00   \n",
       "4                          0.00   1.00   0.00           0.00   0.00      0.00   \n",
       "...                         ...    ...    ...            ...    ...       ...   \n",
       "19281                      0.00   0.00   0.00           0.00   0.00      0.00   \n",
       "19282                      0.00   0.00   0.00           0.00   0.00      1.00   \n",
       "19283                      0.00   0.00   0.00           1.00   0.00      0.00   \n",
       "19284                      0.00   0.00   0.00           1.00   0.00      0.00   \n",
       "19285                      0.00   0.00   0.00           1.00   0.00      0.00   \n",
       "\n",
       "       Partly Cloudy  none  rain  snow  \n",
       "0               0.00  0.00  1.00  0.00  \n",
       "1               0.00  0.00  1.00  0.00  \n",
       "2               0.00  0.00  1.00  0.00  \n",
       "3               1.00  0.00  1.00  0.00  \n",
       "4               0.00  0.00  1.00  0.00  \n",
       "...              ...   ...   ...   ...  \n",
       "19281           1.00  0.00  1.00  0.00  \n",
       "19282           0.00  0.00  1.00  0.00  \n",
       "19283           0.00  0.00  1.00  0.00  \n",
       "19284           0.00  0.00  1.00  0.00  \n",
       "19285           0.00  0.00  1.00  0.00  \n",
       "\n",
       "[19286 rows x 17 columns]"
      ]
     },
     "execution_count": 79,
     "metadata": {},
     "output_type": "execute_result"
    }
   ],
   "source": [
    "X_test_enc = pd.concat([X_test, features_test], axis=1)\n",
    "X_test_enc"
   ]
  },
  {
   "cell_type": "code",
   "execution_count": 80,
   "metadata": {
    "id": "p5WTahymUl7T"
   },
   "outputs": [],
   "source": [
    "# scale test data\n",
    "X_test_scaled=scaler.transform(X_test_enc)"
   ]
  },
  {
   "cell_type": "markdown",
   "metadata": {
    "id": "ql2OBn-ZW7X6"
   },
   "source": [
    "## LinearRegression  \n",
    "that computes the linear relationship between a dependent variable and one or more independent features. \n",
    "The goal of the algorithm is to find the best linear equation that can predict the value of the dependent variable based on the independent variables. "
   ]
  },
  {
   "cell_type": "code",
   "execution_count": 86,
   "metadata": {
    "id": "FoOHCcmRWdoK"
   },
   "outputs": [],
   "source": [
    "# model teaching\n",
    "reg_model = LinearRegression()\n",
    "reg_model.fit(X_train_scaled,y_train)\n",
    "# prediction\n",
    "y_pred = reg_model.predict(X_test_scaled) #for test data\n",
    "y_pred_train = reg_model.predict(X_train_scaled) # for train data"
   ]
  },
  {
   "cell_type": "code",
   "execution_count": 87,
   "metadata": {
    "tags": []
   },
   "outputs": [
    {
     "name": "stdout",
     "output_type": "stream",
     "text": [
      "Results for train data\n",
      "Linear Regression R2 score: 0.45\n",
      "Linear Regression MAE score: 2.57\n"
     ]
    }
   ],
   "source": [
    "print('Results for train data')\n",
    "print('Linear Regression R2 score: '+ str(round(r2_score(y_train,y_pred_train),2)))\n",
    "print('Linear Regression MAE score: '+ str(round(mae(y_train, y_pred_train),2)))"
   ]
  },
  {
   "cell_type": "code",
   "execution_count": 88,
   "metadata": {
    "colab": {
     "base_uri": "https://localhost:8080/"
    },
    "id": "W5wdLTjCZUid",
    "outputId": "2d81417f-ca4b-48a6-d5ba-4ee50116ed7b"
   },
   "outputs": [
    {
     "name": "stdout",
     "output_type": "stream",
     "text": [
      "Results for test data\n",
      "Linear Regression R2 score: 0.45\n",
      "Linear Regression MAE score: 2.57\n"
     ]
    }
   ],
   "source": [
    "print('Results for test data')\n",
    "print('Linear Regression R2 score: '+ str(round(r2_score(y_test, y_pred),2)))\n",
    "print('Linear Regression MAE score: '+ str(round(mae(y_test, y_pred),2)))\n"
   ]
  },
  {
   "cell_type": "markdown",
   "metadata": {},
   "source": [
    "Low score is obtained due to a non-linear distribution of the data, a different model should be used"
   ]
  },
  {
   "cell_type": "markdown",
   "metadata": {
    "id": "CxewWhtxXVUS"
   },
   "source": [
    "## Polynomial regression"
   ]
  },
  {
   "cell_type": "code",
   "execution_count": 99,
   "metadata": {
    "id": "7nGlTOxHUuiZ"
   },
   "outputs": [],
   "source": [
    "poly = PolynomialFeatures(degree=2)\n",
    "X_poly_train = poly.fit_transform(X_train_scaled)\n",
    "X_poly_test = poly.fit_transform(X_test_scaled)\n",
    "poly_reg_model = LinearRegression()\n",
    "poly_reg_model.fit(X_poly_train,y_train)\n",
    "y_pred_train = poly_reg_model.predict(X_poly_train)\n",
    "y_pred_pol = poly_reg_model.predict(X_poly_test)"
   ]
  },
  {
   "cell_type": "code",
   "execution_count": 100,
   "metadata": {
    "colab": {
     "base_uri": "https://localhost:8080/"
    },
    "id": "DcHHvbiFXYhX",
    "outputId": "53cf308e-8746-490e-b3e6-d3ab2d623cb2"
   },
   "outputs": [
    {
     "name": "stdout",
     "output_type": "stream",
     "text": [
      "Results for train data\n",
      "Linear Regression R2 score: 0.52\n",
      "Linear Regression MAE score: 2.4\n"
     ]
    }
   ],
   "source": [
    "print('Results for train data')\n",
    "print('Polynomial regression R2 score: '+ str(round(r2_score(y_train,y_pred_train),2)))\n",
    "print('Polynomial regression MAE score: '+ str(round(mae(y_train, y_pred_train),2)))"
   ]
  },
  {
   "cell_type": "code",
   "execution_count": 102,
   "metadata": {
    "tags": []
   },
   "outputs": [
    {
     "name": "stdout",
     "output_type": "stream",
     "text": [
      "Results for test data\n",
      "Linear Regression R2 score: 0.53\n",
      "Linear Regression MAE score: 2.39\n"
     ]
    }
   ],
   "source": [
    "print('Results for test data')\n",
    "print('Polynomial regression R2 score: '+ str(round(r2_score(y_test, y_pred_pol),2)))\n",
    "print('Polynomial regression MAE score: '+ str(round(mae(y_test, y_pred_pol),2)))\n"
   ]
  },
  {
   "cell_type": "markdown",
   "metadata": {},
   "source": [
    "As with linear regression, the data is too different for the model to produce a satisfactory result"
   ]
  },
  {
   "cell_type": "markdown",
   "metadata": {
    "id": "LFHV2kW6XoGm"
   },
   "source": [
    "## Decision Tree Regressor"
   ]
  },
  {
   "cell_type": "code",
   "execution_count": 103,
   "metadata": {
    "colab": {
     "base_uri": "https://localhost:8080/"
    },
    "id": "0KGsKEH-h_YR",
    "outputId": "f5fa03f3-ab5d-4fb6-fdbb-d0c3557b0540"
   },
   "outputs": [
    {
     "name": "stdout",
     "output_type": "stream",
     "text": [
      "{'max_depth': 9, 'min_samples_split': 400}\n",
      "2.213188188179737\n"
     ]
    }
   ],
   "source": [
    "\n",
    "model = DecisionTreeRegressor()\n",
    "gs = GridSearchCV(model,\n",
    "                  param_grid = {'max_depth': range(5, 10),\n",
    "                                'min_samples_split': range(400,1100, 100)\n",
    "                                },\n",
    "                  cv=10,\n",
    "                  scoring='neg_mean_absolute_error')\n",
    "gs.fit(X_train_scaled,y_train)\n",
    "print(gs.best_params_)\n",
    "print(-gs.best_score_)"
   ]
  },
  {
   "cell_type": "code",
   "execution_count": 104,
   "metadata": {
    "id": "iDzEqaxFf3Gc"
   },
   "outputs": [],
   "source": [
    "tree_model = tree.DecisionTreeRegressor(random_state=111, max_depth=9, min_samples_split=400)\n",
    "tree_model.fit(X_train_scaled, y_train)\n",
    "y_pred_tree = tree_model.predict(X_test_scaled)\n",
    "y_pred_train = tree_model.predict(X_train_scaled)"
   ]
  },
  {
   "cell_type": "code",
   "execution_count": 105,
   "metadata": {
    "colab": {
     "base_uri": "https://localhost:8080/"
    },
    "id": "W1qUR5B4kIxm",
    "outputId": "fbb803e9-77ce-4114-b999-4975d5ab3c89"
   },
   "outputs": [
    {
     "name": "stdout",
     "output_type": "stream",
     "text": [
      "Results for train data\n",
      "Decision Tree Regressor R2 score: 0.57\n",
      "Decision Tree Regressor MAE score: 2.19\n"
     ]
    }
   ],
   "source": [
    "print('Results for train data')\n",
    "print('Decision Tree Regressor R2 score: '+ str(round(r2_score(y_train,y_pred_train),2)))\n",
    "print('Decision Tree Regressor MAE score: '+ str(round(mae(y_train, y_pred_train),2)))"
   ]
  },
  {
   "cell_type": "code",
   "execution_count": 106,
   "metadata": {
    "tags": []
   },
   "outputs": [
    {
     "name": "stdout",
     "output_type": "stream",
     "text": [
      "Results for test data\n",
      "Decision Tree Regressor R2 score: 0.57\n",
      "Decision Tree Regressor MAE score: 2.2\n"
     ]
    }
   ],
   "source": [
    "print('Results for test data')\n",
    "print('Decision Tree Regressor R2 score: '+ str(round(r2_score(y_test, y_pred_tree),2)))\n",
    "print('Decision Tree Regressor MAE score: '+ str(round(mae(y_test, y_pred_tree),2)))"
   ]
  },
  {
   "cell_type": "code",
   "execution_count": 107,
   "metadata": {
    "colab": {
     "base_uri": "https://localhost:8080/",
     "height": 582
    },
    "id": "2WJvUS3wmo_o",
    "outputId": "b6228227-2cb4-4fad-aa2f-e03752e6d5b1"
   },
   "outputs": [
    {
     "data": {
      "text/html": [
       "<div>\n",
       "<style scoped>\n",
       "    .dataframe tbody tr th:only-of-type {\n",
       "        vertical-align: middle;\n",
       "    }\n",
       "\n",
       "    .dataframe tbody tr th {\n",
       "        vertical-align: top;\n",
       "    }\n",
       "\n",
       "    .dataframe thead th {\n",
       "        text-align: right;\n",
       "    }\n",
       "</style>\n",
       "<table border=\"1\" class=\"dataframe\">\n",
       "  <thead>\n",
       "    <tr style=\"text-align: right;\">\n",
       "      <th></th>\n",
       "      <th>0</th>\n",
       "      <th>1</th>\n",
       "    </tr>\n",
       "  </thead>\n",
       "  <tbody>\n",
       "    <tr>\n",
       "      <th>9</th>\n",
       "      <td>Foggy</td>\n",
       "      <td>6.27</td>\n",
       "    </tr>\n",
       "    <tr>\n",
       "      <th>1</th>\n",
       "      <td>Humidity</td>\n",
       "      <td>1.87</td>\n",
       "    </tr>\n",
       "    <tr>\n",
       "      <th>0</th>\n",
       "      <td>Temperature (C)</td>\n",
       "      <td>0.83</td>\n",
       "    </tr>\n",
       "    <tr>\n",
       "      <th>2</th>\n",
       "      <td>Wind Speed (km/h)</td>\n",
       "      <td>0.49</td>\n",
       "    </tr>\n",
       "    <tr>\n",
       "      <th>12</th>\n",
       "      <td>Overcast</td>\n",
       "      <td>0.23</td>\n",
       "    </tr>\n",
       "    <tr>\n",
       "      <th>4</th>\n",
       "      <td>Pressure (millibars)</td>\n",
       "      <td>0.07</td>\n",
       "    </tr>\n",
       "    <tr>\n",
       "      <th>3</th>\n",
       "      <td>Wind Bearing (degrees)</td>\n",
       "      <td>0.06</td>\n",
       "    </tr>\n",
       "    <tr>\n",
       "      <th>8</th>\n",
       "      <td>Clear</td>\n",
       "      <td>0.02</td>\n",
       "    </tr>\n",
       "    <tr>\n",
       "      <th>11</th>\n",
       "      <td>Other</td>\n",
       "      <td>0.02</td>\n",
       "    </tr>\n",
       "    <tr>\n",
       "      <th>10</th>\n",
       "      <td>Mostly Cloudy</td>\n",
       "      <td>0.01</td>\n",
       "    </tr>\n",
       "    <tr>\n",
       "      <th>13</th>\n",
       "      <td>Partly Cloudy</td>\n",
       "      <td>0.01</td>\n",
       "    </tr>\n",
       "    <tr>\n",
       "      <th>15</th>\n",
       "      <td>rain</td>\n",
       "      <td>0.00</td>\n",
       "    </tr>\n",
       "    <tr>\n",
       "      <th>14</th>\n",
       "      <td>none</td>\n",
       "      <td>0.00</td>\n",
       "    </tr>\n",
       "    <tr>\n",
       "      <th>7</th>\n",
       "      <td>Breezy and Partly Cloudy</td>\n",
       "      <td>0.00</td>\n",
       "    </tr>\n",
       "    <tr>\n",
       "      <th>6</th>\n",
       "      <td>Breezy and Overcast</td>\n",
       "      <td>0.00</td>\n",
       "    </tr>\n",
       "    <tr>\n",
       "      <th>5</th>\n",
       "      <td>Breezy and Mostly Cloudy</td>\n",
       "      <td>0.00</td>\n",
       "    </tr>\n",
       "    <tr>\n",
       "      <th>16</th>\n",
       "      <td>snow</td>\n",
       "      <td>0.00</td>\n",
       "    </tr>\n",
       "  </tbody>\n",
       "</table>\n",
       "</div>"
      ],
      "text/plain": [
       "                           0    1\n",
       "9                      Foggy 6.27\n",
       "1                   Humidity 1.87\n",
       "0            Temperature (C) 0.83\n",
       "2          Wind Speed (km/h) 0.49\n",
       "12                  Overcast 0.23\n",
       "4       Pressure (millibars) 0.07\n",
       "3     Wind Bearing (degrees) 0.06\n",
       "8                      Clear 0.02\n",
       "11                     Other 0.02\n",
       "10             Mostly Cloudy 0.01\n",
       "13             Partly Cloudy 0.01\n",
       "15                      rain 0.00\n",
       "14                      none 0.00\n",
       "7   Breezy and Partly Cloudy 0.00\n",
       "6        Breezy and Overcast 0.00\n",
       "5   Breezy and Mostly Cloudy 0.00\n",
       "16                      snow 0.00"
      ]
     },
     "execution_count": 107,
     "metadata": {},
     "output_type": "execute_result"
    }
   ],
   "source": [
    "feat_importance = tree_model.tree_.compute_feature_importances(normalize=False)\n",
    "feat_importance = pd.concat([X_train_enc.columns.to_series().reset_index(drop=True), pd.Series(feat_importance)], axis=1)\n",
    "feat_importance = feat_importance.sort_values(feat_importance.columns[1], ascending = False)\n",
    "feat_importance"
   ]
  },
  {
   "cell_type": "markdown",
   "metadata": {},
   "source": [
    "## Random Forest Regressor"
   ]
  },
  {
   "cell_type": "code",
   "execution_count": 157,
   "metadata": {
    "tags": []
   },
   "outputs": [],
   "source": [
    "regr = RandomForestRegressor(random_state=111)\n",
    "regr.fit(X_train_scaled, y_train)\n",
    "y_pred_rand = regr.predict(X_test_scaled)\n",
    "y_pred_train = regr.predict(X_train_scaled)"
   ]
  },
  {
   "cell_type": "code",
   "execution_count": 158,
   "metadata": {
    "tags": []
   },
   "outputs": [
    {
     "name": "stdout",
     "output_type": "stream",
     "text": [
      "Results for train data\n",
      "Random Forest Regressor R2 score: 0.95\n",
      "Random Forest Regressor MAE score: 0.73\n"
     ]
    }
   ],
   "source": [
    "print('Results for train data')\n",
    "print('Random Forest Regressor R2 score: '+ str(round(r2_score(y_train,y_pred_train),2)))\n",
    "print('Random Forest Regressor MAE score: '+ str(round(mae(y_train, y_pred_train),2)))"
   ]
  },
  {
   "cell_type": "code",
   "execution_count": 159,
   "metadata": {
    "tags": []
   },
   "outputs": [
    {
     "name": "stdout",
     "output_type": "stream",
     "text": [
      "Results for test data\n",
      "Random Forest Regressor R2 score: 0.57\n",
      "Random Forest Regressor MAE score: 2.2\n"
     ]
    }
   ],
   "source": [
    "print('Results for test data')\n",
    "print('Random Forest Regressor R2 score: '+ str(round(r2_score(y_test, y_pred_tree),2)))\n",
    "print('Random Forest Regressor MAE score: '+ str(round(mae(y_test, y_pred_tree),2)))"
   ]
  },
  {
   "cell_type": "markdown",
   "metadata": {},
   "source": [
    "Random Hyperparameter Grid - first need to create a parameter grid to sample from during fitting"
   ]
  },
  {
   "cell_type": "code",
   "execution_count": 137,
   "metadata": {
    "tags": []
   },
   "outputs": [
    {
     "name": "stdout",
     "output_type": "stream",
     "text": [
      "{'n_estimators': [200, 400, 600, 800, 1000, 1200, 1400, 1600, 1800, 2000], 'max_features': ['auto', 'sqrt'], 'max_depth': [10, 20, 30, 40, 50, 60, 70, 80, 90, 100, 110, None], 'min_samples_split': [2, 5, 10], 'min_samples_leaf': [1, 2, 4], 'bootstrap': [True, False]}\n"
     ]
    }
   ],
   "source": [
    "#\n",
    "# Number of trees in random forest\n",
    "n_estimators = [int(x) for x in np.linspace(start = 200, stop = 2000, num = 10)]\n",
    "# Number of features to consider at every split\n",
    "max_features = ['auto', 'sqrt']\n",
    "# Maximum number of levels in tree\n",
    "max_depth = [int(x) for x in np.linspace(10, 110, num = 11)]\n",
    "max_depth.append(None)\n",
    "# Minimum number of samples required to split a node\n",
    "min_samples_split = [2, 5, 10]\n",
    "# Minimum number of samples required at each leaf node\n",
    "min_samples_leaf = [1, 2, 4]\n",
    "# Method of selecting samples for training each tree\n",
    "bootstrap = [True, False]\n",
    "# Create the random grid\n",
    "random_grid = {'n_estimators': n_estimators,\n",
    "               'max_features': max_features,\n",
    "               'max_depth': max_depth,\n",
    "               'min_samples_split': min_samples_split,\n",
    "               'min_samples_leaf': min_samples_leaf,\n",
    "               'bootstrap': bootstrap}\n",
    "print(random_grid)"
   ]
  },
  {
   "cell_type": "code",
   "execution_count": 138,
   "metadata": {
    "tags": []
   },
   "outputs": [
    {
     "name": "stdout",
     "output_type": "stream",
     "text": [
      "Fitting 3 folds for each of 100 candidates, totalling 300 fits\n"
     ]
    },
    {
     "data": {
      "text/plain": [
       "{'n_estimators': 1400,\n",
       " 'min_samples_split': 5,\n",
       " 'min_samples_leaf': 1,\n",
       " 'max_features': 'sqrt',\n",
       " 'max_depth': 80,\n",
       " 'bootstrap': False}"
      ]
     },
     "execution_count": 138,
     "metadata": {},
     "output_type": "execute_result"
    }
   ],
   "source": [
    "# Use the random grid to search for best hyperparameters\n",
    "# First create the base model to tune\n",
    "rf = RandomForestRegressor()\n",
    "# Random search of parameters, using 3 fold cross validation, \n",
    "# search across 100 different combinations, and use all available cores\n",
    "rf_random = RandomizedSearchCV(estimator = rf, param_distributions = random_grid, n_iter = 100, cv = 3, verbose=2, random_state=42, n_jobs = -1)\n",
    "# Fit the random search model\n",
    "rf_random.fit(X_train_scaled, y_train)\n",
    "rf_random.best_params_"
   ]
  },
  {
   "cell_type": "code",
   "execution_count": 145,
   "metadata": {
    "tags": []
   },
   "outputs": [],
   "source": [
    "best_random = RandomForestRegressor(n_estimators= 1400,\n",
    " min_samples_split= 5,\n",
    " min_samples_leaf=1,\n",
    " max_features='sqrt',\n",
    " max_depth=80,\n",
    " bootstrap= False)\n",
    "best_random.fit(X_train_scaled, y_train)\n",
    "y_pred_rand = regr.predict(X_test_scaled)\n",
    "y_pred_train = regr.predict(X_train_scaled)"
   ]
  },
  {
   "cell_type": "code",
   "execution_count": 146,
   "metadata": {
    "tags": []
   },
   "outputs": [
    {
     "name": "stdout",
     "output_type": "stream",
     "text": [
      "Results for test data\n",
      "Random Forest Regressor R2 score: 0.63\n",
      "Random Forest Regressor MAE score: 1.96\n"
     ]
    }
   ],
   "source": [
    "print('Results for test data')\n",
    "print('Random Forest Regressor R2 score: '+ str(round(r2_score(y_test, y_pred_rand),2)))\n",
    "print('Random Forest Regressor MAE score: '+ str(round(mae(y_test, y_pred_rand),2)))"
   ]
  },
  {
   "cell_type": "markdown",
   "metadata": {},
   "source": [
    "Kroswalidacja"
   ]
  },
  {
   "cell_type": "code",
   "execution_count": 151,
   "metadata": {
    "tags": []
   },
   "outputs": [],
   "source": [
    "from sklearn.model_selection import cross_val_score, KFold"
   ]
  },
  {
   "cell_type": "code",
   "execution_count": 155,
   "metadata": {
    "tags": []
   },
   "outputs": [
    {
     "name": "stdout",
     "output_type": "stream",
     "text": [
      "Cross Validation Score are [1.96437542 1.96534329 1.9624893  1.95606246 1.97681577 1.9682015\n",
      " 1.97029101 1.94456635 1.94165163 1.96101376]\n",
      "Cross Validation Average Score is 1.9610810500585476\n"
     ]
    }
   ],
   "source": [
    "kf = KFold(n_splits=10, random_state=123, shuffle=True) #splits zazwyczaj 5/10\n",
    "model = RandomForestRegressor(n_estimators= 1400,\n",
    " min_samples_split= 5,\n",
    " min_samples_leaf=1,\n",
    " max_features='sqrt',\n",
    " max_depth=80,\n",
    " bootstrap= False)\n",
    "score = cross_val_score(model, X_train_scaled, y_train, cv=kf, scoring='neg_mean_absolute_error')\n",
    "\n",
    "print('Cross Validation Score are {}'.format(-score))\n",
    "print('Cross Validation Average Score is {}'.format(-score.mean()))"
   ]
  },
  {
   "cell_type": "markdown",
   "metadata": {},
   "source": [
    "## XGBRegressor"
   ]
  },
  {
   "cell_type": "code",
   "execution_count": 125,
   "metadata": {
    "id": "bihvE-rXldjR"
   },
   "outputs": [],
   "source": [
    "model = XGBRegressor(n_estimators=500, max_depth=9, eta=0.01, subsample=0.7, colsample_bytree=0.8)\n",
    "model.fit(X_train_scaled, y_train)\n",
    "y_pred_XGBR = model.predict(X_test_scaled)\n",
    "y_pred_train = model.predict(X_train_scaled)"
   ]
  },
  {
   "cell_type": "code",
   "execution_count": 122,
   "metadata": {
    "colab": {
     "base_uri": "https://localhost:8080/"
    },
    "id": "8ig6ywLagnXd",
    "outputId": "62be7e22-0029-444c-b34a-d1127973001a"
   },
   "outputs": [
    {
     "name": "stdout",
     "output_type": "stream",
     "text": [
      "Results for train data\n",
      "XGB Regressor R2 score: 0.87\n",
      "XGB Regressor MAE score: 1.15\n"
     ]
    }
   ],
   "source": [
    "print('Results for train data')\n",
    "print('XGB Regressor R2 score: '+ str(round(r2_score(y_train,y_pred_train),2)))\n",
    "print('XGB Regressor MAE score: '+ str(round(mae(y_train, y_pred_train),2)))\n"
   ]
  },
  {
   "cell_type": "code",
   "execution_count": 123,
   "metadata": {
    "tags": []
   },
   "outputs": [
    {
     "name": "stdout",
     "output_type": "stream",
     "text": [
      "Results for test data\n",
      "XGB Regressor R2 score: 0.64\n",
      "XGB Regressor MAE score: 1.95\n"
     ]
    }
   ],
   "source": [
    "print('Results for test data')\n",
    "print('XGB Regressor R2 score: '+ str(round(r2_score(y_test, y_pred_XGBR),2)))\n",
    "print('XGB Regressor MAE score: '+ str(round(mae(y_test,y_pred_XGBR),2)))"
   ]
  },
  {
   "cell_type": "code",
   "execution_count": 168,
   "metadata": {
    "tags": []
   },
   "outputs": [],
   "source": [
    "def objective(trial):\n",
    "    param = {\n",
    "        'max_depth': trial.suggest_int('max_depth', 10,20),\n",
    "        'learning_rate': trial.suggest_float('learning_rate', 0.01, 1.0),\n",
    "        'n_estimators': trial.suggest_int('n_estimators', 50, 1000),\n",
    "        'min_child_weight': trial.suggest_int('min_child_weight', 1, 10),\n",
    "        'gamma': trial.suggest_float('gamma', 0.01, 1.0),\n",
    "        'subsample': trial.suggest_float('subsample', 0.01, 1.0),\n",
    "        'colsample_bytree': trial.suggest_float('colsample_bytree', 0.01, 1.0),\n",
    "        'reg_alpha': trial.suggest_float('reg_alpha', 0.01, 1.0),\n",
    "        'reg_lambda': trial.suggest_float('reg_lambda', 0.01, 1.0),\n",
    "        'random_state': trial.suggest_int('random_state', 1, 1000)\n",
    "    }\n",
    "    model = xgboost.XGBRegressor(**param)\n",
    "    model.fit(X_train_scaled, y_train)\n",
    "    y_pred = model.predict(X_test_scaled)\n",
    "    return mae(y_test, y_pred)"
   ]
  },
  {
   "cell_type": "code",
   "execution_count": 169,
   "metadata": {
    "tags": []
   },
   "outputs": [
    {
     "name": "stderr",
     "output_type": "stream",
     "text": [
      "[I 2023-08-03 15:05:55,708] A new study created in memory with name: regression\n",
      "[I 2023-08-03 15:06:10,901] Trial 0 finished with value: 2.437431167286284 and parameters: {'max_depth': 18, 'learning_rate': 0.28809941772608977, 'n_estimators': 259, 'min_child_weight': 2, 'gamma': 0.5851142745676724, 'subsample': 0.3511031543023216, 'colsample_bytree': 0.3624835009266627, 'reg_alpha': 0.5548856877286583, 'reg_lambda': 0.586676681220379, 'random_state': 998}. Best is trial 0 with value: 2.437431167286284.\n",
      "[I 2023-08-03 15:06:22,868] Trial 1 finished with value: 2.220134423589038 and parameters: {'max_depth': 12, 'learning_rate': 0.32122241433447635, 'n_estimators': 626, 'min_child_weight': 6, 'gamma': 0.976136192913234, 'subsample': 0.7206612312419932, 'colsample_bytree': 0.1683057075047158, 'reg_alpha': 0.9308966054213088, 'reg_lambda': 0.39449713817717896, 'random_state': 534}. Best is trial 1 with value: 2.220134423589038.\n",
      "[I 2023-08-03 15:07:11,761] Trial 2 finished with value: 143.79318346379466 and parameters: {'max_depth': 19, 'learning_rate': 0.8641137271013736, 'n_estimators': 620, 'min_child_weight': 2, 'gamma': 0.7718787478865475, 'subsample': 0.32744839873863224, 'colsample_bytree': 0.6043683409833597, 'reg_alpha': 0.6510216009852118, 'reg_lambda': 0.6165138542640751, 'random_state': 194}. Best is trial 1 with value: 2.220134423589038.\n",
      "[I 2023-08-03 15:07:52,276] Trial 3 finished with value: 1.9024014909164857 and parameters: {'max_depth': 14, 'learning_rate': 0.046471595102920704, 'n_estimators': 640, 'min_child_weight': 9, 'gamma': 0.3781471068280289, 'subsample': 0.8496738800397151, 'colsample_bytree': 0.7866087288639196, 'reg_alpha': 0.09028099331926032, 'reg_lambda': 0.7500783654300575, 'random_state': 17}. Best is trial 3 with value: 1.9024014909164857.\n",
      "[I 2023-08-03 15:08:10,874] Trial 4 finished with value: 2.327228007043316 and parameters: {'max_depth': 14, 'learning_rate': 0.4922802121544377, 'n_estimators': 314, 'min_child_weight': 1, 'gamma': 0.2700958352961305, 'subsample': 0.7953580022877417, 'colsample_bytree': 0.4829673951576336, 'reg_alpha': 0.8172927759325839, 'reg_lambda': 0.10005319357533474, 'random_state': 423}. Best is trial 3 with value: 1.9024014909164857.\n",
      "[I 2023-08-03 15:09:01,114] Trial 5 finished with value: 5.468608735535601 and parameters: {'max_depth': 18, 'learning_rate': 0.8259571611070966, 'n_estimators': 920, 'min_child_weight': 9, 'gamma': 0.1620649800834195, 'subsample': 0.422538277357837, 'colsample_bytree': 0.3736345165331498, 'reg_alpha': 0.971032493783207, 'reg_lambda': 0.09927301131018262, 'random_state': 707}. Best is trial 3 with value: 1.9024014909164857.\n",
      "[I 2023-08-03 15:09:40,001] Trial 6 finished with value: 2.693981587867342 and parameters: {'max_depth': 16, 'learning_rate': 0.1854183359547833, 'n_estimators': 698, 'min_child_weight': 9, 'gamma': 0.4973253729568386, 'subsample': 0.13570739549266356, 'colsample_bytree': 0.935859127831487, 'reg_alpha': 0.39211155950743265, 'reg_lambda': 0.0641565437476168, 'random_state': 497}. Best is trial 3 with value: 1.9024014909164857.\n",
      "[I 2023-08-03 15:10:46,315] Trial 7 finished with value: 2.2310125135501018 and parameters: {'max_depth': 19, 'learning_rate': 0.5983231467094837, 'n_estimators': 606, 'min_child_weight': 2, 'gamma': 0.9052947519420717, 'subsample': 0.8954257886961745, 'colsample_bytree': 0.8475992220436865, 'reg_alpha': 0.8330345522863798, 'reg_lambda': 0.1384096404967793, 'random_state': 804}. Best is trial 3 with value: 1.9024014909164857.\n",
      "[I 2023-08-03 15:10:56,925] Trial 8 finished with value: 3.042292794442865 and parameters: {'max_depth': 13, 'learning_rate': 0.8701584615793049, 'n_estimators': 311, 'min_child_weight': 2, 'gamma': 0.7919631854361098, 'subsample': 0.6185540525138754, 'colsample_bytree': 0.2670282566901414, 'reg_alpha': 0.8794062923610053, 'reg_lambda': 0.9028648372801271, 'random_state': 475}. Best is trial 3 with value: 1.9024014909164857.\n",
      "[I 2023-08-03 15:11:02,386] Trial 9 finished with value: 2.2720576995669313 and parameters: {'max_depth': 15, 'learning_rate': 0.1499739377201738, 'n_estimators': 381, 'min_child_weight': 10, 'gamma': 0.09641193663401348, 'subsample': 0.7335964856888803, 'colsample_bytree': 0.07776817243048344, 'reg_alpha': 0.5866378541141322, 'reg_lambda': 0.5094011856437596, 'random_state': 198}. Best is trial 3 with value: 1.9024014909164857.\n",
      "[I 2023-08-03 15:11:42,448] Trial 10 finished with value: 1.956975255032059 and parameters: {'max_depth': 10, 'learning_rate': 0.01785593967004384, 'n_estimators': 989, 'min_child_weight': 6, 'gamma': 0.37049323547365115, 'subsample': 0.9965435322561276, 'colsample_bytree': 0.7417334951448378, 'reg_alpha': 0.06666854081392729, 'reg_lambda': 0.9778282918746173, 'random_state': 11}. Best is trial 3 with value: 1.9024014909164857.\n",
      "[I 2023-08-03 15:12:30,517] Trial 11 finished with value: 1.9322442607716184 and parameters: {'max_depth': 11, 'learning_rate': 0.022861181180443103, 'n_estimators': 987, 'min_child_weight': 6, 'gamma': 0.3630724002841193, 'subsample': 0.9938555190790815, 'colsample_bytree': 0.7274065379786986, 'reg_alpha': 0.011730123988777708, 'reg_lambda': 0.9261410191663684, 'random_state': 4}. Best is trial 3 with value: 1.9024014909164857.\n",
      "[I 2023-08-03 15:12:35,749] Trial 12 finished with value: 2.5278113761267726 and parameters: {'max_depth': 10, 'learning_rate': 0.02336151639418273, 'n_estimators': 69, 'min_child_weight': 7, 'gamma': 0.3350025740093071, 'subsample': 0.9812773180725238, 'colsample_bytree': 0.69044637972462, 'reg_alpha': 0.010430945964301209, 'reg_lambda': 0.7984380299322829, 'random_state': 20}. Best is trial 3 with value: 1.9024014909164857.\n",
      "[I 2023-08-03 15:13:26,964] Trial 13 finished with value: 1.8907995370022685 and parameters: {'max_depth': 12, 'learning_rate': 0.03365366526067495, 'n_estimators': 831, 'min_child_weight': 4, 'gamma': 0.4908805546068335, 'subsample': 0.8616666881814097, 'colsample_bytree': 0.9726792371630585, 'reg_alpha': 0.16666346159918716, 'reg_lambda': 0.792249784349339, 'random_state': 213}. Best is trial 13 with value: 1.8907995370022685.\n",
      "[I 2023-08-03 15:14:42,449] Trial 14 finished with value: 1.9872744693280586 and parameters: {'max_depth': 16, 'learning_rate': 0.18070331756665617, 'n_estimators': 803, 'min_child_weight': 4, 'gamma': 0.5510548756064515, 'subsample': 0.594077294468514, 'colsample_bytree': 0.9649783719067865, 'reg_alpha': 0.2191473337090276, 'reg_lambda': 0.718783273336669, 'random_state': 229}. Best is trial 13 with value: 1.8907995370022685.\n",
      "[I 2023-08-03 15:15:40,695] Trial 15 finished with value: 2.074693638936681 and parameters: {'max_depth': 13, 'learning_rate': 0.3743753084031317, 'n_estimators': 799, 'min_child_weight': 4, 'gamma': 0.04515339469686608, 'subsample': 0.8406861963521892, 'colsample_bytree': 0.9877705317421284, 'reg_alpha': 0.21841653788390397, 'reg_lambda': 0.777526951181617, 'random_state': 283}. Best is trial 13 with value: 1.8907995370022685.\n",
      "[I 2023-08-03 15:16:08,394] Trial 16 finished with value: 1.9555652136964568 and parameters: {'max_depth': 12, 'learning_rate': 0.13328430428948276, 'n_estimators': 445, 'min_child_weight': 4, 'gamma': 0.47027597098199436, 'subsample': 0.6798213077921655, 'colsample_bytree': 0.8354456863155109, 'reg_alpha': 0.20362397953534916, 'reg_lambda': 0.8286224738583554, 'random_state': 115}. Best is trial 13 with value: 1.8907995370022685.\n",
      "[I 2023-08-03 15:17:08,848] Trial 17 finished with value: 2.005016512272794 and parameters: {'max_depth': 15, 'learning_rate': 0.259045609282366, 'n_estimators': 786, 'min_child_weight': 8, 'gamma': 0.22068018590199262, 'subsample': 0.8681744144286686, 'colsample_bytree': 0.8653320670521782, 'reg_alpha': 0.38809836446360535, 'reg_lambda': 0.6941897049083541, 'random_state': 366}. Best is trial 13 with value: 1.8907995370022685.\n",
      "[I 2023-08-03 15:17:40,645] Trial 18 finished with value: 2.3389066974653177 and parameters: {'max_depth': 13, 'learning_rate': 0.392386876857604, 'n_estimators': 502, 'min_child_weight': 5, 'gamma': 0.6416611522007677, 'subsample': 0.5382303219255166, 'colsample_bytree': 0.6039280056917768, 'reg_alpha': 0.12497426700302054, 'reg_lambda': 0.8728536427111715, 'random_state': 329}. Best is trial 13 with value: 1.8907995370022685.\n",
      "[I 2023-08-03 15:18:46,672] Trial 19 finished with value: 1.918461808831207 and parameters: {'max_depth': 14, 'learning_rate': 0.10052999206796825, 'n_estimators': 852, 'min_child_weight': 8, 'gamma': 0.44498151010665904, 'subsample': 0.8161952267351544, 'colsample_bytree': 0.9907834627920424, 'reg_alpha': 0.31765121884350866, 'reg_lambda': 0.7095203752608898, 'random_state': 116}. Best is trial 13 with value: 1.8907995370022685.\n",
      "[I 2023-08-03 15:19:24,995] Trial 20 finished with value: 2.044353195948209 and parameters: {'max_depth': 11, 'learning_rate': 0.23175967445969536, 'n_estimators': 696, 'min_child_weight': 10, 'gamma': 0.6429056788356058, 'subsample': 0.675225389254869, 'colsample_bytree': 0.8185758234098497, 'reg_alpha': 0.1340167997143706, 'reg_lambda': 0.9309462519637485, 'random_state': 608}. Best is trial 13 with value: 1.8907995370022685.\n",
      "[I 2023-08-03 15:20:29,958] Trial 21 finished with value: 1.9199130924970964 and parameters: {'max_depth': 14, 'learning_rate': 0.09296884836521324, 'n_estimators': 875, 'min_child_weight': 8, 'gamma': 0.41325554619453997, 'subsample': 0.7974068984388248, 'colsample_bytree': 0.9853925094187046, 'reg_alpha': 0.31979288075039924, 'reg_lambda': 0.711442768573487, 'random_state': 116}. Best is trial 13 with value: 1.8907995370022685.\n",
      "[I 2023-08-03 15:21:29,167] Trial 22 finished with value: 1.9167714552858335 and parameters: {'max_depth': 15, 'learning_rate': 0.10967700095929717, 'n_estimators': 739, 'min_child_weight': 8, 'gamma': 0.4235729895873793, 'subsample': 0.9174098477028249, 'colsample_bytree': 0.8977838607547062, 'reg_alpha': 0.2941920263440676, 'reg_lambda': 0.8195526697357278, 'random_state': 113}. Best is trial 13 with value: 1.8907995370022685.\n",
      "[I 2023-08-03 15:22:24,590] Trial 23 finished with value: 1.9178079703998614 and parameters: {'max_depth': 16, 'learning_rate': 0.10393723228032735, 'n_estimators': 725, 'min_child_weight': 7, 'gamma': 0.3184598495405031, 'subsample': 0.9209949752751565, 'colsample_bytree': 0.8772007495658146, 'reg_alpha': 0.13030933091947738, 'reg_lambda': 0.9994760261456892, 'random_state': 108}. Best is trial 13 with value: 1.8907995370022685.\n",
      "[I 2023-08-03 15:23:12,840] Trial 24 finished with value: 1.9287813190046097 and parameters: {'max_depth': 15, 'learning_rate': 0.012734041132014262, 'n_estimators': 549, 'min_child_weight': 9, 'gamma': 0.43296423130197575, 'subsample': 0.9224336875164925, 'colsample_bytree': 0.7725764194289013, 'reg_alpha': 0.2642103981119478, 'reg_lambda': 0.8370281029886797, 'random_state': 260}. Best is trial 13 with value: 1.8907995370022685.\n",
      "[I 2023-08-03 15:24:29,960] Trial 25 finished with value: 1.984648220350998 and parameters: {'max_depth': 17, 'learning_rate': 0.21739208855454856, 'n_estimators': 741, 'min_child_weight': 5, 'gamma': 0.2446479249634232, 'subsample': 0.7718690614329053, 'colsample_bytree': 0.9224899702380013, 'reg_alpha': 0.15135400800715604, 'reg_lambda': 0.7944710364765316, 'random_state': 161}. Best is trial 13 with value: 1.8907995370022685.\n",
      "[I 2023-08-03 15:25:22,999] Trial 26 finished with value: 1.9291439267677963 and parameters: {'max_depth': 12, 'learning_rate': 0.10934287262969503, 'n_estimators': 898, 'min_child_weight': 7, 'gamma': 0.5168186758134504, 'subsample': 0.8632916316528704, 'colsample_bytree': 0.9196801094024034, 'reg_alpha': 0.3968172802917982, 'reg_lambda': 0.8748173470053235, 'random_state': 48}. Best is trial 13 with value: 1.8907995370022685.\n",
      "[I 2023-08-03 15:26:27,948] Trial 27 finished with value: 1.9829329839458145 and parameters: {'max_depth': 14, 'learning_rate': 0.1940121221119065, 'n_estimators': 649, 'min_child_weight': 3, 'gamma': 0.3893741338719874, 'subsample': 0.7631535588810958, 'colsample_bytree': 0.8104103707050416, 'reg_alpha': 0.09362143906740952, 'reg_lambda': 0.7542322843517061, 'random_state': 344}. Best is trial 13 with value: 1.8907995370022685.\n",
      "[I 2023-08-03 15:27:03,631] Trial 28 finished with value: 1.9201889564999806 and parameters: {'max_depth': 11, 'learning_rate': 0.0746654240104078, 'n_estimators': 549, 'min_child_weight': 10, 'gamma': 0.2803112514078676, 'subsample': 0.9246002364492756, 'colsample_bytree': 0.886111562186954, 'reg_alpha': 0.28713132118018814, 'reg_lambda': 0.6416481420712965, 'random_state': 76}. Best is trial 13 with value: 1.8907995370022685.\n",
      "[I 2023-08-03 15:27:13,294] Trial 29 finished with value: 2.012060521920827 and parameters: {'max_depth': 17, 'learning_rate': 0.28194698225700704, 'n_estimators': 103, 'min_child_weight': 9, 'gamma': 0.5921269998060393, 'subsample': 0.8398481012692902, 'colsample_bytree': 0.682881313899882, 'reg_alpha': 0.06398481467512633, 'reg_lambda': 0.5437521802734857, 'random_state': 844}. Best is trial 13 with value: 1.8907995370022685.\n",
      "[I 2023-08-03 15:28:16,105] Trial 30 finished with value: 1.9714121501733455 and parameters: {'max_depth': 20, 'learning_rate': 0.167106935747798, 'n_estimators': 452, 'min_child_weight': 3, 'gamma': 0.4739275973444505, 'subsample': 0.6951731698637783, 'colsample_bytree': 0.7978452344826112, 'reg_alpha': 0.18835317820684666, 'reg_lambda': 0.6478553573038605, 'random_state': 176}. Best is trial 13 with value: 1.8907995370022685.\n",
      "[I 2023-08-03 15:29:12,932] Trial 31 finished with value: 1.9154095787572671 and parameters: {'max_depth': 16, 'learning_rate': 0.10928127924914667, 'n_estimators': 729, 'min_child_weight': 7, 'gamma': 0.31966107088513196, 'subsample': 0.9252801221560399, 'colsample_bytree': 0.9032155004327651, 'reg_alpha': 0.15023710570635754, 'reg_lambda': 0.9591782069663195, 'random_state': 112}. Best is trial 13 with value: 1.8907995370022685.\n",
      "[I 2023-08-03 15:30:14,839] Trial 32 finished with value: 1.899988833310134 and parameters: {'max_depth': 17, 'learning_rate': 0.07098715265325771, 'n_estimators': 765, 'min_child_weight': 8, 'gamma': 0.3264143824940437, 'subsample': 0.950730796620793, 'colsample_bytree': 0.9087112617970039, 'reg_alpha': 0.17263104505121327, 'reg_lambda': 0.8533874935145388, 'random_state': 285}. Best is trial 13 with value: 1.8907995370022685.\n",
      "[I 2023-08-03 15:31:10,928] Trial 33 finished with value: 1.8940405998566816 and parameters: {'max_depth': 17, 'learning_rate': 0.06918840612525876, 'n_estimators': 637, 'min_child_weight': 7, 'gamma': 0.19606918344107543, 'subsample': 0.9392872880655756, 'colsample_bytree': 0.9367773053410484, 'reg_alpha': 0.07668483572155399, 'reg_lambda': 0.942681695894471, 'random_state': 287}. Best is trial 13 with value: 1.8907995370022685.\n",
      "[I 2023-08-03 15:32:21,392] Trial 34 finished with value: 1.8779679469097912 and parameters: {'max_depth': 18, 'learning_rate': 0.05555608492369288, 'n_estimators': 641, 'min_child_weight': 5, 'gamma': 0.15360191447775184, 'subsample': 0.8232844734063802, 'colsample_bytree': 0.998829680579401, 'reg_alpha': 0.08152243219562491, 'reg_lambda': 0.864308733315557, 'random_state': 399}. Best is trial 34 with value: 1.8779679469097912.\n",
      "[I 2023-08-03 15:33:24,345] Trial 35 finished with value: 1.876002705042577 and parameters: {'max_depth': 18, 'learning_rate': 0.05146693362253208, 'n_estimators': 577, 'min_child_weight': 5, 'gamma': 0.18008498287749958, 'subsample': 0.7458933001031623, 'colsample_bytree': 0.987936133105037, 'reg_alpha': 0.055628799004298166, 'reg_lambda': 0.8834832776836743, 'random_state': 437}. Best is trial 35 with value: 1.876002705042577.\n",
      "[I 2023-08-03 15:34:28,185] Trial 36 finished with value: 1.8896239023306634 and parameters: {'max_depth': 18, 'learning_rate': 0.057139991377541735, 'n_estimators': 590, 'min_child_weight': 5, 'gamma': 0.17995601352401533, 'subsample': 0.8068411594705908, 'colsample_bytree': 0.9824925351038817, 'reg_alpha': 0.05408476334516957, 'reg_lambda': 0.9297954000291422, 'random_state': 428}. Best is trial 35 with value: 1.876002705042577.\n",
      "[I 2023-08-03 15:35:39,724] Trial 37 finished with value: 1.9467772897573323 and parameters: {'max_depth': 19, 'learning_rate': 0.15929233839515136, 'n_estimators': 575, 'min_child_weight': 5, 'gamma': 0.13746910828102338, 'subsample': 0.7485483371374201, 'colsample_bytree': 0.998089234957568, 'reg_alpha': 0.011542788340454961, 'reg_lambda': 0.8947159458889887, 'random_state': 563}. Best is trial 35 with value: 1.876002705042577.\n",
      "[I 2023-08-03 15:36:38,292] Trial 38 finished with value: 1.976801771549528 and parameters: {'max_depth': 18, 'learning_rate': 0.2529700971760711, 'n_estimators': 483, 'min_child_weight': 3, 'gamma': 0.047128338965959, 'subsample': 0.8024216517378943, 'colsample_bytree': 0.9491877947979432, 'reg_alpha': 0.06913141260724683, 'reg_lambda': 0.9938758987776396, 'random_state': 415}. Best is trial 35 with value: 1.876002705042577.\n",
      "[I 2023-08-03 15:37:03,326] Trial 39 finished with value: 2.07230520180214 and parameters: {'max_depth': 20, 'learning_rate': 0.32691510149200753, 'n_estimators': 188, 'min_child_weight': 4, 'gamma': 0.17338162159582124, 'subsample': 0.7297039067718535, 'colsample_bytree': 0.8468817691407009, 'reg_alpha': 0.24070859838855918, 'reg_lambda': 0.8830862379636372, 'random_state': 409}. Best is trial 35 with value: 1.876002705042577.\n",
      "[I 2023-08-03 15:37:49,484] Trial 40 finished with value: 1.8877139510027992 and parameters: {'max_depth': 18, 'learning_rate': 0.06758664825914057, 'n_estimators': 411, 'min_child_weight': 5, 'gamma': 0.11256706234718565, 'subsample': 0.8696064353757201, 'colsample_bytree': 0.9507134833001631, 'reg_alpha': 0.10719580087621433, 'reg_lambda': 0.7613226321739782, 'random_state': 631}. Best is trial 35 with value: 1.876002705042577.\n",
      "[I 2023-08-03 15:38:31,229] Trial 41 finished with value: 1.8821422331978261 and parameters: {'max_depth': 18, 'learning_rate': 0.051167378636830844, 'n_estimators': 398, 'min_child_weight': 5, 'gamma': 0.1221549800563842, 'subsample': 0.861174398110021, 'colsample_bytree': 0.9941877198060096, 'reg_alpha': 0.09754831506670214, 'reg_lambda': 0.7702958096717561, 'random_state': 610}. Best is trial 35 with value: 1.876002705042577.\n",
      "[I 2023-08-03 15:39:18,134] Trial 42 finished with value: 1.8820629224953467 and parameters: {'max_depth': 18, 'learning_rate': 0.05705910928068259, 'n_estimators': 394, 'min_child_weight': 5, 'gamma': 0.125273222742986, 'subsample': 0.8113802616506964, 'colsample_bytree': 0.9969002219939899, 'reg_alpha': 0.0861577994670705, 'reg_lambda': 0.9192578491536125, 'random_state': 660}. Best is trial 35 with value: 1.876002705042577.\n",
      "[I 2023-08-03 15:40:01,972] Trial 43 finished with value: 1.9262774731217638 and parameters: {'max_depth': 19, 'learning_rate': 0.15878456840049457, 'n_estimators': 382, 'min_child_weight': 6, 'gamma': 0.10725684330779581, 'subsample': 0.8876135260482723, 'colsample_bytree': 0.9429955833697108, 'reg_alpha': 0.11235991683625723, 'reg_lambda': 0.856202945758188, 'random_state': 654}. Best is trial 35 with value: 1.876002705042577.\n",
      "[I 2023-08-03 15:40:45,786] Trial 44 finished with value: 1.9042375295190976 and parameters: {'max_depth': 19, 'learning_rate': 0.01012608337433344, 'n_estimators': 385, 'min_child_weight': 6, 'gamma': 0.019928465697366796, 'subsample': 0.7781592449099806, 'colsample_bytree': 0.8665434682701343, 'reg_alpha': 0.0455077154891305, 'reg_lambda': 0.7408233026360379, 'random_state': 794}. Best is trial 35 with value: 1.876002705042577.\n",
      "[I 2023-08-03 15:41:12,567] Trial 45 finished with value: 1.890579902191024 and parameters: {'max_depth': 18, 'learning_rate': 0.05962503148343338, 'n_estimators': 258, 'min_child_weight': 5, 'gamma': 0.11253575319095065, 'subsample': 0.7197947223834666, 'colsample_bytree': 0.9396266155413117, 'reg_alpha': 0.11428993593951003, 'reg_lambda': 0.9076334333995956, 'random_state': 723}. Best is trial 35 with value: 1.876002705042577.\n",
      "[I 2023-08-03 15:41:46,043] Trial 46 finished with value: 1.99711678679913 and parameters: {'max_depth': 18, 'learning_rate': 0.20538642208364447, 'n_estimators': 327, 'min_child_weight': 6, 'gamma': 0.0786752803883379, 'subsample': 0.6463894026730601, 'colsample_bytree': 0.8866269754376603, 'reg_alpha': 0.09714501541263709, 'reg_lambda': 0.5951523996943321, 'random_state': 533}. Best is trial 35 with value: 1.876002705042577.\n",
      "[I 2023-08-03 15:42:19,892] Trial 47 finished with value: 1.9164340295785267 and parameters: {'max_depth': 20, 'learning_rate': 0.13600776813866586, 'n_estimators': 284, 'min_child_weight': 5, 'gamma': 0.14523449586901954, 'subsample': 0.8694784732617806, 'colsample_bytree': 0.9921519381024653, 'reg_alpha': 0.1838582629571097, 'reg_lambda': 0.7682596311592919, 'random_state': 667}. Best is trial 35 with value: 1.876002705042577.\n",
      "[I 2023-08-03 15:42:56,711] Trial 48 finished with value: 1.8836487782094464 and parameters: {'max_depth': 17, 'learning_rate': 0.05560525135447829, 'n_estimators': 413, 'min_child_weight': 4, 'gamma': 0.2161797881293928, 'subsample': 0.8286957631357904, 'colsample_bytree': 0.8417938340064676, 'reg_alpha': 0.033403653434636894, 'reg_lambda': 0.8216383694774835, 'random_state': 480}. Best is trial 35 with value: 1.876002705042577.\n",
      "[I 2023-08-03 15:43:29,385] Trial 49 finished with value: 1.948783309956853 and parameters: {'max_depth': 17, 'learning_rate': 0.13966122703807293, 'n_estimators': 345, 'min_child_weight': 3, 'gamma': 0.22543226045092774, 'subsample': 0.7218885275226259, 'colsample_bytree': 0.8378694258587014, 'reg_alpha': 0.04899057261095461, 'reg_lambda': 0.8336516333454084, 'random_state': 481}. Best is trial 35 with value: 1.876002705042577.\n",
      "[I 2023-08-03 15:43:55,173] Trial 50 finished with value: 1.9051376924660925 and parameters: {'max_depth': 19, 'learning_rate': 0.036364398407247686, 'n_estimators': 231, 'min_child_weight': 4, 'gamma': 0.26918213256554013, 'subsample': 0.833852706005999, 'colsample_bytree': 0.751481757561463, 'reg_alpha': 0.012031945928012752, 'reg_lambda': 0.9617220735396227, 'random_state': 573}. Best is trial 35 with value: 1.876002705042577.\n",
      "[I 2023-08-03 15:44:37,062] Trial 51 finished with value: 1.8827810215478744 and parameters: {'max_depth': 18, 'learning_rate': 0.0644464120873122, 'n_estimators': 419, 'min_child_weight': 5, 'gamma': 0.14311318768969838, 'subsample': 0.8855603329804567, 'colsample_bytree': 0.9525610946721408, 'reg_alpha': 0.09736418793349914, 'reg_lambda': 0.8048792514058781, 'random_state': 620}. Best is trial 35 with value: 1.876002705042577.\n",
      "[I 2023-08-03 15:45:21,117] Trial 52 finished with value: 1.8801457608165937 and parameters: {'max_depth': 18, 'learning_rate': 0.047741110856285046, 'n_estimators': 431, 'min_child_weight': 4, 'gamma': 0.14956542846431475, 'subsample': 0.8201541554647703, 'colsample_bytree': 0.9505475988513868, 'reg_alpha': 0.03793210852654626, 'reg_lambda': 0.8156217995359054, 'random_state': 455}. Best is trial 35 with value: 1.876002705042577.\n",
      "[I 2023-08-03 15:46:15,225] Trial 53 finished with value: 1.942374023188611 and parameters: {'max_depth': 19, 'learning_rate': 0.18880483805327752, 'n_estimators': 475, 'min_child_weight': 4, 'gamma': 0.14844044357611025, 'subsample': 0.774589145926089, 'colsample_bytree': 0.9527909787447999, 'reg_alpha': 0.15622167999051054, 'reg_lambda': 0.9130712612743374, 'random_state': 744}. Best is trial 35 with value: 1.876002705042577.\n",
      "[I 2023-08-03 15:47:00,146] Trial 54 finished with value: 1.9194027429599738 and parameters: {'max_depth': 18, 'learning_rate': 0.13897968694611645, 'n_estimators': 517, 'min_child_weight': 5, 'gamma': 0.06205497914656344, 'subsample': 0.9670863491855363, 'colsample_bytree': 0.9122167111018107, 'reg_alpha': 0.07421809664182757, 'reg_lambda': 0.7977152222918579, 'random_state': 525}. Best is trial 35 with value: 1.876002705042577.\n",
      "[I 2023-08-03 15:48:04,198] Trial 55 finished with value: 1.8817581139536679 and parameters: {'max_depth': 19, 'learning_rate': 0.04103287140708776, 'n_estimators': 673, 'min_child_weight': 6, 'gamma': 0.07996518349474964, 'subsample': 0.986391472163509, 'colsample_bytree': 0.9949410366380108, 'reg_alpha': 0.21393414087502072, 'reg_lambda': 0.8836780051560897, 'random_state': 601}. Best is trial 35 with value: 1.876002705042577.\n",
      "[I 2023-08-03 15:49:13,294] Trial 56 finished with value: 1.8837740882132892 and parameters: {'max_depth': 19, 'learning_rate': 0.02130051921140281, 'n_estimators': 667, 'min_child_weight': 6, 'gamma': 0.01629505765710207, 'subsample': 0.9923379319805447, 'colsample_bytree': 0.9899131716238743, 'reg_alpha': 0.21428490797436608, 'reg_lambda': 0.8853190593156536, 'random_state': 438}. Best is trial 35 with value: 1.876002705042577.\n",
      "[I 2023-08-03 15:50:16,565] Trial 57 finished with value: 1.9045587916693252 and parameters: {'max_depth': 20, 'learning_rate': 0.10408812173565038, 'n_estimators': 684, 'min_child_weight': 6, 'gamma': 0.07532663567492823, 'subsample': 0.9684880490570011, 'colsample_bytree': 0.8796241320415739, 'reg_alpha': 0.03868305022167549, 'reg_lambda': 0.9487767198019506, 'random_state': 941}. Best is trial 35 with value: 1.876002705042577.\n",
      "[I 2023-08-03 15:51:07,198] Trial 58 finished with value: 1.8773665642925725 and parameters: {'max_depth': 16, 'learning_rate': 0.03540809434252458, 'n_estimators': 614, 'min_child_weight': 6, 'gamma': 0.19163436237615267, 'subsample': 0.8953822350261714, 'colsample_bytree': 0.964468867489079, 'reg_alpha': 0.14454224566803858, 'reg_lambda': 0.8691038890426207, 'random_state': 586}. Best is trial 35 with value: 1.876002705042577.\n",
      "[I 2023-08-03 15:52:11,192] Trial 59 finished with value: 1.889058038744945 and parameters: {'max_depth': 16, 'learning_rate': 0.015100720080394606, 'n_estimators': 615, 'min_child_weight': 1, 'gamma': 0.1979975478373034, 'subsample': 0.9042245729455015, 'colsample_bytree': 0.9123616413050566, 'reg_alpha': 0.14270461391180694, 'reg_lambda': 0.8607166853353657, 'random_state': 576}. Best is trial 35 with value: 1.876002705042577.\n",
      "[I 2023-08-03 15:52:59,102] Trial 60 finished with value: 1.9287969881758746 and parameters: {'max_depth': 19, 'learning_rate': 0.13285697987386066, 'n_estimators': 554, 'min_child_weight': 6, 'gamma': 0.08017782524753791, 'subsample': 0.9622706925453214, 'colsample_bytree': 0.7924205109587492, 'reg_alpha': 0.1938633351229581, 'reg_lambda': 0.9119019056780829, 'random_state': 367}. Best is trial 35 with value: 1.876002705042577.\n",
      "[I 2023-08-03 15:53:51,999] Trial 61 finished with value: 1.8726622772998787 and parameters: {'max_depth': 18, 'learning_rate': 0.04351032420697919, 'n_estimators': 518, 'min_child_weight': 4, 'gamma': 0.1651174003340849, 'subsample': 0.8406362137570084, 'colsample_bytree': 0.9795521556276744, 'reg_alpha': 0.11331139236229773, 'reg_lambda': 0.8431122094953342, 'random_state': 505}. Best is trial 61 with value: 1.8726622772998787.\n",
      "[I 2023-08-03 15:54:50,504] Trial 62 finished with value: 1.902216041450447 and parameters: {'max_depth': 17, 'learning_rate': 0.09224857558210156, 'n_estimators': 607, 'min_child_weight': 4, 'gamma': 0.17102427015477306, 'subsample': 0.8087829385539894, 'colsample_bytree': 0.963360251424942, 'reg_alpha': 0.1374538489198182, 'reg_lambda': 0.9738582986131085, 'random_state': 453}. Best is trial 61 with value: 1.8726622772998787.\n",
      "[I 2023-08-03 15:55:36,521] Trial 63 finished with value: 1.8754350414151557 and parameters: {'max_depth': 16, 'learning_rate': 0.03940985519108037, 'n_estimators': 516, 'min_child_weight': 4, 'gamma': 0.23962976102021621, 'subsample': 0.8338845581082829, 'colsample_bytree': 0.9982863835534043, 'reg_alpha': 0.24121509085748855, 'reg_lambda': 0.8518274370484135, 'random_state': 680}. Best is trial 61 with value: 1.8726622772998787.\n",
      "[I 2023-08-03 15:56:25,505] Trial 64 finished with value: 1.8812415647418173 and parameters: {'max_depth': 16, 'learning_rate': 0.029677379040115748, 'n_estimators': 530, 'min_child_weight': 2, 'gamma': 0.2541756499422864, 'subsample': 0.8965234785117648, 'colsample_bytree': 0.9238686530161411, 'reg_alpha': 0.23957348472044987, 'reg_lambda': 0.842628214815377, 'random_state': 521}. Best is trial 61 with value: 1.8726622772998787.\n",
      "[I 2023-08-03 15:57:10,643] Trial 65 finished with value: 1.904776543256421 and parameters: {'max_depth': 16, 'learning_rate': 0.0924907902594162, 'n_estimators': 511, 'min_child_weight': 2, 'gamma': 0.2681647995166293, 'subsample': 0.8954197322043375, 'colsample_bytree': 0.9245748932135714, 'reg_alpha': 0.24355867393149316, 'reg_lambda': 0.8373902268070168, 'random_state': 511}. Best is trial 61 with value: 1.8726622772998787.\n",
      "[I 2023-08-03 15:57:49,352] Trial 66 finished with value: 1.908492860792594 and parameters: {'max_depth': 15, 'learning_rate': 0.016968951740165637, 'n_estimators': 456, 'min_child_weight': 3, 'gamma': 0.2443844481671499, 'subsample': 0.8377598593612137, 'colsample_bytree': 0.8647606264658165, 'reg_alpha': 0.16399106767245855, 'reg_lambda': 0.7353871018611864, 'random_state': 380}. Best is trial 61 with value: 1.8726622772998787.\n",
      "[I 2023-08-03 15:58:43,003] Trial 67 finished with value: 1.9525649410321215 and parameters: {'max_depth': 16, 'learning_rate': 0.17162332687502485, 'n_estimators': 570, 'min_child_weight': 2, 'gamma': 0.17739862432556475, 'subsample': 0.7613286889670264, 'colsample_bytree': 0.9590715603182067, 'reg_alpha': 0.1825494847848477, 'reg_lambda': 0.6850009982734157, 'random_state': 495}. Best is trial 61 with value: 1.8726622772998787.\n",
      "[I 2023-08-03 15:59:26,328] Trial 68 finished with value: 1.9052227321705957 and parameters: {'max_depth': 15, 'learning_rate': 0.11689966289553397, 'n_estimators': 531, 'min_child_weight': 1, 'gamma': 0.2089541583038588, 'subsample': 0.8957377970439541, 'colsample_bytree': 0.9011357023208577, 'reg_alpha': 0.12892016923905897, 'reg_lambda': 0.7948506638791718, 'random_state': 551}. Best is trial 61 with value: 1.8726622772998787.\n",
      "[I 2023-08-03 16:00:13,078] Trial 69 finished with value: 1.8957272974210433 and parameters: {'max_depth': 17, 'learning_rate': 0.08868270859589131, 'n_estimators': 488, 'min_child_weight': 4, 'gamma': 0.24210679030172877, 'subsample': 0.8415438761255661, 'colsample_bytree': 0.9642047009795713, 'reg_alpha': 0.26233542346131383, 'reg_lambda': 0.8549064557428279, 'random_state': 460}. Best is trial 61 with value: 1.8726622772998787.\n",
      "[I 2023-08-03 16:01:07,505] Trial 70 finished with value: 1.886737650127574 and parameters: {'max_depth': 16, 'learning_rate': 0.03905702790234576, 'n_estimators': 635, 'min_child_weight': 3, 'gamma': 0.2814716460278979, 'subsample': 0.7877802465714433, 'colsample_bytree': 0.8282517128344105, 'reg_alpha': 0.039615237080441144, 'reg_lambda': 0.8135856128690374, 'random_state': 309}. Best is trial 61 with value: 1.8726622772998787.\n",
      "[I 2023-08-03 16:02:02,310] Trial 71 finished with value: 1.8819266485995298 and parameters: {'max_depth': 17, 'learning_rate': 0.04097468187295575, 'n_estimators': 662, 'min_child_weight': 7, 'gamma': 0.153415848130328, 'subsample': 0.9336568520380247, 'colsample_bytree': 0.9281796428477466, 'reg_alpha': 0.2112797474857661, 'reg_lambda': 0.86974153351904, 'random_state': 594}. Best is trial 61 with value: 1.8726622772998787.\n",
      "[I 2023-08-03 16:02:44,863] Trial 72 finished with value: 1.9135331963283293 and parameters: {'max_depth': 15, 'learning_rate': 0.11535354770117413, 'n_estimators': 590, 'min_child_weight': 6, 'gamma': 0.19243464563573193, 'subsample': 0.9457954411326808, 'colsample_bytree': 0.9695796821080842, 'reg_alpha': 0.16196469496423668, 'reg_lambda': 0.8804529274019716, 'random_state': 509}. Best is trial 61 with value: 1.8726622772998787.\n",
      "[I 2023-08-03 16:03:43,933] Trial 73 finished with value: 1.8951826013072428 and parameters: {'max_depth': 16, 'learning_rate': 0.0868106093010779, 'n_estimators': 707, 'min_child_weight': 4, 'gamma': 0.09169971883647302, 'subsample': 0.9109585023467749, 'colsample_bytree': 0.9994801328721306, 'reg_alpha': 0.23907523191836821, 'reg_lambda': 0.8384976411268583, 'random_state': 685}. Best is trial 61 with value: 1.8726622772998787.\n",
      "[I 2023-08-03 16:04:38,187] Trial 74 finished with value: 1.889684100387796 and parameters: {'max_depth': 18, 'learning_rate': 0.042888338168876, 'n_estimators': 539, 'min_child_weight': 3, 'gamma': 0.16049316459661528, 'subsample': 0.9947741122707804, 'colsample_bytree': 0.8888942704190976, 'reg_alpha': 0.12826420053520282, 'reg_lambda': 0.9279589425110188, 'random_state': 397}. Best is trial 61 with value: 1.8726622772998787.\n",
      "[I 2023-08-03 16:05:38,864] Trial 75 finished with value: 1.9013023283368735 and parameters: {'max_depth': 17, 'learning_rate': 0.010128946435826437, 'n_estimators': 581, 'min_child_weight': 4, 'gamma': 0.048997969264049535, 'subsample': 0.8548245542197843, 'colsample_bytree': 0.9348021366692946, 'reg_alpha': 0.07275422119514369, 'reg_lambda': 0.8956481887132169, 'random_state': 545}. Best is trial 61 with value: 1.8726622772998787.\n",
      "[I 2023-08-03 16:06:36,142] Trial 76 finished with value: 1.8891608214073323 and parameters: {'max_depth': 19, 'learning_rate': 0.08179214056845585, 'n_estimators': 499, 'min_child_weight': 2, 'gamma': 0.22042824550014212, 'subsample': 0.8799924873027469, 'colsample_bytree': 0.9685800510792596, 'reg_alpha': 0.21277951422210412, 'reg_lambda': 0.9504296079398272, 'random_state': 763}. Best is trial 61 with value: 1.8726622772998787.\n",
      "[I 2023-08-03 16:07:04,979] Trial 77 finished with value: 1.939953745072828 and parameters: {'max_depth': 14, 'learning_rate': 0.1638163001303748, 'n_estimators': 449, 'min_child_weight': 5, 'gamma': 0.29676230819267435, 'subsample': 0.9496697532442859, 'colsample_bytree': 0.8604222511039237, 'reg_alpha': 0.17092732710989977, 'reg_lambda': 0.7871822214458791, 'random_state': 335}. Best is trial 61 with value: 1.8726622772998787.\n",
      "[I 2023-08-03 16:08:05,905] Trial 78 finished with value: 1.9995402266291098 and parameters: {'max_depth': 18, 'learning_rate': 0.21688502703402235, 'n_estimators': 627, 'min_child_weight': 6, 'gamma': 0.10220187572443969, 'subsample': 0.815289293345946, 'colsample_bytree': 0.9177540717818745, 'reg_alpha': 0.11532389638917276, 'reg_lambda': 0.8182352404074027, 'random_state': 634}. Best is trial 61 with value: 1.8726622772998787.\n",
      "[I 2023-08-03 16:08:55,593] Trial 79 finished with value: 1.876420079049316 and parameters: {'max_depth': 16, 'learning_rate': 0.04126923200410205, 'n_estimators': 560, 'min_child_weight': 4, 'gamma': 0.18934955560945632, 'subsample': 0.7830306984791305, 'colsample_bytree': 0.9706301375051303, 'reg_alpha': 0.3004532641876432, 'reg_lambda': 0.9707850349252818, 'random_state': 455}. Best is trial 61 with value: 1.8726622772998787.\n",
      "[I 2023-08-03 16:09:49,183] Trial 80 finished with value: 1.9329302401684216 and parameters: {'max_depth': 16, 'learning_rate': 0.12559057004553276, 'n_estimators': 559, 'min_child_weight': 3, 'gamma': 0.3606197483807199, 'subsample': 0.7382339877908474, 'colsample_bytree': 0.8943571342488857, 'reg_alpha': 0.3148282495890195, 'reg_lambda': 0.9871127864161666, 'random_state': 450}. Best is trial 61 with value: 1.8726622772998787.\n",
      "[I 2023-08-03 16:10:47,103] Trial 81 finished with value: 1.8878919747557763 and parameters: {'max_depth': 15, 'learning_rate': 0.04302608628852539, 'n_estimators': 599, 'min_child_weight': 4, 'gamma': 0.19289353583104674, 'subsample': 0.7812816717468737, 'colsample_bytree': 0.973286945701006, 'reg_alpha': 0.3687470872582438, 'reg_lambda': 0.8935567466882154, 'random_state': 587}. Best is trial 61 with value: 1.8726622772998787.\n",
      "[I 2023-08-03 16:11:53,949] Trial 82 finished with value: 1.8980083223314825 and parameters: {'max_depth': 17, 'learning_rate': 0.07423017284097833, 'n_estimators': 673, 'min_child_weight': 5, 'gamma': 0.12670424286980736, 'subsample': 0.7548385479807856, 'colsample_bytree': 0.9412683205842386, 'reg_alpha': 0.1903795368614031, 'reg_lambda': 0.9410764903254042, 'random_state': 475}. Best is trial 61 with value: 1.8726622772998787.\n",
      "[I 2023-08-03 16:12:48,425] Trial 83 finished with value: 1.873857959606135 and parameters: {'max_depth': 16, 'learning_rate': 0.035319460878929426, 'n_estimators': 531, 'min_child_weight': 4, 'gamma': 0.16668816973475412, 'subsample': 0.8675190931617314, 'colsample_bytree': 0.9769882288006196, 'reg_alpha': 0.2659455457877458, 'reg_lambda': 0.8619199628474304, 'random_state': 694}. Best is trial 61 with value: 1.8726622772998787.\n",
      "[I 2023-08-03 16:13:42,944] Trial 84 finished with value: 1.89214631276237 and parameters: {'max_depth': 16, 'learning_rate': 0.07054158534067427, 'n_estimators': 526, 'min_child_weight': 4, 'gamma': 0.159031773099024, 'subsample': 0.8545514317484423, 'colsample_bytree': 0.971471903067353, 'reg_alpha': 0.27157576722589283, 'reg_lambda': 0.8468311529039089, 'random_state': 700}. Best is trial 61 with value: 1.8726622772998787.\n",
      "[I 2023-08-03 16:14:30,092] Trial 85 finished with value: 1.915377748659659 and parameters: {'max_depth': 16, 'learning_rate': 0.010621200489498862, 'n_estimators': 470, 'min_child_weight': 4, 'gamma': 0.2395035020664149, 'subsample': 0.8217661639071424, 'colsample_bytree': 0.9305468769275761, 'reg_alpha': 0.29825447818070444, 'reg_lambda': 0.9709090839833446, 'random_state': 407}. Best is trial 61 with value: 1.8726622772998787.\n",
      "[I 2023-08-03 16:14:57,496] Trial 86 finished with value: 1.917788935866511 and parameters: {'max_depth': 15, 'learning_rate': 0.11041216326028773, 'n_estimators': 351, 'min_child_weight': 3, 'gamma': 0.20475478061600266, 'subsample': 0.7884852844054193, 'colsample_bytree': 0.8773220841935163, 'reg_alpha': 0.0809286108712231, 'reg_lambda': 0.9143379549061577, 'random_state': 841}. Best is trial 61 with value: 1.8726622772998787.\n",
      "[I 2023-08-03 16:15:41,580] Trial 87 finished with value: 1.8925053753967809 and parameters: {'max_depth': 17, 'learning_rate': 0.03478473314971803, 'n_estimators': 494, 'min_child_weight': 5, 'gamma': 0.1792728726178716, 'subsample': 0.7048979758344245, 'colsample_bytree': 0.8159901297484222, 'reg_alpha': 0.34502392138054083, 'reg_lambda': 0.772869347535128, 'random_state': 388}. Best is trial 61 with value: 1.8726622772998787.\n",
      "[I 2023-08-03 16:16:18,972] Trial 88 finished with value: 1.9262863460080528 and parameters: {'max_depth': 16, 'learning_rate': 0.15521080072249713, 'n_estimators': 424, 'min_child_weight': 4, 'gamma': 0.2284650427335868, 'subsample': 0.8834868905403686, 'colsample_bytree': 0.9742543908648429, 'reg_alpha': 0.24336556704340867, 'reg_lambda': 0.8233891297287133, 'random_state': 429}. Best is trial 61 with value: 1.8726622772998787.\n",
      "[I 2023-08-03 16:17:05,565] Trial 89 finished with value: 1.9033059777365822 and parameters: {'max_depth': 16, 'learning_rate': 0.08241526011538944, 'n_estimators': 539, 'min_child_weight': 4, 'gamma': 0.2562523996186806, 'subsample': 0.8513070784225979, 'colsample_bytree': 0.9034340201408468, 'reg_alpha': 0.4402037156117634, 'reg_lambda': 0.8628947622307517, 'random_state': 523}. Best is trial 61 with value: 1.8726622772998787.\n",
      "[I 2023-08-03 16:17:57,335] Trial 90 finished with value: 1.8756250444636724 and parameters: {'max_depth': 17, 'learning_rate': 0.054230304805703844, 'n_estimators': 571, 'min_child_weight': 5, 'gamma': 0.12931530510411335, 'subsample': 0.911672390192291, 'colsample_bytree': 0.9484649759446558, 'reg_alpha': 0.05970220149653922, 'reg_lambda': 0.9336314907911686, 'random_state': 348}. Best is trial 61 with value: 1.8726622772998787.\n",
      "[I 2023-08-03 16:18:49,653] Trial 91 finished with value: 1.8812503549408193 and parameters: {'max_depth': 17, 'learning_rate': 0.05568726597526531, 'n_estimators': 569, 'min_child_weight': 5, 'gamma': 0.12412036893165054, 'subsample': 0.9194201715376425, 'colsample_bytree': 0.9473795830138373, 'reg_alpha': 0.062209075136912546, 'reg_lambda': 0.9408913788696336, 'random_state': 357}. Best is trial 61 with value: 1.8726622772998787.\n",
      "[I 2023-08-03 16:19:42,014] Trial 92 finished with value: 1.8729912244828657 and parameters: {'max_depth': 18, 'learning_rate': 0.03382209806294252, 'n_estimators': 519, 'min_child_weight': 5, 'gamma': 0.14004980820828386, 'subsample': 0.8303350707856028, 'colsample_bytree': 0.9726618058408514, 'reg_alpha': 0.02371466084595604, 'reg_lambda': 0.9986879839922955, 'random_state': 320}. Best is trial 61 with value: 1.8726622772998787.\n",
      "[I 2023-08-03 16:20:50,243] Trial 93 finished with value: 1.8885446498399447 and parameters: {'max_depth': 18, 'learning_rate': 0.060842706618252876, 'n_estimators': 647, 'min_child_weight': 5, 'gamma': 0.13643322200413036, 'subsample': 0.8031774911486298, 'colsample_bytree': 0.9996009479495357, 'reg_alpha': 0.024563679175660554, 'reg_lambda': 0.9245074421560935, 'random_state': 230}. Best is trial 61 with value: 1.8726622772998787.\n",
      "[I 2023-08-03 16:21:50,608] Trial 94 finished with value: 1.922625682290113 and parameters: {'max_depth': 18, 'learning_rate': 0.12268622253310718, 'n_estimators': 614, 'min_child_weight': 5, 'gamma': 0.16342717248555724, 'subsample': 0.8286644747488721, 'colsample_bytree': 0.9752545873916129, 'reg_alpha': 0.05296629392275822, 'reg_lambda': 0.9995457133033648, 'random_state': 320}. Best is trial 61 with value: 1.8726622772998787.\n",
      "[I 2023-08-03 16:22:45,617] Trial 95 finished with value: 1.9028374385560243 and parameters: {'max_depth': 18, 'learning_rate': 0.09364797036949087, 'n_estimators': 513, 'min_child_weight': 4, 'gamma': 0.09953170093905649, 'subsample': 0.7504274055187982, 'colsample_bytree': 0.9475383856127324, 'reg_alpha': 0.023367026279208905, 'reg_lambda': 0.9777764688010533, 'random_state': 261}. Best is trial 61 with value: 1.8726622772998787.\n",
      "[I 2023-08-03 16:23:25,128] Trial 96 finished with value: 1.889542431418448 and parameters: {'max_depth': 17, 'learning_rate': 0.033958159130410184, 'n_estimators': 429, 'min_child_weight': 5, 'gamma': 0.18527293245650583, 'subsample': 0.8767014186302052, 'colsample_bytree': 0.9106117544846748, 'reg_alpha': 0.09126142166831736, 'reg_lambda': 0.9669869016006587, 'random_state': 362}. Best is trial 61 with value: 1.8726622772998787.\n",
      "[I 2023-08-03 16:24:20,319] Trial 97 finished with value: 1.9454967742455926 and parameters: {'max_depth': 17, 'learning_rate': 0.1471289376654019, 'n_estimators': 589, 'min_child_weight': 5, 'gamma': 0.2101071755001208, 'subsample': 0.793490903126196, 'colsample_bytree': 0.8542685764832993, 'reg_alpha': 0.10448301206393912, 'reg_lambda': 0.9022396414026325, 'random_state': 296}. Best is trial 61 with value: 1.8726622772998787.\n",
      "[I 2023-08-03 16:25:26,380] Trial 98 finished with value: 1.945444806913085 and parameters: {'max_depth': 18, 'learning_rate': 0.18335303050835142, 'n_estimators': 468, 'min_child_weight': 4, 'gamma': 0.12803704717527073, 'subsample': 0.855705194482508, 'colsample_bytree': 0.9541122067284652, 'reg_alpha': 0.04756901175390029, 'reg_lambda': 0.9559129492278614, 'random_state': 727}. Best is trial 61 with value: 1.8726622772998787.\n",
      "[I 2023-08-03 16:26:24,473] Trial 99 finished with value: 1.8928198591589325 and parameters: {'max_depth': 17, 'learning_rate': 0.0739550649959715, 'n_estimators': 555, 'min_child_weight': 5, 'gamma': 0.13864962259671432, 'subsample': 0.8337229975680044, 'colsample_bytree': 0.9777180205031075, 'reg_alpha': 0.013420125788697057, 'reg_lambda': 0.8741670989886408, 'random_state': 457}. Best is trial 61 with value: 1.8726622772998787.\n"
     ]
    }
   ],
   "source": [
    "# Create the study\n",
    "study = optuna.create_study(direction='minimize', study_name='regression')\n",
    "study.optimize(objective, n_trials=100)"
   ]
  },
  {
   "cell_type": "code",
   "execution_count": 170,
   "metadata": {
    "tags": []
   },
   "outputs": [
    {
     "name": "stdout",
     "output_type": "stream",
     "text": [
      "Best parameters {'max_depth': 18, 'learning_rate': 0.04351032420697919, 'n_estimators': 518, 'min_child_weight': 4, 'gamma': 0.1651174003340849, 'subsample': 0.8406362137570084, 'colsample_bytree': 0.9795521556276744, 'reg_alpha': 0.11331139236229773, 'reg_lambda': 0.8431122094953342, 'random_state': 505}\n"
     ]
    }
   ],
   "source": [
    "print('Best parameters', study.best_params)"
   ]
  },
  {
   "cell_type": "code",
   "execution_count": 171,
   "metadata": {
    "tags": []
   },
   "outputs": [],
   "source": [
    "model = XGBRegressor(max_depth= 18, \n",
    "                     learning_rate= 0.04351032420697919, \n",
    "                     n_estimators=518, \n",
    "                     min_child_weight= 4, \n",
    "                     gamma= 0.1651174003340849, \n",
    "                     subsample= 0.8406362137570084, \n",
    "                     colsample_bytree= 0.9795521556276744, \n",
    "                     reg_alpha=0.11331139236229773, \n",
    "                     reg_lambda=0.8431122094953342, \n",
    "                     random_state=505)\n",
    "model.fit(X_train_scaled, y_train)\n",
    "y_pred_XGBR = model.predict(X_test_scaled)\n",
    "y_pred_train = model.predict(X_train_scaled)"
   ]
  },
  {
   "cell_type": "code",
   "execution_count": 172,
   "metadata": {
    "tags": []
   },
   "outputs": [
    {
     "name": "stdout",
     "output_type": "stream",
     "text": [
      "Results for train data\n",
      "XGB Regressor R2 score: 0.99\n",
      "XGB Regressor MAE score: 0.31\n"
     ]
    }
   ],
   "source": [
    "print('Results for train data')\n",
    "print('XGB Regressor R2 score: '+ str(round(r2_score(y_train,y_pred_train),2)))\n",
    "print('XGB Regressor MAE score: '+ str(round(mae(y_train, y_pred_train),2)))"
   ]
  },
  {
   "cell_type": "code",
   "execution_count": 173,
   "metadata": {
    "tags": []
   },
   "outputs": [
    {
     "name": "stdout",
     "output_type": "stream",
     "text": [
      "Results for test data\n",
      "XGB Regressor R2 score: 0.65\n",
      "XGB Regressor MAE score: 1.87\n"
     ]
    }
   ],
   "source": [
    "print('Results for test data')\n",
    "print('XGB Regressor R2 score: '+ str(round(r2_score(y_test, y_pred_XGBR),2)))\n",
    "print('XGB Regressor MAE score: '+ str(round(mae(y_test,y_pred_XGBR),2)))"
   ]
  },
  {
   "cell_type": "code",
   "execution_count": 124,
   "metadata": {
    "colab": {
     "base_uri": "https://localhost:8080/"
    },
    "id": "A7fs0F25c5Pa",
    "outputId": "82c9d8aa-4b16-4433-e7ce-d35a8ee54c8e"
   },
   "outputs": [],
   "source": [
    "#reg = LazyRegressor(verbose=0,ignore_warnings=False, custom_metric=None )\n",
    "#models,predictions = reg.fit(X_train_scaled, X_test_scaled, y_train, y_test)"
   ]
  },
  {
   "cell_type": "code",
   "execution_count": null,
   "metadata": {
    "id": "NKkfbG5Lc5S8",
    "tags": []
   },
   "outputs": [],
   "source": [
    "models"
   ]
  }
 ],
 "metadata": {
  "colab": {
   "provenance": []
  },
  "kernelspec": {
   "display_name": "Python 3 (ipykernel)",
   "language": "python",
   "name": "python3"
  },
  "language_info": {
   "codemirror_mode": {
    "name": "ipython",
    "version": 3
   },
   "file_extension": ".py",
   "mimetype": "text/x-python",
   "name": "python",
   "nbconvert_exporter": "python",
   "pygments_lexer": "ipython3",
   "version": "3.10.9"
  }
 },
 "nbformat": 4,
 "nbformat_minor": 4
}
