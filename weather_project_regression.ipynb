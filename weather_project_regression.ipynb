{
 "cells": [
  {
   "cell_type": "markdown",
   "metadata": {
    "id": "d1dmuRSonNr-",
    "tags": []
   },
   "source": [
    "# The goal of this project is to predict visibility based on weather variables using regression algorithms.\n",
    "The dataset used for this project is sourced from Kaggle, specifically from the \"Szeged Weather\" dataset by budincsevity. The dataset contains historical weather information for the city of Szeged, Hungary.\n",
    "\n",
    "The project utilizes machine learning algorithms to build a regression model that can predict Visibility (km). The dataset consists of various features like temperature, humidity, wind speed, wind bearing, visibility, summary, and precipitation. These features will be used to train and test the regression models."
   ]
  },
  {
   "cell_type": "markdown",
   "metadata": {
    "tags": []
   },
   "source": [
    "# Installing libraries"
   ]
  },
  {
   "cell_type": "code",
   "execution_count": 1,
   "metadata": {
    "colab": {
     "base_uri": "https://localhost:8080/"
    },
    "id": "k3HVFUuSNW8-",
    "outputId": "3a5f1afd-56fa-4a5e-a808-b370b747d34f"
   },
   "outputs": [
    {
     "name": "stdout",
     "output_type": "stream",
     "text": [
      "Requirement already satisfied: lazypredict in c:\\users\\npawl\\anaconda3\\lib\\site-packages (0.2.12)\n",
      "Requirement already satisfied: scikit-learn in c:\\users\\npawl\\anaconda3\\lib\\site-packages (from lazypredict) (1.3.0)\n",
      "Requirement already satisfied: joblib in c:\\users\\npawl\\anaconda3\\lib\\site-packages (from lazypredict) (1.1.1)\n",
      "Requirement already satisfied: lightgbm in c:\\users\\npawl\\anaconda3\\lib\\site-packages (from lazypredict) (4.0.0)\n",
      "Requirement already satisfied: xgboost in c:\\users\\npawl\\anaconda3\\lib\\site-packages (from lazypredict) (1.7.6)\n",
      "Requirement already satisfied: pandas in c:\\users\\npawl\\anaconda3\\lib\\site-packages (from lazypredict) (1.5.3)\n",
      "Requirement already satisfied: tqdm in c:\\users\\npawl\\anaconda3\\lib\\site-packages (from lazypredict) (4.64.1)\n",
      "Requirement already satisfied: click in c:\\users\\npawl\\anaconda3\\lib\\site-packages (from lazypredict) (8.0.4)\n",
      "Requirement already satisfied: colorama in c:\\users\\npawl\\anaconda3\\lib\\site-packages (from click->lazypredict) (0.4.6)\n",
      "Requirement already satisfied: numpy in c:\\users\\npawl\\anaconda3\\lib\\site-packages (from lightgbm->lazypredict) (1.23.5)\n",
      "Requirement already satisfied: scipy in c:\\users\\npawl\\anaconda3\\lib\\site-packages (from lightgbm->lazypredict) (1.10.0)\n",
      "Requirement already satisfied: python-dateutil>=2.8.1 in c:\\users\\npawl\\anaconda3\\lib\\site-packages (from pandas->lazypredict) (2.8.2)\n",
      "Requirement already satisfied: pytz>=2020.1 in c:\\users\\npawl\\anaconda3\\lib\\site-packages (from pandas->lazypredict) (2022.7)\n",
      "Requirement already satisfied: threadpoolctl>=2.0.0 in c:\\users\\npawl\\anaconda3\\lib\\site-packages (from scikit-learn->lazypredict) (2.2.0)\n",
      "Requirement already satisfied: six>=1.5 in c:\\users\\npawl\\anaconda3\\lib\\site-packages (from python-dateutil>=2.8.1->pandas->lazypredict) (1.16.0)\n",
      "Requirement already satisfied: optuna in c:\\users\\npawl\\anaconda3\\lib\\site-packages (3.2.0)\n",
      "Requirement already satisfied: alembic>=1.5.0 in c:\\users\\npawl\\anaconda3\\lib\\site-packages (from optuna) (1.11.1)\n",
      "Requirement already satisfied: tqdm in c:\\users\\npawl\\anaconda3\\lib\\site-packages (from optuna) (4.64.1)\n",
      "Requirement already satisfied: colorlog in c:\\users\\npawl\\anaconda3\\lib\\site-packages (from optuna) (6.7.0)\n",
      "Requirement already satisfied: PyYAML in c:\\users\\npawl\\anaconda3\\lib\\site-packages (from optuna) (6.0)\n",
      "Requirement already satisfied: packaging>=20.0 in c:\\users\\npawl\\anaconda3\\lib\\site-packages (from optuna) (22.0)\n",
      "Requirement already satisfied: numpy in c:\\users\\npawl\\anaconda3\\lib\\site-packages (from optuna) (1.23.5)\n",
      "Requirement already satisfied: cmaes>=0.9.1 in c:\\users\\npawl\\anaconda3\\lib\\site-packages (from optuna) (0.10.0)\n",
      "Requirement already satisfied: sqlalchemy>=1.3.0 in c:\\users\\npawl\\anaconda3\\lib\\site-packages (from optuna) (1.4.39)\n",
      "Requirement already satisfied: typing-extensions>=4 in c:\\users\\npawl\\anaconda3\\lib\\site-packages (from alembic>=1.5.0->optuna) (4.4.0)\n",
      "Requirement already satisfied: Mako in c:\\users\\npawl\\anaconda3\\lib\\site-packages (from alembic>=1.5.0->optuna) (1.2.4)\n",
      "Requirement already satisfied: greenlet!=0.4.17 in c:\\users\\npawl\\anaconda3\\lib\\site-packages (from sqlalchemy>=1.3.0->optuna) (2.0.1)\n",
      "Requirement already satisfied: colorama in c:\\users\\npawl\\anaconda3\\lib\\site-packages (from colorlog->optuna) (0.4.6)\n",
      "Requirement already satisfied: MarkupSafe>=0.9.2 in c:\\users\\npawl\\anaconda3\\lib\\site-packages (from Mako->alembic>=1.5.0->optuna) (2.1.1)\n",
      "Requirement already satisfied: xgboost in c:\\users\\npawl\\anaconda3\\lib\\site-packages (1.7.6)\n",
      "Requirement already satisfied: scipy in c:\\users\\npawl\\anaconda3\\lib\\site-packages (from xgboost) (1.10.0)\n",
      "Requirement already satisfied: numpy in c:\\users\\npawl\\anaconda3\\lib\\site-packages (from xgboost) (1.23.5)\n",
      "Requirement already satisfied: tensorflow in c:\\users\\npawl\\anaconda3\\lib\\site-packages (2.13.0)\n",
      "Requirement already satisfied: tensorflow-intel==2.13.0 in c:\\users\\npawl\\anaconda3\\lib\\site-packages (from tensorflow) (2.13.0)\n",
      "Requirement already satisfied: tensorboard<2.14,>=2.13 in c:\\users\\npawl\\anaconda3\\lib\\site-packages (from tensorflow-intel==2.13.0->tensorflow) (2.13.0)\n",
      "Requirement already satisfied: typing-extensions<4.6.0,>=3.6.6 in c:\\users\\npawl\\anaconda3\\lib\\site-packages (from tensorflow-intel==2.13.0->tensorflow) (4.4.0)\n",
      "Requirement already satisfied: grpcio<2.0,>=1.24.3 in c:\\users\\npawl\\anaconda3\\lib\\site-packages (from tensorflow-intel==2.13.0->tensorflow) (1.57.0)\n",
      "Requirement already satisfied: packaging in c:\\users\\npawl\\anaconda3\\lib\\site-packages (from tensorflow-intel==2.13.0->tensorflow) (22.0)\n",
      "Requirement already satisfied: six>=1.12.0 in c:\\users\\npawl\\anaconda3\\lib\\site-packages (from tensorflow-intel==2.13.0->tensorflow) (1.16.0)\n",
      "Requirement already satisfied: wrapt>=1.11.0 in c:\\users\\npawl\\anaconda3\\lib\\site-packages (from tensorflow-intel==2.13.0->tensorflow) (1.14.1)\n",
      "Requirement already satisfied: h5py>=2.9.0 in c:\\users\\npawl\\anaconda3\\lib\\site-packages (from tensorflow-intel==2.13.0->tensorflow) (3.7.0)\n",
      "Requirement already satisfied: setuptools in c:\\users\\npawl\\anaconda3\\lib\\site-packages (from tensorflow-intel==2.13.0->tensorflow) (65.6.3)\n",
      "Requirement already satisfied: libclang>=13.0.0 in c:\\users\\npawl\\anaconda3\\lib\\site-packages (from tensorflow-intel==2.13.0->tensorflow) (16.0.6)\n",
      "Requirement already satisfied: numpy<=1.24.3,>=1.22 in c:\\users\\npawl\\anaconda3\\lib\\site-packages (from tensorflow-intel==2.13.0->tensorflow) (1.23.5)\n",
      "Requirement already satisfied: termcolor>=1.1.0 in c:\\users\\npawl\\anaconda3\\lib\\site-packages (from tensorflow-intel==2.13.0->tensorflow) (2.3.0)\n",
      "Requirement already satisfied: absl-py>=1.0.0 in c:\\users\\npawl\\anaconda3\\lib\\site-packages (from tensorflow-intel==2.13.0->tensorflow) (1.4.0)\n",
      "Requirement already satisfied: flatbuffers>=23.1.21 in c:\\users\\npawl\\anaconda3\\lib\\site-packages (from tensorflow-intel==2.13.0->tensorflow) (23.5.26)\n",
      "Requirement already satisfied: gast<=0.4.0,>=0.2.1 in c:\\users\\npawl\\anaconda3\\lib\\site-packages (from tensorflow-intel==2.13.0->tensorflow) (0.4.0)\n",
      "Requirement already satisfied: keras<2.14,>=2.13.1 in c:\\users\\npawl\\anaconda3\\lib\\site-packages (from tensorflow-intel==2.13.0->tensorflow) (2.13.1)\n",
      "Requirement already satisfied: protobuf!=4.21.0,!=4.21.1,!=4.21.2,!=4.21.3,!=4.21.4,!=4.21.5,<5.0.0dev,>=3.20.3 in c:\\users\\npawl\\anaconda3\\lib\\site-packages (from tensorflow-intel==2.13.0->tensorflow) (4.24.0)\n",
      "Requirement already satisfied: astunparse>=1.6.0 in c:\\users\\npawl\\anaconda3\\lib\\site-packages (from tensorflow-intel==2.13.0->tensorflow) (1.6.3)\n",
      "Requirement already satisfied: google-pasta>=0.1.1 in c:\\users\\npawl\\anaconda3\\lib\\site-packages (from tensorflow-intel==2.13.0->tensorflow) (0.2.0)\n",
      "Requirement already satisfied: tensorflow-estimator<2.14,>=2.13.0 in c:\\users\\npawl\\anaconda3\\lib\\site-packages (from tensorflow-intel==2.13.0->tensorflow) (2.13.0)\n",
      "Requirement already satisfied: opt-einsum>=2.3.2 in c:\\users\\npawl\\anaconda3\\lib\\site-packages (from tensorflow-intel==2.13.0->tensorflow) (3.3.0)\n",
      "Requirement already satisfied: tensorflow-io-gcs-filesystem>=0.23.1 in c:\\users\\npawl\\anaconda3\\lib\\site-packages (from tensorflow-intel==2.13.0->tensorflow) (0.31.0)\n",
      "Requirement already satisfied: wheel<1.0,>=0.23.0 in c:\\users\\npawl\\anaconda3\\lib\\site-packages (from astunparse>=1.6.0->tensorflow-intel==2.13.0->tensorflow) (0.38.4)\n",
      "Requirement already satisfied: tensorboard-data-server<0.8.0,>=0.7.0 in c:\\users\\npawl\\anaconda3\\lib\\site-packages (from tensorboard<2.14,>=2.13->tensorflow-intel==2.13.0->tensorflow) (0.7.1)\n",
      "Requirement already satisfied: google-auth-oauthlib<1.1,>=0.5 in c:\\users\\npawl\\anaconda3\\lib\\site-packages (from tensorboard<2.14,>=2.13->tensorflow-intel==2.13.0->tensorflow) (1.0.0)\n",
      "Requirement already satisfied: markdown>=2.6.8 in c:\\users\\npawl\\anaconda3\\lib\\site-packages (from tensorboard<2.14,>=2.13->tensorflow-intel==2.13.0->tensorflow) (3.4.1)\n",
      "Requirement already satisfied: requests<3,>=2.21.0 in c:\\users\\npawl\\anaconda3\\lib\\site-packages (from tensorboard<2.14,>=2.13->tensorflow-intel==2.13.0->tensorflow) (2.28.1)\n",
      "Requirement already satisfied: werkzeug>=1.0.1 in c:\\users\\npawl\\anaconda3\\lib\\site-packages (from tensorboard<2.14,>=2.13->tensorflow-intel==2.13.0->tensorflow) (2.2.2)\n",
      "Requirement already satisfied: google-auth<3,>=1.6.3 in c:\\users\\npawl\\anaconda3\\lib\\site-packages (from tensorboard<2.14,>=2.13->tensorflow-intel==2.13.0->tensorflow) (2.22.0)\n",
      "Requirement already satisfied: urllib3<2.0 in c:\\users\\npawl\\anaconda3\\lib\\site-packages (from google-auth<3,>=1.6.3->tensorboard<2.14,>=2.13->tensorflow-intel==2.13.0->tensorflow) (1.26.14)\n",
      "Requirement already satisfied: rsa<5,>=3.1.4 in c:\\users\\npawl\\anaconda3\\lib\\site-packages (from google-auth<3,>=1.6.3->tensorboard<2.14,>=2.13->tensorflow-intel==2.13.0->tensorflow) (4.9)\n",
      "Requirement already satisfied: pyasn1-modules>=0.2.1 in c:\\users\\npawl\\anaconda3\\lib\\site-packages (from google-auth<3,>=1.6.3->tensorboard<2.14,>=2.13->tensorflow-intel==2.13.0->tensorflow) (0.2.8)\n",
      "Requirement already satisfied: cachetools<6.0,>=2.0.0 in c:\\users\\npawl\\anaconda3\\lib\\site-packages (from google-auth<3,>=1.6.3->tensorboard<2.14,>=2.13->tensorflow-intel==2.13.0->tensorflow) (5.3.1)\n",
      "Requirement already satisfied: requests-oauthlib>=0.7.0 in c:\\users\\npawl\\anaconda3\\lib\\site-packages (from google-auth-oauthlib<1.1,>=0.5->tensorboard<2.14,>=2.13->tensorflow-intel==2.13.0->tensorflow) (1.3.1)\n",
      "Requirement already satisfied: charset-normalizer<3,>=2 in c:\\users\\npawl\\anaconda3\\lib\\site-packages (from requests<3,>=2.21.0->tensorboard<2.14,>=2.13->tensorflow-intel==2.13.0->tensorflow) (2.0.4)\n",
      "Requirement already satisfied: certifi>=2017.4.17 in c:\\users\\npawl\\anaconda3\\lib\\site-packages (from requests<3,>=2.21.0->tensorboard<2.14,>=2.13->tensorflow-intel==2.13.0->tensorflow) (2023.5.7)\n",
      "Requirement already satisfied: idna<4,>=2.5 in c:\\users\\npawl\\anaconda3\\lib\\site-packages (from requests<3,>=2.21.0->tensorboard<2.14,>=2.13->tensorflow-intel==2.13.0->tensorflow) (3.4)\n",
      "Requirement already satisfied: MarkupSafe>=2.1.1 in c:\\users\\npawl\\anaconda3\\lib\\site-packages (from werkzeug>=1.0.1->tensorboard<2.14,>=2.13->tensorflow-intel==2.13.0->tensorflow) (2.1.1)\n",
      "Requirement already satisfied: pyasn1<0.5.0,>=0.4.6 in c:\\users\\npawl\\anaconda3\\lib\\site-packages (from pyasn1-modules>=0.2.1->google-auth<3,>=1.6.3->tensorboard<2.14,>=2.13->tensorflow-intel==2.13.0->tensorflow) (0.4.8)\n",
      "Requirement already satisfied: oauthlib>=3.0.0 in c:\\users\\npawl\\anaconda3\\lib\\site-packages (from requests-oauthlib>=0.7.0->google-auth-oauthlib<1.1,>=0.5->tensorboard<2.14,>=2.13->tensorflow-intel==2.13.0->tensorflow) (3.2.2)\n"
     ]
    }
   ],
   "source": [
    "!pip install lazypredict\n",
    "# tool for automating the selection and evaluation of multiple machine learning models.\n",
    "!pip3 install optuna \n",
    "# framework for automatic hyperparameter tuning in machine learning models.\n",
    "!pip3 install xgboost \n",
    "# algorithm based on gradient boosting of decision trees."
   ]
  },
  {
   "cell_type": "markdown",
   "metadata": {
    "id": "6PYZoSD3y_SA"
   },
   "source": [
    "# Importing Libraries"
   ]
  },
  {
   "cell_type": "code",
   "execution_count": 83,
   "metadata": {
    "id": "xDYVH4OWEtOT"
   },
   "outputs": [],
   "source": [
    "import pandas as pd\n",
    "import numpy as np\n",
    "import matplotlib.pyplot as plt\n",
    "\n",
    "import io\n",
    "import seaborn as sns\n",
    "import tensorflow as tf\n",
    "\n",
    "from sklearn.model_selection import train_test_split\n",
    "from sklearn.preprocessing import StandardScaler\n",
    "from sklearn.preprocessing import OneHotEncoder\n",
    "from sklearn.linear_model import LinearRegression\n",
    "from sklearn.preprocessing import PolynomialFeatures\n",
    "from sklearn.linear_model import LinearRegression\n",
    "from sklearn.metrics import mean_squared_error as mse\n",
    "from sklearn.metrics import mean_absolute_error as mae\n",
    "from sklearn.metrics import r2_score\n",
    "\n",
    "from sklearn.svm import SVR\n",
    "from xgboost import XGBRegressor\n",
    "from sklearn.linear_model import Ridge\n",
    "from sklearn.linear_model import ElasticNet\n",
    "from sklearn.linear_model import SGDRegressor\n",
    "from sklearn.linear_model import LinearRegression\n",
    "from sklearn.ensemble import RandomForestRegressor\n",
    "from sklearn.model_selection import GridSearchCV\n",
    "from sklearn.tree import DecisionTreeRegressor\n",
    "from sklearn import tree\n",
    "from lazypredict.Supervised import LazyRegressor\n",
    "from sklearn import datasets\n",
    "from sklearn.utils import shuffle\n",
    "from sklearn.model_selection import RandomizedSearchCV\n",
    "import xgboost\n",
    "import optuna\n",
    "from sklearn.model_selection import cross_val_score, cross_val_predict"
   ]
  },
  {
   "cell_type": "markdown",
   "metadata": {
    "id": "JayNS9-2zOL-"
   },
   "source": [
    "# Loading Dataset"
   ]
  },
  {
   "cell_type": "code",
   "execution_count": 3,
   "metadata": {
    "id": "OeK1D9R3FUJ4"
   },
   "outputs": [],
   "source": [
    "# defining a data frame\n",
    "df = pd.read_csv(\"C:/Users/npawl/Downloads/weatherHistory/weatherHistory.csv\",index_col=False) \n",
    "# Read a comma-separated values (csv) file into DataFrame."
   ]
  },
  {
   "cell_type": "markdown",
   "metadata": {
    "id": "073yh15fXNbJ"
   },
   "source": [
    "# Exploratory Data Analysis (EDA)\n",
    "\n",
    "\n",
    "\n"
   ]
  },
  {
   "cell_type": "code",
   "execution_count": 4,
   "metadata": {
    "colab": {
     "base_uri": "https://localhost:8080/",
     "height": 206
    },
    "id": "yJ4kfbnSGEfm",
    "outputId": "e88cbf4a-6faa-4dc7-8e68-9bc6a793c97f"
   },
   "outputs": [
    {
     "data": {
      "text/html": [
       "<div>\n",
       "<style scoped>\n",
       "    .dataframe tbody tr th:only-of-type {\n",
       "        vertical-align: middle;\n",
       "    }\n",
       "\n",
       "    .dataframe tbody tr th {\n",
       "        vertical-align: top;\n",
       "    }\n",
       "\n",
       "    .dataframe thead th {\n",
       "        text-align: right;\n",
       "    }\n",
       "</style>\n",
       "<table border=\"1\" class=\"dataframe\">\n",
       "  <thead>\n",
       "    <tr style=\"text-align: right;\">\n",
       "      <th></th>\n",
       "      <th>Formatted Date</th>\n",
       "      <th>Summary</th>\n",
       "      <th>Precip Type</th>\n",
       "      <th>Temperature (C)</th>\n",
       "      <th>Apparent Temperature (C)</th>\n",
       "      <th>Humidity</th>\n",
       "      <th>Wind Speed (km/h)</th>\n",
       "      <th>Wind Bearing (degrees)</th>\n",
       "      <th>Visibility (km)</th>\n",
       "      <th>Loud Cover</th>\n",
       "      <th>Pressure (millibars)</th>\n",
       "      <th>Daily Summary</th>\n",
       "    </tr>\n",
       "  </thead>\n",
       "  <tbody>\n",
       "    <tr>\n",
       "      <th>0</th>\n",
       "      <td>2006-04-01 00:00:00.000 +0200</td>\n",
       "      <td>Partly Cloudy</td>\n",
       "      <td>rain</td>\n",
       "      <td>9.47</td>\n",
       "      <td>7.39</td>\n",
       "      <td>0.89</td>\n",
       "      <td>14.12</td>\n",
       "      <td>251.00</td>\n",
       "      <td>15.83</td>\n",
       "      <td>0.00</td>\n",
       "      <td>1015.13</td>\n",
       "      <td>Partly cloudy throughout the day.</td>\n",
       "    </tr>\n",
       "    <tr>\n",
       "      <th>1</th>\n",
       "      <td>2006-04-01 01:00:00.000 +0200</td>\n",
       "      <td>Partly Cloudy</td>\n",
       "      <td>rain</td>\n",
       "      <td>9.36</td>\n",
       "      <td>7.23</td>\n",
       "      <td>0.86</td>\n",
       "      <td>14.26</td>\n",
       "      <td>259.00</td>\n",
       "      <td>15.83</td>\n",
       "      <td>0.00</td>\n",
       "      <td>1015.63</td>\n",
       "      <td>Partly cloudy throughout the day.</td>\n",
       "    </tr>\n",
       "    <tr>\n",
       "      <th>2</th>\n",
       "      <td>2006-04-01 02:00:00.000 +0200</td>\n",
       "      <td>Mostly Cloudy</td>\n",
       "      <td>rain</td>\n",
       "      <td>9.38</td>\n",
       "      <td>9.38</td>\n",
       "      <td>0.89</td>\n",
       "      <td>3.93</td>\n",
       "      <td>204.00</td>\n",
       "      <td>14.96</td>\n",
       "      <td>0.00</td>\n",
       "      <td>1015.94</td>\n",
       "      <td>Partly cloudy throughout the day.</td>\n",
       "    </tr>\n",
       "    <tr>\n",
       "      <th>3</th>\n",
       "      <td>2006-04-01 03:00:00.000 +0200</td>\n",
       "      <td>Partly Cloudy</td>\n",
       "      <td>rain</td>\n",
       "      <td>8.29</td>\n",
       "      <td>5.94</td>\n",
       "      <td>0.83</td>\n",
       "      <td>14.10</td>\n",
       "      <td>269.00</td>\n",
       "      <td>15.83</td>\n",
       "      <td>0.00</td>\n",
       "      <td>1016.41</td>\n",
       "      <td>Partly cloudy throughout the day.</td>\n",
       "    </tr>\n",
       "    <tr>\n",
       "      <th>4</th>\n",
       "      <td>2006-04-01 04:00:00.000 +0200</td>\n",
       "      <td>Mostly Cloudy</td>\n",
       "      <td>rain</td>\n",
       "      <td>8.76</td>\n",
       "      <td>6.98</td>\n",
       "      <td>0.83</td>\n",
       "      <td>11.04</td>\n",
       "      <td>259.00</td>\n",
       "      <td>15.83</td>\n",
       "      <td>0.00</td>\n",
       "      <td>1016.51</td>\n",
       "      <td>Partly cloudy throughout the day.</td>\n",
       "    </tr>\n",
       "  </tbody>\n",
       "</table>\n",
       "</div>"
      ],
      "text/plain": [
       "                  Formatted Date        Summary Precip Type  Temperature (C)  \\\n",
       "0  2006-04-01 00:00:00.000 +0200  Partly Cloudy        rain             9.47   \n",
       "1  2006-04-01 01:00:00.000 +0200  Partly Cloudy        rain             9.36   \n",
       "2  2006-04-01 02:00:00.000 +0200  Mostly Cloudy        rain             9.38   \n",
       "3  2006-04-01 03:00:00.000 +0200  Partly Cloudy        rain             8.29   \n",
       "4  2006-04-01 04:00:00.000 +0200  Mostly Cloudy        rain             8.76   \n",
       "\n",
       "   Apparent Temperature (C)  Humidity  Wind Speed (km/h)  \\\n",
       "0                      7.39      0.89              14.12   \n",
       "1                      7.23      0.86              14.26   \n",
       "2                      9.38      0.89               3.93   \n",
       "3                      5.94      0.83              14.10   \n",
       "4                      6.98      0.83              11.04   \n",
       "\n",
       "   Wind Bearing (degrees)  Visibility (km)  Loud Cover  Pressure (millibars)  \\\n",
       "0                  251.00            15.83        0.00               1015.13   \n",
       "1                  259.00            15.83        0.00               1015.63   \n",
       "2                  204.00            14.96        0.00               1015.94   \n",
       "3                  269.00            15.83        0.00               1016.41   \n",
       "4                  259.00            15.83        0.00               1016.51   \n",
       "\n",
       "                       Daily Summary  \n",
       "0  Partly cloudy throughout the day.  \n",
       "1  Partly cloudy throughout the day.  \n",
       "2  Partly cloudy throughout the day.  \n",
       "3  Partly cloudy throughout the day.  \n",
       "4  Partly cloudy throughout the day.  "
      ]
     },
     "execution_count": 4,
     "metadata": {},
     "output_type": "execute_result"
    }
   ],
   "source": [
    "# return the first 5 rows\n",
    "df.head() # check the column name and the look of the data"
   ]
  },
  {
   "cell_type": "code",
   "execution_count": 5,
   "metadata": {
    "colab": {
     "base_uri": "https://localhost:8080/",
     "height": 206
    },
    "id": "oSw6NafknnHe",
    "outputId": "d794e36c-9d2a-4821-8547-f490cf891fcf"
   },
   "outputs": [
    {
     "data": {
      "text/html": [
       "<div>\n",
       "<style scoped>\n",
       "    .dataframe tbody tr th:only-of-type {\n",
       "        vertical-align: middle;\n",
       "    }\n",
       "\n",
       "    .dataframe tbody tr th {\n",
       "        vertical-align: top;\n",
       "    }\n",
       "\n",
       "    .dataframe thead th {\n",
       "        text-align: right;\n",
       "    }\n",
       "</style>\n",
       "<table border=\"1\" class=\"dataframe\">\n",
       "  <thead>\n",
       "    <tr style=\"text-align: right;\">\n",
       "      <th></th>\n",
       "      <th>Formatted Date</th>\n",
       "      <th>Summary</th>\n",
       "      <th>Precip Type</th>\n",
       "      <th>Temperature (C)</th>\n",
       "      <th>Apparent Temperature (C)</th>\n",
       "      <th>Humidity</th>\n",
       "      <th>Wind Speed (km/h)</th>\n",
       "      <th>Wind Bearing (degrees)</th>\n",
       "      <th>Visibility (km)</th>\n",
       "      <th>Loud Cover</th>\n",
       "      <th>Pressure (millibars)</th>\n",
       "      <th>Daily Summary</th>\n",
       "    </tr>\n",
       "  </thead>\n",
       "  <tbody>\n",
       "    <tr>\n",
       "      <th>96448</th>\n",
       "      <td>2016-09-09 19:00:00.000 +0200</td>\n",
       "      <td>Partly Cloudy</td>\n",
       "      <td>rain</td>\n",
       "      <td>26.02</td>\n",
       "      <td>26.02</td>\n",
       "      <td>0.43</td>\n",
       "      <td>11.00</td>\n",
       "      <td>31.00</td>\n",
       "      <td>16.10</td>\n",
       "      <td>0.00</td>\n",
       "      <td>1014.36</td>\n",
       "      <td>Partly cloudy starting in the morning.</td>\n",
       "    </tr>\n",
       "    <tr>\n",
       "      <th>96449</th>\n",
       "      <td>2016-09-09 20:00:00.000 +0200</td>\n",
       "      <td>Partly Cloudy</td>\n",
       "      <td>rain</td>\n",
       "      <td>24.58</td>\n",
       "      <td>24.58</td>\n",
       "      <td>0.48</td>\n",
       "      <td>10.09</td>\n",
       "      <td>20.00</td>\n",
       "      <td>15.55</td>\n",
       "      <td>0.00</td>\n",
       "      <td>1015.16</td>\n",
       "      <td>Partly cloudy starting in the morning.</td>\n",
       "    </tr>\n",
       "    <tr>\n",
       "      <th>96450</th>\n",
       "      <td>2016-09-09 21:00:00.000 +0200</td>\n",
       "      <td>Partly Cloudy</td>\n",
       "      <td>rain</td>\n",
       "      <td>22.04</td>\n",
       "      <td>22.04</td>\n",
       "      <td>0.56</td>\n",
       "      <td>8.98</td>\n",
       "      <td>30.00</td>\n",
       "      <td>16.10</td>\n",
       "      <td>0.00</td>\n",
       "      <td>1015.66</td>\n",
       "      <td>Partly cloudy starting in the morning.</td>\n",
       "    </tr>\n",
       "    <tr>\n",
       "      <th>96451</th>\n",
       "      <td>2016-09-09 22:00:00.000 +0200</td>\n",
       "      <td>Partly Cloudy</td>\n",
       "      <td>rain</td>\n",
       "      <td>21.52</td>\n",
       "      <td>21.52</td>\n",
       "      <td>0.60</td>\n",
       "      <td>10.53</td>\n",
       "      <td>20.00</td>\n",
       "      <td>16.10</td>\n",
       "      <td>0.00</td>\n",
       "      <td>1015.95</td>\n",
       "      <td>Partly cloudy starting in the morning.</td>\n",
       "    </tr>\n",
       "    <tr>\n",
       "      <th>96452</th>\n",
       "      <td>2016-09-09 23:00:00.000 +0200</td>\n",
       "      <td>Partly Cloudy</td>\n",
       "      <td>rain</td>\n",
       "      <td>20.44</td>\n",
       "      <td>20.44</td>\n",
       "      <td>0.61</td>\n",
       "      <td>5.88</td>\n",
       "      <td>39.00</td>\n",
       "      <td>15.52</td>\n",
       "      <td>0.00</td>\n",
       "      <td>1016.16</td>\n",
       "      <td>Partly cloudy starting in the morning.</td>\n",
       "    </tr>\n",
       "  </tbody>\n",
       "</table>\n",
       "</div>"
      ],
      "text/plain": [
       "                      Formatted Date        Summary Precip Type  \\\n",
       "96448  2016-09-09 19:00:00.000 +0200  Partly Cloudy        rain   \n",
       "96449  2016-09-09 20:00:00.000 +0200  Partly Cloudy        rain   \n",
       "96450  2016-09-09 21:00:00.000 +0200  Partly Cloudy        rain   \n",
       "96451  2016-09-09 22:00:00.000 +0200  Partly Cloudy        rain   \n",
       "96452  2016-09-09 23:00:00.000 +0200  Partly Cloudy        rain   \n",
       "\n",
       "       Temperature (C)  Apparent Temperature (C)  Humidity  Wind Speed (km/h)  \\\n",
       "96448            26.02                     26.02      0.43              11.00   \n",
       "96449            24.58                     24.58      0.48              10.09   \n",
       "96450            22.04                     22.04      0.56               8.98   \n",
       "96451            21.52                     21.52      0.60              10.53   \n",
       "96452            20.44                     20.44      0.61               5.88   \n",
       "\n",
       "       Wind Bearing (degrees)  Visibility (km)  Loud Cover  \\\n",
       "96448                   31.00            16.10        0.00   \n",
       "96449                   20.00            15.55        0.00   \n",
       "96450                   30.00            16.10        0.00   \n",
       "96451                   20.00            16.10        0.00   \n",
       "96452                   39.00            15.52        0.00   \n",
       "\n",
       "       Pressure (millibars)                           Daily Summary  \n",
       "96448               1014.36  Partly cloudy starting in the morning.  \n",
       "96449               1015.16  Partly cloudy starting in the morning.  \n",
       "96450               1015.66  Partly cloudy starting in the morning.  \n",
       "96451               1015.95  Partly cloudy starting in the morning.  \n",
       "96452               1016.16  Partly cloudy starting in the morning.  "
      ]
     },
     "execution_count": 5,
     "metadata": {},
     "output_type": "execute_result"
    }
   ],
   "source": [
    "# return the last 5 rows\n",
    "df.tail() # for verification, to make sure that the data has been correctly loaded and processed"
   ]
  },
  {
   "cell_type": "markdown",
   "metadata": {
    "id": "fjDNAOLKYdLc"
   },
   "source": [
    "Observation: The Daily Summary is the same for the whole day, so we will use the Summary to figure out the weather for a given hour. Daily Summary will remove later."
   ]
  },
  {
   "cell_type": "code",
   "execution_count": 6,
   "metadata": {
    "colab": {
     "base_uri": "https://localhost:8080/"
    },
    "id": "YEJjMjz-6Bh9",
    "outputId": "8b755c0a-3c2e-4b8a-cb14-59691a7276a8"
   },
   "outputs": [
    {
     "data": {
      "text/plain": [
       "(96453, 12)"
      ]
     },
     "execution_count": 6,
     "metadata": {},
     "output_type": "execute_result"
    }
   ],
   "source": [
    "df.shape # get the number of rows (96453) and the number of columns (12)"
   ]
  },
  {
   "cell_type": "code",
   "execution_count": 7,
   "metadata": {
    "colab": {
     "base_uri": "https://localhost:8080/"
    },
    "id": "tFh7yiPA6Eva",
    "outputId": "1dd552fb-00f0-4fe6-e1bc-f3df74a8b1c5"
   },
   "outputs": [
    {
     "data": {
      "text/plain": [
       "1157436"
      ]
     },
     "execution_count": 7,
     "metadata": {},
     "output_type": "execute_result"
    }
   ],
   "source": [
    "df.size #  returns the number of elements in the DataFrame."
   ]
  },
  {
   "cell_type": "code",
   "execution_count": 8,
   "metadata": {
    "colab": {
     "base_uri": "https://localhost:8080/"
    },
    "id": "w_wNrObD6Q4_",
    "outputId": "a8055fe3-eca3-402a-d9c9-bf4725d37b3a"
   },
   "outputs": [
    {
     "data": {
      "text/plain": [
       "Index(['Formatted Date', 'Summary', 'Precip Type', 'Temperature (C)',\n",
       "       'Apparent Temperature (C)', 'Humidity', 'Wind Speed (km/h)',\n",
       "       'Wind Bearing (degrees)', 'Visibility (km)', 'Loud Cover',\n",
       "       'Pressure (millibars)', 'Daily Summary'],\n",
       "      dtype='object')"
      ]
     },
     "execution_count": 8,
     "metadata": {},
     "output_type": "execute_result"
    }
   ],
   "source": [
    "df.columns # gives the name of the column"
   ]
  },
  {
   "cell_type": "code",
   "execution_count": 9,
   "metadata": {
    "colab": {
     "base_uri": "https://localhost:8080/"
    },
    "id": "d_y3NVjj6WO5",
    "outputId": "afc17860-cbf4-45e9-dfb8-a4a28fd69cd1"
   },
   "outputs": [
    {
     "name": "stdout",
     "output_type": "stream",
     "text": [
      "<class 'pandas.core.frame.DataFrame'>\n",
      "RangeIndex: 96453 entries, 0 to 96452\n",
      "Data columns (total 12 columns):\n",
      " #   Column                    Non-Null Count  Dtype  \n",
      "---  ------                    --------------  -----  \n",
      " 0   Formatted Date            96453 non-null  object \n",
      " 1   Summary                   96453 non-null  object \n",
      " 2   Precip Type               95936 non-null  object \n",
      " 3   Temperature (C)           96453 non-null  float64\n",
      " 4   Apparent Temperature (C)  96453 non-null  float64\n",
      " 5   Humidity                  96453 non-null  float64\n",
      " 6   Wind Speed (km/h)         96453 non-null  float64\n",
      " 7   Wind Bearing (degrees)    96453 non-null  float64\n",
      " 8   Visibility (km)           96453 non-null  float64\n",
      " 9   Loud Cover                96453 non-null  float64\n",
      " 10  Pressure (millibars)      96453 non-null  float64\n",
      " 11  Daily Summary             96453 non-null  object \n",
      "dtypes: float64(8), object(4)\n",
      "memory usage: 8.8+ MB\n"
     ]
    }
   ],
   "source": [
    "df.info() # prints information about the DataFrame\n"
   ]
  },
  {
   "cell_type": "markdown",
   "metadata": {
    "id": "-GnWprs4YsdK"
   },
   "source": [
    "DataFrame contains 12 columns, 4 categorical, 8 numerical and Precip Type has a different Non-Null value than the number of rows as the entry that it contains missing values"
   ]
  },
  {
   "cell_type": "markdown",
   "metadata": {
    "id": "vbSG2SJMTkZS"
   },
   "source": [
    "* Let's perform modeling without data transformation in order to check the effectiveness of data mining"
   ]
  },
  {
   "cell_type": "code",
   "execution_count": 10,
   "metadata": {
    "id": "ZyTMN8e6N4w-"
   },
   "outputs": [],
   "source": [
    "# prepare variable\n",
    "y_basic = df['Visibility (km)'] # the target\n",
    "\n",
    "# the features excluding the target variable, only numerical, with intuition, we will remove the Apparent Temperature that is too close to the Temperature\n",
    "X_basic = df.drop(['Visibility (km)','Formatted Date','Summary', 'Precip Type', 'Daily Summary'], axis=1)\n",
    "\n",
    "# split data into train and test with an 8:2 ratio\n",
    "X_train_basic, X_test_basic, y_train_basic, y_test_basic = train_test_split(X_basic,y_basic,test_size=0.2,random_state=111)\n",
    "\n",
    "regr = RandomForestRegressor(random_state=111)\n",
    "regr.fit(X_train_basic, y_train_basic)\n",
    "y_pred_basic = regr.predict(X_test_basic)"
   ]
  },
  {
   "cell_type": "code",
   "execution_count": 11,
   "metadata": {
    "colab": {
     "base_uri": "https://localhost:8080/"
    },
    "id": "okBMFxMcWhn9",
    "outputId": "60a25891-60be-4dd5-c19d-31e7e02d8074"
   },
   "outputs": [
    {
     "name": "stdout",
     "output_type": "stream",
     "text": [
      "Random Forest Regressor R2 score: 0.54\n",
      "Random Forest Regressor MAE score: 2.2\n"
     ]
    }
   ],
   "source": [
    "# check results\n",
    "\n",
    "# What %y explains our model, the best value 1. The higher the R2 value, the better the fit of the regression to the dataset.\n",
    "print('Random Forest Regressor R2 score: '+ str(round(r2_score(y_test_basic, y_pred_basic),2)))\n",
    "# MAE (Mean Absolute Error) measures the average difference between predicted and actual values. The best value is 0.0\n",
    "print('Random Forest Regressor MAE score: '+ str(round(mae(y_test_basic, y_pred_basic),2)))\n"
   ]
  },
  {
   "cell_type": "markdown",
   "metadata": {
    "id": "_64oyQAPY0Yr"
   },
   "source": [
    "Observation: The result is not satisfactory, the model evaluates half of the predictions well"
   ]
  },
  {
   "cell_type": "code",
   "execution_count": 12,
   "metadata": {
    "colab": {
     "base_uri": "https://localhost:8080/",
     "height": 300
    },
    "id": "msSzpm226c6V",
    "outputId": "388c4d30-a856-4025-f407-d6c62ae61242"
   },
   "outputs": [
    {
     "data": {
      "text/html": [
       "<div>\n",
       "<style scoped>\n",
       "    .dataframe tbody tr th:only-of-type {\n",
       "        vertical-align: middle;\n",
       "    }\n",
       "\n",
       "    .dataframe tbody tr th {\n",
       "        vertical-align: top;\n",
       "    }\n",
       "\n",
       "    .dataframe thead th {\n",
       "        text-align: right;\n",
       "    }\n",
       "</style>\n",
       "<table border=\"1\" class=\"dataframe\">\n",
       "  <thead>\n",
       "    <tr style=\"text-align: right;\">\n",
       "      <th></th>\n",
       "      <th>Temperature (C)</th>\n",
       "      <th>Apparent Temperature (C)</th>\n",
       "      <th>Humidity</th>\n",
       "      <th>Wind Speed (km/h)</th>\n",
       "      <th>Wind Bearing (degrees)</th>\n",
       "      <th>Visibility (km)</th>\n",
       "      <th>Loud Cover</th>\n",
       "      <th>Pressure (millibars)</th>\n",
       "    </tr>\n",
       "  </thead>\n",
       "  <tbody>\n",
       "    <tr>\n",
       "      <th>count</th>\n",
       "      <td>96453.00</td>\n",
       "      <td>96453.00</td>\n",
       "      <td>96453.00</td>\n",
       "      <td>96453.00</td>\n",
       "      <td>96453.00</td>\n",
       "      <td>96453.00</td>\n",
       "      <td>96453.00</td>\n",
       "      <td>96453.00</td>\n",
       "    </tr>\n",
       "    <tr>\n",
       "      <th>mean</th>\n",
       "      <td>11.93</td>\n",
       "      <td>10.86</td>\n",
       "      <td>0.73</td>\n",
       "      <td>10.81</td>\n",
       "      <td>187.51</td>\n",
       "      <td>10.35</td>\n",
       "      <td>0.00</td>\n",
       "      <td>1003.24</td>\n",
       "    </tr>\n",
       "    <tr>\n",
       "      <th>std</th>\n",
       "      <td>9.55</td>\n",
       "      <td>10.70</td>\n",
       "      <td>0.20</td>\n",
       "      <td>6.91</td>\n",
       "      <td>107.38</td>\n",
       "      <td>4.19</td>\n",
       "      <td>0.00</td>\n",
       "      <td>116.97</td>\n",
       "    </tr>\n",
       "    <tr>\n",
       "      <th>min</th>\n",
       "      <td>-21.82</td>\n",
       "      <td>-27.72</td>\n",
       "      <td>0.00</td>\n",
       "      <td>0.00</td>\n",
       "      <td>0.00</td>\n",
       "      <td>0.00</td>\n",
       "      <td>0.00</td>\n",
       "      <td>0.00</td>\n",
       "    </tr>\n",
       "    <tr>\n",
       "      <th>25%</th>\n",
       "      <td>4.69</td>\n",
       "      <td>2.31</td>\n",
       "      <td>0.60</td>\n",
       "      <td>5.83</td>\n",
       "      <td>116.00</td>\n",
       "      <td>8.34</td>\n",
       "      <td>0.00</td>\n",
       "      <td>1011.90</td>\n",
       "    </tr>\n",
       "    <tr>\n",
       "      <th>50%</th>\n",
       "      <td>12.00</td>\n",
       "      <td>12.00</td>\n",
       "      <td>0.78</td>\n",
       "      <td>9.97</td>\n",
       "      <td>180.00</td>\n",
       "      <td>10.05</td>\n",
       "      <td>0.00</td>\n",
       "      <td>1016.45</td>\n",
       "    </tr>\n",
       "    <tr>\n",
       "      <th>75%</th>\n",
       "      <td>18.84</td>\n",
       "      <td>18.84</td>\n",
       "      <td>0.89</td>\n",
       "      <td>14.14</td>\n",
       "      <td>290.00</td>\n",
       "      <td>14.81</td>\n",
       "      <td>0.00</td>\n",
       "      <td>1021.09</td>\n",
       "    </tr>\n",
       "    <tr>\n",
       "      <th>max</th>\n",
       "      <td>39.91</td>\n",
       "      <td>39.34</td>\n",
       "      <td>1.00</td>\n",
       "      <td>63.85</td>\n",
       "      <td>359.00</td>\n",
       "      <td>16.10</td>\n",
       "      <td>0.00</td>\n",
       "      <td>1046.38</td>\n",
       "    </tr>\n",
       "  </tbody>\n",
       "</table>\n",
       "</div>"
      ],
      "text/plain": [
       "       Temperature (C)  Apparent Temperature (C)  Humidity  Wind Speed (km/h)  \\\n",
       "count         96453.00                  96453.00  96453.00           96453.00   \n",
       "mean             11.93                     10.86      0.73              10.81   \n",
       "std               9.55                     10.70      0.20               6.91   \n",
       "min             -21.82                    -27.72      0.00               0.00   \n",
       "25%               4.69                      2.31      0.60               5.83   \n",
       "50%              12.00                     12.00      0.78               9.97   \n",
       "75%              18.84                     18.84      0.89              14.14   \n",
       "max              39.91                     39.34      1.00              63.85   \n",
       "\n",
       "       Wind Bearing (degrees)  Visibility (km)  Loud Cover  \\\n",
       "count                96453.00         96453.00    96453.00   \n",
       "mean                   187.51            10.35        0.00   \n",
       "std                    107.38             4.19        0.00   \n",
       "min                      0.00             0.00        0.00   \n",
       "25%                    116.00             8.34        0.00   \n",
       "50%                    180.00            10.05        0.00   \n",
       "75%                    290.00            14.81        0.00   \n",
       "max                    359.00            16.10        0.00   \n",
       "\n",
       "       Pressure (millibars)  \n",
       "count              96453.00  \n",
       "mean                1003.24  \n",
       "std                  116.97  \n",
       "min                    0.00  \n",
       "25%                 1011.90  \n",
       "50%                 1016.45  \n",
       "75%                 1021.09  \n",
       "max                 1046.38  "
      ]
     },
     "execution_count": 12,
     "metadata": {},
     "output_type": "execute_result"
    }
   ],
   "source": [
    "# generate descriptive statistics\n",
    "df.describe()"
   ]
  },
  {
   "cell_type": "markdown",
   "metadata": {
    "id": "p2X37VwDcrjO"
   },
   "source": [
    "* The Apparent Temperature (C) value is too similar to Apparent Temperature (C), Loud Cover has one value, not relevant to the analysis, so it will be removed, Pressure contains the impossible value 0, we will check this later\n",
    "* Temperature (C)/Apparent Temperature (C): The distribution of temperature seems to approximate a normal distribution, as the mean is close to the median, The percentiles also align in a manner similar to a symmetric distribution.\n",
    "* Humidity: The distribution of humidity is concentrated around higher values, as the median (50% value) is near 0.78, and the standard deviation is low. This suggests that most humidity measurements are clustered around higher levels.\n",
    "* Visibility (km): Visibility seems to have a distribution concentrated around higher values, as the median is higher than the mean, and the standard deviation is low. This implies that most days have good visibility."
   ]
  },
  {
   "cell_type": "code",
   "execution_count": 13,
   "metadata": {
    "id": "ZddSkQqCepeS"
   },
   "outputs": [],
   "source": [
    "# drop unnecessary column; Loud Cover all contains 0, one column\n",
    "df.drop(['Loud Cover'],axis = 1,inplace = True)"
   ]
  },
  {
   "cell_type": "code",
   "execution_count": 14,
   "metadata": {
    "colab": {
     "base_uri": "https://localhost:8080/",
     "height": 811
    },
    "id": "Mue_so0teP2f",
    "outputId": "d1783133-7351-4e2c-b17c-41d3468be29e"
   },
   "outputs": [
    {
     "data": {
      "text/plain": [
       "<Axes: >"
      ]
     },
     "execution_count": 14,
     "metadata": {},
     "output_type": "execute_result"
    },
    {
     "data": {
      "image/png": "[encoded data removed]",
      "text/plain": [
       "<Figure size 1200x700 with 2 Axes>"
      ]
     },
     "metadata": {},
     "output_type": "display_data"
    }
   ],
   "source": [
    "# method finds the correlation of each column in a DataFrame\n",
    "corr_df=df.corr()\n",
    "plt.figure(figsize=(12,7))\n",
    "sns.heatmap(corr_df,annot=True,fmt='.2g',cmap='Blues')"
   ]
  },
  {
   "cell_type": "markdown",
   "metadata": {
    "id": "NY6__0Ngetmq"
   },
   "source": [
    "* positive correlation - it can be said when the values of two variables change in the same direction. So if one grows, the other behaves the same way.\n",
    "* negative correlation - in this case, the situation is quite different. A negative correlation means that the values of interdependent variables change in opposite directions. So if one value goes up, the other goes down, and vice versa.\n",
    "* lack of correlation is a situation in which phenomena, features, and properties have no connection with themselves. \n",
    "\n",
    "Obseravtion: A high result between the temperature and the apparent temperature  means that the correlation is too hight, it should be removed."
   ]
  },
  {
   "cell_type": "code",
   "execution_count": 15,
   "metadata": {
    "id": "z23ONjEteBr5"
   },
   "outputs": [],
   "source": [
    "# drop unnecessary column; Apparent Temperature (C)\n",
    "df.drop(['Apparent Temperature (C)'],axis = 1,inplace = True)"
   ]
  },
  {
   "cell_type": "code",
   "execution_count": 16,
   "metadata": {
    "colab": {
     "base_uri": "https://localhost:8080/"
    },
    "id": "du6U2zJ46hMx",
    "outputId": "eddcb622-7885-4490-95f0-a1107e6f2692"
   },
   "outputs": [
    {
     "data": {
      "text/plain": [
       "Formatted Date              0\n",
       "Summary                     0\n",
       "Precip Type               517\n",
       "Temperature (C)             0\n",
       "Humidity                    0\n",
       "Wind Speed (km/h)           0\n",
       "Wind Bearing (degrees)      0\n",
       "Visibility (km)             0\n",
       "Pressure (millibars)        0\n",
       "Daily Summary               0\n",
       "dtype: int64"
      ]
     },
     "execution_count": 16,
     "metadata": {},
     "output_type": "execute_result"
    }
   ],
   "source": [
    "# checking missing values\n",
    "df.isnull().sum()"
   ]
  },
  {
   "cell_type": "markdown",
   "metadata": {
    "id": "MqpDoRRqabQS"
   },
   "source": [
    "Observation: probably missing a value means that the precip type is not visible,fill it with none"
   ]
  },
  {
   "cell_type": "code",
   "execution_count": 17,
   "metadata": {
    "id": "CzC26QbXEcA3"
   },
   "outputs": [],
   "source": [
    "# fill missing values Precip type to lack precip as no precipitation\n",
    "df.fillna('lack precip', inplace = True)"
   ]
  },
  {
   "cell_type": "code",
   "execution_count": 18,
   "metadata": {
    "colab": {
     "base_uri": "https://localhost:8080/"
    },
    "id": "1ADgglQWEmH9",
    "outputId": "2f323468-6658-42e9-f1ed-06305bc63374"
   },
   "outputs": [
    {
     "data": {
      "text/plain": [
       "rain           85224\n",
       "snow           10712\n",
       "lack precip      517\n",
       "Name: Precip Type, dtype: int64"
      ]
     },
     "execution_count": 18,
     "metadata": {},
     "output_type": "execute_result"
    }
   ],
   "source": [
    "df['Precip Type'].value_counts() # checking whether to correctly fill in the missing values for none"
   ]
  },
  {
   "cell_type": "markdown",
   "metadata": {
    "id": "7q6aFzlwh-L_"
   },
   "source": [
    "Observation: missing values have been filled in correctly"
   ]
  },
  {
   "cell_type": "code",
   "execution_count": 19,
   "metadata": {
    "colab": {
     "base_uri": "https://localhost:8080/"
    },
    "id": "cGiZEx906qwz",
    "outputId": "00689418-37a4-411a-e6cc-c6ee70102b9f"
   },
   "outputs": [
    {
     "data": {
      "text/plain": [
       "24"
      ]
     },
     "execution_count": 19,
     "metadata": {},
     "output_type": "execute_result"
    }
   ],
   "source": [
    "# duplicate checking\n",
    "df.duplicated().sum()"
   ]
  },
  {
   "cell_type": "markdown",
   "metadata": {
    "id": "gdN1PVXCiBDi"
   },
   "source": [
    "Observation: there are 24 duplicates that should be removed"
   ]
  },
  {
   "cell_type": "code",
   "execution_count": 20,
   "metadata": {
    "id": "k9A1lr-vEXVl"
   },
   "outputs": [],
   "source": [
    "# drop duplicates\n",
    "df.drop_duplicates(keep=\"first\", inplace=True)"
   ]
  },
  {
   "cell_type": "markdown",
   "metadata": {
    "id": "v6Myr2PRCotT"
   },
   "source": [
    "# Data Visualization"
   ]
  },
  {
   "cell_type": "code",
   "execution_count": 21,
   "metadata": {
    "id": "YgweLnYQ7jp1"
   },
   "outputs": [],
   "source": [
    "# drop unnecessary column; Daily Summary, reproducible and not relevant for to the analysis\n",
    "df.drop(['Daily Summary'],axis = 1,inplace = True)"
   ]
  },
  {
   "cell_type": "markdown",
   "metadata": {
    "id": "BcRu4o2KFNTq"
   },
   "source": [
    "Categorical columns:"
   ]
  },
  {
   "cell_type": "code",
   "execution_count": 22,
   "metadata": {
    "colab": {
     "base_uri": "https://localhost:8080/"
    },
    "id": "05D8Nf-LE9c0",
    "outputId": "204771b3-05c4-4072-b53b-0926076ca01e"
   },
   "outputs": [
    {
     "name": "stdout",
     "output_type": "stream",
     "text": [
      "No. of categorical columns are: 2\n"
     ]
    }
   ],
   "source": [
    "cat = ['Summary','Precip Type']\n",
    "\n",
    "print('No. of categorical columns are:',len(cat))"
   ]
  },
  {
   "cell_type": "markdown",
   "metadata": {
    "id": "vxe14tRTFg_-"
   },
   "source": [
    "Numerical columns:"
   ]
  },
  {
   "cell_type": "code",
   "execution_count": 23,
   "metadata": {
    "colab": {
     "base_uri": "https://localhost:8080/"
    },
    "id": "G6VkzI2bFxBV",
    "outputId": "e5979d01-d913-43af-9136-720040482bcf"
   },
   "outputs": [
    {
     "name": "stdout",
     "output_type": "stream",
     "text": [
      "No. of numerical/float columns are: 7\n"
     ]
    }
   ],
   "source": [
    "num = []\n",
    "for i in df.columns:\n",
    "    if i not in cat:\n",
    "        num.append(i)\n",
    "print('No. of numerical/float columns are:',len(num))"
   ]
  },
  {
   "cell_type": "markdown",
   "metadata": {
    "id": "_59l5pINF4YP"
   },
   "source": [
    "Exploring Categorical Columns/Features"
   ]
  },
  {
   "cell_type": "code",
   "execution_count": 24,
   "metadata": {
    "colab": {
     "base_uri": "https://localhost:8080/"
    },
    "id": "L3lpTa2nGGvG",
    "outputId": "99e49115-6b33-4f37-9428-8c7459c5abba"
   },
   "outputs": [
    {
     "data": {
      "text/plain": [
       "Partly Cloudy                          31726\n",
       "Mostly Cloudy                          28094\n",
       "Overcast                               16597\n",
       "Clear                                  10873\n",
       "Foggy                                   7148\n",
       "Breezy and Overcast                      528\n",
       "Breezy and Mostly Cloudy                 516\n",
       "Breezy and Partly Cloudy                 386\n",
       "Dry and Partly Cloudy                     86\n",
       "Windy and Partly Cloudy                   67\n",
       "Light Rain                                63\n",
       "Breezy                                    54\n",
       "Windy and Overcast                        45\n",
       "Humid and Mostly Cloudy                   40\n",
       "Drizzle                                   39\n",
       "Breezy and Foggy                          35\n",
       "Windy and Mostly Cloudy                   35\n",
       "Dry                                       34\n",
       "Humid and Partly Cloudy                   17\n",
       "Dry and Mostly Cloudy                     14\n",
       "Rain                                      10\n",
       "Windy                                      8\n",
       "Humid and Overcast                         7\n",
       "Windy and Foggy                            4\n",
       "Windy and Dry                              1\n",
       "Dangerously Windy and Partly Cloudy        1\n",
       "Breezy and Dry                             1\n",
       "Name: Summary, dtype: int64"
      ]
     },
     "execution_count": 24,
     "metadata": {},
     "output_type": "execute_result"
    }
   ],
   "source": [
    "# Checking the number of unique values for each text column\n",
    "df['Summary'].value_counts()"
   ]
  },
  {
   "cell_type": "markdown",
   "metadata": {
    "id": "cCxN4g_dm6g1"
   },
   "source": [
    "Observation: there is a large discrepancy in the number, less frequent ones will be marked as Other"
   ]
  },
  {
   "cell_type": "code",
   "execution_count": 25,
   "metadata": {
    "colab": {
     "base_uri": "https://localhost:8080/"
    },
    "id": "wIhO5OjHGRWA",
    "outputId": "b39fef89-1453-49d5-b0e2-931cc1888945"
   },
   "outputs": [
    {
     "data": {
      "text/plain": [
       "Partly Cloudy               31726\n",
       "Mostly Cloudy               28094\n",
       "Overcast                    16597\n",
       "Clear                       10873\n",
       "Foggy                        7148\n",
       "Other                         561\n",
       "Breezy and Overcast           528\n",
       "Breezy and Mostly Cloudy      516\n",
       "Breezy and Partly Cloudy      386\n",
       "Name: Summary, dtype: int64"
      ]
     },
     "execution_count": 25,
     "metadata": {},
     "output_type": "execute_result"
    }
   ],
   "source": [
    "# describing less significant variables as other\n",
    "allowed_vals = ['Partly Cloudy',\n",
    "                'Mostly Cloudy',\n",
    "                'Overcast',\n",
    "                'Clear',\n",
    "                'Foggy',\n",
    "                'Breezy and Overcast',\n",
    "                'Breezy and Mostly Cloudy',\n",
    "                'Breezy and Partly Cloudy'\n",
    "                ]\n",
    "\n",
    "df.loc[~df[\"Summary\"].isin(allowed_vals), \"Summary\"] = \"Other\"\n",
    "# this code is modifying a DataFrame named `df`. It selects rows where the values in the \"Summary\" column are not in a list of \n",
    "# allowed values (`allowed_vals`). For those rows, it sets the value in the \"Summary\" column to \"Other\".\n",
    "df.Summary.value_counts()\n",
    "# the summary column was created correctly"
   ]
  },
  {
   "cell_type": "code",
   "execution_count": 26,
   "metadata": {
    "colab": {
     "base_uri": "https://localhost:8080/",
     "height": 968
    },
    "id": "JlkFQipGR1Fo",
    "outputId": "35d4e282-76c7-4167-b347-2352738cd85d"
   },
   "outputs": [
    {
     "data": {
      "image/png": "[encoded data removed]",
      "text/plain": [
       "<Figure size 1500x800 with 2 Axes>"
      ]
     },
     "metadata": {},
     "output_type": "display_data"
    }
   ],
   "source": [
    "# Let's see how the Summary looks on the chart and how much of it is represented as a percentage.\n",
    "\n",
    "# creates a figure with two subplots arranged in a 1x2 grid. The figure size is set to (15,8).\n",
    "fig, ax = plt.subplots(1, 2, figsize=(15,8)) \n",
    "\n",
    "\n",
    "x=df['Summary'].value_counts().index\n",
    "y=df['Summary'].value_counts().values.tolist()\n",
    "\n",
    "data = df.groupby(\"Summary\").size()\n",
    "\n",
    "\n",
    "sns.set(style=\"dark\", color_codes=True)\n",
    "pal = sns.color_palette(\"Blues\", len(data))\n",
    "rank = data.argsort().argsort()\n",
    "\n",
    "# creates a bar plot using seaborn's `barplot` function. The `x` values are the unique values from the \"Summary\" column (`x`), \n",
    "# the `y` values are the corresponding counts (`y`), and the colors of the bars are determined by the `pal` palette based on the `rank`.\n",
    "#The plot is displayed on the first subplot (`ax[0]`).\n",
    "sns.barplot(x=x,y=y,palette=np.array(pal[::-1])[rank],ax = ax[0])\n",
    "#Assign values to bars\n",
    "for p in ax[0].patches:\n",
    "        ax[0].annotate('{:.0f}'.format(p.get_height()), (p.get_x()+0.4, p.get_height()),\n",
    "                    ha='center', va='bottom',\n",
    "                    color= 'black')\n",
    "\n",
    "# sets the label for the y,x-axis of the first subplot to 'weather type' with a semi-bold font.\n",
    "ax[0].set_xlabel('weather type',weight='semibold', fontname = 'monospace')\n",
    "ax[0].set_ylabel('count',weight='semibold', fontname = 'monospace')\n",
    "# the x-axis tick labels by 90 degrees to avoid overlapping.\n",
    "ax[0].xaxis.set_tick_params(rotation=90)\n",
    "# adds grid lines to the first subplot.\n",
    "ax[0].grid()\n",
    "\n",
    "# creates a pie chart using seaborn's `pie` function\n",
    "_, _, autotexts= ax[1].pie(y, labels = x, colors = np.array(pal[::-1])[rank], autopct='%1.1f%%',\n",
    "explode=[0,.01, 0.01,0,0 ,0.8,0.8,0.8,0.8])\n",
    "\n",
    "# adds a legend to the plot, placing it outside the plot area.\n",
    "plt.legend(bbox_to_anchor=(1, 1))\n",
    "# adds a title to the entire figure, specifying the text as 'Types of Weather' and setting the font weight to bold.\n",
    "plt.suptitle ('Types of Weather',weight = 'bold')\n",
    "# adds a title to the entire figure, specifying the text as 'Types of Weather' and setting the font weight to bold.\n",
    "plt.show()\n"
   ]
  },
  {
   "cell_type": "markdown",
   "metadata": {
    "id": "_AjRZHumoEpn"
   },
   "source": [
    "Observation: The most common types of weather are Partly Cloudy, Mostly Cloudy and Overcast."
   ]
  },
  {
   "cell_type": "code",
   "execution_count": 27,
   "metadata": {
    "colab": {
     "base_uri": "https://localhost:8080/",
     "height": 1000
    },
    "id": "d6YT5ge9X7JQ",
    "outputId": "25121cbd-66f2-4d10-ab6a-2965c9b2ce43"
   },
   "outputs": [
    {
     "data": {
      "text/plain": [
       "Text(0.5, 1.0, 'Dependence of visibility on weather conditions')"
      ]
     },
     "execution_count": 27,
     "metadata": {},
     "output_type": "execute_result"
    },
    {
     "data": {
      "image/png": "[encoded data removed]",
      "text/plain": [
       "<Figure size 1500x1000 with 1 Axes>"
      ]
     },
     "metadata": {},
     "output_type": "display_data"
    }
   ],
   "source": [
    "# check the distribution of data 'Summary' in a boxplot\n",
    "\n",
    "fig,ax=plt.subplots(figsize=(15,10))\n",
    "\n",
    "sns.set_style('darkgrid')\n",
    "sns.boxplot(x='Summary',y='Visibility (km)',data=df, palette =\"Blues\")\n",
    "ax.xaxis.set_tick_params(rotation=45)\n",
    "plt.title('Dependence of visibility on weather conditions', fontsize = \"18\")"
   ]
  },
  {
   "cell_type": "markdown",
   "metadata": {
    "id": "wb7iqnK-g0Sp"
   },
   "source": [
    "* The median (middle quartile) marks the mid-point of the data and is shown by the line that divides the box into two parts. Half the scores are greater than or equal to this value and half are less.\n",
    "* The middle “box” represents the middle 50% of scores for the group. The range of scores from lower to upper quartile is referred to as the inter-quartile range. The middle 50% of scores fall within the inter-quartile range. (just a whole box)\n",
    "* Seventy-five percent of the scores fall below the upper quartile. (from the bottom end of the box)\n",
    "* The upper and lower whiskers represent scores outside the middle 50%. Whiskers often (but not always) stretch over a wider range of scores than the middle quartile groups.\n",
    "* An outlier is an observation that is numerically distant from the rest of the data.\n",
    "\n",
    "Observation: variable clear, mostly cloudly, partly cloudly contains outliers, incorrect values Visibility 0. cloudiness itself does not significantly affect visibility, check it out more closely."
   ]
  },
  {
   "cell_type": "code",
   "execution_count": 28,
   "metadata": {
    "colab": {
     "base_uri": "https://localhost:8080/",
     "height": 423
    },
    "id": "X9i4cKHdfaCC",
    "outputId": "f5e2d0fa-0c82-48c5-8b2c-e27aed17efd2"
   },
   "outputs": [
    {
     "data": {
      "text/html": [
       "<div>\n",
       "<style scoped>\n",
       "    .dataframe tbody tr th:only-of-type {\n",
       "        vertical-align: middle;\n",
       "    }\n",
       "\n",
       "    .dataframe tbody tr th {\n",
       "        vertical-align: top;\n",
       "    }\n",
       "\n",
       "    .dataframe thead th {\n",
       "        text-align: right;\n",
       "    }\n",
       "</style>\n",
       "<table border=\"1\" class=\"dataframe\">\n",
       "  <thead>\n",
       "    <tr style=\"text-align: right;\">\n",
       "      <th></th>\n",
       "      <th>Formatted Date</th>\n",
       "      <th>Summary</th>\n",
       "      <th>Precip Type</th>\n",
       "      <th>Temperature (C)</th>\n",
       "      <th>Humidity</th>\n",
       "      <th>Wind Speed (km/h)</th>\n",
       "      <th>Wind Bearing (degrees)</th>\n",
       "      <th>Visibility (km)</th>\n",
       "      <th>Pressure (millibars)</th>\n",
       "    </tr>\n",
       "  </thead>\n",
       "  <tbody>\n",
       "    <tr>\n",
       "      <th>14120</th>\n",
       "      <td>2007-03-19 08:00:00.000 +0100</td>\n",
       "      <td>Clear</td>\n",
       "      <td>rain</td>\n",
       "      <td>10.56</td>\n",
       "      <td>0.63</td>\n",
       "      <td>3.22</td>\n",
       "      <td>110.00</td>\n",
       "      <td>0.00</td>\n",
       "      <td>996.60</td>\n",
       "    </tr>\n",
       "    <tr>\n",
       "      <th>14123</th>\n",
       "      <td>2007-03-19 11:00:00.000 +0100</td>\n",
       "      <td>Clear</td>\n",
       "      <td>rain</td>\n",
       "      <td>15.00</td>\n",
       "      <td>0.46</td>\n",
       "      <td>11.27</td>\n",
       "      <td>150.00</td>\n",
       "      <td>0.00</td>\n",
       "      <td>994.70</td>\n",
       "    </tr>\n",
       "    <tr>\n",
       "      <th>26352</th>\n",
       "      <td>2009-04-10 00:00:00.000 +0200</td>\n",
       "      <td>Clear</td>\n",
       "      <td>rain</td>\n",
       "      <td>10.56</td>\n",
       "      <td>0.66</td>\n",
       "      <td>3.22</td>\n",
       "      <td>320.00</td>\n",
       "      <td>0.00</td>\n",
       "      <td>1017.20</td>\n",
       "    </tr>\n",
       "    <tr>\n",
       "      <th>26664</th>\n",
       "      <td>2009-04-22 00:00:00.000 +0200</td>\n",
       "      <td>Clear</td>\n",
       "      <td>rain</td>\n",
       "      <td>13.33</td>\n",
       "      <td>0.47</td>\n",
       "      <td>14.49</td>\n",
       "      <td>30.00</td>\n",
       "      <td>0.00</td>\n",
       "      <td>1015.00</td>\n",
       "    </tr>\n",
       "    <tr>\n",
       "      <th>26665</th>\n",
       "      <td>2009-04-22 01:00:00.000 +0200</td>\n",
       "      <td>Clear</td>\n",
       "      <td>rain</td>\n",
       "      <td>12.22</td>\n",
       "      <td>0.50</td>\n",
       "      <td>11.27</td>\n",
       "      <td>40.00</td>\n",
       "      <td>0.00</td>\n",
       "      <td>1015.70</td>\n",
       "    </tr>\n",
       "    <tr>\n",
       "      <th>...</th>\n",
       "      <td>...</td>\n",
       "      <td>...</td>\n",
       "      <td>...</td>\n",
       "      <td>...</td>\n",
       "      <td>...</td>\n",
       "      <td>...</td>\n",
       "      <td>...</td>\n",
       "      <td>...</td>\n",
       "      <td>...</td>\n",
       "    </tr>\n",
       "    <tr>\n",
       "      <th>95575</th>\n",
       "      <td>2016-10-31 10:00:00.000 +0100</td>\n",
       "      <td>Clear</td>\n",
       "      <td>lack precip</td>\n",
       "      <td>7.69</td>\n",
       "      <td>0.75</td>\n",
       "      <td>8.58</td>\n",
       "      <td>264.00</td>\n",
       "      <td>0.00</td>\n",
       "      <td>1024.20</td>\n",
       "    </tr>\n",
       "    <tr>\n",
       "      <th>95576</th>\n",
       "      <td>2016-10-31 11:00:00.000 +0100</td>\n",
       "      <td>Clear</td>\n",
       "      <td>lack precip</td>\n",
       "      <td>9.59</td>\n",
       "      <td>0.71</td>\n",
       "      <td>11.13</td>\n",
       "      <td>276.00</td>\n",
       "      <td>0.00</td>\n",
       "      <td>1023.70</td>\n",
       "    </tr>\n",
       "    <tr>\n",
       "      <th>95577</th>\n",
       "      <td>2016-10-31 12:00:00.000 +0100</td>\n",
       "      <td>Clear</td>\n",
       "      <td>lack precip</td>\n",
       "      <td>11.49</td>\n",
       "      <td>0.69</td>\n",
       "      <td>14.06</td>\n",
       "      <td>284.00</td>\n",
       "      <td>0.00</td>\n",
       "      <td>1023.06</td>\n",
       "    </tr>\n",
       "    <tr>\n",
       "      <th>95578</th>\n",
       "      <td>2016-10-31 13:00:00.000 +0100</td>\n",
       "      <td>Clear</td>\n",
       "      <td>lack precip</td>\n",
       "      <td>12.77</td>\n",
       "      <td>0.67</td>\n",
       "      <td>22.54</td>\n",
       "      <td>286.00</td>\n",
       "      <td>0.00</td>\n",
       "      <td>1022.49</td>\n",
       "    </tr>\n",
       "    <tr>\n",
       "      <th>96247</th>\n",
       "      <td>2016-09-29 10:00:00.000 +0200</td>\n",
       "      <td>Clear</td>\n",
       "      <td>rain</td>\n",
       "      <td>19.86</td>\n",
       "      <td>0.54</td>\n",
       "      <td>10.80</td>\n",
       "      <td>240.00</td>\n",
       "      <td>0.00</td>\n",
       "      <td>1026.20</td>\n",
       "    </tr>\n",
       "  </tbody>\n",
       "</table>\n",
       "<p>271 rows × 9 columns</p>\n",
       "</div>"
      ],
      "text/plain": [
       "                      Formatted Date Summary  Precip Type  Temperature (C)  \\\n",
       "14120  2007-03-19 08:00:00.000 +0100   Clear         rain            10.56   \n",
       "14123  2007-03-19 11:00:00.000 +0100   Clear         rain            15.00   \n",
       "26352  2009-04-10 00:00:00.000 +0200   Clear         rain            10.56   \n",
       "26664  2009-04-22 00:00:00.000 +0200   Clear         rain            13.33   \n",
       "26665  2009-04-22 01:00:00.000 +0200   Clear         rain            12.22   \n",
       "...                              ...     ...          ...              ...   \n",
       "95575  2016-10-31 10:00:00.000 +0100   Clear  lack precip             7.69   \n",
       "95576  2016-10-31 11:00:00.000 +0100   Clear  lack precip             9.59   \n",
       "95577  2016-10-31 12:00:00.000 +0100   Clear  lack precip            11.49   \n",
       "95578  2016-10-31 13:00:00.000 +0100   Clear  lack precip            12.77   \n",
       "96247  2016-09-29 10:00:00.000 +0200   Clear         rain            19.86   \n",
       "\n",
       "       Humidity  Wind Speed (km/h)  Wind Bearing (degrees)  Visibility (km)  \\\n",
       "14120      0.63               3.22                  110.00             0.00   \n",
       "14123      0.46              11.27                  150.00             0.00   \n",
       "26352      0.66               3.22                  320.00             0.00   \n",
       "26664      0.47              14.49                   30.00             0.00   \n",
       "26665      0.50              11.27                   40.00             0.00   \n",
       "...         ...                ...                     ...              ...   \n",
       "95575      0.75               8.58                  264.00             0.00   \n",
       "95576      0.71              11.13                  276.00             0.00   \n",
       "95577      0.69              14.06                  284.00             0.00   \n",
       "95578      0.67              22.54                  286.00             0.00   \n",
       "96247      0.54              10.80                  240.00             0.00   \n",
       "\n",
       "       Pressure (millibars)  \n",
       "14120                996.60  \n",
       "14123                994.70  \n",
       "26352               1017.20  \n",
       "26664               1015.00  \n",
       "26665               1015.70  \n",
       "...                     ...  \n",
       "95575               1024.20  \n",
       "95576               1023.70  \n",
       "95577               1023.06  \n",
       "95578               1022.49  \n",
       "96247               1026.20  \n",
       "\n",
       "[271 rows x 9 columns]"
      ]
     },
     "execution_count": 28,
     "metadata": {},
     "output_type": "execute_result"
    }
   ],
   "source": [
    "# providing variable clear outliers\n",
    "# filters the DataFrame `df` to select rows where the value in the \"Summary\" column is equal to \n",
    "#\"Clear\" and the value in the \"Visibility (km)\" column is equal to 0.\n",
    "# The resulting DataFrame, named \"Clear_outliers\",  will contain only those rows that meet both of these conditions.\n",
    "Clear_outliers = df.loc[(df.Summary == 'Clear') & (df[\"Visibility (km)\"] == 0)]\n",
    "Clear_outliers"
   ]
  },
  {
   "cell_type": "markdown",
   "metadata": {
    "id": "kvC9tyDxh2oI"
   },
   "source": [
    "Change the visibility with the median below, there are 271 outliers"
   ]
  },
  {
   "cell_type": "code",
   "execution_count": 29,
   "metadata": {
    "tags": []
   },
   "outputs": [
    {
     "data": {
      "text/plain": [
       "11.442632631288513"
      ]
     },
     "execution_count": 29,
     "metadata": {},
     "output_type": "execute_result"
    }
   ],
   "source": [
    "# check mean values for summary == clear\n",
    "clear_mean= df.loc[(df.Summary == 'Clear'),'Visibility (km)'].mean()\n",
    "clear_mean"
   ]
  },
  {
   "cell_type": "code",
   "execution_count": 30,
   "metadata": {
    "id": "GSA04zv2vjDx"
   },
   "outputs": [],
   "source": [
    "# select the appropriate column and replace the Visibility values 0 -> 10.26 \n",
    "df.loc[df.Summary == 'Clear',\"Visibility (km)\"] = df.loc[df.Summary == 'Clear',\"Visibility (km)\"].replace((0,clear_mean))"
   ]
  },
  {
   "cell_type": "code",
   "execution_count": 31,
   "metadata": {
    "tags": []
   },
   "outputs": [
    {
     "data": {
      "text/plain": [
       "0"
      ]
     },
     "execution_count": 31,
     "metadata": {},
     "output_type": "execute_result"
    }
   ],
   "source": [
    "# check if it replaced properly, if so it return 0\n",
    "len(df.loc[(df.Summary == 'Clear') & (df[\"Visibility (km)\"] == 0)])"
   ]
  },
  {
   "cell_type": "code",
   "execution_count": 32,
   "metadata": {
    "colab": {
     "base_uri": "https://localhost:8080/",
     "height": 1000
    },
    "id": "8HbDUDN3W-6Q",
    "outputId": "ccc32c59-0503-4fcf-82c8-19c17fc1636d"
   },
   "outputs": [
    {
     "data": {
      "text/plain": [
       "36"
      ]
     },
     "execution_count": 32,
     "metadata": {},
     "output_type": "execute_result"
    }
   ],
   "source": [
    "# check the values of invalid visibility in mostly cloudy\n",
    "mostly_outliers = df.loc[((df.Summary == 'Mostly Cloudy') & (df[\"Visibility (km)\"] == 0))]\n",
    "len(mostly_outliers) "
   ]
  },
  {
   "cell_type": "markdown",
   "metadata": {},
   "source": [
    "There are 36 incorrect values, change the visibility with the median below"
   ]
  },
  {
   "cell_type": "code",
   "execution_count": 33,
   "metadata": {
    "tags": []
   },
   "outputs": [
    {
     "data": {
      "text/plain": [
       "11.117233957428631"
      ]
     },
     "execution_count": 33,
     "metadata": {},
     "output_type": "execute_result"
    }
   ],
   "source": [
    "# check mean for Mostlu Cloudly\n",
    "mostly_mean = df.loc[(df.Summary == 'Mostly Cloudy'),'Visibility (km)'].mean()\n",
    "mostly_mean"
   ]
  },
  {
   "cell_type": "code",
   "execution_count": 34,
   "metadata": {},
   "outputs": [],
   "source": [
    "# replace 0 with mostly_median, Visibility 0 -> 10,35\n",
    "df.loc[df.Summary == 'Mostly Cloudy',\"Visibility (km)\"] = df.loc[df.Summary == 'Mostly Cloudy',\"Visibility (km)\"].replace((0,mostly_mean))"
   ]
  },
  {
   "cell_type": "code",
   "execution_count": 35,
   "metadata": {
    "tags": []
   },
   "outputs": [
    {
     "data": {
      "text/plain": [
       "0"
      ]
     },
     "execution_count": 35,
     "metadata": {},
     "output_type": "execute_result"
    }
   ],
   "source": [
    "# check if it replaced properly, if so it return 0\n",
    "len(df.loc[((df.Summary == 'Mostly Cloudy') & (df[\"Visibility (km)\"] == 0))])"
   ]
  },
  {
   "cell_type": "code",
   "execution_count": 36,
   "metadata": {
    "tags": []
   },
   "outputs": [
    {
     "data": {
      "text/plain": [
       "27"
      ]
     },
     "execution_count": 36,
     "metadata": {},
     "output_type": "execute_result"
    }
   ],
   "source": [
    "# similarly as above, we make the same changes for Partly Cloudy\n",
    "partly_outliers = df.loc[((df.Summary == 'Partly Cloudy') & (df[\"Visibility (km)\"] == 0))]\n",
    "len(partly_outliers) "
   ]
  },
  {
   "cell_type": "code",
   "execution_count": 37,
   "metadata": {
    "tags": []
   },
   "outputs": [],
   "source": [
    "partly_mean = df.loc[(df.Summary == 'Partly Cloudy'),'Visibility (km)'].mean()\n",
    "df.loc[df.Summary == 'Partly Cloudy',\"Visibility (km)\"] = df.loc[df.Summary == 'Partly Cloudy',\"Visibility (km)\"].replace((0,partly_mean))"
   ]
  },
  {
   "cell_type": "code",
   "execution_count": 38,
   "metadata": {},
   "outputs": [
    {
     "data": {
      "text/plain": [
       "Text(0.5, 1.0, 'Dependence of visibility on weather conditions')"
      ]
     },
     "execution_count": 38,
     "metadata": {},
     "output_type": "execute_result"
    },
    {
     "data": {
      "image/png": "[encoded data removed]",
      "text/plain": [
       "<Figure size 1500x1000 with 1 Axes>"
      ]
     },
     "metadata": {},
     "output_type": "display_data"
    }
   ],
   "source": [
    "# checking value after cleaning \n",
    "fig,ax=plt.subplots(figsize=(15,10))\n",
    "\n",
    "sns.set_style('darkgrid')\n",
    "sns.boxplot(x='Summary',y='Visibility (km)',data=df, palette =\"Blues\")\n",
    "ax.xaxis.set_tick_params(rotation=45)\n",
    "plt.title('Dependence of visibility on weather conditions', fontsize = \"18\")"
   ]
  },
  {
   "cell_type": "markdown",
   "metadata": {},
   "source": [
    "The boxplot shows the lack of the above outliers"
   ]
  },
  {
   "cell_type": "code",
   "execution_count": 39,
   "metadata": {
    "colab": {
     "base_uri": "https://localhost:8080/"
    },
    "id": "K03-RerMq2ZF",
    "outputId": "9498c7dd-45e6-48e6-acae-c9a149c76f7a"
   },
   "outputs": [
    {
     "data": {
      "text/plain": [
       "rain           85200\n",
       "snow           10712\n",
       "lack precip      517\n",
       "Name: Precip Type, dtype: int64"
      ]
     },
     "execution_count": 39,
     "metadata": {},
     "output_type": "execute_result"
    }
   ],
   "source": [
    "# Let's see how the Precip Type looks on the chart and how much of it is represented as a percentage.\n",
    "df['Precip Type'].value_counts()"
   ]
  },
  {
   "cell_type": "code",
   "execution_count": 40,
   "metadata": {
    "colab": {
     "base_uri": "https://localhost:8080/",
     "height": 810
    },
    "id": "wBzaFyBaq239",
    "outputId": "88bad7d5-054f-4c50-8443-b2b584b1d4b4"
   },
   "outputs": [
    {
     "data": {
      "image/png": "[encoded data removed]",
      "text/plain": [
       "<Figure size 1500x800 with 2 Axes>"
      ]
     },
     "metadata": {},
     "output_type": "display_data"
    }
   ],
   "source": [
    "# check the data count and percentage ratio for Precip type on the chart, in the same way as before\n",
    "fig, ax = plt.subplots(1, 2, figsize=(15,8))\n",
    "x=df['Precip Type'].value_counts().index\n",
    "y=df['Precip Type'].value_counts().values.tolist()\n",
    "data = df.groupby(\"Precip Type\").size()\n",
    "\n",
    "sns.set(style=\"dark\", color_codes=True)\n",
    "pal = sns.color_palette(\"Blues\", len(data))\n",
    "rank = data.argsort().argsort()\n",
    "\n",
    "# Create a barplot\n",
    "sns.barplot(x=x,y=y,palette=np.array(pal[::-1])[rank],ax = ax[0])\n",
    "# Assign values to bars\n",
    "for p in ax[0].patches:\n",
    "        ax[0].annotate('{:.0f}'.format(p.get_height()), (p.get_x()+0.4, p.get_height()),\n",
    "                    ha='center', va='bottom',\n",
    "                    color= 'black')\n",
    "\n",
    "ax[0].set_xlabel('Precip Type',weight='semibold', fontname = 'monospace')\n",
    "ax[0].set_ylabel('count',weight='semibold', fontname = 'monospace')\n",
    "ax[0].xaxis.set_tick_params(rotation=90)\n",
    "ax[0].grid()\n",
    "\n",
    "# Create a pie chart,\n",
    "_, _, autotexts= ax[1].pie(y, labels = x, colors = np.array(pal[::-1])[rank], autopct='%1.1f%%',\n",
    "        explode=[0,.01, 0.01])\n",
    "\n",
    "\n",
    "plt.legend(bbox_to_anchor=(1, 1))\n",
    "plt.suptitle ('Types of precipitation ',weight = 'bold')\n",
    "plt.show()"
   ]
  },
  {
   "cell_type": "markdown",
   "metadata": {
    "id": "0QWvCmBUq7Rd"
   },
   "source": [
    "Observation: The most common type of precipitation is rain."
   ]
  },
  {
   "cell_type": "code",
   "execution_count": 41,
   "metadata": {
    "colab": {
     "base_uri": "https://localhost:8080/",
     "height": 538
    },
    "id": "5n-WE7gvC-gs",
    "outputId": "8a154388-509f-43c5-92c8-3c0ef211f950"
   },
   "outputs": [
    {
     "data": {
      "text/plain": [
       "Text(0.5, 1.0, 'Dependence of visibility on weather conditions')"
      ]
     },
     "execution_count": 41,
     "metadata": {},
     "output_type": "execute_result"
    },
    {
     "data": {
      "image/png": "[encoded data removed]",
      "text/plain": [
       "<Figure size 700x500 with 1 Axes>"
      ]
     },
     "metadata": {},
     "output_type": "display_data"
    }
   ],
   "source": [
    "# check the distribution of data - 'Precip Type' in a boxplot \n",
    "\n",
    "fig,ax=plt.subplots(figsize=(7,5))\n",
    "\n",
    "sns.set_style('darkgrid')\n",
    "sns.boxplot(x='Precip Type',y='Visibility (km)',data=df, palette =\"Blues\")\n",
    "ax.xaxis.set_tick_params(rotation=45)\n",
    "plt.title('Dependence of visibility on weather conditions', fontsize = \"15\")"
   ]
  },
  {
   "cell_type": "markdown",
   "metadata": {
    "id": "Zviv1lG6IzO5"
   },
   "source": [
    "Observation: Snow reduces visibility more than rain, outliers for rain and no precipitation are visible, but they may be related to other atomospheric phenomena, e.g. fog"
   ]
  },
  {
   "cell_type": "markdown",
   "metadata": {
    "id": "uxKhtKw44ODM"
   },
   "source": [
    "## Exploring Numerical/Float variables"
   ]
  },
  {
   "cell_type": "code",
   "execution_count": 42,
   "metadata": {
    "colab": {
     "base_uri": "https://localhost:8080/",
     "height": 1000
    },
    "id": "CH4icEDcg6Gf",
    "outputId": "f74f183b-8fa9-4585-d257-c4f86fc29bc9"
   },
   "outputs": [
    {
     "data": {
      "text/plain": [
       "array([[<Axes: title={'center': 'Temperature (C)'}>,\n",
       "        <Axes: title={'center': 'Humidity'}>],\n",
       "       [<Axes: title={'center': 'Wind Speed (km/h)'}>,\n",
       "        <Axes: title={'center': 'Wind Bearing (degrees)'}>],\n",
       "       [<Axes: title={'center': 'Visibility (km)'}>,\n",
       "        <Axes: title={'center': 'Pressure (millibars)'}>]], dtype=object)"
      ]
     },
     "execution_count": 42,
     "metadata": {},
     "output_type": "execute_result"
    },
    {
     "data": {
      "image/png": "[encoded data removed]",
      "text/plain": [
       "<Figure size 1600x2000 with 6 Axes>"
      ]
     },
     "metadata": {},
     "output_type": "display_data"
    }
   ],
   "source": [
    "# generates histograms for each numerical column in the DataFrame `df`. The histograms are displayed in a grid layout with a figure size of (16, 20). \n",
    "# The `bins` parameter specifies the number of bins to use for each histogram. The `xlabelsize` and `ylabelsize` parameters control the size of the x-axis and y-axis labels, respectively.\n",
    "\n",
    "df.hist(figsize=(16, 20), bins=50, xlabelsize=8, ylabelsize=8)"
   ]
  },
  {
   "cell_type": "markdown",
   "metadata": {},
   "source": [
    "Out of pressure observations look reasonable, let's check the pressure more closely"
   ]
  },
  {
   "cell_type": "code",
   "execution_count": 43,
   "metadata": {
    "colab": {
     "base_uri": "https://localhost:8080/",
     "height": 475
    },
    "id": "Q8cgqrZShFZk",
    "outputId": "48c702f6-db97-4719-e38d-9f6e2049f89d"
   },
   "outputs": [
    {
     "data": {
      "text/plain": [
       "<Axes: xlabel='Pressure (millibars)', ylabel='Density'>"
      ]
     },
     "execution_count": 43,
     "metadata": {},
     "output_type": "execute_result"
    },
    {
     "data": {
      "image/png": "[encoded data removed]",
      "text/plain": [
       "<Figure size 640x480 with 1 Axes>"
      ]
     },
     "metadata": {},
     "output_type": "display_data"
    }
   ],
   "source": [
    "sns.distplot(df['Pressure (millibars)']) # the histogram and density function into one graph"
   ]
  },
  {
   "cell_type": "markdown",
   "metadata": {},
   "source": [
    "Pressure contains incorrect 0 values, they will be supplemented with an average pressure value"
   ]
  },
  {
   "cell_type": "code",
   "execution_count": 44,
   "metadata": {},
   "outputs": [],
   "source": [
    "# calculation of the average value for the pressure\n",
    "pressure_median = df['Pressure (millibars)'].median()"
   ]
  },
  {
   "cell_type": "code",
   "execution_count": 45,
   "metadata": {},
   "outputs": [],
   "source": [
    "# replacing 0 with the median value calculated above\n",
    "df['Pressure (millibars)'].replace((0,pressure_median), inplace = True)"
   ]
  },
  {
   "cell_type": "code",
   "execution_count": 46,
   "metadata": {
    "id": "F3Ktdj_NFH9F"
   },
   "outputs": [
    {
     "data": {
      "text/plain": [
       "<Axes: xlabel='Pressure (millibars)', ylabel='Density'>"
      ]
     },
     "execution_count": 46,
     "metadata": {},
     "output_type": "execute_result"
    },
    {
     "data": {
      "image/png": "[encoded data removed]",
      "text/plain": [
       "<Figure size 640x480 with 1 Axes>"
      ]
     },
     "metadata": {},
     "output_type": "display_data"
    }
   ],
   "source": [
    "# checking the distribution on the chart after supplementing outliers\n",
    "sns.distplot(df['Pressure (millibars)'])"
   ]
  },
  {
   "cell_type": "markdown",
   "metadata": {
    "id": "2ru8TI2R-QeU"
   },
   "source": [
    "# Feature Scaling\n",
    "* preprocessing technique used in machine learning to standardize or normalize the range of features (variables) in a dataset. It involves transforming the values of different features so that they are on a similar scale. This is important because many machine learning algorithms perform better or converge faster when the features are on a similar scale."
   ]
  },
  {
   "cell_type": "code",
   "execution_count": 47,
   "metadata": {
    "colab": {
     "base_uri": "https://localhost:8080/"
    },
    "id": "wJrpPzkz6nBG",
    "outputId": "922c274c-f04c-46e8-81d8-a25d0c7a3ec9"
   },
   "outputs": [
    {
     "data": {
      "text/plain": [
       "Index(['Formatted Date', 'Summary', 'Precip Type', 'Temperature (C)',\n",
       "       'Humidity', 'Wind Speed (km/h)', 'Wind Bearing (degrees)',\n",
       "       'Visibility (km)', 'Pressure (millibars)'],\n",
       "      dtype='object')"
      ]
     },
     "execution_count": 47,
     "metadata": {},
     "output_type": "execute_result"
    }
   ],
   "source": [
    "# checking column names after data cleaning\n",
    "df.columns"
   ]
  },
  {
   "cell_type": "code",
   "execution_count": 48,
   "metadata": {
    "id": "SG-AXvo0O8AW"
   },
   "outputs": [],
   "source": [
    "# prepare variable\n",
    "# assigns the values from the \"Visibility (km)\" column of the DataFrame to the variable `y`. \n",
    "# This column represents the target variable, which is the variable we want to predict or model.\n",
    "y = df['Visibility (km)'] \n",
    "\n",
    "# the features excluding the target variable, columns represent the features or independent variables that will be used to predict the target variable. \n",
    "X = df[['Summary', 'Precip Type', 'Temperature (C)',\n",
    "       'Humidity', 'Wind Speed (km/h)', 'Wind Bearing (degrees)','Pressure (millibars)']] "
   ]
  },
  {
   "cell_type": "markdown",
   "metadata": {},
   "source": [
    "By separating the target variable `y` and the features `X`, we are preparing the data for a machine learning algorithm. The features `X` will be used to train the model, while the target variable `y` will be used to evaluate the performance of the model's predictions"
   ]
  },
  {
   "cell_type": "code",
   "execution_count": 49,
   "metadata": {
    "id": "fJboaN4uP5d0"
   },
   "outputs": [],
   "source": [
    "# split data into train and test with an 8:2 ratio,  the `train_test_split` function from the scikit-learn library is being used to split the data into training and testing sets.\n",
    "X_train, X_test, y_train, y_test = train_test_split(X,y,test_size=0.2,random_state=111)"
   ]
  },
  {
   "cell_type": "code",
   "execution_count": 50,
   "metadata": {
    "colab": {
     "base_uri": "https://localhost:8080/",
     "height": 423
    },
    "id": "USCCZrQ1uiJw",
    "outputId": "dcd2b67d-9a36-484d-a78f-a56e38853d45"
   },
   "outputs": [
    {
     "data": {
      "text/plain": [
       "77143"
      ]
     },
     "execution_count": 50,
     "metadata": {},
     "output_type": "execute_result"
    }
   ],
   "source": [
    "# checking X_train data len\n",
    "len(X_train)"
   ]
  },
  {
   "cell_type": "code",
   "execution_count": 51,
   "metadata": {
    "tags": []
   },
   "outputs": [
    {
     "data": {
      "text/plain": [
       "19286"
      ]
     },
     "execution_count": 51,
     "metadata": {},
     "output_type": "execute_result"
    }
   ],
   "source": [
    "# checking X_test data len\n",
    "len(X_test)"
   ]
  },
  {
   "cell_type": "markdown",
   "metadata": {},
   "source": [
    "* By splitting the data into training and testing sets, we can evaluate the performance of the machine learning model on unseen data and assess its generalization capabilities."
   ]
  },
  {
   "cell_type": "markdown",
   "metadata": {},
   "source": [
    "## * train part preparation "
   ]
  },
  {
   "cell_type": "code",
   "execution_count": 52,
   "metadata": {
    "id": "RxhPKcSxnajN"
   },
   "outputs": [],
   "source": [
    "# reset the indexes to be sequential\n",
    "X_train.reset_index(drop=True, inplace=True)\n",
    "y_train.reset_index(drop=True, inplace=True)"
   ]
  },
  {
   "cell_type": "markdown",
   "metadata": {},
   "source": [
    "the data has been split correctly"
   ]
  },
  {
   "cell_type": "markdown",
   "metadata": {},
   "source": [
    "### Encode categorical features as a one-hot numeric array"
   ]
  },
  {
   "cell_type": "code",
   "execution_count": 53,
   "metadata": {
    "id": "wjvUSdAzwcu6"
   },
   "outputs": [],
   "source": [
    "# encode categorical features as a one-hot numeric array\n",
    "ohe = OneHotEncoder()"
   ]
  },
  {
   "cell_type": "markdown",
   "metadata": {},
   "source": [
    "* `OneHotEncoder` class is used to perform one-hot encoding on categorical features. One-hot encoding is a process of converting categorical variables into a binary vector representation, which can be understood and used by machine learning algorithms."
   ]
  },
  {
   "cell_type": "code",
   "execution_count": 54,
   "metadata": {
    "id": "xAAPo61lZ298"
   },
   "outputs": [],
   "source": [
    "# This creates a binary column for each category and returns a sparse matrix or dense array (depending on the sparse_output parameter)\n",
    "# fit_transform - Fit to data, then transform it.\n",
    "\n",
    "feature_array = ohe.fit_transform(X_train[['Summary', 'Precip Type']]).toarray()"
   ]
  },
  {
   "cell_type": "code",
   "execution_count": 55,
   "metadata": {
    "colab": {
     "base_uri": "https://localhost:8080/"
    },
    "id": "AilQYRLrZ3B-",
    "outputId": "70029e82-f61a-4eae-ba83-0e06fe4c9443"
   },
   "outputs": [
    {
     "data": {
      "text/plain": [
       "[array(['Breezy and Mostly Cloudy', 'Breezy and Overcast',\n",
       "        'Breezy and Partly Cloudy', 'Clear', 'Foggy', 'Mostly Cloudy',\n",
       "        'Other', 'Overcast', 'Partly Cloudy'], dtype=object),\n",
       " array(['lack precip', 'rain', 'snow'], dtype=object)]"
      ]
     },
     "execution_count": 55,
     "metadata": {},
     "output_type": "execute_result"
    }
   ],
   "source": [
    "# checking the category by fit model\n",
    "ohe.categories_"
   ]
  },
  {
   "cell_type": "markdown",
   "metadata": {},
   "source": [
    "two data array have been obtained, which should be merged into one"
   ]
  },
  {
   "cell_type": "code",
   "execution_count": 56,
   "metadata": {
    "id": "QoA-51XaZ3Dl"
   },
   "outputs": [],
   "source": [
    "feature_labels = ohe.categories_"
   ]
  },
  {
   "cell_type": "code",
   "execution_count": 57,
   "metadata": {
    "colab": {
     "base_uri": "https://localhost:8080/"
    },
    "id": "m1MF0u_zasZt",
    "outputId": "9b35148d-dcc3-468a-af12-beb31f642086"
   },
   "outputs": [
    {
     "name": "stdout",
     "output_type": "stream",
     "text": [
      "['Breezy and Mostly Cloudy' 'Breezy and Overcast'\n",
      " 'Breezy and Partly Cloudy' 'Clear' 'Foggy' 'Mostly Cloudy' 'Other'\n",
      " 'Overcast' 'Partly Cloudy' 'lack precip' 'rain' 'snow']\n"
     ]
    }
   ],
   "source": [
    "# Stack arrays in sequence horizontally (column wise).\n",
    "feature_labels = np.hstack(feature_labels)\n",
    "print(feature_labels)"
   ]
  },
  {
   "cell_type": "markdown",
   "metadata": {},
   "source": [
    "* one array was created from the previous two\n",
    "*  `feature_labels = np.hstack(feature_labels)` is used to concatenate or combine the individual elements in the `feature_labels` array into a single array along the second axis. "
   ]
  },
  {
   "cell_type": "code",
   "execution_count": 58,
   "metadata": {
    "colab": {
     "base_uri": "https://localhost:8080/",
     "height": 206
    },
    "id": "JnCi5JJMjLFG",
    "outputId": "c03b6aeb-bc55-405b-f5dd-a2a66496f8c4"
   },
   "outputs": [
    {
     "data": {
      "text/html": [
       "<div>\n",
       "<style scoped>\n",
       "    .dataframe tbody tr th:only-of-type {\n",
       "        vertical-align: middle;\n",
       "    }\n",
       "\n",
       "    .dataframe tbody tr th {\n",
       "        vertical-align: top;\n",
       "    }\n",
       "\n",
       "    .dataframe thead th {\n",
       "        text-align: right;\n",
       "    }\n",
       "</style>\n",
       "<table border=\"1\" class=\"dataframe\">\n",
       "  <thead>\n",
       "    <tr style=\"text-align: right;\">\n",
       "      <th></th>\n",
       "      <th>Breezy and Mostly Cloudy</th>\n",
       "      <th>Breezy and Overcast</th>\n",
       "      <th>Breezy and Partly Cloudy</th>\n",
       "      <th>Clear</th>\n",
       "      <th>Foggy</th>\n",
       "      <th>Mostly Cloudy</th>\n",
       "      <th>Other</th>\n",
       "      <th>Overcast</th>\n",
       "      <th>Partly Cloudy</th>\n",
       "      <th>lack precip</th>\n",
       "      <th>rain</th>\n",
       "      <th>snow</th>\n",
       "    </tr>\n",
       "  </thead>\n",
       "  <tbody>\n",
       "    <tr>\n",
       "      <th>0</th>\n",
       "      <td>0.00</td>\n",
       "      <td>0.00</td>\n",
       "      <td>0.00</td>\n",
       "      <td>0.00</td>\n",
       "      <td>0.00</td>\n",
       "      <td>0.00</td>\n",
       "      <td>0.00</td>\n",
       "      <td>1.00</td>\n",
       "      <td>0.00</td>\n",
       "      <td>0.00</td>\n",
       "      <td>1.00</td>\n",
       "      <td>0.00</td>\n",
       "    </tr>\n",
       "    <tr>\n",
       "      <th>1</th>\n",
       "      <td>0.00</td>\n",
       "      <td>0.00</td>\n",
       "      <td>0.00</td>\n",
       "      <td>0.00</td>\n",
       "      <td>0.00</td>\n",
       "      <td>0.00</td>\n",
       "      <td>0.00</td>\n",
       "      <td>0.00</td>\n",
       "      <td>1.00</td>\n",
       "      <td>0.00</td>\n",
       "      <td>1.00</td>\n",
       "      <td>0.00</td>\n",
       "    </tr>\n",
       "    <tr>\n",
       "      <th>2</th>\n",
       "      <td>0.00</td>\n",
       "      <td>0.00</td>\n",
       "      <td>0.00</td>\n",
       "      <td>0.00</td>\n",
       "      <td>0.00</td>\n",
       "      <td>0.00</td>\n",
       "      <td>0.00</td>\n",
       "      <td>1.00</td>\n",
       "      <td>0.00</td>\n",
       "      <td>0.00</td>\n",
       "      <td>1.00</td>\n",
       "      <td>0.00</td>\n",
       "    </tr>\n",
       "    <tr>\n",
       "      <th>3</th>\n",
       "      <td>0.00</td>\n",
       "      <td>0.00</td>\n",
       "      <td>0.00</td>\n",
       "      <td>0.00</td>\n",
       "      <td>0.00</td>\n",
       "      <td>1.00</td>\n",
       "      <td>0.00</td>\n",
       "      <td>0.00</td>\n",
       "      <td>0.00</td>\n",
       "      <td>0.00</td>\n",
       "      <td>0.00</td>\n",
       "      <td>1.00</td>\n",
       "    </tr>\n",
       "    <tr>\n",
       "      <th>4</th>\n",
       "      <td>0.00</td>\n",
       "      <td>0.00</td>\n",
       "      <td>0.00</td>\n",
       "      <td>1.00</td>\n",
       "      <td>0.00</td>\n",
       "      <td>0.00</td>\n",
       "      <td>0.00</td>\n",
       "      <td>0.00</td>\n",
       "      <td>0.00</td>\n",
       "      <td>0.00</td>\n",
       "      <td>1.00</td>\n",
       "      <td>0.00</td>\n",
       "    </tr>\n",
       "  </tbody>\n",
       "</table>\n",
       "</div>"
      ],
      "text/plain": [
       "   Breezy and Mostly Cloudy  Breezy and Overcast  Breezy and Partly Cloudy  \\\n",
       "0                      0.00                 0.00                      0.00   \n",
       "1                      0.00                 0.00                      0.00   \n",
       "2                      0.00                 0.00                      0.00   \n",
       "3                      0.00                 0.00                      0.00   \n",
       "4                      0.00                 0.00                      0.00   \n",
       "\n",
       "   Clear  Foggy  Mostly Cloudy  Other  Overcast  Partly Cloudy  lack precip  \\\n",
       "0   0.00   0.00           0.00   0.00      1.00           0.00         0.00   \n",
       "1   0.00   0.00           0.00   0.00      0.00           1.00         0.00   \n",
       "2   0.00   0.00           0.00   0.00      1.00           0.00         0.00   \n",
       "3   0.00   0.00           1.00   0.00      0.00           0.00         0.00   \n",
       "4   1.00   0.00           0.00   0.00      0.00           0.00         0.00   \n",
       "\n",
       "   rain  snow  \n",
       "0  1.00  0.00  \n",
       "1  1.00  0.00  \n",
       "2  1.00  0.00  \n",
       "3  0.00  1.00  \n",
       "4  1.00  0.00  "
      ]
     },
     "execution_count": 58,
     "metadata": {},
     "output_type": "execute_result"
    }
   ],
   "source": [
    "# Constructing DataFrame\n",
    "features = pd.DataFrame(feature_array, columns = feature_labels)\n",
    "features.head()"
   ]
  },
  {
   "cell_type": "code",
   "execution_count": 59,
   "metadata": {
    "id": "aFPiwrLzsNVB"
   },
   "outputs": [],
   "source": [
    "# removing columns\n",
    "X_train.drop(X_train[['Summary','Precip Type']],axis = 1,inplace = True)"
   ]
  },
  {
   "cell_type": "code",
   "execution_count": 60,
   "metadata": {
    "tags": []
   },
   "outputs": [
    {
     "data": {
      "text/html": [
       "<div>\n",
       "<style scoped>\n",
       "    .dataframe tbody tr th:only-of-type {\n",
       "        vertical-align: middle;\n",
       "    }\n",
       "\n",
       "    .dataframe tbody tr th {\n",
       "        vertical-align: top;\n",
       "    }\n",
       "\n",
       "    .dataframe thead th {\n",
       "        text-align: right;\n",
       "    }\n",
       "</style>\n",
       "<table border=\"1\" class=\"dataframe\">\n",
       "  <thead>\n",
       "    <tr style=\"text-align: right;\">\n",
       "      <th></th>\n",
       "      <th>Temperature (C)</th>\n",
       "      <th>Humidity</th>\n",
       "      <th>Wind Speed (km/h)</th>\n",
       "      <th>Wind Bearing (degrees)</th>\n",
       "      <th>Pressure (millibars)</th>\n",
       "    </tr>\n",
       "  </thead>\n",
       "  <tbody>\n",
       "    <tr>\n",
       "      <th>0</th>\n",
       "      <td>17.98</td>\n",
       "      <td>0.88</td>\n",
       "      <td>16.20</td>\n",
       "      <td>220.00</td>\n",
       "      <td>1003.70</td>\n",
       "    </tr>\n",
       "    <tr>\n",
       "      <th>1</th>\n",
       "      <td>22.80</td>\n",
       "      <td>0.70</td>\n",
       "      <td>9.66</td>\n",
       "      <td>328.00</td>\n",
       "      <td>1011.94</td>\n",
       "    </tr>\n",
       "    <tr>\n",
       "      <th>2</th>\n",
       "      <td>19.84</td>\n",
       "      <td>0.69</td>\n",
       "      <td>13.96</td>\n",
       "      <td>19.00</td>\n",
       "      <td>1014.57</td>\n",
       "    </tr>\n",
       "    <tr>\n",
       "      <th>3</th>\n",
       "      <td>-8.75</td>\n",
       "      <td>0.92</td>\n",
       "      <td>14.02</td>\n",
       "      <td>80.00</td>\n",
       "      <td>1003.49</td>\n",
       "    </tr>\n",
       "    <tr>\n",
       "      <th>4</th>\n",
       "      <td>9.06</td>\n",
       "      <td>0.71</td>\n",
       "      <td>3.38</td>\n",
       "      <td>187.00</td>\n",
       "      <td>1023.32</td>\n",
       "    </tr>\n",
       "    <tr>\n",
       "      <th>...</th>\n",
       "      <td>...</td>\n",
       "      <td>...</td>\n",
       "      <td>...</td>\n",
       "      <td>...</td>\n",
       "      <td>...</td>\n",
       "    </tr>\n",
       "    <tr>\n",
       "      <th>77138</th>\n",
       "      <td>4.84</td>\n",
       "      <td>0.77</td>\n",
       "      <td>10.85</td>\n",
       "      <td>139.00</td>\n",
       "      <td>1022.10</td>\n",
       "    </tr>\n",
       "    <tr>\n",
       "      <th>77139</th>\n",
       "      <td>8.94</td>\n",
       "      <td>0.72</td>\n",
       "      <td>12.83</td>\n",
       "      <td>30.00</td>\n",
       "      <td>1029.10</td>\n",
       "    </tr>\n",
       "    <tr>\n",
       "      <th>77140</th>\n",
       "      <td>28.13</td>\n",
       "      <td>0.65</td>\n",
       "      <td>7.76</td>\n",
       "      <td>160.00</td>\n",
       "      <td>1015.53</td>\n",
       "    </tr>\n",
       "    <tr>\n",
       "      <th>77141</th>\n",
       "      <td>23.97</td>\n",
       "      <td>0.50</td>\n",
       "      <td>14.91</td>\n",
       "      <td>343.00</td>\n",
       "      <td>1009.49</td>\n",
       "    </tr>\n",
       "    <tr>\n",
       "      <th>77142</th>\n",
       "      <td>17.87</td>\n",
       "      <td>0.64</td>\n",
       "      <td>7.47</td>\n",
       "      <td>28.00</td>\n",
       "      <td>1024.72</td>\n",
       "    </tr>\n",
       "  </tbody>\n",
       "</table>\n",
       "<p>77143 rows × 5 columns</p>\n",
       "</div>"
      ],
      "text/plain": [
       "       Temperature (C)  Humidity  Wind Speed (km/h)  Wind Bearing (degrees)  \\\n",
       "0                17.98      0.88              16.20                  220.00   \n",
       "1                22.80      0.70               9.66                  328.00   \n",
       "2                19.84      0.69              13.96                   19.00   \n",
       "3                -8.75      0.92              14.02                   80.00   \n",
       "4                 9.06      0.71               3.38                  187.00   \n",
       "...                ...       ...                ...                     ...   \n",
       "77138             4.84      0.77              10.85                  139.00   \n",
       "77139             8.94      0.72              12.83                   30.00   \n",
       "77140            28.13      0.65               7.76                  160.00   \n",
       "77141            23.97      0.50              14.91                  343.00   \n",
       "77142            17.87      0.64               7.47                   28.00   \n",
       "\n",
       "       Pressure (millibars)  \n",
       "0                   1003.70  \n",
       "1                   1011.94  \n",
       "2                   1014.57  \n",
       "3                   1003.49  \n",
       "4                   1023.32  \n",
       "...                     ...  \n",
       "77138               1022.10  \n",
       "77139               1029.10  \n",
       "77140               1015.53  \n",
       "77141               1009.49  \n",
       "77142               1024.72  \n",
       "\n",
       "[77143 rows x 5 columns]"
      ]
     },
     "execution_count": 60,
     "metadata": {},
     "output_type": "execute_result"
    }
   ],
   "source": [
    "X_train"
   ]
  },
  {
   "cell_type": "code",
   "execution_count": 61,
   "metadata": {
    "id": "FxQymO9PVtut",
    "tags": []
   },
   "outputs": [],
   "source": [
    "# standardize features by removing the mean and scaling to unit variance\n",
    "scaler = StandardScaler()\n",
    "# fits the scaler to the training data\n",
    "scaler.fit(X_train) \n",
    "# takes X_train_enc as input and scales it using the mean and standard deviation calculated during the fit() step.\n",
    "X_train_sc=scaler.transform(X_train)"
   ]
  },
  {
   "cell_type": "code",
   "execution_count": 62,
   "metadata": {
    "tags": []
   },
   "outputs": [],
   "source": [
    "# Utworzenie DataFrame ze złączenia przeskalowanych danych numerycznych i danych binarnych\n",
    "X_train_sc = pd.DataFrame(X_train_sc, columns=X_train.columns)"
   ]
  },
  {
   "cell_type": "code",
   "execution_count": 63,
   "metadata": {
    "tags": []
   },
   "outputs": [
    {
     "data": {
      "text/html": [
       "<div>\n",
       "<style scoped>\n",
       "    .dataframe tbody tr th:only-of-type {\n",
       "        vertical-align: middle;\n",
       "    }\n",
       "\n",
       "    .dataframe tbody tr th {\n",
       "        vertical-align: top;\n",
       "    }\n",
       "\n",
       "    .dataframe thead th {\n",
       "        text-align: right;\n",
       "    }\n",
       "</style>\n",
       "<table border=\"1\" class=\"dataframe\">\n",
       "  <thead>\n",
       "    <tr style=\"text-align: right;\">\n",
       "      <th></th>\n",
       "      <th>Temperature (C)</th>\n",
       "      <th>Humidity</th>\n",
       "      <th>Wind Speed (km/h)</th>\n",
       "      <th>Wind Bearing (degrees)</th>\n",
       "      <th>Pressure (millibars)</th>\n",
       "    </tr>\n",
       "  </thead>\n",
       "  <tbody>\n",
       "    <tr>\n",
       "      <th>0</th>\n",
       "      <td>0.63</td>\n",
       "      <td>0.74</td>\n",
       "      <td>0.78</td>\n",
       "      <td>0.30</td>\n",
       "      <td>-1.68</td>\n",
       "    </tr>\n",
       "    <tr>\n",
       "      <th>1</th>\n",
       "      <td>1.14</td>\n",
       "      <td>-0.18</td>\n",
       "      <td>-0.16</td>\n",
       "      <td>1.31</td>\n",
       "      <td>-0.63</td>\n",
       "    </tr>\n",
       "    <tr>\n",
       "      <th>2</th>\n",
       "      <td>0.83</td>\n",
       "      <td>-0.23</td>\n",
       "      <td>0.46</td>\n",
       "      <td>-1.57</td>\n",
       "      <td>-0.29</td>\n",
       "    </tr>\n",
       "    <tr>\n",
       "      <th>3</th>\n",
       "      <td>-2.17</td>\n",
       "      <td>0.94</td>\n",
       "      <td>0.47</td>\n",
       "      <td>-1.00</td>\n",
       "      <td>-1.71</td>\n",
       "    </tr>\n",
       "    <tr>\n",
       "      <th>4</th>\n",
       "      <td>-0.30</td>\n",
       "      <td>-0.13</td>\n",
       "      <td>-1.07</td>\n",
       "      <td>-0.01</td>\n",
       "      <td>0.84</td>\n",
       "    </tr>\n",
       "    <tr>\n",
       "      <th>...</th>\n",
       "      <td>...</td>\n",
       "      <td>...</td>\n",
       "      <td>...</td>\n",
       "      <td>...</td>\n",
       "      <td>...</td>\n",
       "    </tr>\n",
       "    <tr>\n",
       "      <th>77138</th>\n",
       "      <td>-0.74</td>\n",
       "      <td>0.18</td>\n",
       "      <td>0.01</td>\n",
       "      <td>-0.45</td>\n",
       "      <td>0.68</td>\n",
       "    </tr>\n",
       "    <tr>\n",
       "      <th>77139</th>\n",
       "      <td>-0.31</td>\n",
       "      <td>-0.08</td>\n",
       "      <td>0.29</td>\n",
       "      <td>-1.47</td>\n",
       "      <td>1.58</td>\n",
       "    </tr>\n",
       "    <tr>\n",
       "      <th>77140</th>\n",
       "      <td>1.70</td>\n",
       "      <td>-0.44</td>\n",
       "      <td>-0.44</td>\n",
       "      <td>-0.26</td>\n",
       "      <td>-0.16</td>\n",
       "    </tr>\n",
       "    <tr>\n",
       "      <th>77141</th>\n",
       "      <td>1.26</td>\n",
       "      <td>-1.20</td>\n",
       "      <td>0.59</td>\n",
       "      <td>1.45</td>\n",
       "      <td>-0.94</td>\n",
       "    </tr>\n",
       "    <tr>\n",
       "      <th>77142</th>\n",
       "      <td>0.62</td>\n",
       "      <td>-0.49</td>\n",
       "      <td>-0.48</td>\n",
       "      <td>-1.49</td>\n",
       "      <td>1.02</td>\n",
       "    </tr>\n",
       "  </tbody>\n",
       "</table>\n",
       "<p>77143 rows × 5 columns</p>\n",
       "</div>"
      ],
      "text/plain": [
       "       Temperature (C)  Humidity  Wind Speed (km/h)  Wind Bearing (degrees)  \\\n",
       "0                 0.63      0.74               0.78                    0.30   \n",
       "1                 1.14     -0.18              -0.16                    1.31   \n",
       "2                 0.83     -0.23               0.46                   -1.57   \n",
       "3                -2.17      0.94               0.47                   -1.00   \n",
       "4                -0.30     -0.13              -1.07                   -0.01   \n",
       "...                ...       ...                ...                     ...   \n",
       "77138            -0.74      0.18               0.01                   -0.45   \n",
       "77139            -0.31     -0.08               0.29                   -1.47   \n",
       "77140             1.70     -0.44              -0.44                   -0.26   \n",
       "77141             1.26     -1.20               0.59                    1.45   \n",
       "77142             0.62     -0.49              -0.48                   -1.49   \n",
       "\n",
       "       Pressure (millibars)  \n",
       "0                     -1.68  \n",
       "1                     -0.63  \n",
       "2                     -0.29  \n",
       "3                     -1.71  \n",
       "4                      0.84  \n",
       "...                     ...  \n",
       "77138                  0.68  \n",
       "77139                  1.58  \n",
       "77140                 -0.16  \n",
       "77141                 -0.94  \n",
       "77142                  1.02  \n",
       "\n",
       "[77143 rows x 5 columns]"
      ]
     },
     "execution_count": 63,
     "metadata": {},
     "output_type": "execute_result"
    }
   ],
   "source": [
    "X_train_sc"
   ]
  },
  {
   "cell_type": "code",
   "execution_count": 64,
   "metadata": {
    "tags": []
   },
   "outputs": [
    {
     "data": {
      "text/html": [
       "<div>\n",
       "<style scoped>\n",
       "    .dataframe tbody tr th:only-of-type {\n",
       "        vertical-align: middle;\n",
       "    }\n",
       "\n",
       "    .dataframe tbody tr th {\n",
       "        vertical-align: top;\n",
       "    }\n",
       "\n",
       "    .dataframe thead th {\n",
       "        text-align: right;\n",
       "    }\n",
       "</style>\n",
       "<table border=\"1\" class=\"dataframe\">\n",
       "  <thead>\n",
       "    <tr style=\"text-align: right;\">\n",
       "      <th></th>\n",
       "      <th>Temperature (C)</th>\n",
       "      <th>Humidity</th>\n",
       "      <th>Wind Speed (km/h)</th>\n",
       "      <th>Wind Bearing (degrees)</th>\n",
       "      <th>Pressure (millibars)</th>\n",
       "      <th>Breezy and Mostly Cloudy</th>\n",
       "      <th>Breezy and Overcast</th>\n",
       "      <th>Breezy and Partly Cloudy</th>\n",
       "      <th>Clear</th>\n",
       "      <th>Foggy</th>\n",
       "      <th>Mostly Cloudy</th>\n",
       "      <th>Other</th>\n",
       "      <th>Overcast</th>\n",
       "      <th>Partly Cloudy</th>\n",
       "      <th>lack precip</th>\n",
       "      <th>rain</th>\n",
       "      <th>snow</th>\n",
       "    </tr>\n",
       "  </thead>\n",
       "  <tbody>\n",
       "    <tr>\n",
       "      <th>0</th>\n",
       "      <td>0.63</td>\n",
       "      <td>0.74</td>\n",
       "      <td>0.78</td>\n",
       "      <td>0.30</td>\n",
       "      <td>-1.68</td>\n",
       "      <td>0.00</td>\n",
       "      <td>0.00</td>\n",
       "      <td>0.00</td>\n",
       "      <td>0.00</td>\n",
       "      <td>0.00</td>\n",
       "      <td>0.00</td>\n",
       "      <td>0.00</td>\n",
       "      <td>1.00</td>\n",
       "      <td>0.00</td>\n",
       "      <td>0.00</td>\n",
       "      <td>1.00</td>\n",
       "      <td>0.00</td>\n",
       "    </tr>\n",
       "    <tr>\n",
       "      <th>1</th>\n",
       "      <td>1.14</td>\n",
       "      <td>-0.18</td>\n",
       "      <td>-0.16</td>\n",
       "      <td>1.31</td>\n",
       "      <td>-0.63</td>\n",
       "      <td>0.00</td>\n",
       "      <td>0.00</td>\n",
       "      <td>0.00</td>\n",
       "      <td>0.00</td>\n",
       "      <td>0.00</td>\n",
       "      <td>0.00</td>\n",
       "      <td>0.00</td>\n",
       "      <td>0.00</td>\n",
       "      <td>1.00</td>\n",
       "      <td>0.00</td>\n",
       "      <td>1.00</td>\n",
       "      <td>0.00</td>\n",
       "    </tr>\n",
       "    <tr>\n",
       "      <th>2</th>\n",
       "      <td>0.83</td>\n",
       "      <td>-0.23</td>\n",
       "      <td>0.46</td>\n",
       "      <td>-1.57</td>\n",
       "      <td>-0.29</td>\n",
       "      <td>0.00</td>\n",
       "      <td>0.00</td>\n",
       "      <td>0.00</td>\n",
       "      <td>0.00</td>\n",
       "      <td>0.00</td>\n",
       "      <td>0.00</td>\n",
       "      <td>0.00</td>\n",
       "      <td>1.00</td>\n",
       "      <td>0.00</td>\n",
       "      <td>0.00</td>\n",
       "      <td>1.00</td>\n",
       "      <td>0.00</td>\n",
       "    </tr>\n",
       "    <tr>\n",
       "      <th>3</th>\n",
       "      <td>-2.17</td>\n",
       "      <td>0.94</td>\n",
       "      <td>0.47</td>\n",
       "      <td>-1.00</td>\n",
       "      <td>-1.71</td>\n",
       "      <td>0.00</td>\n",
       "      <td>0.00</td>\n",
       "      <td>0.00</td>\n",
       "      <td>0.00</td>\n",
       "      <td>0.00</td>\n",
       "      <td>1.00</td>\n",
       "      <td>0.00</td>\n",
       "      <td>0.00</td>\n",
       "      <td>0.00</td>\n",
       "      <td>0.00</td>\n",
       "      <td>0.00</td>\n",
       "      <td>1.00</td>\n",
       "    </tr>\n",
       "    <tr>\n",
       "      <th>4</th>\n",
       "      <td>-0.30</td>\n",
       "      <td>-0.13</td>\n",
       "      <td>-1.07</td>\n",
       "      <td>-0.01</td>\n",
       "      <td>0.84</td>\n",
       "      <td>0.00</td>\n",
       "      <td>0.00</td>\n",
       "      <td>0.00</td>\n",
       "      <td>1.00</td>\n",
       "      <td>0.00</td>\n",
       "      <td>0.00</td>\n",
       "      <td>0.00</td>\n",
       "      <td>0.00</td>\n",
       "      <td>0.00</td>\n",
       "      <td>0.00</td>\n",
       "      <td>1.00</td>\n",
       "      <td>0.00</td>\n",
       "    </tr>\n",
       "    <tr>\n",
       "      <th>...</th>\n",
       "      <td>...</td>\n",
       "      <td>...</td>\n",
       "      <td>...</td>\n",
       "      <td>...</td>\n",
       "      <td>...</td>\n",
       "      <td>...</td>\n",
       "      <td>...</td>\n",
       "      <td>...</td>\n",
       "      <td>...</td>\n",
       "      <td>...</td>\n",
       "      <td>...</td>\n",
       "      <td>...</td>\n",
       "      <td>...</td>\n",
       "      <td>...</td>\n",
       "      <td>...</td>\n",
       "      <td>...</td>\n",
       "      <td>...</td>\n",
       "    </tr>\n",
       "    <tr>\n",
       "      <th>77138</th>\n",
       "      <td>-0.74</td>\n",
       "      <td>0.18</td>\n",
       "      <td>0.01</td>\n",
       "      <td>-0.45</td>\n",
       "      <td>0.68</td>\n",
       "      <td>0.00</td>\n",
       "      <td>0.00</td>\n",
       "      <td>0.00</td>\n",
       "      <td>0.00</td>\n",
       "      <td>0.00</td>\n",
       "      <td>1.00</td>\n",
       "      <td>0.00</td>\n",
       "      <td>0.00</td>\n",
       "      <td>0.00</td>\n",
       "      <td>0.00</td>\n",
       "      <td>1.00</td>\n",
       "      <td>0.00</td>\n",
       "    </tr>\n",
       "    <tr>\n",
       "      <th>77139</th>\n",
       "      <td>-0.31</td>\n",
       "      <td>-0.08</td>\n",
       "      <td>0.29</td>\n",
       "      <td>-1.47</td>\n",
       "      <td>1.58</td>\n",
       "      <td>0.00</td>\n",
       "      <td>0.00</td>\n",
       "      <td>0.00</td>\n",
       "      <td>0.00</td>\n",
       "      <td>0.00</td>\n",
       "      <td>0.00</td>\n",
       "      <td>0.00</td>\n",
       "      <td>0.00</td>\n",
       "      <td>1.00</td>\n",
       "      <td>0.00</td>\n",
       "      <td>1.00</td>\n",
       "      <td>0.00</td>\n",
       "    </tr>\n",
       "    <tr>\n",
       "      <th>77140</th>\n",
       "      <td>1.70</td>\n",
       "      <td>-0.44</td>\n",
       "      <td>-0.44</td>\n",
       "      <td>-0.26</td>\n",
       "      <td>-0.16</td>\n",
       "      <td>0.00</td>\n",
       "      <td>0.00</td>\n",
       "      <td>0.00</td>\n",
       "      <td>0.00</td>\n",
       "      <td>0.00</td>\n",
       "      <td>0.00</td>\n",
       "      <td>0.00</td>\n",
       "      <td>0.00</td>\n",
       "      <td>1.00</td>\n",
       "      <td>0.00</td>\n",
       "      <td>1.00</td>\n",
       "      <td>0.00</td>\n",
       "    </tr>\n",
       "    <tr>\n",
       "      <th>77141</th>\n",
       "      <td>1.26</td>\n",
       "      <td>-1.20</td>\n",
       "      <td>0.59</td>\n",
       "      <td>1.45</td>\n",
       "      <td>-0.94</td>\n",
       "      <td>0.00</td>\n",
       "      <td>0.00</td>\n",
       "      <td>0.00</td>\n",
       "      <td>0.00</td>\n",
       "      <td>0.00</td>\n",
       "      <td>1.00</td>\n",
       "      <td>0.00</td>\n",
       "      <td>0.00</td>\n",
       "      <td>0.00</td>\n",
       "      <td>0.00</td>\n",
       "      <td>1.00</td>\n",
       "      <td>0.00</td>\n",
       "    </tr>\n",
       "    <tr>\n",
       "      <th>77142</th>\n",
       "      <td>0.62</td>\n",
       "      <td>-0.49</td>\n",
       "      <td>-0.48</td>\n",
       "      <td>-1.49</td>\n",
       "      <td>1.02</td>\n",
       "      <td>0.00</td>\n",
       "      <td>0.00</td>\n",
       "      <td>0.00</td>\n",
       "      <td>0.00</td>\n",
       "      <td>0.00</td>\n",
       "      <td>0.00</td>\n",
       "      <td>0.00</td>\n",
       "      <td>0.00</td>\n",
       "      <td>1.00</td>\n",
       "      <td>0.00</td>\n",
       "      <td>1.00</td>\n",
       "      <td>0.00</td>\n",
       "    </tr>\n",
       "  </tbody>\n",
       "</table>\n",
       "<p>77143 rows × 17 columns</p>\n",
       "</div>"
      ],
      "text/plain": [
       "       Temperature (C)  Humidity  Wind Speed (km/h)  Wind Bearing (degrees)  \\\n",
       "0                 0.63      0.74               0.78                    0.30   \n",
       "1                 1.14     -0.18              -0.16                    1.31   \n",
       "2                 0.83     -0.23               0.46                   -1.57   \n",
       "3                -2.17      0.94               0.47                   -1.00   \n",
       "4                -0.30     -0.13              -1.07                   -0.01   \n",
       "...                ...       ...                ...                     ...   \n",
       "77138            -0.74      0.18               0.01                   -0.45   \n",
       "77139            -0.31     -0.08               0.29                   -1.47   \n",
       "77140             1.70     -0.44              -0.44                   -0.26   \n",
       "77141             1.26     -1.20               0.59                    1.45   \n",
       "77142             0.62     -0.49              -0.48                   -1.49   \n",
       "\n",
       "       Pressure (millibars)  Breezy and Mostly Cloudy  Breezy and Overcast  \\\n",
       "0                     -1.68                      0.00                 0.00   \n",
       "1                     -0.63                      0.00                 0.00   \n",
       "2                     -0.29                      0.00                 0.00   \n",
       "3                     -1.71                      0.00                 0.00   \n",
       "4                      0.84                      0.00                 0.00   \n",
       "...                     ...                       ...                  ...   \n",
       "77138                  0.68                      0.00                 0.00   \n",
       "77139                  1.58                      0.00                 0.00   \n",
       "77140                 -0.16                      0.00                 0.00   \n",
       "77141                 -0.94                      0.00                 0.00   \n",
       "77142                  1.02                      0.00                 0.00   \n",
       "\n",
       "       Breezy and Partly Cloudy  Clear  Foggy  Mostly Cloudy  Other  Overcast  \\\n",
       "0                          0.00   0.00   0.00           0.00   0.00      1.00   \n",
       "1                          0.00   0.00   0.00           0.00   0.00      0.00   \n",
       "2                          0.00   0.00   0.00           0.00   0.00      1.00   \n",
       "3                          0.00   0.00   0.00           1.00   0.00      0.00   \n",
       "4                          0.00   1.00   0.00           0.00   0.00      0.00   \n",
       "...                         ...    ...    ...            ...    ...       ...   \n",
       "77138                      0.00   0.00   0.00           1.00   0.00      0.00   \n",
       "77139                      0.00   0.00   0.00           0.00   0.00      0.00   \n",
       "77140                      0.00   0.00   0.00           0.00   0.00      0.00   \n",
       "77141                      0.00   0.00   0.00           1.00   0.00      0.00   \n",
       "77142                      0.00   0.00   0.00           0.00   0.00      0.00   \n",
       "\n",
       "       Partly Cloudy  lack precip  rain  snow  \n",
       "0               0.00         0.00  1.00  0.00  \n",
       "1               1.00         0.00  1.00  0.00  \n",
       "2               0.00         0.00  1.00  0.00  \n",
       "3               0.00         0.00  0.00  1.00  \n",
       "4               0.00         0.00  1.00  0.00  \n",
       "...              ...          ...   ...   ...  \n",
       "77138           0.00         0.00  1.00  0.00  \n",
       "77139           1.00         0.00  1.00  0.00  \n",
       "77140           1.00         0.00  1.00  0.00  \n",
       "77141           0.00         0.00  1.00  0.00  \n",
       "77142           1.00         0.00  1.00  0.00  \n",
       "\n",
       "[77143 rows x 17 columns]"
      ]
     },
     "execution_count": 64,
     "metadata": {},
     "output_type": "execute_result"
    }
   ],
   "source": [
    "# concatenate of the transformed data Summary and Precip Type, to the numeric category\n",
    "X_train_scaled = pd.concat([X_train_sc, features], axis=1)\n",
    "X_train_scaled"
   ]
  },
  {
   "cell_type": "markdown",
   "metadata": {
    "id": "PlCeEzPZvoQd",
    "tags": []
   },
   "source": [
    "## * test part preparation \n",
    "- prepared as a train part"
   ]
  },
  {
   "cell_type": "code",
   "execution_count": 65,
   "metadata": {
    "id": "s_8MNK_Ts3Og"
   },
   "outputs": [],
   "source": [
    "X_test.reset_index(drop=True, inplace=True)\n",
    "y_test.reset_index(drop=True, inplace=True)"
   ]
  },
  {
   "cell_type": "code",
   "execution_count": 66,
   "metadata": {
    "id": "FGGksdQXsgof"
   },
   "outputs": [],
   "source": [
    "# encode categorical features as a one-hot numeric array\n",
    "feature_array_test = ohe.transform(X_test[['Summary', 'Precip Type']]).toarray()\n",
    "\n",
    "features_test = pd.DataFrame(feature_array_test, columns = feature_labels)\n"
   ]
  },
  {
   "cell_type": "code",
   "execution_count": 67,
   "metadata": {
    "tags": []
   },
   "outputs": [
    {
     "data": {
      "text/html": [
       "<div>\n",
       "<style scoped>\n",
       "    .dataframe tbody tr th:only-of-type {\n",
       "        vertical-align: middle;\n",
       "    }\n",
       "\n",
       "    .dataframe tbody tr th {\n",
       "        vertical-align: top;\n",
       "    }\n",
       "\n",
       "    .dataframe thead th {\n",
       "        text-align: right;\n",
       "    }\n",
       "</style>\n",
       "<table border=\"1\" class=\"dataframe\">\n",
       "  <thead>\n",
       "    <tr style=\"text-align: right;\">\n",
       "      <th></th>\n",
       "      <th>Breezy and Mostly Cloudy</th>\n",
       "      <th>Breezy and Overcast</th>\n",
       "      <th>Breezy and Partly Cloudy</th>\n",
       "      <th>Clear</th>\n",
       "      <th>Foggy</th>\n",
       "      <th>Mostly Cloudy</th>\n",
       "      <th>Other</th>\n",
       "      <th>Overcast</th>\n",
       "      <th>Partly Cloudy</th>\n",
       "      <th>lack precip</th>\n",
       "      <th>rain</th>\n",
       "      <th>snow</th>\n",
       "    </tr>\n",
       "  </thead>\n",
       "  <tbody>\n",
       "    <tr>\n",
       "      <th>0</th>\n",
       "      <td>0.00</td>\n",
       "      <td>0.00</td>\n",
       "      <td>0.00</td>\n",
       "      <td>0.00</td>\n",
       "      <td>0.00</td>\n",
       "      <td>1.00</td>\n",
       "      <td>0.00</td>\n",
       "      <td>0.00</td>\n",
       "      <td>0.00</td>\n",
       "      <td>0.00</td>\n",
       "      <td>1.00</td>\n",
       "      <td>0.00</td>\n",
       "    </tr>\n",
       "    <tr>\n",
       "      <th>1</th>\n",
       "      <td>0.00</td>\n",
       "      <td>0.00</td>\n",
       "      <td>0.00</td>\n",
       "      <td>1.00</td>\n",
       "      <td>0.00</td>\n",
       "      <td>0.00</td>\n",
       "      <td>0.00</td>\n",
       "      <td>0.00</td>\n",
       "      <td>0.00</td>\n",
       "      <td>0.00</td>\n",
       "      <td>1.00</td>\n",
       "      <td>0.00</td>\n",
       "    </tr>\n",
       "    <tr>\n",
       "      <th>2</th>\n",
       "      <td>0.00</td>\n",
       "      <td>0.00</td>\n",
       "      <td>0.00</td>\n",
       "      <td>0.00</td>\n",
       "      <td>0.00</td>\n",
       "      <td>0.00</td>\n",
       "      <td>0.00</td>\n",
       "      <td>1.00</td>\n",
       "      <td>0.00</td>\n",
       "      <td>0.00</td>\n",
       "      <td>1.00</td>\n",
       "      <td>0.00</td>\n",
       "    </tr>\n",
       "    <tr>\n",
       "      <th>3</th>\n",
       "      <td>0.00</td>\n",
       "      <td>0.00</td>\n",
       "      <td>0.00</td>\n",
       "      <td>0.00</td>\n",
       "      <td>0.00</td>\n",
       "      <td>0.00</td>\n",
       "      <td>0.00</td>\n",
       "      <td>0.00</td>\n",
       "      <td>1.00</td>\n",
       "      <td>0.00</td>\n",
       "      <td>1.00</td>\n",
       "      <td>0.00</td>\n",
       "    </tr>\n",
       "    <tr>\n",
       "      <th>4</th>\n",
       "      <td>0.00</td>\n",
       "      <td>0.00</td>\n",
       "      <td>0.00</td>\n",
       "      <td>1.00</td>\n",
       "      <td>0.00</td>\n",
       "      <td>0.00</td>\n",
       "      <td>0.00</td>\n",
       "      <td>0.00</td>\n",
       "      <td>0.00</td>\n",
       "      <td>0.00</td>\n",
       "      <td>1.00</td>\n",
       "      <td>0.00</td>\n",
       "    </tr>\n",
       "    <tr>\n",
       "      <th>...</th>\n",
       "      <td>...</td>\n",
       "      <td>...</td>\n",
       "      <td>...</td>\n",
       "      <td>...</td>\n",
       "      <td>...</td>\n",
       "      <td>...</td>\n",
       "      <td>...</td>\n",
       "      <td>...</td>\n",
       "      <td>...</td>\n",
       "      <td>...</td>\n",
       "      <td>...</td>\n",
       "      <td>...</td>\n",
       "    </tr>\n",
       "    <tr>\n",
       "      <th>19281</th>\n",
       "      <td>0.00</td>\n",
       "      <td>0.00</td>\n",
       "      <td>0.00</td>\n",
       "      <td>0.00</td>\n",
       "      <td>0.00</td>\n",
       "      <td>0.00</td>\n",
       "      <td>0.00</td>\n",
       "      <td>0.00</td>\n",
       "      <td>1.00</td>\n",
       "      <td>0.00</td>\n",
       "      <td>1.00</td>\n",
       "      <td>0.00</td>\n",
       "    </tr>\n",
       "    <tr>\n",
       "      <th>19282</th>\n",
       "      <td>0.00</td>\n",
       "      <td>0.00</td>\n",
       "      <td>0.00</td>\n",
       "      <td>0.00</td>\n",
       "      <td>0.00</td>\n",
       "      <td>0.00</td>\n",
       "      <td>0.00</td>\n",
       "      <td>1.00</td>\n",
       "      <td>0.00</td>\n",
       "      <td>0.00</td>\n",
       "      <td>1.00</td>\n",
       "      <td>0.00</td>\n",
       "    </tr>\n",
       "    <tr>\n",
       "      <th>19283</th>\n",
       "      <td>0.00</td>\n",
       "      <td>0.00</td>\n",
       "      <td>0.00</td>\n",
       "      <td>0.00</td>\n",
       "      <td>0.00</td>\n",
       "      <td>1.00</td>\n",
       "      <td>0.00</td>\n",
       "      <td>0.00</td>\n",
       "      <td>0.00</td>\n",
       "      <td>0.00</td>\n",
       "      <td>1.00</td>\n",
       "      <td>0.00</td>\n",
       "    </tr>\n",
       "    <tr>\n",
       "      <th>19284</th>\n",
       "      <td>0.00</td>\n",
       "      <td>0.00</td>\n",
       "      <td>0.00</td>\n",
       "      <td>0.00</td>\n",
       "      <td>0.00</td>\n",
       "      <td>1.00</td>\n",
       "      <td>0.00</td>\n",
       "      <td>0.00</td>\n",
       "      <td>0.00</td>\n",
       "      <td>0.00</td>\n",
       "      <td>1.00</td>\n",
       "      <td>0.00</td>\n",
       "    </tr>\n",
       "    <tr>\n",
       "      <th>19285</th>\n",
       "      <td>0.00</td>\n",
       "      <td>0.00</td>\n",
       "      <td>0.00</td>\n",
       "      <td>0.00</td>\n",
       "      <td>0.00</td>\n",
       "      <td>1.00</td>\n",
       "      <td>0.00</td>\n",
       "      <td>0.00</td>\n",
       "      <td>0.00</td>\n",
       "      <td>0.00</td>\n",
       "      <td>1.00</td>\n",
       "      <td>0.00</td>\n",
       "    </tr>\n",
       "  </tbody>\n",
       "</table>\n",
       "<p>19286 rows × 12 columns</p>\n",
       "</div>"
      ],
      "text/plain": [
       "       Breezy and Mostly Cloudy  Breezy and Overcast  \\\n",
       "0                          0.00                 0.00   \n",
       "1                          0.00                 0.00   \n",
       "2                          0.00                 0.00   \n",
       "3                          0.00                 0.00   \n",
       "4                          0.00                 0.00   \n",
       "...                         ...                  ...   \n",
       "19281                      0.00                 0.00   \n",
       "19282                      0.00                 0.00   \n",
       "19283                      0.00                 0.00   \n",
       "19284                      0.00                 0.00   \n",
       "19285                      0.00                 0.00   \n",
       "\n",
       "       Breezy and Partly Cloudy  Clear  Foggy  Mostly Cloudy  Other  Overcast  \\\n",
       "0                          0.00   0.00   0.00           1.00   0.00      0.00   \n",
       "1                          0.00   1.00   0.00           0.00   0.00      0.00   \n",
       "2                          0.00   0.00   0.00           0.00   0.00      1.00   \n",
       "3                          0.00   0.00   0.00           0.00   0.00      0.00   \n",
       "4                          0.00   1.00   0.00           0.00   0.00      0.00   \n",
       "...                         ...    ...    ...            ...    ...       ...   \n",
       "19281                      0.00   0.00   0.00           0.00   0.00      0.00   \n",
       "19282                      0.00   0.00   0.00           0.00   0.00      1.00   \n",
       "19283                      0.00   0.00   0.00           1.00   0.00      0.00   \n",
       "19284                      0.00   0.00   0.00           1.00   0.00      0.00   \n",
       "19285                      0.00   0.00   0.00           1.00   0.00      0.00   \n",
       "\n",
       "       Partly Cloudy  lack precip  rain  snow  \n",
       "0               0.00         0.00  1.00  0.00  \n",
       "1               0.00         0.00  1.00  0.00  \n",
       "2               0.00         0.00  1.00  0.00  \n",
       "3               1.00         0.00  1.00  0.00  \n",
       "4               0.00         0.00  1.00  0.00  \n",
       "...              ...          ...   ...   ...  \n",
       "19281           1.00         0.00  1.00  0.00  \n",
       "19282           0.00         0.00  1.00  0.00  \n",
       "19283           0.00         0.00  1.00  0.00  \n",
       "19284           0.00         0.00  1.00  0.00  \n",
       "19285           0.00         0.00  1.00  0.00  \n",
       "\n",
       "[19286 rows x 12 columns]"
      ]
     },
     "execution_count": 67,
     "metadata": {},
     "output_type": "execute_result"
    }
   ],
   "source": [
    "features_test"
   ]
  },
  {
   "cell_type": "code",
   "execution_count": 68,
   "metadata": {
    "id": "jRAvKmz-sgr3"
   },
   "outputs": [],
   "source": [
    "X_test.drop(X_test[['Summary','Precip Type']],axis = 1,inplace = True)"
   ]
  },
  {
   "cell_type": "code",
   "execution_count": 69,
   "metadata": {
    "tags": []
   },
   "outputs": [
    {
     "data": {
      "text/html": [
       "<div>\n",
       "<style scoped>\n",
       "    .dataframe tbody tr th:only-of-type {\n",
       "        vertical-align: middle;\n",
       "    }\n",
       "\n",
       "    .dataframe tbody tr th {\n",
       "        vertical-align: top;\n",
       "    }\n",
       "\n",
       "    .dataframe thead th {\n",
       "        text-align: right;\n",
       "    }\n",
       "</style>\n",
       "<table border=\"1\" class=\"dataframe\">\n",
       "  <thead>\n",
       "    <tr style=\"text-align: right;\">\n",
       "      <th></th>\n",
       "      <th>Temperature (C)</th>\n",
       "      <th>Humidity</th>\n",
       "      <th>Wind Speed (km/h)</th>\n",
       "      <th>Wind Bearing (degrees)</th>\n",
       "      <th>Pressure (millibars)</th>\n",
       "    </tr>\n",
       "  </thead>\n",
       "  <tbody>\n",
       "    <tr>\n",
       "      <th>0</th>\n",
       "      <td>16.02</td>\n",
       "      <td>0.31</td>\n",
       "      <td>21.96</td>\n",
       "      <td>282.00</td>\n",
       "      <td>1019.87</td>\n",
       "    </tr>\n",
       "    <tr>\n",
       "      <th>1</th>\n",
       "      <td>17.29</td>\n",
       "      <td>0.87</td>\n",
       "      <td>0.00</td>\n",
       "      <td>0.00</td>\n",
       "      <td>1020.79</td>\n",
       "    </tr>\n",
       "    <tr>\n",
       "      <th>2</th>\n",
       "      <td>7.17</td>\n",
       "      <td>0.92</td>\n",
       "      <td>20.64</td>\n",
       "      <td>331.00</td>\n",
       "      <td>1004.18</td>\n",
       "    </tr>\n",
       "    <tr>\n",
       "      <th>3</th>\n",
       "      <td>21.11</td>\n",
       "      <td>0.45</td>\n",
       "      <td>14.55</td>\n",
       "      <td>253.00</td>\n",
       "      <td>1008.07</td>\n",
       "    </tr>\n",
       "    <tr>\n",
       "      <th>4</th>\n",
       "      <td>19.87</td>\n",
       "      <td>0.78</td>\n",
       "      <td>2.88</td>\n",
       "      <td>144.00</td>\n",
       "      <td>1015.19</td>\n",
       "    </tr>\n",
       "    <tr>\n",
       "      <th>...</th>\n",
       "      <td>...</td>\n",
       "      <td>...</td>\n",
       "      <td>...</td>\n",
       "      <td>...</td>\n",
       "      <td>...</td>\n",
       "    </tr>\n",
       "    <tr>\n",
       "      <th>19281</th>\n",
       "      <td>14.09</td>\n",
       "      <td>0.90</td>\n",
       "      <td>6.86</td>\n",
       "      <td>310.00</td>\n",
       "      <td>1019.81</td>\n",
       "    </tr>\n",
       "    <tr>\n",
       "      <th>19282</th>\n",
       "      <td>1.17</td>\n",
       "      <td>0.93</td>\n",
       "      <td>0.69</td>\n",
       "      <td>280.00</td>\n",
       "      <td>1035.52</td>\n",
       "    </tr>\n",
       "    <tr>\n",
       "      <th>19283</th>\n",
       "      <td>22.69</td>\n",
       "      <td>0.29</td>\n",
       "      <td>12.64</td>\n",
       "      <td>308.00</td>\n",
       "      <td>1017.72</td>\n",
       "    </tr>\n",
       "    <tr>\n",
       "      <th>19284</th>\n",
       "      <td>5.00</td>\n",
       "      <td>0.81</td>\n",
       "      <td>15.49</td>\n",
       "      <td>170.00</td>\n",
       "      <td>1019.39</td>\n",
       "    </tr>\n",
       "    <tr>\n",
       "      <th>19285</th>\n",
       "      <td>18.84</td>\n",
       "      <td>0.64</td>\n",
       "      <td>17.37</td>\n",
       "      <td>328.00</td>\n",
       "      <td>1020.92</td>\n",
       "    </tr>\n",
       "  </tbody>\n",
       "</table>\n",
       "<p>19286 rows × 5 columns</p>\n",
       "</div>"
      ],
      "text/plain": [
       "       Temperature (C)  Humidity  Wind Speed (km/h)  Wind Bearing (degrees)  \\\n",
       "0                16.02      0.31              21.96                  282.00   \n",
       "1                17.29      0.87               0.00                    0.00   \n",
       "2                 7.17      0.92              20.64                  331.00   \n",
       "3                21.11      0.45              14.55                  253.00   \n",
       "4                19.87      0.78               2.88                  144.00   \n",
       "...                ...       ...                ...                     ...   \n",
       "19281            14.09      0.90               6.86                  310.00   \n",
       "19282             1.17      0.93               0.69                  280.00   \n",
       "19283            22.69      0.29              12.64                  308.00   \n",
       "19284             5.00      0.81              15.49                  170.00   \n",
       "19285            18.84      0.64              17.37                  328.00   \n",
       "\n",
       "       Pressure (millibars)  \n",
       "0                   1019.87  \n",
       "1                   1020.79  \n",
       "2                   1004.18  \n",
       "3                   1008.07  \n",
       "4                   1015.19  \n",
       "...                     ...  \n",
       "19281               1019.81  \n",
       "19282               1035.52  \n",
       "19283               1017.72  \n",
       "19284               1019.39  \n",
       "19285               1020.92  \n",
       "\n",
       "[19286 rows x 5 columns]"
      ]
     },
     "execution_count": 69,
     "metadata": {},
     "output_type": "execute_result"
    }
   ],
   "source": [
    "X_test"
   ]
  },
  {
   "cell_type": "code",
   "execution_count": 70,
   "metadata": {
    "id": "p5WTahymUl7T"
   },
   "outputs": [],
   "source": [
    "# scale test data\n",
    "X_test_sc=scaler.transform(X_test)"
   ]
  },
  {
   "cell_type": "code",
   "execution_count": 71,
   "metadata": {
    "tags": []
   },
   "outputs": [],
   "source": [
    "# Utworzenie DataFrame ze złączenia przeskalowanych danych numerycznych i danych binarnych\n",
    "X_test_sc = pd.DataFrame(X_test_sc, columns=X_test.columns)"
   ]
  },
  {
   "cell_type": "code",
   "execution_count": 72,
   "metadata": {
    "tags": []
   },
   "outputs": [
    {
     "data": {
      "text/html": [
       "<div>\n",
       "<style scoped>\n",
       "    .dataframe tbody tr th:only-of-type {\n",
       "        vertical-align: middle;\n",
       "    }\n",
       "\n",
       "    .dataframe tbody tr th {\n",
       "        vertical-align: top;\n",
       "    }\n",
       "\n",
       "    .dataframe thead th {\n",
       "        text-align: right;\n",
       "    }\n",
       "</style>\n",
       "<table border=\"1\" class=\"dataframe\">\n",
       "  <thead>\n",
       "    <tr style=\"text-align: right;\">\n",
       "      <th></th>\n",
       "      <th>Temperature (C)</th>\n",
       "      <th>Humidity</th>\n",
       "      <th>Wind Speed (km/h)</th>\n",
       "      <th>Wind Bearing (degrees)</th>\n",
       "      <th>Pressure (millibars)</th>\n",
       "    </tr>\n",
       "  </thead>\n",
       "  <tbody>\n",
       "    <tr>\n",
       "      <th>0</th>\n",
       "      <td>0.43</td>\n",
       "      <td>-2.18</td>\n",
       "      <td>1.61</td>\n",
       "      <td>0.88</td>\n",
       "      <td>0.39</td>\n",
       "    </tr>\n",
       "    <tr>\n",
       "      <th>1</th>\n",
       "      <td>0.56</td>\n",
       "      <td>0.69</td>\n",
       "      <td>-1.56</td>\n",
       "      <td>-1.75</td>\n",
       "      <td>0.51</td>\n",
       "    </tr>\n",
       "    <tr>\n",
       "      <th>2</th>\n",
       "      <td>-0.50</td>\n",
       "      <td>0.94</td>\n",
       "      <td>1.42</td>\n",
       "      <td>1.34</td>\n",
       "      <td>-1.62</td>\n",
       "    </tr>\n",
       "    <tr>\n",
       "      <th>3</th>\n",
       "      <td>0.96</td>\n",
       "      <td>-1.46</td>\n",
       "      <td>0.54</td>\n",
       "      <td>0.61</td>\n",
       "      <td>-1.12</td>\n",
       "    </tr>\n",
       "    <tr>\n",
       "      <th>4</th>\n",
       "      <td>0.83</td>\n",
       "      <td>0.23</td>\n",
       "      <td>-1.14</td>\n",
       "      <td>-0.41</td>\n",
       "      <td>-0.21</td>\n",
       "    </tr>\n",
       "    <tr>\n",
       "      <th>...</th>\n",
       "      <td>...</td>\n",
       "      <td>...</td>\n",
       "      <td>...</td>\n",
       "      <td>...</td>\n",
       "      <td>...</td>\n",
       "    </tr>\n",
       "    <tr>\n",
       "      <th>19281</th>\n",
       "      <td>0.23</td>\n",
       "      <td>0.84</td>\n",
       "      <td>-0.57</td>\n",
       "      <td>1.14</td>\n",
       "      <td>0.39</td>\n",
       "    </tr>\n",
       "    <tr>\n",
       "      <th>19282</th>\n",
       "      <td>-1.13</td>\n",
       "      <td>0.99</td>\n",
       "      <td>-1.46</td>\n",
       "      <td>0.86</td>\n",
       "      <td>2.40</td>\n",
       "    </tr>\n",
       "    <tr>\n",
       "      <th>19283</th>\n",
       "      <td>1.13</td>\n",
       "      <td>-2.28</td>\n",
       "      <td>0.27</td>\n",
       "      <td>1.12</td>\n",
       "      <td>0.12</td>\n",
       "    </tr>\n",
       "    <tr>\n",
       "      <th>19284</th>\n",
       "      <td>-0.73</td>\n",
       "      <td>0.38</td>\n",
       "      <td>0.68</td>\n",
       "      <td>-0.16</td>\n",
       "      <td>0.33</td>\n",
       "    </tr>\n",
       "    <tr>\n",
       "      <th>19285</th>\n",
       "      <td>0.72</td>\n",
       "      <td>-0.49</td>\n",
       "      <td>0.95</td>\n",
       "      <td>1.31</td>\n",
       "      <td>0.53</td>\n",
       "    </tr>\n",
       "  </tbody>\n",
       "</table>\n",
       "<p>19286 rows × 5 columns</p>\n",
       "</div>"
      ],
      "text/plain": [
       "       Temperature (C)  Humidity  Wind Speed (km/h)  Wind Bearing (degrees)  \\\n",
       "0                 0.43     -2.18               1.61                    0.88   \n",
       "1                 0.56      0.69              -1.56                   -1.75   \n",
       "2                -0.50      0.94               1.42                    1.34   \n",
       "3                 0.96     -1.46               0.54                    0.61   \n",
       "4                 0.83      0.23              -1.14                   -0.41   \n",
       "...                ...       ...                ...                     ...   \n",
       "19281             0.23      0.84              -0.57                    1.14   \n",
       "19282            -1.13      0.99              -1.46                    0.86   \n",
       "19283             1.13     -2.28               0.27                    1.12   \n",
       "19284            -0.73      0.38               0.68                   -0.16   \n",
       "19285             0.72     -0.49               0.95                    1.31   \n",
       "\n",
       "       Pressure (millibars)  \n",
       "0                      0.39  \n",
       "1                      0.51  \n",
       "2                     -1.62  \n",
       "3                     -1.12  \n",
       "4                     -0.21  \n",
       "...                     ...  \n",
       "19281                  0.39  \n",
       "19282                  2.40  \n",
       "19283                  0.12  \n",
       "19284                  0.33  \n",
       "19285                  0.53  \n",
       "\n",
       "[19286 rows x 5 columns]"
      ]
     },
     "execution_count": 72,
     "metadata": {},
     "output_type": "execute_result"
    }
   ],
   "source": [
    "X_test_sc"
   ]
  },
  {
   "cell_type": "code",
   "execution_count": 73,
   "metadata": {
    "tags": []
   },
   "outputs": [
    {
     "data": {
      "text/plain": [
       "(19286, 5)"
      ]
     },
     "execution_count": 73,
     "metadata": {},
     "output_type": "execute_result"
    }
   ],
   "source": [
    "X_test_sc.shape"
   ]
  },
  {
   "cell_type": "code",
   "execution_count": 74,
   "metadata": {
    "tags": []
   },
   "outputs": [
    {
     "data": {
      "text/html": [
       "<div>\n",
       "<style scoped>\n",
       "    .dataframe tbody tr th:only-of-type {\n",
       "        vertical-align: middle;\n",
       "    }\n",
       "\n",
       "    .dataframe tbody tr th {\n",
       "        vertical-align: top;\n",
       "    }\n",
       "\n",
       "    .dataframe thead th {\n",
       "        text-align: right;\n",
       "    }\n",
       "</style>\n",
       "<table border=\"1\" class=\"dataframe\">\n",
       "  <thead>\n",
       "    <tr style=\"text-align: right;\">\n",
       "      <th></th>\n",
       "      <th>Temperature (C)</th>\n",
       "      <th>Humidity</th>\n",
       "      <th>Wind Speed (km/h)</th>\n",
       "      <th>Wind Bearing (degrees)</th>\n",
       "      <th>Pressure (millibars)</th>\n",
       "      <th>Breezy and Mostly Cloudy</th>\n",
       "      <th>Breezy and Overcast</th>\n",
       "      <th>Breezy and Partly Cloudy</th>\n",
       "      <th>Clear</th>\n",
       "      <th>Foggy</th>\n",
       "      <th>Mostly Cloudy</th>\n",
       "      <th>Other</th>\n",
       "      <th>Overcast</th>\n",
       "      <th>Partly Cloudy</th>\n",
       "      <th>lack precip</th>\n",
       "      <th>rain</th>\n",
       "      <th>snow</th>\n",
       "    </tr>\n",
       "  </thead>\n",
       "  <tbody>\n",
       "    <tr>\n",
       "      <th>0</th>\n",
       "      <td>0.43</td>\n",
       "      <td>-2.18</td>\n",
       "      <td>1.61</td>\n",
       "      <td>0.88</td>\n",
       "      <td>0.39</td>\n",
       "      <td>0.00</td>\n",
       "      <td>0.00</td>\n",
       "      <td>0.00</td>\n",
       "      <td>0.00</td>\n",
       "      <td>0.00</td>\n",
       "      <td>1.00</td>\n",
       "      <td>0.00</td>\n",
       "      <td>0.00</td>\n",
       "      <td>0.00</td>\n",
       "      <td>0.00</td>\n",
       "      <td>1.00</td>\n",
       "      <td>0.00</td>\n",
       "    </tr>\n",
       "    <tr>\n",
       "      <th>1</th>\n",
       "      <td>0.56</td>\n",
       "      <td>0.69</td>\n",
       "      <td>-1.56</td>\n",
       "      <td>-1.75</td>\n",
       "      <td>0.51</td>\n",
       "      <td>0.00</td>\n",
       "      <td>0.00</td>\n",
       "      <td>0.00</td>\n",
       "      <td>1.00</td>\n",
       "      <td>0.00</td>\n",
       "      <td>0.00</td>\n",
       "      <td>0.00</td>\n",
       "      <td>0.00</td>\n",
       "      <td>0.00</td>\n",
       "      <td>0.00</td>\n",
       "      <td>1.00</td>\n",
       "      <td>0.00</td>\n",
       "    </tr>\n",
       "    <tr>\n",
       "      <th>2</th>\n",
       "      <td>-0.50</td>\n",
       "      <td>0.94</td>\n",
       "      <td>1.42</td>\n",
       "      <td>1.34</td>\n",
       "      <td>-1.62</td>\n",
       "      <td>0.00</td>\n",
       "      <td>0.00</td>\n",
       "      <td>0.00</td>\n",
       "      <td>0.00</td>\n",
       "      <td>0.00</td>\n",
       "      <td>0.00</td>\n",
       "      <td>0.00</td>\n",
       "      <td>1.00</td>\n",
       "      <td>0.00</td>\n",
       "      <td>0.00</td>\n",
       "      <td>1.00</td>\n",
       "      <td>0.00</td>\n",
       "    </tr>\n",
       "    <tr>\n",
       "      <th>3</th>\n",
       "      <td>0.96</td>\n",
       "      <td>-1.46</td>\n",
       "      <td>0.54</td>\n",
       "      <td>0.61</td>\n",
       "      <td>-1.12</td>\n",
       "      <td>0.00</td>\n",
       "      <td>0.00</td>\n",
       "      <td>0.00</td>\n",
       "      <td>0.00</td>\n",
       "      <td>0.00</td>\n",
       "      <td>0.00</td>\n",
       "      <td>0.00</td>\n",
       "      <td>0.00</td>\n",
       "      <td>1.00</td>\n",
       "      <td>0.00</td>\n",
       "      <td>1.00</td>\n",
       "      <td>0.00</td>\n",
       "    </tr>\n",
       "    <tr>\n",
       "      <th>4</th>\n",
       "      <td>0.83</td>\n",
       "      <td>0.23</td>\n",
       "      <td>-1.14</td>\n",
       "      <td>-0.41</td>\n",
       "      <td>-0.21</td>\n",
       "      <td>0.00</td>\n",
       "      <td>0.00</td>\n",
       "      <td>0.00</td>\n",
       "      <td>1.00</td>\n",
       "      <td>0.00</td>\n",
       "      <td>0.00</td>\n",
       "      <td>0.00</td>\n",
       "      <td>0.00</td>\n",
       "      <td>0.00</td>\n",
       "      <td>0.00</td>\n",
       "      <td>1.00</td>\n",
       "      <td>0.00</td>\n",
       "    </tr>\n",
       "    <tr>\n",
       "      <th>...</th>\n",
       "      <td>...</td>\n",
       "      <td>...</td>\n",
       "      <td>...</td>\n",
       "      <td>...</td>\n",
       "      <td>...</td>\n",
       "      <td>...</td>\n",
       "      <td>...</td>\n",
       "      <td>...</td>\n",
       "      <td>...</td>\n",
       "      <td>...</td>\n",
       "      <td>...</td>\n",
       "      <td>...</td>\n",
       "      <td>...</td>\n",
       "      <td>...</td>\n",
       "      <td>...</td>\n",
       "      <td>...</td>\n",
       "      <td>...</td>\n",
       "    </tr>\n",
       "    <tr>\n",
       "      <th>19281</th>\n",
       "      <td>0.23</td>\n",
       "      <td>0.84</td>\n",
       "      <td>-0.57</td>\n",
       "      <td>1.14</td>\n",
       "      <td>0.39</td>\n",
       "      <td>0.00</td>\n",
       "      <td>0.00</td>\n",
       "      <td>0.00</td>\n",
       "      <td>0.00</td>\n",
       "      <td>0.00</td>\n",
       "      <td>0.00</td>\n",
       "      <td>0.00</td>\n",
       "      <td>0.00</td>\n",
       "      <td>1.00</td>\n",
       "      <td>0.00</td>\n",
       "      <td>1.00</td>\n",
       "      <td>0.00</td>\n",
       "    </tr>\n",
       "    <tr>\n",
       "      <th>19282</th>\n",
       "      <td>-1.13</td>\n",
       "      <td>0.99</td>\n",
       "      <td>-1.46</td>\n",
       "      <td>0.86</td>\n",
       "      <td>2.40</td>\n",
       "      <td>0.00</td>\n",
       "      <td>0.00</td>\n",
       "      <td>0.00</td>\n",
       "      <td>0.00</td>\n",
       "      <td>0.00</td>\n",
       "      <td>0.00</td>\n",
       "      <td>0.00</td>\n",
       "      <td>1.00</td>\n",
       "      <td>0.00</td>\n",
       "      <td>0.00</td>\n",
       "      <td>1.00</td>\n",
       "      <td>0.00</td>\n",
       "    </tr>\n",
       "    <tr>\n",
       "      <th>19283</th>\n",
       "      <td>1.13</td>\n",
       "      <td>-2.28</td>\n",
       "      <td>0.27</td>\n",
       "      <td>1.12</td>\n",
       "      <td>0.12</td>\n",
       "      <td>0.00</td>\n",
       "      <td>0.00</td>\n",
       "      <td>0.00</td>\n",
       "      <td>0.00</td>\n",
       "      <td>0.00</td>\n",
       "      <td>1.00</td>\n",
       "      <td>0.00</td>\n",
       "      <td>0.00</td>\n",
       "      <td>0.00</td>\n",
       "      <td>0.00</td>\n",
       "      <td>1.00</td>\n",
       "      <td>0.00</td>\n",
       "    </tr>\n",
       "    <tr>\n",
       "      <th>19284</th>\n",
       "      <td>-0.73</td>\n",
       "      <td>0.38</td>\n",
       "      <td>0.68</td>\n",
       "      <td>-0.16</td>\n",
       "      <td>0.33</td>\n",
       "      <td>0.00</td>\n",
       "      <td>0.00</td>\n",
       "      <td>0.00</td>\n",
       "      <td>0.00</td>\n",
       "      <td>0.00</td>\n",
       "      <td>1.00</td>\n",
       "      <td>0.00</td>\n",
       "      <td>0.00</td>\n",
       "      <td>0.00</td>\n",
       "      <td>0.00</td>\n",
       "      <td>1.00</td>\n",
       "      <td>0.00</td>\n",
       "    </tr>\n",
       "    <tr>\n",
       "      <th>19285</th>\n",
       "      <td>0.72</td>\n",
       "      <td>-0.49</td>\n",
       "      <td>0.95</td>\n",
       "      <td>1.31</td>\n",
       "      <td>0.53</td>\n",
       "      <td>0.00</td>\n",
       "      <td>0.00</td>\n",
       "      <td>0.00</td>\n",
       "      <td>0.00</td>\n",
       "      <td>0.00</td>\n",
       "      <td>1.00</td>\n",
       "      <td>0.00</td>\n",
       "      <td>0.00</td>\n",
       "      <td>0.00</td>\n",
       "      <td>0.00</td>\n",
       "      <td>1.00</td>\n",
       "      <td>0.00</td>\n",
       "    </tr>\n",
       "  </tbody>\n",
       "</table>\n",
       "<p>19286 rows × 17 columns</p>\n",
       "</div>"
      ],
      "text/plain": [
       "       Temperature (C)  Humidity  Wind Speed (km/h)  Wind Bearing (degrees)  \\\n",
       "0                 0.43     -2.18               1.61                    0.88   \n",
       "1                 0.56      0.69              -1.56                   -1.75   \n",
       "2                -0.50      0.94               1.42                    1.34   \n",
       "3                 0.96     -1.46               0.54                    0.61   \n",
       "4                 0.83      0.23              -1.14                   -0.41   \n",
       "...                ...       ...                ...                     ...   \n",
       "19281             0.23      0.84              -0.57                    1.14   \n",
       "19282            -1.13      0.99              -1.46                    0.86   \n",
       "19283             1.13     -2.28               0.27                    1.12   \n",
       "19284            -0.73      0.38               0.68                   -0.16   \n",
       "19285             0.72     -0.49               0.95                    1.31   \n",
       "\n",
       "       Pressure (millibars)  Breezy and Mostly Cloudy  Breezy and Overcast  \\\n",
       "0                      0.39                      0.00                 0.00   \n",
       "1                      0.51                      0.00                 0.00   \n",
       "2                     -1.62                      0.00                 0.00   \n",
       "3                     -1.12                      0.00                 0.00   \n",
       "4                     -0.21                      0.00                 0.00   \n",
       "...                     ...                       ...                  ...   \n",
       "19281                  0.39                      0.00                 0.00   \n",
       "19282                  2.40                      0.00                 0.00   \n",
       "19283                  0.12                      0.00                 0.00   \n",
       "19284                  0.33                      0.00                 0.00   \n",
       "19285                  0.53                      0.00                 0.00   \n",
       "\n",
       "       Breezy and Partly Cloudy  Clear  Foggy  Mostly Cloudy  Other  Overcast  \\\n",
       "0                          0.00   0.00   0.00           1.00   0.00      0.00   \n",
       "1                          0.00   1.00   0.00           0.00   0.00      0.00   \n",
       "2                          0.00   0.00   0.00           0.00   0.00      1.00   \n",
       "3                          0.00   0.00   0.00           0.00   0.00      0.00   \n",
       "4                          0.00   1.00   0.00           0.00   0.00      0.00   \n",
       "...                         ...    ...    ...            ...    ...       ...   \n",
       "19281                      0.00   0.00   0.00           0.00   0.00      0.00   \n",
       "19282                      0.00   0.00   0.00           0.00   0.00      1.00   \n",
       "19283                      0.00   0.00   0.00           1.00   0.00      0.00   \n",
       "19284                      0.00   0.00   0.00           1.00   0.00      0.00   \n",
       "19285                      0.00   0.00   0.00           1.00   0.00      0.00   \n",
       "\n",
       "       Partly Cloudy  lack precip  rain  snow  \n",
       "0               0.00         0.00  1.00  0.00  \n",
       "1               0.00         0.00  1.00  0.00  \n",
       "2               0.00         0.00  1.00  0.00  \n",
       "3               1.00         0.00  1.00  0.00  \n",
       "4               0.00         0.00  1.00  0.00  \n",
       "...              ...          ...   ...   ...  \n",
       "19281           1.00         0.00  1.00  0.00  \n",
       "19282           0.00         0.00  1.00  0.00  \n",
       "19283           0.00         0.00  1.00  0.00  \n",
       "19284           0.00         0.00  1.00  0.00  \n",
       "19285           0.00         0.00  1.00  0.00  \n",
       "\n",
       "[19286 rows x 17 columns]"
      ]
     },
     "execution_count": 74,
     "metadata": {},
     "output_type": "execute_result"
    }
   ],
   "source": [
    "X_test_scaled = pd.concat([X_test_sc, features_test], axis=1)\n",
    "X_test_scaled"
   ]
  },
  {
   "cell_type": "markdown",
   "metadata": {
    "id": "ql2OBn-ZW7X6"
   },
   "source": [
    "## Linear Regression  \n",
    "that computes the linear relationship between a dependent variable and one or more independent features. \n",
    "The goal of the algorithm is to find the best linear equation that can predict the value of the dependent variable based on the independent variables. "
   ]
  },
  {
   "cell_type": "code",
   "execution_count": 75,
   "metadata": {
    "id": "FoOHCcmRWdoK"
   },
   "outputs": [],
   "source": [
    "# model teaching\n",
    "reg_model = LinearRegression()\n",
    "reg_model.fit(X_train_scaled,y_train)\n",
    "# prediction\n",
    "y_pred = reg_model.predict(X_test_scaled) #for test data\n",
    "y_pred_train = reg_model.predict(X_train_scaled) # for train data"
   ]
  },
  {
   "cell_type": "code",
   "execution_count": 76,
   "metadata": {
    "tags": []
   },
   "outputs": [
    {
     "name": "stdout",
     "output_type": "stream",
     "text": [
      "Results for train data\n",
      "Linear Regression R2 score: 0.45\n",
      "Linear Regression MAE score: 2.57\n"
     ]
    }
   ],
   "source": [
    "print('Results for train data')\n",
    "print('Linear Regression R2 score: '+ str(round(r2_score(y_train,y_pred_train),2)))\n",
    "print('Linear Regression MAE score: '+ str(round(mae(y_train, y_pred_train),2)))"
   ]
  },
  {
   "cell_type": "code",
   "execution_count": 77,
   "metadata": {
    "colab": {
     "base_uri": "https://localhost:8080/"
    },
    "id": "W5wdLTjCZUid",
    "outputId": "2d81417f-ca4b-48a6-d5ba-4ee50116ed7b"
   },
   "outputs": [
    {
     "name": "stdout",
     "output_type": "stream",
     "text": [
      "Results for test data\n",
      "Linear Regression R2 score: 0.45\n",
      "Linear Regression MAE score: 2.57\n"
     ]
    }
   ],
   "source": [
    "print('Results for test data')\n",
    "print('Linear Regression R2 score: '+ str(round(r2_score(y_test, y_pred),2)))\n",
    "print('Linear Regression MAE score: '+ str(round(mae(y_test, y_pred),2)))\n"
   ]
  },
  {
   "cell_type": "markdown",
   "metadata": {},
   "source": [
    "* A low R2 score and high MAE score for linear regression on the training data could indicate that the linear regression model is not able to capture the underlying relationship between the features and the target variable very well. \n",
    "* Non-linearity: Linear regression assumes a linear relationship between the features and the target variable. If the relationship is non-linear, linear regression may not be able to accurately capture it. In such cases, using more complex models like polynomial regression or non-linear regression may yield better results.\n",
    "* the model is too simple to capture the underlying patterns in the data. "
   ]
  },
  {
   "cell_type": "markdown",
   "metadata": {
    "id": "CxewWhtxXVUS"
   },
   "source": [
    "## Polynomial regression\n",
    "* type of regression analysis in which the relationship between the independent variable(s) and the dependent variable is modeled as an nth degree polynomial. It is an extension of linear regression."
   ]
  },
  {
   "cell_type": "code",
   "execution_count": 78,
   "metadata": {
    "id": "7nGlTOxHUuiZ"
   },
   "outputs": [],
   "source": [
    "# specifies that we want to create polynomial features up to the second degree.\n",
    "poly = PolynomialFeatures(degree=2)\n",
    "# This line transforms the scaled training data, into polynomial features. \n",
    "# Takes the scaled training data as input and creates a new feature matrix with the original features \n",
    "# and their polynomial combinations up to the specified degree.\n",
    "X_poly_train = poly.fit_transform(X_train_scaled)\n",
    "# transforms the scaled test data, into polynomial features in a similar manner as the previous step.\n",
    "X_poly_test = poly.fit_transform(X_test_scaled)\n",
    "# creates an instance of the `LinearRegression` class, which will be used to fit the polynomial regression model.\n",
    "poly_reg_model = LinearRegression()\n",
    "# model teaching\n",
    "poly_reg_model.fit(X_poly_train,y_train)\n",
    "# prediction\n",
    "y_pred_train = poly_reg_model.predict(X_poly_train)\n",
    "y_pred_pol = poly_reg_model.predict(X_poly_test)"
   ]
  },
  {
   "cell_type": "code",
   "execution_count": 79,
   "metadata": {
    "colab": {
     "base_uri": "https://localhost:8080/"
    },
    "id": "DcHHvbiFXYhX",
    "outputId": "53cf308e-8746-490e-b3e6-d3ab2d623cb2"
   },
   "outputs": [
    {
     "name": "stdout",
     "output_type": "stream",
     "text": [
      "Results for train data\n",
      "Polynomial regression R2 score: 0.52\n",
      "Polynomial regression MAE score: 2.39\n"
     ]
    }
   ],
   "source": [
    "print('Results for train data')\n",
    "print('Polynomial regression R2 score: '+ str(round(r2_score(y_train,y_pred_train),2)))\n",
    "print('Polynomial regression MAE score: '+ str(round(mae(y_train, y_pred_train),2)))"
   ]
  },
  {
   "cell_type": "code",
   "execution_count": 80,
   "metadata": {
    "tags": []
   },
   "outputs": [
    {
     "name": "stdout",
     "output_type": "stream",
     "text": [
      "Results for test data\n",
      "Polynomial regression R2 score: 0.53\n",
      "Polynomial regression MAE score: 2.39\n"
     ]
    }
   ],
   "source": [
    "print('Results for test data')\n",
    "print('Polynomial regression R2 score: '+ str(round(r2_score(y_test, y_pred_pol),2)))\n",
    "print('Polynomial regression MAE score: '+ str(round(mae(y_test, y_pred_pol),2)))\n"
   ]
  },
  {
   "cell_type": "markdown",
   "metadata": {},
   "source": [
    "As with linear regression, the data is too different for the model to produce a satisfactory result"
   ]
  },
  {
   "cell_type": "markdown",
   "metadata": {
    "id": "LFHV2kW6XoGm"
   },
   "source": [
    "## Decision Tree Regressor\n",
    " \n",
    " * In a Decision Tree Regressor, the main goal is to create a tree-like structure of decision nodes and leaves, where each decision node represents a question about a feature and each leaf node represents a predicted numeric value."
   ]
  },
  {
   "cell_type": "code",
   "execution_count": 81,
   "metadata": {
    "colab": {
     "base_uri": "https://localhost:8080/"
    },
    "id": "0KGsKEH-h_YR",
    "outputId": "f5fa03f3-ab5d-4fb6-fdbb-d0c3557b0540"
   },
   "outputs": [
    {
     "name": "stdout",
     "output_type": "stream",
     "text": [
      "{'max_depth': 9, 'min_samples_leaf': 90, 'min_samples_split': 400}\n",
      "2.214649520805151\n"
     ]
    }
   ],
   "source": [
    "model = DecisionTreeRegressor()\n",
    "gs = GridSearchCV(model,\n",
    "                  param_grid = {'max_depth': range(5, 10),\n",
    "                                'min_samples_split': range(400,1100, 100),\n",
    "                                'min_samples_leaf': range(50, 151, 20) \n",
    "                                },\n",
    "                  cv=10,\n",
    "                  scoring='neg_mean_absolute_error')\n",
    "gs.fit(X_train_scaled,y_train)\n",
    "print(gs.best_params_)\n",
    "print(-gs.best_score_)"
   ]
  },
  {
   "cell_type": "markdown",
   "metadata": {},
   "source": [
    "the code searches various combinations of DecisionTreeRegressor model parameters using Grid Search CV to find the best parameters that minimize the mean absolute error on the training set. It also lists the best parameters found and the model evaluation result obtained."
   ]
  },
  {
   "cell_type": "code",
   "execution_count": 84,
   "metadata": {
    "id": "iDzEqaxFf3Gc"
   },
   "outputs": [],
   "source": [
    "# train model with the best params\n",
    "tree_model = tree.DecisionTreeRegressor(**gs.best_params_)\n",
    "tree_model.fit(X_train_scaled, y_train)\n",
    "y_pred_tree = tree_model.predict(X_test_scaled)\n",
    "y_pred_train = tree_model.predict(X_train_scaled)"
   ]
  },
  {
   "cell_type": "code",
   "execution_count": 85,
   "metadata": {
    "colab": {
     "base_uri": "https://localhost:8080/"
    },
    "id": "W1qUR5B4kIxm",
    "outputId": "fbb803e9-77ce-4114-b999-4975d5ab3c89"
   },
   "outputs": [
    {
     "name": "stdout",
     "output_type": "stream",
     "text": [
      "Results for train data\n",
      "Decision Tree Regressor R2 score: 0.57\n",
      "Decision Tree Regressor MAE score: 2.19\n"
     ]
    }
   ],
   "source": [
    "print('Results for train data')\n",
    "print('Decision Tree Regressor R2 score: '+ str(round(r2_score(y_train,y_pred_train),2)))\n",
    "print('Decision Tree Regressor MAE score: '+ str(round(mae(y_train, y_pred_train),2)))"
   ]
  },
  {
   "cell_type": "code",
   "execution_count": 86,
   "metadata": {
    "tags": []
   },
   "outputs": [
    {
     "name": "stdout",
     "output_type": "stream",
     "text": [
      "Results for test data\n",
      "Decision Tree Regressor R2 score: 0.57\n",
      "Decision Tree Regressor MAE score: 2.2\n"
     ]
    }
   ],
   "source": [
    "print('Results for test data')\n",
    "print('Decision Tree Regressor R2 score: '+ str(round(r2_score(y_test, y_pred_tree),2)))\n",
    "print('Decision Tree Regressor MAE score: '+ str(round(mae(y_test, y_pred_tree),2)))"
   ]
  },
  {
   "cell_type": "markdown",
   "metadata": {},
   "source": [
    "### Calculate and present feature importance for a decision tree model  based on scaled training data."
   ]
  },
  {
   "cell_type": "code",
   "execution_count": 87,
   "metadata": {
    "colab": {
     "base_uri": "https://localhost:8080/",
     "height": 582
    },
    "id": "2WJvUS3wmo_o",
    "outputId": "b6228227-2cb4-4fad-aa2f-e03752e6d5b1"
   },
   "outputs": [
    {
     "data": {
      "text/html": [
       "<div>\n",
       "<style scoped>\n",
       "    .dataframe tbody tr th:only-of-type {\n",
       "        vertical-align: middle;\n",
       "    }\n",
       "\n",
       "    .dataframe tbody tr th {\n",
       "        vertical-align: top;\n",
       "    }\n",
       "\n",
       "    .dataframe thead th {\n",
       "        text-align: right;\n",
       "    }\n",
       "</style>\n",
       "<table border=\"1\" class=\"dataframe\">\n",
       "  <thead>\n",
       "    <tr style=\"text-align: right;\">\n",
       "      <th></th>\n",
       "      <th>0</th>\n",
       "      <th>1</th>\n",
       "    </tr>\n",
       "  </thead>\n",
       "  <tbody>\n",
       "    <tr>\n",
       "      <th>9</th>\n",
       "      <td>Foggy</td>\n",
       "      <td>6.27</td>\n",
       "    </tr>\n",
       "    <tr>\n",
       "      <th>1</th>\n",
       "      <td>Humidity</td>\n",
       "      <td>1.87</td>\n",
       "    </tr>\n",
       "    <tr>\n",
       "      <th>0</th>\n",
       "      <td>Temperature (C)</td>\n",
       "      <td>0.82</td>\n",
       "    </tr>\n",
       "    <tr>\n",
       "      <th>2</th>\n",
       "      <td>Wind Speed (km/h)</td>\n",
       "      <td>0.49</td>\n",
       "    </tr>\n",
       "    <tr>\n",
       "      <th>12</th>\n",
       "      <td>Overcast</td>\n",
       "      <td>0.22</td>\n",
       "    </tr>\n",
       "    <tr>\n",
       "      <th>4</th>\n",
       "      <td>Pressure (millibars)</td>\n",
       "      <td>0.07</td>\n",
       "    </tr>\n",
       "    <tr>\n",
       "      <th>3</th>\n",
       "      <td>Wind Bearing (degrees)</td>\n",
       "      <td>0.06</td>\n",
       "    </tr>\n",
       "    <tr>\n",
       "      <th>8</th>\n",
       "      <td>Clear</td>\n",
       "      <td>0.02</td>\n",
       "    </tr>\n",
       "    <tr>\n",
       "      <th>13</th>\n",
       "      <td>Partly Cloudy</td>\n",
       "      <td>0.02</td>\n",
       "    </tr>\n",
       "    <tr>\n",
       "      <th>10</th>\n",
       "      <td>Mostly Cloudy</td>\n",
       "      <td>0.01</td>\n",
       "    </tr>\n",
       "    <tr>\n",
       "      <th>15</th>\n",
       "      <td>rain</td>\n",
       "      <td>0.00</td>\n",
       "    </tr>\n",
       "    <tr>\n",
       "      <th>7</th>\n",
       "      <td>Breezy and Partly Cloudy</td>\n",
       "      <td>0.00</td>\n",
       "    </tr>\n",
       "    <tr>\n",
       "      <th>6</th>\n",
       "      <td>Breezy and Overcast</td>\n",
       "      <td>0.00</td>\n",
       "    </tr>\n",
       "    <tr>\n",
       "      <th>11</th>\n",
       "      <td>Other</td>\n",
       "      <td>0.00</td>\n",
       "    </tr>\n",
       "    <tr>\n",
       "      <th>5</th>\n",
       "      <td>Breezy and Mostly Cloudy</td>\n",
       "      <td>0.00</td>\n",
       "    </tr>\n",
       "    <tr>\n",
       "      <th>14</th>\n",
       "      <td>lack precip</td>\n",
       "      <td>0.00</td>\n",
       "    </tr>\n",
       "    <tr>\n",
       "      <th>16</th>\n",
       "      <td>snow</td>\n",
       "      <td>0.00</td>\n",
       "    </tr>\n",
       "  </tbody>\n",
       "</table>\n",
       "</div>"
      ],
      "text/plain": [
       "                           0    1\n",
       "9                      Foggy 6.27\n",
       "1                   Humidity 1.87\n",
       "0            Temperature (C) 0.82\n",
       "2          Wind Speed (km/h) 0.49\n",
       "12                  Overcast 0.22\n",
       "4       Pressure (millibars) 0.07\n",
       "3     Wind Bearing (degrees) 0.06\n",
       "8                      Clear 0.02\n",
       "13             Partly Cloudy 0.02\n",
       "10             Mostly Cloudy 0.01\n",
       "15                      rain 0.00\n",
       "7   Breezy and Partly Cloudy 0.00\n",
       "6        Breezy and Overcast 0.00\n",
       "11                     Other 0.00\n",
       "5   Breezy and Mostly Cloudy 0.00\n",
       "14               lack precip 0.00\n",
       "16                      snow 0.00"
      ]
     },
     "execution_count": 87,
     "metadata": {},
     "output_type": "execute_result"
    }
   ],
   "source": [
    "feat_importance = tree_model.tree_.compute_feature_importances(normalize=False)\n",
    "feat_importance = pd.concat([X_train_scaled.columns.to_series().reset_index(drop=True), pd.Series(feat_importance)], axis=1)\n",
    "feat_importance = feat_importance.sort_values(feat_importance.columns[1], ascending = False)\n",
    "feat_importance"
   ]
  },
  {
   "cell_type": "markdown",
   "metadata": {},
   "source": [
    "Features with higher importance values are those that the model considers more informative for predicting the output values. We will remove the less important."
   ]
  },
  {
   "cell_type": "code",
   "execution_count": 88,
   "metadata": {
    "tags": []
   },
   "outputs": [
    {
     "name": "stdout",
     "output_type": "stream",
     "text": [
      "['Foggy', 'Humidity', 'Temperature (C)', 'Wind Speed (km/h)', 'Overcast', 'Pressure (millibars)', 'Wind Bearing (degrees)']\n"
     ]
    }
   ],
   "source": [
    "threshold = 0.03\n",
    "selected_features = feat_importance[feat_importance[feat_importance.columns[1]] > threshold][feat_importance.columns[0]].tolist()\n",
    "\n",
    "print(selected_features)"
   ]
  },
  {
   "cell_type": "code",
   "execution_count": 89,
   "metadata": {
    "tags": []
   },
   "outputs": [],
   "source": [
    "X_test_scaled= X_test_scaled[selected_features]"
   ]
  },
  {
   "cell_type": "code",
   "execution_count": 90,
   "metadata": {
    "tags": []
   },
   "outputs": [],
   "source": [
    "X_train_scaled= X_train_scaled[selected_features]"
   ]
  },
  {
   "cell_type": "code",
   "execution_count": 91,
   "metadata": {
    "tags": []
   },
   "outputs": [
    {
     "data": {
      "text/plain": [
       "(77143, 7)"
      ]
     },
     "execution_count": 91,
     "metadata": {},
     "output_type": "execute_result"
    }
   ],
   "source": [
    "X_train_scaled.shape"
   ]
  },
  {
   "cell_type": "code",
   "execution_count": 92,
   "metadata": {
    "tags": []
   },
   "outputs": [
    {
     "data": {
      "text/plain": [
       "(19286, 7)"
      ]
     },
     "execution_count": 92,
     "metadata": {},
     "output_type": "execute_result"
    }
   ],
   "source": [
    "X_test_scaled.shape"
   ]
  },
  {
   "cell_type": "markdown",
   "metadata": {},
   "source": [
    "## Random Forest Regressor\n",
    "* extension of the decision tree algorithm primarily used for regression tasks, which involve predicting continuous numeric values. It builds multiple decision trees and aggregates their predictions to achieve more accurate and stable results."
   ]
  },
  {
   "cell_type": "code",
   "execution_count": 93,
   "metadata": {
    "tags": []
   },
   "outputs": [],
   "source": [
    "regr = RandomForestRegressor(random_state=111)\n",
    "regr.fit(X_train_scaled, y_train)\n",
    "y_pred_rand = regr.predict(X_test_scaled)\n",
    "y_pred_train = regr.predict(X_train_scaled)"
   ]
  },
  {
   "cell_type": "code",
   "execution_count": 94,
   "metadata": {
    "tags": []
   },
   "outputs": [
    {
     "name": "stdout",
     "output_type": "stream",
     "text": [
      "Results for train data\n",
      "Random Forest Regressor R2 score: 0.95\n",
      "Random Forest Regressor MAE score: 0.74\n"
     ]
    }
   ],
   "source": [
    "print('Results for train data')\n",
    "print('Random Forest Regressor R2 score: '+ str(round(r2_score(y_train,y_pred_train),2)))\n",
    "print('Random Forest Regressor MAE score: '+ str(round(mae(y_train, y_pred_train),2)))"
   ]
  },
  {
   "cell_type": "code",
   "execution_count": 95,
   "metadata": {
    "tags": []
   },
   "outputs": [
    {
     "name": "stdout",
     "output_type": "stream",
     "text": [
      "Results for test data\n",
      "Random Forest Regressor R2 score: 0.57\n",
      "Random Forest Regressor MAE score: 2.2\n"
     ]
    }
   ],
   "source": [
    "print('Results for test data')\n",
    "print('Random Forest Regressor R2 score: '+ str(round(r2_score(y_test, y_pred_tree),2)))\n",
    "print('Random Forest Regressor MAE score: '+ str(round(mae(y_test, y_pred_tree),2)))"
   ]
  },
  {
   "cell_type": "markdown",
   "metadata": {},
   "source": [
    "### RandomizedSearchCV \n",
    "* technique used for hyperparameter tuning models, used to search for the best combination of hyperparameters for a given model. Performs a randomized search over a predefined set of hyperparameter values \n",
    "* For each combination of hyperparameters, it performs cross-validation (usually using k-fold cross-validation) to estimate the model's performance.\n",
    "* first need to create a parameter grid to sample from during fitting"
   ]
  },
  {
   "cell_type": "code",
   "execution_count": 96,
   "metadata": {
    "tags": []
   },
   "outputs": [
    {
     "name": "stdout",
     "output_type": "stream",
     "text": [
      "{'n_estimators': [1000, 1250, 1500, 1750, 2000], 'max_features': ['auto', 'sqrt'], 'max_depth': [100, 111, 122, 133, 144, 155, 166, 177, 188, 200, None], 'min_samples_split': [50, 100, 125], 'min_samples_leaf': [50, 75, 100], 'bootstrap': [True, False]}\n"
     ]
    }
   ],
   "source": [
    "# Number of trees in random forest\n",
    "n_estimators = [int(x) for x in np.linspace(start = 1000, stop = 2000, num = 5)]\n",
    "# Number of features to consider at every split\n",
    "max_features = ['auto', 'sqrt']\n",
    "# Maximum number of levels in tree\n",
    "max_depth = [int(x) for x in np.linspace(100, 200, num = 10)]\n",
    "max_depth.append(None)\n",
    "# Minimum number of samples required to split a node\n",
    "min_samples_split = [50, 100, 125]\n",
    "# Minimum number of samples required at each leaf node\n",
    "min_samples_leaf = [50, 75, 100]\n",
    "# Method of selecting samples for training each tree\n",
    "bootstrap = [True, False]\n",
    "# Create the random grid\n",
    "random_grid = {'n_estimators': n_estimators,\n",
    "               'max_features': max_features,\n",
    "               'max_depth': max_depth,\n",
    "               'min_samples_split': min_samples_split,\n",
    "               'min_samples_leaf': min_samples_leaf,\n",
    "               'bootstrap': bootstrap}\n",
    "print(random_grid)"
   ]
  },
  {
   "cell_type": "code",
   "execution_count": 97,
   "metadata": {
    "tags": []
   },
   "outputs": [
    {
     "name": "stdout",
     "output_type": "stream",
     "text": [
      "Fitting 5 folds for each of 50 candidates, totalling 250 fits\n"
     ]
    },
    {
     "data": {
      "text/plain": [
       "{'n_estimators': 1500,\n",
       " 'min_samples_split': 50,\n",
       " 'min_samples_leaf': 50,\n",
       " 'max_features': 'sqrt',\n",
       " 'max_depth': 133,\n",
       " 'bootstrap': False}"
      ]
     },
     "execution_count": 97,
     "metadata": {},
     "output_type": "execute_result"
    }
   ],
   "source": [
    "# Use the random grid to search for best hyperparameters\n",
    "# First create the base model to tune\n",
    "rf = RandomForestRegressor()\n",
    "# Random search of parameters, using 5 fold cross validation, \n",
    "# search across 50 different combinations, and use all available cores\n",
    "rf_random = RandomizedSearchCV(estimator = rf, param_distributions = random_grid, n_iter = 50, cv = 5, verbose=2, random_state=42, n_jobs = -1)\n",
    "# Fit the random search model\n",
    "rf_random.fit(X_train_scaled, y_train)\n",
    "rf_random.best_params_"
   ]
  },
  {
   "cell_type": "code",
   "execution_count": 98,
   "metadata": {
    "tags": []
   },
   "outputs": [],
   "source": [
    "# training the model with the best hyperparameters\n",
    "best_random = RandomForestRegressor(**rf_random.best_params_)\n",
    "best_random.fit(X_train_scaled, y_train)\n",
    "y_pred_rand = regr.predict(X_test_scaled)\n",
    "y_pred_train = regr.predict(X_train_scaled)"
   ]
  },
  {
   "cell_type": "code",
   "execution_count": 99,
   "metadata": {
    "tags": []
   },
   "outputs": [
    {
     "name": "stdout",
     "output_type": "stream",
     "text": [
      "Results for train data\n",
      "Random Forest Regressor R2 score: 0.95\n",
      "Random Forest Regressor MAE score: 0.74\n"
     ]
    }
   ],
   "source": [
    "print('Results for train data')\n",
    "print('Random Forest Regressor R2 score: '+ str(round(r2_score(y_train,y_pred_train),2)))\n",
    "print('Random Forest Regressor MAE score: '+ str(round(mae(y_train, y_pred_train),2)))"
   ]
  },
  {
   "cell_type": "code",
   "execution_count": 100,
   "metadata": {
    "tags": []
   },
   "outputs": [
    {
     "name": "stdout",
     "output_type": "stream",
     "text": [
      "Results for test data\n",
      "Random Forest Regressor R2 score: 0.63\n",
      "Random Forest Regressor MAE score: 1.98\n"
     ]
    }
   ],
   "source": [
    "print('Results for test data')\n",
    "print('Random Forest Regressor R2 score: '+ str(round(r2_score(y_test, y_pred_rand),2)))\n",
    "print('Random Forest Regressor MAE score: '+ str(round(mae(y_test, y_pred_rand),2)))"
   ]
  },
  {
   "cell_type": "markdown",
   "metadata": {},
   "source": [
    "## Lazy Regressor\n",
    "*  library that provides a quick and convenient way to evaluate the performance of multiple regression models on a given dataset. It's particularly useful to get a rough idea of how different regression algorithms perform without spending a lot of time fine-tuning each model."
   ]
  },
  {
   "cell_type": "code",
   "execution_count": 101,
   "metadata": {
    "colab": {
     "base_uri": "https://localhost:8080/"
    },
    "id": "A7fs0F25c5Pa",
    "outputId": "82c9d8aa-4b16-4433-e7ce-d35a8ee54c8e"
   },
   "outputs": [
    {
     "name": "stderr",
     "output_type": "stream",
     "text": [
      " 21%|██▏       | 9/42 [00:30<02:59,  5.44s/it]"
     ]
    },
    {
     "name": "stdout",
     "output_type": "stream",
     "text": [
      "GammaRegressor model failed to execute\n",
      "Some value(s) of y are out of the valid range of the loss 'HalfGammaLoss'.\n"
     ]
    },
    {
     "name": "stderr",
     "output_type": "stream",
     "text": [
      " 26%|██▌       | 11/42 [01:46<09:36, 18.59s/it]"
     ]
    },
    {
     "name": "stdout",
     "output_type": "stream",
     "text": [
      "GaussianProcessRegressor model failed to execute\n",
      "Unable to allocate 22.2 GiB for an array with shape (2975482653,) and data type float64\n"
     ]
    },
    {
     "name": "stderr",
     "output_type": "stream",
     "text": [
      " 38%|███▊      | 16/42 [14:29<1:32:27, 213.35s/it]"
     ]
    },
    {
     "name": "stdout",
     "output_type": "stream",
     "text": [
      "KernelRidge model failed to execute\n",
      "Unable to allocate 5.54 GiB for an array with shape (77143, 77143) and data type bool\n"
     ]
    },
    {
     "name": "stderr",
     "output_type": "stream",
     "text": [
      " 76%|███████▌  | 32/42 [22:37<05:41, 34.12s/it]   "
     ]
    },
    {
     "name": "stdout",
     "output_type": "stream",
     "text": [
      "QuantileRegressor model failed to execute\n",
      "Unable to allocate 44.3 GiB for an array with shape (77143, 77143) and data type float64\n"
     ]
    },
    {
     "name": "stderr",
     "output_type": "stream",
     "text": [
      " 98%|█████████▊| 41/42 [30:18<00:53, 53.24s/it] "
     ]
    },
    {
     "name": "stdout",
     "output_type": "stream",
     "text": [
      "[LightGBM] [Warning] Auto-choosing row-wise multi-threading, the overhead of testing was 0.003623 seconds.\n",
      "You can set `force_row_wise=true` to remove the overhead.\n",
      "And if memory is not enough, you can set `force_col_wise=true`.\n",
      "[LightGBM] [Info] Total Bins 1107\n",
      "[LightGBM] [Info] Number of data points in the train set: 77143, number of used features: 7\n",
      "[LightGBM] [Info] Start training from score 10.376067\n"
     ]
    },
    {
     "name": "stderr",
     "output_type": "stream",
     "text": [
      "100%|██████████| 42/42 [30:19<00:00, 43.31s/it]\n"
     ]
    }
   ],
   "source": [
    "reg = LazyRegressor(verbose=0,ignore_warnings=False, custom_metric=None )\n",
    "models,predictions = reg.fit(X_train_scaled, X_test_scaled, y_train, y_test)"
   ]
  },
  {
   "cell_type": "code",
   "execution_count": 102,
   "metadata": {
    "id": "NKkfbG5Lc5S8",
    "tags": []
   },
   "outputs": [
    {
     "data": {
      "text/html": [
       "<div>\n",
       "<style scoped>\n",
       "    .dataframe tbody tr th:only-of-type {\n",
       "        vertical-align: middle;\n",
       "    }\n",
       "\n",
       "    .dataframe tbody tr th {\n",
       "        vertical-align: top;\n",
       "    }\n",
       "\n",
       "    .dataframe thead th {\n",
       "        text-align: right;\n",
       "    }\n",
       "</style>\n",
       "<table border=\"1\" class=\"dataframe\">\n",
       "  <thead>\n",
       "    <tr style=\"text-align: right;\">\n",
       "      <th></th>\n",
       "      <th>Adjusted R-Squared</th>\n",
       "      <th>R-Squared</th>\n",
       "      <th>RMSE</th>\n",
       "      <th>Time Taken</th>\n",
       "    </tr>\n",
       "    <tr>\n",
       "      <th>Model</th>\n",
       "      <th></th>\n",
       "      <th></th>\n",
       "      <th></th>\n",
       "      <th></th>\n",
       "    </tr>\n",
       "  </thead>\n",
       "  <tbody>\n",
       "    <tr>\n",
       "      <th>ExtraTreesRegressor</th>\n",
       "      <td>0.63</td>\n",
       "      <td>0.63</td>\n",
       "      <td>2.52</td>\n",
       "      <td>20.72</td>\n",
       "    </tr>\n",
       "    <tr>\n",
       "      <th>RandomForestRegressor</th>\n",
       "      <td>0.63</td>\n",
       "      <td>0.63</td>\n",
       "      <td>2.53</td>\n",
       "      <td>66.41</td>\n",
       "    </tr>\n",
       "    <tr>\n",
       "      <th>XGBRegressor</th>\n",
       "      <td>0.62</td>\n",
       "      <td>0.62</td>\n",
       "      <td>2.56</td>\n",
       "      <td>2.56</td>\n",
       "    </tr>\n",
       "    <tr>\n",
       "      <th>LGBMRegressor</th>\n",
       "      <td>0.61</td>\n",
       "      <td>0.61</td>\n",
       "      <td>2.60</td>\n",
       "      <td>0.43</td>\n",
       "    </tr>\n",
       "    <tr>\n",
       "      <th>HistGradientBoostingRegressor</th>\n",
       "      <td>0.61</td>\n",
       "      <td>0.61</td>\n",
       "      <td>2.60</td>\n",
       "      <td>1.62</td>\n",
       "    </tr>\n",
       "    <tr>\n",
       "      <th>BaggingRegressor</th>\n",
       "      <td>0.59</td>\n",
       "      <td>0.59</td>\n",
       "      <td>2.65</td>\n",
       "      <td>5.61</td>\n",
       "    </tr>\n",
       "    <tr>\n",
       "      <th>GradientBoostingRegressor</th>\n",
       "      <td>0.58</td>\n",
       "      <td>0.58</td>\n",
       "      <td>2.69</td>\n",
       "      <td>9.12</td>\n",
       "    </tr>\n",
       "    <tr>\n",
       "      <th>KNeighborsRegressor</th>\n",
       "      <td>0.57</td>\n",
       "      <td>0.57</td>\n",
       "      <td>2.73</td>\n",
       "      <td>0.93</td>\n",
       "    </tr>\n",
       "    <tr>\n",
       "      <th>MLPRegressor</th>\n",
       "      <td>0.56</td>\n",
       "      <td>0.56</td>\n",
       "      <td>2.75</td>\n",
       "      <td>66.31</td>\n",
       "    </tr>\n",
       "    <tr>\n",
       "      <th>NuSVR</th>\n",
       "      <td>0.55</td>\n",
       "      <td>0.55</td>\n",
       "      <td>2.79</td>\n",
       "      <td>418.12</td>\n",
       "    </tr>\n",
       "    <tr>\n",
       "      <th>SVR</th>\n",
       "      <td>0.52</td>\n",
       "      <td>0.52</td>\n",
       "      <td>2.88</td>\n",
       "      <td>391.65</td>\n",
       "    </tr>\n",
       "    <tr>\n",
       "      <th>AdaBoostRegressor</th>\n",
       "      <td>0.48</td>\n",
       "      <td>0.49</td>\n",
       "      <td>2.97</td>\n",
       "      <td>1.94</td>\n",
       "    </tr>\n",
       "    <tr>\n",
       "      <th>Lars</th>\n",
       "      <td>0.44</td>\n",
       "      <td>0.44</td>\n",
       "      <td>3.11</td>\n",
       "      <td>0.49</td>\n",
       "    </tr>\n",
       "    <tr>\n",
       "      <th>TransformedTargetRegressor</th>\n",
       "      <td>0.44</td>\n",
       "      <td>0.44</td>\n",
       "      <td>3.11</td>\n",
       "      <td>0.04</td>\n",
       "    </tr>\n",
       "    <tr>\n",
       "      <th>LinearRegression</th>\n",
       "      <td>0.44</td>\n",
       "      <td>0.44</td>\n",
       "      <td>3.11</td>\n",
       "      <td>0.05</td>\n",
       "    </tr>\n",
       "    <tr>\n",
       "      <th>Ridge</th>\n",
       "      <td>0.44</td>\n",
       "      <td>0.44</td>\n",
       "      <td>3.11</td>\n",
       "      <td>0.04</td>\n",
       "    </tr>\n",
       "    <tr>\n",
       "      <th>RidgeCV</th>\n",
       "      <td>0.44</td>\n",
       "      <td>0.44</td>\n",
       "      <td>3.11</td>\n",
       "      <td>0.07</td>\n",
       "    </tr>\n",
       "    <tr>\n",
       "      <th>BayesianRidge</th>\n",
       "      <td>0.44</td>\n",
       "      <td>0.44</td>\n",
       "      <td>3.11</td>\n",
       "      <td>0.03</td>\n",
       "    </tr>\n",
       "    <tr>\n",
       "      <th>LassoLarsIC</th>\n",
       "      <td>0.44</td>\n",
       "      <td>0.44</td>\n",
       "      <td>3.11</td>\n",
       "      <td>0.11</td>\n",
       "    </tr>\n",
       "    <tr>\n",
       "      <th>ElasticNetCV</th>\n",
       "      <td>0.44</td>\n",
       "      <td>0.44</td>\n",
       "      <td>3.11</td>\n",
       "      <td>0.57</td>\n",
       "    </tr>\n",
       "    <tr>\n",
       "      <th>LarsCV</th>\n",
       "      <td>0.44</td>\n",
       "      <td>0.44</td>\n",
       "      <td>3.11</td>\n",
       "      <td>0.26</td>\n",
       "    </tr>\n",
       "    <tr>\n",
       "      <th>LassoLarsCV</th>\n",
       "      <td>0.44</td>\n",
       "      <td>0.44</td>\n",
       "      <td>3.11</td>\n",
       "      <td>0.20</td>\n",
       "    </tr>\n",
       "    <tr>\n",
       "      <th>LassoCV</th>\n",
       "      <td>0.44</td>\n",
       "      <td>0.44</td>\n",
       "      <td>3.11</td>\n",
       "      <td>0.84</td>\n",
       "    </tr>\n",
       "    <tr>\n",
       "      <th>OrthogonalMatchingPursuitCV</th>\n",
       "      <td>0.44</td>\n",
       "      <td>0.44</td>\n",
       "      <td>3.11</td>\n",
       "      <td>0.11</td>\n",
       "    </tr>\n",
       "    <tr>\n",
       "      <th>SGDRegressor</th>\n",
       "      <td>0.44</td>\n",
       "      <td>0.44</td>\n",
       "      <td>3.11</td>\n",
       "      <td>0.13</td>\n",
       "    </tr>\n",
       "    <tr>\n",
       "      <th>HuberRegressor</th>\n",
       "      <td>0.43</td>\n",
       "      <td>0.43</td>\n",
       "      <td>3.13</td>\n",
       "      <td>0.25</td>\n",
       "    </tr>\n",
       "    <tr>\n",
       "      <th>PoissonRegressor</th>\n",
       "      <td>0.42</td>\n",
       "      <td>0.42</td>\n",
       "      <td>3.15</td>\n",
       "      <td>0.07</td>\n",
       "    </tr>\n",
       "    <tr>\n",
       "      <th>LinearSVR</th>\n",
       "      <td>0.38</td>\n",
       "      <td>0.38</td>\n",
       "      <td>3.27</td>\n",
       "      <td>0.51</td>\n",
       "    </tr>\n",
       "    <tr>\n",
       "      <th>OrthogonalMatchingPursuit</th>\n",
       "      <td>0.36</td>\n",
       "      <td>0.36</td>\n",
       "      <td>3.32</td>\n",
       "      <td>0.04</td>\n",
       "    </tr>\n",
       "    <tr>\n",
       "      <th>TweedieRegressor</th>\n",
       "      <td>0.35</td>\n",
       "      <td>0.35</td>\n",
       "      <td>3.33</td>\n",
       "      <td>0.04</td>\n",
       "    </tr>\n",
       "    <tr>\n",
       "      <th>RANSACRegressor</th>\n",
       "      <td>0.34</td>\n",
       "      <td>0.34</td>\n",
       "      <td>3.36</td>\n",
       "      <td>0.23</td>\n",
       "    </tr>\n",
       "    <tr>\n",
       "      <th>ElasticNet</th>\n",
       "      <td>0.33</td>\n",
       "      <td>0.33</td>\n",
       "      <td>3.38</td>\n",
       "      <td>0.03</td>\n",
       "    </tr>\n",
       "    <tr>\n",
       "      <th>LassoLars</th>\n",
       "      <td>0.32</td>\n",
       "      <td>0.32</td>\n",
       "      <td>3.43</td>\n",
       "      <td>0.06</td>\n",
       "    </tr>\n",
       "    <tr>\n",
       "      <th>Lasso</th>\n",
       "      <td>0.32</td>\n",
       "      <td>0.32</td>\n",
       "      <td>3.43</td>\n",
       "      <td>0.07</td>\n",
       "    </tr>\n",
       "    <tr>\n",
       "      <th>DecisionTreeRegressor</th>\n",
       "      <td>0.25</td>\n",
       "      <td>0.25</td>\n",
       "      <td>3.59</td>\n",
       "      <td>0.88</td>\n",
       "    </tr>\n",
       "    <tr>\n",
       "      <th>ExtraTreeRegressor</th>\n",
       "      <td>0.23</td>\n",
       "      <td>0.23</td>\n",
       "      <td>3.63</td>\n",
       "      <td>0.28</td>\n",
       "    </tr>\n",
       "    <tr>\n",
       "      <th>DummyRegressor</th>\n",
       "      <td>-0.00</td>\n",
       "      <td>-0.00</td>\n",
       "      <td>4.15</td>\n",
       "      <td>0.02</td>\n",
       "    </tr>\n",
       "    <tr>\n",
       "      <th>PassiveAggressiveRegressor</th>\n",
       "      <td>-0.39</td>\n",
       "      <td>-0.39</td>\n",
       "      <td>4.88</td>\n",
       "      <td>0.12</td>\n",
       "    </tr>\n",
       "  </tbody>\n",
       "</table>\n",
       "</div>"
      ],
      "text/plain": [
       "                               Adjusted R-Squared  R-Squared  RMSE  Time Taken\n",
       "Model                                                                         \n",
       "ExtraTreesRegressor                          0.63       0.63  2.52       20.72\n",
       "RandomForestRegressor                        0.63       0.63  2.53       66.41\n",
       "XGBRegressor                                 0.62       0.62  2.56        2.56\n",
       "LGBMRegressor                                0.61       0.61  2.60        0.43\n",
       "HistGradientBoostingRegressor                0.61       0.61  2.60        1.62\n",
       "BaggingRegressor                             0.59       0.59  2.65        5.61\n",
       "GradientBoostingRegressor                    0.58       0.58  2.69        9.12\n",
       "KNeighborsRegressor                          0.57       0.57  2.73        0.93\n",
       "MLPRegressor                                 0.56       0.56  2.75       66.31\n",
       "NuSVR                                        0.55       0.55  2.79      418.12\n",
       "SVR                                          0.52       0.52  2.88      391.65\n",
       "AdaBoostRegressor                            0.48       0.49  2.97        1.94\n",
       "Lars                                         0.44       0.44  3.11        0.49\n",
       "TransformedTargetRegressor                   0.44       0.44  3.11        0.04\n",
       "LinearRegression                             0.44       0.44  3.11        0.05\n",
       "Ridge                                        0.44       0.44  3.11        0.04\n",
       "RidgeCV                                      0.44       0.44  3.11        0.07\n",
       "BayesianRidge                                0.44       0.44  3.11        0.03\n",
       "LassoLarsIC                                  0.44       0.44  3.11        0.11\n",
       "ElasticNetCV                                 0.44       0.44  3.11        0.57\n",
       "LarsCV                                       0.44       0.44  3.11        0.26\n",
       "LassoLarsCV                                  0.44       0.44  3.11        0.20\n",
       "LassoCV                                      0.44       0.44  3.11        0.84\n",
       "OrthogonalMatchingPursuitCV                  0.44       0.44  3.11        0.11\n",
       "SGDRegressor                                 0.44       0.44  3.11        0.13\n",
       "HuberRegressor                               0.43       0.43  3.13        0.25\n",
       "PoissonRegressor                             0.42       0.42  3.15        0.07\n",
       "LinearSVR                                    0.38       0.38  3.27        0.51\n",
       "OrthogonalMatchingPursuit                    0.36       0.36  3.32        0.04\n",
       "TweedieRegressor                             0.35       0.35  3.33        0.04\n",
       "RANSACRegressor                              0.34       0.34  3.36        0.23\n",
       "ElasticNet                                   0.33       0.33  3.38        0.03\n",
       "LassoLars                                    0.32       0.32  3.43        0.06\n",
       "Lasso                                        0.32       0.32  3.43        0.07\n",
       "DecisionTreeRegressor                        0.25       0.25  3.59        0.88\n",
       "ExtraTreeRegressor                           0.23       0.23  3.63        0.28\n",
       "DummyRegressor                              -0.00      -0.00  4.15        0.02\n",
       "PassiveAggressiveRegressor                  -0.39      -0.39  4.88        0.12"
      ]
     },
     "execution_count": 102,
     "metadata": {},
     "output_type": "execute_result"
    }
   ],
   "source": [
    "models # results"
   ]
  },
  {
   "cell_type": "markdown",
   "metadata": {},
   "source": [
    " The best model = ExtraTreesRegressor, but due to the short time taken we will take XGBRegressor for analysis"
   ]
  },
  {
   "cell_type": "markdown",
   "metadata": {},
   "source": [
    "## XGB Regressor\n",
    "* based on the gradient boosting framework. Gradient boosting is an ensemble learning method where multiple weak learners (typically decision trees) are sequentially trained to correct the errors made by the previous learners."
   ]
  },
  {
   "cell_type": "markdown",
   "metadata": {},
   "source": [
    "### Hyperparameter optimization of the XGBoost regression model using the Optuna library. \n",
    "* Optimization consists in trying to find a set of hyperparameters that minimize the value of the objective function, in this case the mean squared error (MAE) of the model.\n",
    "*  Optuna will try different combinations of hyperparameters, measure the objective function score (MAE) for each combination, and strive to minimize the MAE by selecting better and better sets of hyperparameters. After the optimization is completed, the study object contains information about the performed tests and the found set of hyperparameters that minimizes the MAE."
   ]
  },
  {
   "cell_type": "code",
   "execution_count": 103,
   "metadata": {
    "tags": []
   },
   "outputs": [],
   "source": [
    "def objective(trial):\n",
    "    param = {\n",
    "        'max_depth': trial.suggest_int('max_depth', 10,20),\n",
    "        'learning_rate': trial.suggest_float('learning_rate', 0.01, 1.0),\n",
    "        'n_estimators': trial.suggest_int('n_estimators', 500, 1000),\n",
    "        'min_child_weight': trial.suggest_int('min_child_weight', 20, 40),\n",
    "        'gamma': trial.suggest_float('gamma', 0.01, 1.0),\n",
    "        'subsample': trial.suggest_float('subsample', 0.01, 1.0),\n",
    "        'colsample_bytree': trial.suggest_float('colsample_bytree', 0.01, 1.0),\n",
    "        'reg_alpha': trial.suggest_float('reg_alpha', 0.01, 1.0),\n",
    "        'reg_lambda': trial.suggest_float('reg_lambda', 0.01, 1.0),\n",
    "        'random_state': trial.suggest_int('random_state', 1, 1000)\n",
    "    }\n",
    "    model = xgboost.XGBRegressor(**param)\n",
    "    model.fit(X_train_scaled, y_train)\n",
    "    y_pred = model.predict(X_test_scaled)\n",
    "    return mae(y_test, y_pred)"
   ]
  },
  {
   "cell_type": "code",
   "execution_count": 104,
   "metadata": {
    "tags": []
   },
   "outputs": [],
   "source": [
    "# Create the study\n",
    "optuna.logging.disable_default_handler() # Disable default logging handler\n",
    "study = optuna.create_study(direction='minimize', study_name='regression')\n",
    "study.optimize(objective, n_trials=100)"
   ]
  },
  {
   "cell_type": "code",
   "execution_count": 105,
   "metadata": {
    "tags": []
   },
   "outputs": [
    {
     "name": "stdout",
     "output_type": "stream",
     "text": [
      "Best parameters {'max_depth': 17, 'learning_rate': 0.025929200765039538, 'n_estimators': 638, 'min_child_weight': 32, 'gamma': 0.5104515940447559, 'subsample': 0.7858165703999259, 'colsample_bytree': 0.8627153048928813, 'reg_alpha': 0.9648585308233714, 'reg_lambda': 0.6810724115740862, 'random_state': 339}\n"
     ]
    }
   ],
   "source": [
    "print('Best parameters', study.best_params)"
   ]
  },
  {
   "cell_type": "code",
   "execution_count": 106,
   "metadata": {
    "tags": []
   },
   "outputs": [],
   "source": [
    "best_parameters = study.best_params"
   ]
  },
  {
   "cell_type": "code",
   "execution_count": 107,
   "metadata": {
    "tags": []
   },
   "outputs": [
    {
     "name": "stdout",
     "output_type": "stream",
     "text": [
      "Cross-validation R2 scores: [0.6266434  0.63536468 0.619279   0.62453346 0.62926653]\n",
      "Average R2 score: 0.6270174125960328\n"
     ]
    }
   ],
   "source": [
    "from sklearn.model_selection import cross_val_score\n",
    "from xgboost import XGBRegressor\n",
    "\n",
    "model = XGBRegressor(**study.best_params)\n",
    "\n",
    "# Perform cross-validation\n",
    "cv_scores = cross_val_score(model, X_train_scaled, y_train, cv=5, scoring='r2')\n",
    "\n",
    "# Print the cross-validation scores\n",
    "print(\"Cross-validation R2 scores:\", cv_scores)\n",
    "print(\"Average R2 score:\", cv_scores.mean())\n",
    "\n",
    "# Fit the model on the full training set\n",
    "model.fit(X_train_scaled, y_train)\n",
    "\n",
    "# Predict on the test set\n",
    "y_pred_XGBR = model.predict(X_test_scaled)\n",
    "\n",
    "# Predict on the training set\n",
    "y_pred_train = model.predict(X_train_scaled)"
   ]
  },
  {
   "cell_type": "code",
   "execution_count": 108,
   "metadata": {
    "tags": []
   },
   "outputs": [
    {
     "name": "stdout",
     "output_type": "stream",
     "text": [
      "Results for train data\n",
      "XGB Regressor R2 score: 0.82\n",
      "XGB Regressor MAE score: 1.38\n"
     ]
    }
   ],
   "source": [
    "print('Results for train data')\n",
    "print('XGB Regressor R2 score: '+ str(round(r2_score(y_train,y_pred_train),2)))\n",
    "print('XGB Regressor MAE score: '+ str(round(mae(y_train, y_pred_train),2)))"
   ]
  },
  {
   "cell_type": "code",
   "execution_count": 109,
   "metadata": {
    "tags": []
   },
   "outputs": [
    {
     "name": "stdout",
     "output_type": "stream",
     "text": [
      "Results for test data\n",
      "XGB Regressor R2 score: 0.65\n",
      "XGB Regressor MAE score: 1.93\n"
     ]
    }
   ],
   "source": [
    "print('Results for test data')\n",
    "print('XGB Regressor R2 score: '+ str(round(r2_score(y_test, y_pred_XGBR),2)))\n",
    "print('XGB Regressor MAE score: '+ str(round(mae(y_test,y_pred_XGBR),2)))"
   ]
  },
  {
   "cell_type": "markdown",
   "metadata": {},
   "source": [
    "## In this model, we achieved the best results, however, the modeling results are generally not satisfactory. The models translate only 65% correctly. This could be because there is a lot of noise in the data. To get better results, talk to a specialist to understand the data and find outliers. Perhaps a reduction in the number of features taken for analysis. The next step would be to check the models again and check the hyperparameter fit ranges more closely."
   ]
  },
  {
   "cell_type": "code",
   "execution_count": null,
   "metadata": {},
   "outputs": [],
   "source": []
  }
 ],
 "metadata": {
  "colab": {
   "provenance": []
  },
  "kernelspec": {
   "display_name": "Python 3 (ipykernel)",
   "language": "python",
   "name": "python3"
  },
  "language_info": {
   "codemirror_mode": {
    "name": "ipython",
    "version": 3
   },
   "file_extension": ".py",
   "mimetype": "text/x-python",
   "name": "python",
   "nbconvert_exporter": "python",
   "pygments_lexer": "ipython3",
   "version": "3.10.9"
  }
 },
 "nbformat": 4,
 "nbformat_minor": 4
}
